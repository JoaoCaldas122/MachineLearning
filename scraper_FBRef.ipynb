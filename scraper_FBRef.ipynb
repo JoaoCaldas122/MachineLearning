{
 "cells": [
  {
   "cell_type": "code",
   "execution_count": 1,
   "id": "acd6202a",
   "metadata": {},
   "outputs": [],
   "source": [
    "import pandas as pd\n",
    "from bs4 import BeautifulSoup\n",
    "import requests\n",
    "pd.set_option('display.max_columns', None)\n",
    "pd.set_option('display.max_rows', None)\n",
    "import re\n",
    "import time\n",
    "import numpy as np"
   ]
  },
  {
   "cell_type": "code",
   "execution_count": 2,
   "id": "3ee9d6ee",
   "metadata": {},
   "outputs": [],
   "source": [
    "ano = '202223'\n",
    "url = 'https://fbref.com/en/comps/9/2022-2023/schedule/2022-2023-Premier-League-Scores-and-Fixtures'\n",
    "playoff = True"
   ]
  },
  {
   "cell_type": "code",
   "execution_count": 3,
   "id": "096adc52",
   "metadata": {},
   "outputs": [],
   "source": [
    "df_update = pd.read_html(url, extract_links=\"all\")\n",
    "df_update = df_update[0]\n",
    "\n",
    "df_update.columns = [col[0] for col in df_update.columns]\n",
    "\n",
    "df_update_getSecondTuple = ['Match Report']\n",
    "\n",
    "for column in df_update.columns:\n",
    "    if column not in df_update_getSecondTuple:\n",
    "        df_update[column] = df_update[column].apply(lambda x: x[0])\n",
    "    else:\n",
    "        df_update[column] = df_update[column].apply(lambda x: x[1])\n",
    "        \n",
    "#if playoff:\n",
    "#    df_update = df_update[:-2]\n",
    "#    df_update.drop(['Rodada'],inplace=True,axis=1)\n",
    "            \n",
    "df_update['goals_home'] = df_update['Score'].str.split('–').str[0]\n",
    "df_update['goals_away'] = df_update['Score'].str.split('–').str[1]\n",
    "df_update.drop(['Score','Notes'],axis=1,inplace=True)\n",
    "values = ['None']\n",
    "df_update = df_update[df_update['Match Report'].isna() == False].reset_index(drop=True) \n",
    "df_update.rename({'xG': 'xG_home', '(': 'xG_away', 'Home': 'home', 'Away': 'away', 'Attendance': 'Assistance', 'Wk': 'Matchday'}, axis=1, inplace=True)"
   ]
  },
  {
   "cell_type": "code",
   "execution_count": 4,
   "id": "a66b1b6a",
   "metadata": {},
   "outputs": [],
   "source": [
    "df_update.to_csv(f'fbref/dataset_{ano}.csv')\n"
   ]
  },
  {
   "cell_type": "code",
   "execution_count": null,
   "id": "30da29ea",
   "metadata": {},
   "outputs": [],
   "source": [
    "pd.read_html(str(table))[0]"
   ]
  },
  {
   "cell_type": "code",
   "execution_count": 6,
   "id": "aadf0e78",
   "metadata": {
    "scrolled": true
   },
   "outputs": [
    {
     "name": "stdout",
     "output_type": "stream",
     "text": [
      "/en/matches/e62f6e78/Crystal-Palace-Arsenal-August-5-2022-Premier-League\n"
     ]
    },
    {
     "name": "stderr",
     "output_type": "stream",
     "text": [
      "C:\\Users\\user\\AppData\\Local\\Temp\\ipykernel_24300\\2944083324.py:31: FutureWarning: Passing literal html to 'read_html' is deprecated and will be removed in a future version. To read from a literal string, wrap it in a 'StringIO' object.\n",
      "  home_players = pd.read_html(str(table))[0].drop(11)\n",
      "C:\\Users\\user\\AppData\\Local\\Temp\\ipykernel_24300\\2944083324.py:32: FutureWarning: Passing literal html to 'read_html' is deprecated and will be removed in a future version. To read from a literal string, wrap it in a 'StringIO' object.\n",
      "  away_players = pd.read_html(str(table2))[0].drop(11)\n"
     ]
    },
    {
     "name": "stdout",
     "output_type": "stream",
     "text": [
      "meio: 1.0216915607452393\n",
      "fim: 1.0745728015899658\n",
      "/en/matches/6713c1dc/Fulham-Liverpool-August-6-2022-Premier-League\n"
     ]
    },
    {
     "name": "stderr",
     "output_type": "stream",
     "text": [
      "C:\\Users\\user\\AppData\\Local\\Temp\\ipykernel_24300\\2944083324.py:31: FutureWarning: Passing literal html to 'read_html' is deprecated and will be removed in a future version. To read from a literal string, wrap it in a 'StringIO' object.\n",
      "  home_players = pd.read_html(str(table))[0].drop(11)\n",
      "C:\\Users\\user\\AppData\\Local\\Temp\\ipykernel_24300\\2944083324.py:32: FutureWarning: Passing literal html to 'read_html' is deprecated and will be removed in a future version. To read from a literal string, wrap it in a 'StringIO' object.\n",
      "  away_players = pd.read_html(str(table2))[0].drop(11)\n"
     ]
    },
    {
     "name": "stdout",
     "output_type": "stream",
     "text": [
      "meio: 1.063880205154419\n",
      "fim: 1.107003927230835\n",
      "/en/matches/09d8a999/Tottenham-Hotspur-Southampton-August-6-2022-Premier-League\n"
     ]
    },
    {
     "name": "stderr",
     "output_type": "stream",
     "text": [
      "C:\\Users\\user\\AppData\\Local\\Temp\\ipykernel_24300\\2944083324.py:31: FutureWarning: Passing literal html to 'read_html' is deprecated and will be removed in a future version. To read from a literal string, wrap it in a 'StringIO' object.\n",
      "  home_players = pd.read_html(str(table))[0].drop(11)\n",
      "C:\\Users\\user\\AppData\\Local\\Temp\\ipykernel_24300\\2944083324.py:32: FutureWarning: Passing literal html to 'read_html' is deprecated and will be removed in a future version. To read from a literal string, wrap it in a 'StringIO' object.\n",
      "  away_players = pd.read_html(str(table2))[0].drop(11)\n"
     ]
    },
    {
     "name": "stdout",
     "output_type": "stream",
     "text": [
      "meio: 0.9815475940704346\n",
      "fim: 1.0198299884796143\n",
      "/en/matches/1ac96eb4/Newcastle-United-Nottingham-Forest-August-6-2022-Premier-League\n"
     ]
    },
    {
     "name": "stderr",
     "output_type": "stream",
     "text": [
      "C:\\Users\\user\\AppData\\Local\\Temp\\ipykernel_24300\\2944083324.py:31: FutureWarning: Passing literal html to 'read_html' is deprecated and will be removed in a future version. To read from a literal string, wrap it in a 'StringIO' object.\n",
      "  home_players = pd.read_html(str(table))[0].drop(11)\n",
      "C:\\Users\\user\\AppData\\Local\\Temp\\ipykernel_24300\\2944083324.py:32: FutureWarning: Passing literal html to 'read_html' is deprecated and will be removed in a future version. To read from a literal string, wrap it in a 'StringIO' object.\n",
      "  away_players = pd.read_html(str(table2))[0].drop(11)\n"
     ]
    },
    {
     "name": "stdout",
     "output_type": "stream",
     "text": [
      "meio: 0.9291074275970459\n",
      "fim: 0.9643676280975342\n",
      "/en/matches/82702941/Leeds-United-Wolverhampton-Wanderers-August-6-2022-Premier-League\n"
     ]
    },
    {
     "name": "stderr",
     "output_type": "stream",
     "text": [
      "C:\\Users\\user\\AppData\\Local\\Temp\\ipykernel_24300\\2944083324.py:31: FutureWarning: Passing literal html to 'read_html' is deprecated and will be removed in a future version. To read from a literal string, wrap it in a 'StringIO' object.\n",
      "  home_players = pd.read_html(str(table))[0].drop(11)\n",
      "C:\\Users\\user\\AppData\\Local\\Temp\\ipykernel_24300\\2944083324.py:32: FutureWarning: Passing literal html to 'read_html' is deprecated and will be removed in a future version. To read from a literal string, wrap it in a 'StringIO' object.\n",
      "  away_players = pd.read_html(str(table2))[0].drop(11)\n"
     ]
    },
    {
     "name": "stdout",
     "output_type": "stream",
     "text": [
      "meio: 0.8342456817626953\n",
      "fim: 0.8686997890472412\n",
      "/en/matches/877e3193/Bournemouth-Aston-Villa-August-6-2022-Premier-League\n"
     ]
    },
    {
     "name": "stderr",
     "output_type": "stream",
     "text": [
      "C:\\Users\\user\\AppData\\Local\\Temp\\ipykernel_24300\\2944083324.py:31: FutureWarning: Passing literal html to 'read_html' is deprecated and will be removed in a future version. To read from a literal string, wrap it in a 'StringIO' object.\n",
      "  home_players = pd.read_html(str(table))[0].drop(11)\n",
      "C:\\Users\\user\\AppData\\Local\\Temp\\ipykernel_24300\\2944083324.py:32: FutureWarning: Passing literal html to 'read_html' is deprecated and will be removed in a future version. To read from a literal string, wrap it in a 'StringIO' object.\n",
      "  away_players = pd.read_html(str(table2))[0].drop(11)\n"
     ]
    },
    {
     "name": "stdout",
     "output_type": "stream",
     "text": [
      "meio: 0.9793343544006348\n",
      "fim: 1.015376091003418\n",
      "/en/matches/3a917cee/Everton-Chelsea-August-6-2022-Premier-League\n"
     ]
    },
    {
     "name": "stderr",
     "output_type": "stream",
     "text": [
      "C:\\Users\\user\\AppData\\Local\\Temp\\ipykernel_24300\\2944083324.py:31: FutureWarning: Passing literal html to 'read_html' is deprecated and will be removed in a future version. To read from a literal string, wrap it in a 'StringIO' object.\n",
      "  home_players = pd.read_html(str(table))[0].drop(11)\n",
      "C:\\Users\\user\\AppData\\Local\\Temp\\ipykernel_24300\\2944083324.py:32: FutureWarning: Passing literal html to 'read_html' is deprecated and will be removed in a future version. To read from a literal string, wrap it in a 'StringIO' object.\n",
      "  away_players = pd.read_html(str(table2))[0].drop(11)\n"
     ]
    },
    {
     "name": "stdout",
     "output_type": "stream",
     "text": [
      "meio: 1.083944320678711\n",
      "fim: 1.122438907623291\n",
      "/en/matches/3249ba27/Leicester-City-Brentford-August-7-2022-Premier-League\n"
     ]
    },
    {
     "name": "stderr",
     "output_type": "stream",
     "text": [
      "C:\\Users\\user\\AppData\\Local\\Temp\\ipykernel_24300\\2944083324.py:31: FutureWarning: Passing literal html to 'read_html' is deprecated and will be removed in a future version. To read from a literal string, wrap it in a 'StringIO' object.\n",
      "  home_players = pd.read_html(str(table))[0].drop(11)\n",
      "C:\\Users\\user\\AppData\\Local\\Temp\\ipykernel_24300\\2944083324.py:32: FutureWarning: Passing literal html to 'read_html' is deprecated and will be removed in a future version. To read from a literal string, wrap it in a 'StringIO' object.\n",
      "  away_players = pd.read_html(str(table2))[0].drop(11)\n"
     ]
    },
    {
     "name": "stdout",
     "output_type": "stream",
     "text": [
      "meio: 0.8226199150085449\n",
      "fim: 0.8550000190734863\n",
      "/en/matches/8251694e/Manchester-United-Brighton-and-Hove-Albion-August-7-2022-Premier-League\n"
     ]
    },
    {
     "name": "stderr",
     "output_type": "stream",
     "text": [
      "C:\\Users\\user\\AppData\\Local\\Temp\\ipykernel_24300\\2944083324.py:31: FutureWarning: Passing literal html to 'read_html' is deprecated and will be removed in a future version. To read from a literal string, wrap it in a 'StringIO' object.\n",
      "  home_players = pd.read_html(str(table))[0].drop(11)\n",
      "C:\\Users\\user\\AppData\\Local\\Temp\\ipykernel_24300\\2944083324.py:32: FutureWarning: Passing literal html to 'read_html' is deprecated and will be removed in a future version. To read from a literal string, wrap it in a 'StringIO' object.\n",
      "  away_players = pd.read_html(str(table2))[0].drop(11)\n"
     ]
    },
    {
     "name": "stdout",
     "output_type": "stream",
     "text": [
      "meio: 0.9094395637512207\n",
      "fim: 0.9461314678192139\n",
      "/en/matches/ece62baf/West-Ham-United-Manchester-City-August-7-2022-Premier-League\n"
     ]
    },
    {
     "name": "stderr",
     "output_type": "stream",
     "text": [
      "C:\\Users\\user\\AppData\\Local\\Temp\\ipykernel_24300\\2944083324.py:31: FutureWarning: Passing literal html to 'read_html' is deprecated and will be removed in a future version. To read from a literal string, wrap it in a 'StringIO' object.\n",
      "  home_players = pd.read_html(str(table))[0].drop(11)\n",
      "C:\\Users\\user\\AppData\\Local\\Temp\\ipykernel_24300\\2944083324.py:32: FutureWarning: Passing literal html to 'read_html' is deprecated and will be removed in a future version. To read from a literal string, wrap it in a 'StringIO' object.\n",
      "  away_players = pd.read_html(str(table2))[0].drop(11)\n"
     ]
    },
    {
     "name": "stdout",
     "output_type": "stream",
     "text": [
      "meio: 1.0730879306793213\n",
      "fim: 1.1176209449768066\n",
      "/en/matches/8cd71c65/Aston-Villa-Everton-August-13-2022-Premier-League\n"
     ]
    },
    {
     "name": "stderr",
     "output_type": "stream",
     "text": [
      "C:\\Users\\user\\AppData\\Local\\Temp\\ipykernel_24300\\2944083324.py:31: FutureWarning: Passing literal html to 'read_html' is deprecated and will be removed in a future version. To read from a literal string, wrap it in a 'StringIO' object.\n",
      "  home_players = pd.read_html(str(table))[0].drop(11)\n",
      "C:\\Users\\user\\AppData\\Local\\Temp\\ipykernel_24300\\2944083324.py:32: FutureWarning: Passing literal html to 'read_html' is deprecated and will be removed in a future version. To read from a literal string, wrap it in a 'StringIO' object.\n",
      "  away_players = pd.read_html(str(table2))[0].drop(11)\n"
     ]
    },
    {
     "name": "stdout",
     "output_type": "stream",
     "text": [
      "meio: 0.931720495223999\n",
      "fim: 0.9679100513458252\n",
      "/en/matches/311d705c/Manchester-City-Bournemouth-August-13-2022-Premier-League\n"
     ]
    },
    {
     "name": "stderr",
     "output_type": "stream",
     "text": [
      "C:\\Users\\user\\AppData\\Local\\Temp\\ipykernel_24300\\2944083324.py:31: FutureWarning: Passing literal html to 'read_html' is deprecated and will be removed in a future version. To read from a literal string, wrap it in a 'StringIO' object.\n",
      "  home_players = pd.read_html(str(table))[0].drop(11)\n",
      "C:\\Users\\user\\AppData\\Local\\Temp\\ipykernel_24300\\2944083324.py:32: FutureWarning: Passing literal html to 'read_html' is deprecated and will be removed in a future version. To read from a literal string, wrap it in a 'StringIO' object.\n",
      "  away_players = pd.read_html(str(table2))[0].drop(11)\n"
     ]
    },
    {
     "name": "stdout",
     "output_type": "stream",
     "text": [
      "meio: 0.8595502376556396\n",
      "fim: 0.9006869792938232\n",
      "/en/matches/54b33a13/Southampton-Leeds-United-August-13-2022-Premier-League\n"
     ]
    },
    {
     "name": "stderr",
     "output_type": "stream",
     "text": [
      "C:\\Users\\user\\AppData\\Local\\Temp\\ipykernel_24300\\2944083324.py:31: FutureWarning: Passing literal html to 'read_html' is deprecated and will be removed in a future version. To read from a literal string, wrap it in a 'StringIO' object.\n",
      "  home_players = pd.read_html(str(table))[0].drop(11)\n",
      "C:\\Users\\user\\AppData\\Local\\Temp\\ipykernel_24300\\2944083324.py:32: FutureWarning: Passing literal html to 'read_html' is deprecated and will be removed in a future version. To read from a literal string, wrap it in a 'StringIO' object.\n",
      "  away_players = pd.read_html(str(table2))[0].drop(11)\n"
     ]
    },
    {
     "name": "stdout",
     "output_type": "stream",
     "text": [
      "meio: 1.0243496894836426\n",
      "fim: 1.0606486797332764\n",
      "/en/matches/669b1665/Wolverhampton-Wanderers-Fulham-August-13-2022-Premier-League\n"
     ]
    },
    {
     "name": "stderr",
     "output_type": "stream",
     "text": [
      "C:\\Users\\user\\AppData\\Local\\Temp\\ipykernel_24300\\2944083324.py:31: FutureWarning: Passing literal html to 'read_html' is deprecated and will be removed in a future version. To read from a literal string, wrap it in a 'StringIO' object.\n",
      "  home_players = pd.read_html(str(table))[0].drop(11)\n",
      "C:\\Users\\user\\AppData\\Local\\Temp\\ipykernel_24300\\2944083324.py:32: FutureWarning: Passing literal html to 'read_html' is deprecated and will be removed in a future version. To read from a literal string, wrap it in a 'StringIO' object.\n",
      "  away_players = pd.read_html(str(table2))[0].drop(11)\n"
     ]
    },
    {
     "name": "stdout",
     "output_type": "stream",
     "text": [
      "meio: 0.9554455280303955\n",
      "fim: 0.9887533187866211\n",
      "/en/matches/7483b97f/Arsenal-Leicester-City-August-13-2022-Premier-League\n"
     ]
    },
    {
     "name": "stderr",
     "output_type": "stream",
     "text": [
      "C:\\Users\\user\\AppData\\Local\\Temp\\ipykernel_24300\\2944083324.py:31: FutureWarning: Passing literal html to 'read_html' is deprecated and will be removed in a future version. To read from a literal string, wrap it in a 'StringIO' object.\n",
      "  home_players = pd.read_html(str(table))[0].drop(11)\n",
      "C:\\Users\\user\\AppData\\Local\\Temp\\ipykernel_24300\\2944083324.py:32: FutureWarning: Passing literal html to 'read_html' is deprecated and will be removed in a future version. To read from a literal string, wrap it in a 'StringIO' object.\n",
      "  away_players = pd.read_html(str(table2))[0].drop(11)\n"
     ]
    },
    {
     "name": "stdout",
     "output_type": "stream",
     "text": [
      "meio: 0.9100103378295898\n",
      "fim: 0.9479739665985107\n",
      "/en/matches/c916a5f6/Brighton-and-Hove-Albion-Newcastle-United-August-13-2022-Premier-League\n"
     ]
    },
    {
     "name": "stderr",
     "output_type": "stream",
     "text": [
      "C:\\Users\\user\\AppData\\Local\\Temp\\ipykernel_24300\\2944083324.py:31: FutureWarning: Passing literal html to 'read_html' is deprecated and will be removed in a future version. To read from a literal string, wrap it in a 'StringIO' object.\n",
      "  home_players = pd.read_html(str(table))[0].drop(11)\n",
      "C:\\Users\\user\\AppData\\Local\\Temp\\ipykernel_24300\\2944083324.py:32: FutureWarning: Passing literal html to 'read_html' is deprecated and will be removed in a future version. To read from a literal string, wrap it in a 'StringIO' object.\n",
      "  away_players = pd.read_html(str(table2))[0].drop(11)\n"
     ]
    },
    {
     "name": "stdout",
     "output_type": "stream",
     "text": [
      "meio: 1.0033798217773438\n",
      "fim: 1.0386762619018555\n",
      "/en/matches/04712d4e/Brentford-Manchester-United-August-13-2022-Premier-League\n"
     ]
    },
    {
     "name": "stderr",
     "output_type": "stream",
     "text": [
      "C:\\Users\\user\\AppData\\Local\\Temp\\ipykernel_24300\\2944083324.py:31: FutureWarning: Passing literal html to 'read_html' is deprecated and will be removed in a future version. To read from a literal string, wrap it in a 'StringIO' object.\n",
      "  home_players = pd.read_html(str(table))[0].drop(11)\n",
      "C:\\Users\\user\\AppData\\Local\\Temp\\ipykernel_24300\\2944083324.py:32: FutureWarning: Passing literal html to 'read_html' is deprecated and will be removed in a future version. To read from a literal string, wrap it in a 'StringIO' object.\n",
      "  away_players = pd.read_html(str(table2))[0].drop(11)\n"
     ]
    },
    {
     "name": "stdout",
     "output_type": "stream",
     "text": [
      "meio: 1.1014595031738281\n",
      "fim: 1.141056776046753\n",
      "/en/matches/b1ebeda5/Nottingham-Forest-West-Ham-United-August-14-2022-Premier-League\n"
     ]
    },
    {
     "name": "stderr",
     "output_type": "stream",
     "text": [
      "C:\\Users\\user\\AppData\\Local\\Temp\\ipykernel_24300\\2944083324.py:31: FutureWarning: Passing literal html to 'read_html' is deprecated and will be removed in a future version. To read from a literal string, wrap it in a 'StringIO' object.\n",
      "  home_players = pd.read_html(str(table))[0].drop(11)\n",
      "C:\\Users\\user\\AppData\\Local\\Temp\\ipykernel_24300\\2944083324.py:32: FutureWarning: Passing literal html to 'read_html' is deprecated and will be removed in a future version. To read from a literal string, wrap it in a 'StringIO' object.\n",
      "  away_players = pd.read_html(str(table2))[0].drop(11)\n"
     ]
    },
    {
     "name": "stdout",
     "output_type": "stream",
     "text": [
      "meio: 0.8592526912689209\n",
      "fim: 0.8954408168792725\n",
      "/en/matches/01e57bf5/Chelsea-Tottenham-Hotspur-August-14-2022-Premier-League\n"
     ]
    },
    {
     "name": "stderr",
     "output_type": "stream",
     "text": [
      "C:\\Users\\user\\AppData\\Local\\Temp\\ipykernel_24300\\2944083324.py:31: FutureWarning: Passing literal html to 'read_html' is deprecated and will be removed in a future version. To read from a literal string, wrap it in a 'StringIO' object.\n",
      "  home_players = pd.read_html(str(table))[0].drop(11)\n",
      "C:\\Users\\user\\AppData\\Local\\Temp\\ipykernel_24300\\2944083324.py:32: FutureWarning: Passing literal html to 'read_html' is deprecated and will be removed in a future version. To read from a literal string, wrap it in a 'StringIO' object.\n",
      "  away_players = pd.read_html(str(table2))[0].drop(11)\n"
     ]
    },
    {
     "name": "stdout",
     "output_type": "stream",
     "text": [
      "meio: 0.9693610668182373\n",
      "fim: 1.0075438022613525\n",
      "/en/matches/b3c6f709/Liverpool-Crystal-Palace-August-15-2022-Premier-League\n"
     ]
    },
    {
     "name": "stderr",
     "output_type": "stream",
     "text": [
      "C:\\Users\\user\\AppData\\Local\\Temp\\ipykernel_24300\\2944083324.py:31: FutureWarning: Passing literal html to 'read_html' is deprecated and will be removed in a future version. To read from a literal string, wrap it in a 'StringIO' object.\n",
      "  home_players = pd.read_html(str(table))[0].drop(11)\n",
      "C:\\Users\\user\\AppData\\Local\\Temp\\ipykernel_24300\\2944083324.py:32: FutureWarning: Passing literal html to 'read_html' is deprecated and will be removed in a future version. To read from a literal string, wrap it in a 'StringIO' object.\n",
      "  away_players = pd.read_html(str(table2))[0].drop(11)\n"
     ]
    },
    {
     "name": "stdout",
     "output_type": "stream",
     "text": [
      "meio: 1.085388422012329\n",
      "fim: 1.1269965171813965\n",
      "/en/matches/5cc3bd0e/Tottenham-Hotspur-Wolverhampton-Wanderers-August-20-2022-Premier-League\n"
     ]
    },
    {
     "name": "stderr",
     "output_type": "stream",
     "text": [
      "C:\\Users\\user\\AppData\\Local\\Temp\\ipykernel_24300\\2944083324.py:31: FutureWarning: Passing literal html to 'read_html' is deprecated and will be removed in a future version. To read from a literal string, wrap it in a 'StringIO' object.\n",
      "  home_players = pd.read_html(str(table))[0].drop(11)\n",
      "C:\\Users\\user\\AppData\\Local\\Temp\\ipykernel_24300\\2944083324.py:32: FutureWarning: Passing literal html to 'read_html' is deprecated and will be removed in a future version. To read from a literal string, wrap it in a 'StringIO' object.\n",
      "  away_players = pd.read_html(str(table2))[0].drop(11)\n"
     ]
    },
    {
     "name": "stdout",
     "output_type": "stream",
     "text": [
      "meio: 0.926466703414917\n",
      "fim: 0.9667472839355469\n",
      "/en/matches/02efd4d1/Leicester-City-Southampton-August-20-2022-Premier-League\n"
     ]
    },
    {
     "name": "stderr",
     "output_type": "stream",
     "text": [
      "C:\\Users\\user\\AppData\\Local\\Temp\\ipykernel_24300\\2944083324.py:31: FutureWarning: Passing literal html to 'read_html' is deprecated and will be removed in a future version. To read from a literal string, wrap it in a 'StringIO' object.\n",
      "  home_players = pd.read_html(str(table))[0].drop(11)\n",
      "C:\\Users\\user\\AppData\\Local\\Temp\\ipykernel_24300\\2944083324.py:32: FutureWarning: Passing literal html to 'read_html' is deprecated and will be removed in a future version. To read from a literal string, wrap it in a 'StringIO' object.\n",
      "  away_players = pd.read_html(str(table2))[0].drop(11)\n"
     ]
    },
    {
     "name": "stdout",
     "output_type": "stream",
     "text": [
      "meio: 0.9480841159820557\n",
      "fim: 0.9934248924255371\n",
      "/en/matches/3c3cc86f/Everton-Nottingham-Forest-August-20-2022-Premier-League\n"
     ]
    },
    {
     "name": "stderr",
     "output_type": "stream",
     "text": [
      "C:\\Users\\user\\AppData\\Local\\Temp\\ipykernel_24300\\2944083324.py:31: FutureWarning: Passing literal html to 'read_html' is deprecated and will be removed in a future version. To read from a literal string, wrap it in a 'StringIO' object.\n",
      "  home_players = pd.read_html(str(table))[0].drop(11)\n",
      "C:\\Users\\user\\AppData\\Local\\Temp\\ipykernel_24300\\2944083324.py:32: FutureWarning: Passing literal html to 'read_html' is deprecated and will be removed in a future version. To read from a literal string, wrap it in a 'StringIO' object.\n",
      "  away_players = pd.read_html(str(table2))[0].drop(11)\n"
     ]
    },
    {
     "name": "stdout",
     "output_type": "stream",
     "text": [
      "meio: 0.9210255146026611\n",
      "fim: 0.9558925628662109\n",
      "/en/matches/3f89bccf/Crystal-Palace-Aston-Villa-August-20-2022-Premier-League\n"
     ]
    },
    {
     "name": "stderr",
     "output_type": "stream",
     "text": [
      "C:\\Users\\user\\AppData\\Local\\Temp\\ipykernel_24300\\2944083324.py:31: FutureWarning: Passing literal html to 'read_html' is deprecated and will be removed in a future version. To read from a literal string, wrap it in a 'StringIO' object.\n",
      "  home_players = pd.read_html(str(table))[0].drop(11)\n",
      "C:\\Users\\user\\AppData\\Local\\Temp\\ipykernel_24300\\2944083324.py:32: FutureWarning: Passing literal html to 'read_html' is deprecated and will be removed in a future version. To read from a literal string, wrap it in a 'StringIO' object.\n",
      "  away_players = pd.read_html(str(table2))[0].drop(11)\n"
     ]
    },
    {
     "name": "stdout",
     "output_type": "stream",
     "text": [
      "meio: 0.8222227096557617\n",
      "fim: 0.8572440147399902\n",
      "/en/matches/a107c037/Fulham-Brentford-August-20-2022-Premier-League\n"
     ]
    },
    {
     "name": "stderr",
     "output_type": "stream",
     "text": [
      "C:\\Users\\user\\AppData\\Local\\Temp\\ipykernel_24300\\2944083324.py:31: FutureWarning: Passing literal html to 'read_html' is deprecated and will be removed in a future version. To read from a literal string, wrap it in a 'StringIO' object.\n",
      "  home_players = pd.read_html(str(table))[0].drop(11)\n",
      "C:\\Users\\user\\AppData\\Local\\Temp\\ipykernel_24300\\2944083324.py:32: FutureWarning: Passing literal html to 'read_html' is deprecated and will be removed in a future version. To read from a literal string, wrap it in a 'StringIO' object.\n",
      "  away_players = pd.read_html(str(table2))[0].drop(11)\n"
     ]
    },
    {
     "name": "stdout",
     "output_type": "stream",
     "text": [
      "meio: 0.9612057209014893\n",
      "fim: 0.9995114803314209\n",
      "/en/matches/7f11dd9e/Bournemouth-Arsenal-August-20-2022-Premier-League\n"
     ]
    },
    {
     "name": "stderr",
     "output_type": "stream",
     "text": [
      "C:\\Users\\user\\AppData\\Local\\Temp\\ipykernel_24300\\2944083324.py:31: FutureWarning: Passing literal html to 'read_html' is deprecated and will be removed in a future version. To read from a literal string, wrap it in a 'StringIO' object.\n",
      "  home_players = pd.read_html(str(table))[0].drop(11)\n",
      "C:\\Users\\user\\AppData\\Local\\Temp\\ipykernel_24300\\2944083324.py:32: FutureWarning: Passing literal html to 'read_html' is deprecated and will be removed in a future version. To read from a literal string, wrap it in a 'StringIO' object.\n",
      "  away_players = pd.read_html(str(table2))[0].drop(11)\n"
     ]
    },
    {
     "name": "stdout",
     "output_type": "stream",
     "text": [
      "meio: 0.940129280090332\n",
      "fim: 0.9854941368103027\n",
      "/en/matches/a5632124/Leeds-United-Chelsea-August-21-2022-Premier-League\n"
     ]
    },
    {
     "name": "stderr",
     "output_type": "stream",
     "text": [
      "C:\\Users\\user\\AppData\\Local\\Temp\\ipykernel_24300\\2944083324.py:31: FutureWarning: Passing literal html to 'read_html' is deprecated and will be removed in a future version. To read from a literal string, wrap it in a 'StringIO' object.\n",
      "  home_players = pd.read_html(str(table))[0].drop(11)\n",
      "C:\\Users\\user\\AppData\\Local\\Temp\\ipykernel_24300\\2944083324.py:32: FutureWarning: Passing literal html to 'read_html' is deprecated and will be removed in a future version. To read from a literal string, wrap it in a 'StringIO' object.\n",
      "  away_players = pd.read_html(str(table2))[0].drop(11)\n"
     ]
    },
    {
     "name": "stdout",
     "output_type": "stream",
     "text": [
      "meio: 0.880561351776123\n",
      "fim: 0.9172916412353516\n",
      "/en/matches/aa2a3517/West-Ham-United-Brighton-and-Hove-Albion-August-21-2022-Premier-League\n"
     ]
    },
    {
     "name": "stderr",
     "output_type": "stream",
     "text": [
      "C:\\Users\\user\\AppData\\Local\\Temp\\ipykernel_24300\\2944083324.py:31: FutureWarning: Passing literal html to 'read_html' is deprecated and will be removed in a future version. To read from a literal string, wrap it in a 'StringIO' object.\n",
      "  home_players = pd.read_html(str(table))[0].drop(11)\n",
      "C:\\Users\\user\\AppData\\Local\\Temp\\ipykernel_24300\\2944083324.py:32: FutureWarning: Passing literal html to 'read_html' is deprecated and will be removed in a future version. To read from a literal string, wrap it in a 'StringIO' object.\n",
      "  away_players = pd.read_html(str(table2))[0].drop(11)\n"
     ]
    },
    {
     "name": "stdout",
     "output_type": "stream",
     "text": [
      "meio: 0.950007438659668\n",
      "fim: 0.984318733215332\n",
      "/en/matches/b513d9fe/Newcastle-United-Manchester-City-August-21-2022-Premier-League\n"
     ]
    },
    {
     "name": "stderr",
     "output_type": "stream",
     "text": [
      "C:\\Users\\user\\AppData\\Local\\Temp\\ipykernel_24300\\2944083324.py:31: FutureWarning: Passing literal html to 'read_html' is deprecated and will be removed in a future version. To read from a literal string, wrap it in a 'StringIO' object.\n",
      "  home_players = pd.read_html(str(table))[0].drop(11)\n",
      "C:\\Users\\user\\AppData\\Local\\Temp\\ipykernel_24300\\2944083324.py:32: FutureWarning: Passing literal html to 'read_html' is deprecated and will be removed in a future version. To read from a literal string, wrap it in a 'StringIO' object.\n",
      "  away_players = pd.read_html(str(table2))[0].drop(11)\n"
     ]
    },
    {
     "name": "stdout",
     "output_type": "stream",
     "text": [
      "meio: 0.9345483779907227\n",
      "fim: 0.9763481616973877\n",
      "/en/matches/3c9a8f71/North-West-Derby-Manchester-United-Liverpool-August-22-2022-Premier-League\n"
     ]
    },
    {
     "name": "stderr",
     "output_type": "stream",
     "text": [
      "C:\\Users\\user\\AppData\\Local\\Temp\\ipykernel_24300\\2944083324.py:31: FutureWarning: Passing literal html to 'read_html' is deprecated and will be removed in a future version. To read from a literal string, wrap it in a 'StringIO' object.\n",
      "  home_players = pd.read_html(str(table))[0].drop(11)\n",
      "C:\\Users\\user\\AppData\\Local\\Temp\\ipykernel_24300\\2944083324.py:32: FutureWarning: Passing literal html to 'read_html' is deprecated and will be removed in a future version. To read from a literal string, wrap it in a 'StringIO' object.\n",
      "  away_players = pd.read_html(str(table2))[0].drop(11)\n"
     ]
    },
    {
     "name": "stdout",
     "output_type": "stream",
     "text": [
      "meio: 0.8919856548309326\n",
      "fim: 0.9277312755584717\n",
      "/en/matches/dff99b20/Southampton-Manchester-United-August-27-2022-Premier-League\n"
     ]
    },
    {
     "name": "stderr",
     "output_type": "stream",
     "text": [
      "C:\\Users\\user\\AppData\\Local\\Temp\\ipykernel_24300\\2944083324.py:31: FutureWarning: Passing literal html to 'read_html' is deprecated and will be removed in a future version. To read from a literal string, wrap it in a 'StringIO' object.\n",
      "  home_players = pd.read_html(str(table))[0].drop(11)\n",
      "C:\\Users\\user\\AppData\\Local\\Temp\\ipykernel_24300\\2944083324.py:32: FutureWarning: Passing literal html to 'read_html' is deprecated and will be removed in a future version. To read from a literal string, wrap it in a 'StringIO' object.\n",
      "  away_players = pd.read_html(str(table2))[0].drop(11)\n"
     ]
    },
    {
     "name": "stdout",
     "output_type": "stream",
     "text": [
      "meio: 0.9908626079559326\n",
      "fim: 1.0265564918518066\n",
      "/en/matches/3b9bbac7/Manchester-City-Crystal-Palace-August-27-2022-Premier-League\n"
     ]
    },
    {
     "name": "stderr",
     "output_type": "stream",
     "text": [
      "C:\\Users\\user\\AppData\\Local\\Temp\\ipykernel_24300\\2944083324.py:31: FutureWarning: Passing literal html to 'read_html' is deprecated and will be removed in a future version. To read from a literal string, wrap it in a 'StringIO' object.\n",
      "  home_players = pd.read_html(str(table))[0].drop(11)\n",
      "C:\\Users\\user\\AppData\\Local\\Temp\\ipykernel_24300\\2944083324.py:32: FutureWarning: Passing literal html to 'read_html' is deprecated and will be removed in a future version. To read from a literal string, wrap it in a 'StringIO' object.\n",
      "  away_players = pd.read_html(str(table2))[0].drop(11)\n"
     ]
    },
    {
     "name": "stdout",
     "output_type": "stream",
     "text": [
      "meio: 0.9549105167388916\n",
      "fim: 0.9914567470550537\n",
      "/en/matches/77c70160/Brighton-and-Hove-Albion-Leeds-United-August-27-2022-Premier-League\n"
     ]
    },
    {
     "name": "stderr",
     "output_type": "stream",
     "text": [
      "C:\\Users\\user\\AppData\\Local\\Temp\\ipykernel_24300\\2944083324.py:31: FutureWarning: Passing literal html to 'read_html' is deprecated and will be removed in a future version. To read from a literal string, wrap it in a 'StringIO' object.\n",
      "  home_players = pd.read_html(str(table))[0].drop(11)\n",
      "C:\\Users\\user\\AppData\\Local\\Temp\\ipykernel_24300\\2944083324.py:32: FutureWarning: Passing literal html to 'read_html' is deprecated and will be removed in a future version. To read from a literal string, wrap it in a 'StringIO' object.\n",
      "  away_players = pd.read_html(str(table2))[0].drop(11)\n"
     ]
    },
    {
     "name": "stdout",
     "output_type": "stream",
     "text": [
      "meio: 0.9561114311218262\n",
      "fim: 0.9921166896820068\n",
      "/en/matches/b737a3a7/Chelsea-Leicester-City-August-27-2022-Premier-League\n"
     ]
    },
    {
     "name": "stderr",
     "output_type": "stream",
     "text": [
      "C:\\Users\\user\\AppData\\Local\\Temp\\ipykernel_24300\\2944083324.py:31: FutureWarning: Passing literal html to 'read_html' is deprecated and will be removed in a future version. To read from a literal string, wrap it in a 'StringIO' object.\n",
      "  home_players = pd.read_html(str(table))[0].drop(11)\n",
      "C:\\Users\\user\\AppData\\Local\\Temp\\ipykernel_24300\\2944083324.py:32: FutureWarning: Passing literal html to 'read_html' is deprecated and will be removed in a future version. To read from a literal string, wrap it in a 'StringIO' object.\n",
      "  away_players = pd.read_html(str(table2))[0].drop(11)\n"
     ]
    },
    {
     "name": "stdout",
     "output_type": "stream",
     "text": [
      "meio: 0.8516964912414551\n",
      "fim: 0.8882927894592285\n",
      "/en/matches/db59fc65/Brentford-Everton-August-27-2022-Premier-League\n"
     ]
    },
    {
     "name": "stderr",
     "output_type": "stream",
     "text": [
      "C:\\Users\\user\\AppData\\Local\\Temp\\ipykernel_24300\\2944083324.py:31: FutureWarning: Passing literal html to 'read_html' is deprecated and will be removed in a future version. To read from a literal string, wrap it in a 'StringIO' object.\n",
      "  home_players = pd.read_html(str(table))[0].drop(11)\n",
      "C:\\Users\\user\\AppData\\Local\\Temp\\ipykernel_24300\\2944083324.py:32: FutureWarning: Passing literal html to 'read_html' is deprecated and will be removed in a future version. To read from a literal string, wrap it in a 'StringIO' object.\n",
      "  away_players = pd.read_html(str(table2))[0].drop(11)\n"
     ]
    },
    {
     "name": "stdout",
     "output_type": "stream",
     "text": [
      "meio: 1.0424299240112305\n",
      "fim: 1.0827906131744385\n",
      "/en/matches/de515487/Liverpool-Bournemouth-August-27-2022-Premier-League\n"
     ]
    },
    {
     "name": "stderr",
     "output_type": "stream",
     "text": [
      "C:\\Users\\user\\AppData\\Local\\Temp\\ipykernel_24300\\2944083324.py:31: FutureWarning: Passing literal html to 'read_html' is deprecated and will be removed in a future version. To read from a literal string, wrap it in a 'StringIO' object.\n",
      "  home_players = pd.read_html(str(table))[0].drop(11)\n",
      "C:\\Users\\user\\AppData\\Local\\Temp\\ipykernel_24300\\2944083324.py:32: FutureWarning: Passing literal html to 'read_html' is deprecated and will be removed in a future version. To read from a literal string, wrap it in a 'StringIO' object.\n",
      "  away_players = pd.read_html(str(table2))[0].drop(11)\n"
     ]
    },
    {
     "name": "stdout",
     "output_type": "stream",
     "text": [
      "meio: 0.943885326385498\n",
      "fim: 0.9806976318359375\n",
      "/en/matches/8b69fd2d/Arsenal-Fulham-August-27-2022-Premier-League\n"
     ]
    },
    {
     "name": "stderr",
     "output_type": "stream",
     "text": [
      "C:\\Users\\user\\AppData\\Local\\Temp\\ipykernel_24300\\2944083324.py:31: FutureWarning: Passing literal html to 'read_html' is deprecated and will be removed in a future version. To read from a literal string, wrap it in a 'StringIO' object.\n",
      "  home_players = pd.read_html(str(table))[0].drop(11)\n",
      "C:\\Users\\user\\AppData\\Local\\Temp\\ipykernel_24300\\2944083324.py:32: FutureWarning: Passing literal html to 'read_html' is deprecated and will be removed in a future version. To read from a literal string, wrap it in a 'StringIO' object.\n",
      "  away_players = pd.read_html(str(table2))[0].drop(11)\n"
     ]
    },
    {
     "name": "stdout",
     "output_type": "stream",
     "text": [
      "meio: 0.8577659130096436\n",
      "fim: 0.8962578773498535\n",
      "/en/matches/15d62d04/Wolverhampton-Wanderers-Newcastle-United-August-28-2022-Premier-League\n"
     ]
    },
    {
     "name": "stderr",
     "output_type": "stream",
     "text": [
      "C:\\Users\\user\\AppData\\Local\\Temp\\ipykernel_24300\\2944083324.py:31: FutureWarning: Passing literal html to 'read_html' is deprecated and will be removed in a future version. To read from a literal string, wrap it in a 'StringIO' object.\n",
      "  home_players = pd.read_html(str(table))[0].drop(11)\n",
      "C:\\Users\\user\\AppData\\Local\\Temp\\ipykernel_24300\\2944083324.py:32: FutureWarning: Passing literal html to 'read_html' is deprecated and will be removed in a future version. To read from a literal string, wrap it in a 'StringIO' object.\n",
      "  away_players = pd.read_html(str(table2))[0].drop(11)\n"
     ]
    },
    {
     "name": "stdout",
     "output_type": "stream",
     "text": [
      "meio: 0.9803698062896729\n",
      "fim: 1.0535595417022705\n",
      "/en/matches/659b9113/Aston-Villa-West-Ham-United-August-28-2022-Premier-League\n"
     ]
    },
    {
     "name": "stderr",
     "output_type": "stream",
     "text": [
      "C:\\Users\\user\\AppData\\Local\\Temp\\ipykernel_24300\\2944083324.py:31: FutureWarning: Passing literal html to 'read_html' is deprecated and will be removed in a future version. To read from a literal string, wrap it in a 'StringIO' object.\n",
      "  home_players = pd.read_html(str(table))[0].drop(11)\n",
      "C:\\Users\\user\\AppData\\Local\\Temp\\ipykernel_24300\\2944083324.py:32: FutureWarning: Passing literal html to 'read_html' is deprecated and will be removed in a future version. To read from a literal string, wrap it in a 'StringIO' object.\n",
      "  away_players = pd.read_html(str(table2))[0].drop(11)\n"
     ]
    },
    {
     "name": "stdout",
     "output_type": "stream",
     "text": [
      "meio: 1.055203914642334\n",
      "fim: 1.0952439308166504\n",
      "/en/matches/3c364307/Nottingham-Forest-Tottenham-Hotspur-August-28-2022-Premier-League\n"
     ]
    },
    {
     "name": "stderr",
     "output_type": "stream",
     "text": [
      "C:\\Users\\user\\AppData\\Local\\Temp\\ipykernel_24300\\2944083324.py:31: FutureWarning: Passing literal html to 'read_html' is deprecated and will be removed in a future version. To read from a literal string, wrap it in a 'StringIO' object.\n",
      "  home_players = pd.read_html(str(table))[0].drop(11)\n",
      "C:\\Users\\user\\AppData\\Local\\Temp\\ipykernel_24300\\2944083324.py:32: FutureWarning: Passing literal html to 'read_html' is deprecated and will be removed in a future version. To read from a literal string, wrap it in a 'StringIO' object.\n",
      "  away_players = pd.read_html(str(table2))[0].drop(11)\n"
     ]
    },
    {
     "name": "stdout",
     "output_type": "stream",
     "text": [
      "meio: 0.8914079666137695\n",
      "fim: 0.9380874633789062\n",
      "/en/matches/361f4461/Fulham-Brighton-and-Hove-Albion-August-30-2022-Premier-League\n"
     ]
    },
    {
     "name": "stderr",
     "output_type": "stream",
     "text": [
      "C:\\Users\\user\\AppData\\Local\\Temp\\ipykernel_24300\\2944083324.py:31: FutureWarning: Passing literal html to 'read_html' is deprecated and will be removed in a future version. To read from a literal string, wrap it in a 'StringIO' object.\n",
      "  home_players = pd.read_html(str(table))[0].drop(11)\n",
      "C:\\Users\\user\\AppData\\Local\\Temp\\ipykernel_24300\\2944083324.py:32: FutureWarning: Passing literal html to 'read_html' is deprecated and will be removed in a future version. To read from a literal string, wrap it in a 'StringIO' object.\n",
      "  away_players = pd.read_html(str(table2))[0].drop(11)\n"
     ]
    },
    {
     "name": "stdout",
     "output_type": "stream",
     "text": [
      "meio: 0.964820146560669\n",
      "fim: 0.9979619979858398\n",
      "/en/matches/e1d6440f/Crystal-Palace-Brentford-August-30-2022-Premier-League\n"
     ]
    },
    {
     "name": "stderr",
     "output_type": "stream",
     "text": [
      "C:\\Users\\user\\AppData\\Local\\Temp\\ipykernel_24300\\2944083324.py:31: FutureWarning: Passing literal html to 'read_html' is deprecated and will be removed in a future version. To read from a literal string, wrap it in a 'StringIO' object.\n",
      "  home_players = pd.read_html(str(table))[0].drop(11)\n",
      "C:\\Users\\user\\AppData\\Local\\Temp\\ipykernel_24300\\2944083324.py:32: FutureWarning: Passing literal html to 'read_html' is deprecated and will be removed in a future version. To read from a literal string, wrap it in a 'StringIO' object.\n",
      "  away_players = pd.read_html(str(table2))[0].drop(11)\n"
     ]
    },
    {
     "name": "stdout",
     "output_type": "stream",
     "text": [
      "meio: 0.9406840801239014\n",
      "fim: 0.9765071868896484\n",
      "/en/matches/afd303a8/Southampton-Chelsea-August-30-2022-Premier-League\n"
     ]
    },
    {
     "name": "stderr",
     "output_type": "stream",
     "text": [
      "C:\\Users\\user\\AppData\\Local\\Temp\\ipykernel_24300\\2944083324.py:31: FutureWarning: Passing literal html to 'read_html' is deprecated and will be removed in a future version. To read from a literal string, wrap it in a 'StringIO' object.\n",
      "  home_players = pd.read_html(str(table))[0].drop(11)\n",
      "C:\\Users\\user\\AppData\\Local\\Temp\\ipykernel_24300\\2944083324.py:32: FutureWarning: Passing literal html to 'read_html' is deprecated and will be removed in a future version. To read from a literal string, wrap it in a 'StringIO' object.\n",
      "  away_players = pd.read_html(str(table2))[0].drop(11)\n"
     ]
    },
    {
     "name": "stdout",
     "output_type": "stream",
     "text": [
      "meio: 0.8193175792694092\n",
      "fim: 0.8545272350311279\n",
      "/en/matches/42d294e5/Leeds-United-Everton-August-30-2022-Premier-League\n"
     ]
    },
    {
     "name": "stderr",
     "output_type": "stream",
     "text": [
      "C:\\Users\\user\\AppData\\Local\\Temp\\ipykernel_24300\\2944083324.py:31: FutureWarning: Passing literal html to 'read_html' is deprecated and will be removed in a future version. To read from a literal string, wrap it in a 'StringIO' object.\n",
      "  home_players = pd.read_html(str(table))[0].drop(11)\n",
      "C:\\Users\\user\\AppData\\Local\\Temp\\ipykernel_24300\\2944083324.py:32: FutureWarning: Passing literal html to 'read_html' is deprecated and will be removed in a future version. To read from a literal string, wrap it in a 'StringIO' object.\n",
      "  away_players = pd.read_html(str(table2))[0].drop(11)\n"
     ]
    },
    {
     "name": "stdout",
     "output_type": "stream",
     "text": [
      "meio: 1.0113682746887207\n",
      "fim: 1.0471336841583252\n",
      "/en/matches/91b239d8/Bournemouth-Wolverhampton-Wanderers-August-31-2022-Premier-League\n"
     ]
    },
    {
     "name": "stderr",
     "output_type": "stream",
     "text": [
      "C:\\Users\\user\\AppData\\Local\\Temp\\ipykernel_24300\\2944083324.py:31: FutureWarning: Passing literal html to 'read_html' is deprecated and will be removed in a future version. To read from a literal string, wrap it in a 'StringIO' object.\n",
      "  home_players = pd.read_html(str(table))[0].drop(11)\n",
      "C:\\Users\\user\\AppData\\Local\\Temp\\ipykernel_24300\\2944083324.py:32: FutureWarning: Passing literal html to 'read_html' is deprecated and will be removed in a future version. To read from a literal string, wrap it in a 'StringIO' object.\n",
      "  away_players = pd.read_html(str(table2))[0].drop(11)\n"
     ]
    },
    {
     "name": "stdout",
     "output_type": "stream",
     "text": [
      "meio: 1.0251941680908203\n",
      "fim: 1.0578749179840088\n",
      "/en/matches/9760b466/Manchester-City-Nottingham-Forest-August-31-2022-Premier-League\n"
     ]
    },
    {
     "name": "stderr",
     "output_type": "stream",
     "text": [
      "C:\\Users\\user\\AppData\\Local\\Temp\\ipykernel_24300\\2944083324.py:31: FutureWarning: Passing literal html to 'read_html' is deprecated and will be removed in a future version. To read from a literal string, wrap it in a 'StringIO' object.\n",
      "  home_players = pd.read_html(str(table))[0].drop(11)\n",
      "C:\\Users\\user\\AppData\\Local\\Temp\\ipykernel_24300\\2944083324.py:32: FutureWarning: Passing literal html to 'read_html' is deprecated and will be removed in a future version. To read from a literal string, wrap it in a 'StringIO' object.\n",
      "  away_players = pd.read_html(str(table2))[0].drop(11)\n"
     ]
    },
    {
     "name": "stdout",
     "output_type": "stream",
     "text": [
      "meio: 0.9631140232086182\n",
      "fim: 1.002389669418335\n",
      "/en/matches/cc235aad/Arsenal-Aston-Villa-August-31-2022-Premier-League\n"
     ]
    },
    {
     "name": "stderr",
     "output_type": "stream",
     "text": [
      "C:\\Users\\user\\AppData\\Local\\Temp\\ipykernel_24300\\2944083324.py:31: FutureWarning: Passing literal html to 'read_html' is deprecated and will be removed in a future version. To read from a literal string, wrap it in a 'StringIO' object.\n",
      "  home_players = pd.read_html(str(table))[0].drop(11)\n",
      "C:\\Users\\user\\AppData\\Local\\Temp\\ipykernel_24300\\2944083324.py:32: FutureWarning: Passing literal html to 'read_html' is deprecated and will be removed in a future version. To read from a literal string, wrap it in a 'StringIO' object.\n",
      "  away_players = pd.read_html(str(table2))[0].drop(11)\n"
     ]
    },
    {
     "name": "stdout",
     "output_type": "stream",
     "text": [
      "meio: 0.9597370624542236\n",
      "fim: 0.9949328899383545\n",
      "/en/matches/9f221621/West-Ham-United-Tottenham-Hotspur-August-31-2022-Premier-League\n"
     ]
    },
    {
     "name": "stderr",
     "output_type": "stream",
     "text": [
      "C:\\Users\\user\\AppData\\Local\\Temp\\ipykernel_24300\\2944083324.py:31: FutureWarning: Passing literal html to 'read_html' is deprecated and will be removed in a future version. To read from a literal string, wrap it in a 'StringIO' object.\n",
      "  home_players = pd.read_html(str(table))[0].drop(11)\n",
      "C:\\Users\\user\\AppData\\Local\\Temp\\ipykernel_24300\\2944083324.py:32: FutureWarning: Passing literal html to 'read_html' is deprecated and will be removed in a future version. To read from a literal string, wrap it in a 'StringIO' object.\n",
      "  away_players = pd.read_html(str(table2))[0].drop(11)\n"
     ]
    },
    {
     "name": "stdout",
     "output_type": "stream",
     "text": [
      "meio: 0.9839444160461426\n",
      "fim: 1.0184447765350342\n",
      "/en/matches/ac6047cf/Liverpool-Newcastle-United-August-31-2022-Premier-League\n"
     ]
    },
    {
     "name": "stderr",
     "output_type": "stream",
     "text": [
      "C:\\Users\\user\\AppData\\Local\\Temp\\ipykernel_24300\\2944083324.py:31: FutureWarning: Passing literal html to 'read_html' is deprecated and will be removed in a future version. To read from a literal string, wrap it in a 'StringIO' object.\n",
      "  home_players = pd.read_html(str(table))[0].drop(11)\n",
      "C:\\Users\\user\\AppData\\Local\\Temp\\ipykernel_24300\\2944083324.py:32: FutureWarning: Passing literal html to 'read_html' is deprecated and will be removed in a future version. To read from a literal string, wrap it in a 'StringIO' object.\n",
      "  away_players = pd.read_html(str(table2))[0].drop(11)\n"
     ]
    },
    {
     "name": "stdout",
     "output_type": "stream",
     "text": [
      "meio: 0.8237884044647217\n",
      "fim: 0.8600845336914062\n",
      "/en/matches/c1f25d02/Leicester-City-Manchester-United-September-1-2022-Premier-League\n"
     ]
    },
    {
     "name": "stderr",
     "output_type": "stream",
     "text": [
      "C:\\Users\\user\\AppData\\Local\\Temp\\ipykernel_24300\\2944083324.py:31: FutureWarning: Passing literal html to 'read_html' is deprecated and will be removed in a future version. To read from a literal string, wrap it in a 'StringIO' object.\n",
      "  home_players = pd.read_html(str(table))[0].drop(11)\n",
      "C:\\Users\\user\\AppData\\Local\\Temp\\ipykernel_24300\\2944083324.py:32: FutureWarning: Passing literal html to 'read_html' is deprecated and will be removed in a future version. To read from a literal string, wrap it in a 'StringIO' object.\n",
      "  away_players = pd.read_html(str(table2))[0].drop(11)\n"
     ]
    },
    {
     "name": "stdout",
     "output_type": "stream",
     "text": [
      "meio: 0.9780981540679932\n",
      "fim: 1.0117073059082031\n",
      "/en/matches/073227b6/Merseyside-Derby-Everton-Liverpool-September-3-2022-Premier-League\n"
     ]
    },
    {
     "name": "stderr",
     "output_type": "stream",
     "text": [
      "C:\\Users\\user\\AppData\\Local\\Temp\\ipykernel_24300\\2944083324.py:31: FutureWarning: Passing literal html to 'read_html' is deprecated and will be removed in a future version. To read from a literal string, wrap it in a 'StringIO' object.\n",
      "  home_players = pd.read_html(str(table))[0].drop(11)\n",
      "C:\\Users\\user\\AppData\\Local\\Temp\\ipykernel_24300\\2944083324.py:32: FutureWarning: Passing literal html to 'read_html' is deprecated and will be removed in a future version. To read from a literal string, wrap it in a 'StringIO' object.\n",
      "  away_players = pd.read_html(str(table2))[0].drop(11)\n"
     ]
    },
    {
     "name": "stdout",
     "output_type": "stream",
     "text": [
      "meio: 0.9305124282836914\n",
      "fim: 0.9684672355651855\n",
      "/en/matches/05f32555/Nottingham-Forest-Bournemouth-September-3-2022-Premier-League\n"
     ]
    },
    {
     "name": "stderr",
     "output_type": "stream",
     "text": [
      "C:\\Users\\user\\AppData\\Local\\Temp\\ipykernel_24300\\2944083324.py:31: FutureWarning: Passing literal html to 'read_html' is deprecated and will be removed in a future version. To read from a literal string, wrap it in a 'StringIO' object.\n",
      "  home_players = pd.read_html(str(table))[0].drop(11)\n",
      "C:\\Users\\user\\AppData\\Local\\Temp\\ipykernel_24300\\2944083324.py:32: FutureWarning: Passing literal html to 'read_html' is deprecated and will be removed in a future version. To read from a literal string, wrap it in a 'StringIO' object.\n",
      "  away_players = pd.read_html(str(table2))[0].drop(11)\n"
     ]
    },
    {
     "name": "stdout",
     "output_type": "stream",
     "text": [
      "meio: 0.8628523349761963\n",
      "fim: 0.9005942344665527\n",
      "/en/matches/13f50518/Wolverhampton-Wanderers-Southampton-September-3-2022-Premier-League\n"
     ]
    },
    {
     "name": "stderr",
     "output_type": "stream",
     "text": [
      "C:\\Users\\user\\AppData\\Local\\Temp\\ipykernel_24300\\2944083324.py:31: FutureWarning: Passing literal html to 'read_html' is deprecated and will be removed in a future version. To read from a literal string, wrap it in a 'StringIO' object.\n",
      "  home_players = pd.read_html(str(table))[0].drop(11)\n",
      "C:\\Users\\user\\AppData\\Local\\Temp\\ipykernel_24300\\2944083324.py:32: FutureWarning: Passing literal html to 'read_html' is deprecated and will be removed in a future version. To read from a literal string, wrap it in a 'StringIO' object.\n",
      "  away_players = pd.read_html(str(table2))[0].drop(11)\n"
     ]
    },
    {
     "name": "stdout",
     "output_type": "stream",
     "text": [
      "meio: 1.0048282146453857\n",
      "fim: 1.0450003147125244\n",
      "/en/matches/4ca4efa3/Newcastle-United-Crystal-Palace-September-3-2022-Premier-League\n"
     ]
    },
    {
     "name": "stderr",
     "output_type": "stream",
     "text": [
      "C:\\Users\\user\\AppData\\Local\\Temp\\ipykernel_24300\\2944083324.py:31: FutureWarning: Passing literal html to 'read_html' is deprecated and will be removed in a future version. To read from a literal string, wrap it in a 'StringIO' object.\n",
      "  home_players = pd.read_html(str(table))[0].drop(11)\n",
      "C:\\Users\\user\\AppData\\Local\\Temp\\ipykernel_24300\\2944083324.py:32: FutureWarning: Passing literal html to 'read_html' is deprecated and will be removed in a future version. To read from a literal string, wrap it in a 'StringIO' object.\n",
      "  away_players = pd.read_html(str(table2))[0].drop(11)\n"
     ]
    },
    {
     "name": "stdout",
     "output_type": "stream",
     "text": [
      "meio: 1.0278935432434082\n",
      "fim: 1.0641281604766846\n",
      "/en/matches/88f9aad9/Brentford-Leeds-United-September-3-2022-Premier-League\n"
     ]
    },
    {
     "name": "stderr",
     "output_type": "stream",
     "text": [
      "C:\\Users\\user\\AppData\\Local\\Temp\\ipykernel_24300\\2944083324.py:31: FutureWarning: Passing literal html to 'read_html' is deprecated and will be removed in a future version. To read from a literal string, wrap it in a 'StringIO' object.\n",
      "  home_players = pd.read_html(str(table))[0].drop(11)\n",
      "C:\\Users\\user\\AppData\\Local\\Temp\\ipykernel_24300\\2944083324.py:32: FutureWarning: Passing literal html to 'read_html' is deprecated and will be removed in a future version. To read from a literal string, wrap it in a 'StringIO' object.\n",
      "  away_players = pd.read_html(str(table2))[0].drop(11)\n"
     ]
    },
    {
     "name": "stdout",
     "output_type": "stream",
     "text": [
      "meio: 0.9807713031768799\n",
      "fim: 1.0255820751190186\n",
      "/en/matches/a497b725/Tottenham-Hotspur-Fulham-September-3-2022-Premier-League\n"
     ]
    },
    {
     "name": "stderr",
     "output_type": "stream",
     "text": [
      "C:\\Users\\user\\AppData\\Local\\Temp\\ipykernel_24300\\2944083324.py:31: FutureWarning: Passing literal html to 'read_html' is deprecated and will be removed in a future version. To read from a literal string, wrap it in a 'StringIO' object.\n",
      "  home_players = pd.read_html(str(table))[0].drop(11)\n",
      "C:\\Users\\user\\AppData\\Local\\Temp\\ipykernel_24300\\2944083324.py:32: FutureWarning: Passing literal html to 'read_html' is deprecated and will be removed in a future version. To read from a literal string, wrap it in a 'StringIO' object.\n",
      "  away_players = pd.read_html(str(table2))[0].drop(11)\n"
     ]
    },
    {
     "name": "stdout",
     "output_type": "stream",
     "text": [
      "meio: 1.0398471355438232\n",
      "fim: 1.077474594116211\n",
      "/en/matches/d7642197/Chelsea-West-Ham-United-September-3-2022-Premier-League\n"
     ]
    },
    {
     "name": "stderr",
     "output_type": "stream",
     "text": [
      "C:\\Users\\user\\AppData\\Local\\Temp\\ipykernel_24300\\2944083324.py:31: FutureWarning: Passing literal html to 'read_html' is deprecated and will be removed in a future version. To read from a literal string, wrap it in a 'StringIO' object.\n",
      "  home_players = pd.read_html(str(table))[0].drop(11)\n",
      "C:\\Users\\user\\AppData\\Local\\Temp\\ipykernel_24300\\2944083324.py:32: FutureWarning: Passing literal html to 'read_html' is deprecated and will be removed in a future version. To read from a literal string, wrap it in a 'StringIO' object.\n",
      "  away_players = pd.read_html(str(table2))[0].drop(11)\n"
     ]
    },
    {
     "name": "stdout",
     "output_type": "stream",
     "text": [
      "meio: 0.9558277130126953\n",
      "fim: 0.9909658432006836\n",
      "/en/matches/3091f0b8/Aston-Villa-Manchester-City-September-3-2022-Premier-League\n"
     ]
    },
    {
     "name": "stderr",
     "output_type": "stream",
     "text": [
      "C:\\Users\\user\\AppData\\Local\\Temp\\ipykernel_24300\\2944083324.py:31: FutureWarning: Passing literal html to 'read_html' is deprecated and will be removed in a future version. To read from a literal string, wrap it in a 'StringIO' object.\n",
      "  home_players = pd.read_html(str(table))[0].drop(11)\n",
      "C:\\Users\\user\\AppData\\Local\\Temp\\ipykernel_24300\\2944083324.py:32: FutureWarning: Passing literal html to 'read_html' is deprecated and will be removed in a future version. To read from a literal string, wrap it in a 'StringIO' object.\n",
      "  away_players = pd.read_html(str(table2))[0].drop(11)\n"
     ]
    },
    {
     "name": "stdout",
     "output_type": "stream",
     "text": [
      "meio: 1.2310638427734375\n",
      "fim: 1.2917699813842773\n",
      "/en/matches/42d5b3b1/Brighton-and-Hove-Albion-Leicester-City-September-4-2022-Premier-League\n"
     ]
    },
    {
     "name": "stderr",
     "output_type": "stream",
     "text": [
      "C:\\Users\\user\\AppData\\Local\\Temp\\ipykernel_24300\\2944083324.py:31: FutureWarning: Passing literal html to 'read_html' is deprecated and will be removed in a future version. To read from a literal string, wrap it in a 'StringIO' object.\n",
      "  home_players = pd.read_html(str(table))[0].drop(11)\n",
      "C:\\Users\\user\\AppData\\Local\\Temp\\ipykernel_24300\\2944083324.py:32: FutureWarning: Passing literal html to 'read_html' is deprecated and will be removed in a future version. To read from a literal string, wrap it in a 'StringIO' object.\n",
      "  away_players = pd.read_html(str(table2))[0].drop(11)\n"
     ]
    },
    {
     "name": "stdout",
     "output_type": "stream",
     "text": [
      "meio: 1.0941343307495117\n",
      "fim: 1.137345314025879\n",
      "/en/matches/61ddafa5/Manchester-United-Arsenal-September-4-2022-Premier-League\n"
     ]
    },
    {
     "name": "stderr",
     "output_type": "stream",
     "text": [
      "C:\\Users\\user\\AppData\\Local\\Temp\\ipykernel_24300\\2944083324.py:31: FutureWarning: Passing literal html to 'read_html' is deprecated and will be removed in a future version. To read from a literal string, wrap it in a 'StringIO' object.\n",
      "  home_players = pd.read_html(str(table))[0].drop(11)\n",
      "C:\\Users\\user\\AppData\\Local\\Temp\\ipykernel_24300\\2944083324.py:32: FutureWarning: Passing literal html to 'read_html' is deprecated and will be removed in a future version. To read from a literal string, wrap it in a 'StringIO' object.\n",
      "  away_players = pd.read_html(str(table2))[0].drop(11)\n"
     ]
    },
    {
     "name": "stdout",
     "output_type": "stream",
     "text": [
      "meio: 0.9718725681304932\n",
      "fim: 1.0081791877746582\n",
      "/en/matches/1219daa1/Aston-Villa-Southampton-September-16-2022-Premier-League\n"
     ]
    },
    {
     "name": "stderr",
     "output_type": "stream",
     "text": [
      "C:\\Users\\user\\AppData\\Local\\Temp\\ipykernel_24300\\2944083324.py:31: FutureWarning: Passing literal html to 'read_html' is deprecated and will be removed in a future version. To read from a literal string, wrap it in a 'StringIO' object.\n",
      "  home_players = pd.read_html(str(table))[0].drop(11)\n",
      "C:\\Users\\user\\AppData\\Local\\Temp\\ipykernel_24300\\2944083324.py:32: FutureWarning: Passing literal html to 'read_html' is deprecated and will be removed in a future version. To read from a literal string, wrap it in a 'StringIO' object.\n",
      "  away_players = pd.read_html(str(table2))[0].drop(11)\n"
     ]
    },
    {
     "name": "stdout",
     "output_type": "stream",
     "text": [
      "meio: 0.8875141143798828\n",
      "fim: 0.9277558326721191\n",
      "/en/matches/d0d07e66/Nottingham-Forest-Fulham-September-16-2022-Premier-League\n"
     ]
    },
    {
     "name": "stderr",
     "output_type": "stream",
     "text": [
      "C:\\Users\\user\\AppData\\Local\\Temp\\ipykernel_24300\\2944083324.py:31: FutureWarning: Passing literal html to 'read_html' is deprecated and will be removed in a future version. To read from a literal string, wrap it in a 'StringIO' object.\n",
      "  home_players = pd.read_html(str(table))[0].drop(11)\n",
      "C:\\Users\\user\\AppData\\Local\\Temp\\ipykernel_24300\\2944083324.py:32: FutureWarning: Passing literal html to 'read_html' is deprecated and will be removed in a future version. To read from a literal string, wrap it in a 'StringIO' object.\n",
      "  away_players = pd.read_html(str(table2))[0].drop(11)\n"
     ]
    },
    {
     "name": "stdout",
     "output_type": "stream",
     "text": [
      "meio: 1.0899109840393066\n",
      "fim: 1.136693000793457\n",
      "/en/matches/96b5cc15/Wolverhampton-Wanderers-Manchester-City-September-17-2022-Premier-League\n"
     ]
    },
    {
     "name": "stderr",
     "output_type": "stream",
     "text": [
      "C:\\Users\\user\\AppData\\Local\\Temp\\ipykernel_24300\\2944083324.py:31: FutureWarning: Passing literal html to 'read_html' is deprecated and will be removed in a future version. To read from a literal string, wrap it in a 'StringIO' object.\n",
      "  home_players = pd.read_html(str(table))[0].drop(11)\n",
      "C:\\Users\\user\\AppData\\Local\\Temp\\ipykernel_24300\\2944083324.py:32: FutureWarning: Passing literal html to 'read_html' is deprecated and will be removed in a future version. To read from a literal string, wrap it in a 'StringIO' object.\n",
      "  away_players = pd.read_html(str(table2))[0].drop(11)\n"
     ]
    },
    {
     "name": "stdout",
     "output_type": "stream",
     "text": [
      "meio: 0.9960806369781494\n",
      "fim: 1.0344040393829346\n",
      "/en/matches/177da679/Newcastle-United-Bournemouth-September-17-2022-Premier-League\n"
     ]
    },
    {
     "name": "stderr",
     "output_type": "stream",
     "text": [
      "C:\\Users\\user\\AppData\\Local\\Temp\\ipykernel_24300\\2944083324.py:31: FutureWarning: Passing literal html to 'read_html' is deprecated and will be removed in a future version. To read from a literal string, wrap it in a 'StringIO' object.\n",
      "  home_players = pd.read_html(str(table))[0].drop(11)\n",
      "C:\\Users\\user\\AppData\\Local\\Temp\\ipykernel_24300\\2944083324.py:32: FutureWarning: Passing literal html to 'read_html' is deprecated and will be removed in a future version. To read from a literal string, wrap it in a 'StringIO' object.\n",
      "  away_players = pd.read_html(str(table2))[0].drop(11)\n"
     ]
    },
    {
     "name": "stdout",
     "output_type": "stream",
     "text": [
      "meio: 0.8868551254272461\n",
      "fim: 0.9247314929962158\n",
      "/en/matches/99e44c16/Tottenham-Hotspur-Leicester-City-September-17-2022-Premier-League\n"
     ]
    },
    {
     "name": "stderr",
     "output_type": "stream",
     "text": [
      "C:\\Users\\user\\AppData\\Local\\Temp\\ipykernel_24300\\2944083324.py:31: FutureWarning: Passing literal html to 'read_html' is deprecated and will be removed in a future version. To read from a literal string, wrap it in a 'StringIO' object.\n",
      "  home_players = pd.read_html(str(table))[0].drop(11)\n",
      "C:\\Users\\user\\AppData\\Local\\Temp\\ipykernel_24300\\2944083324.py:32: FutureWarning: Passing literal html to 'read_html' is deprecated and will be removed in a future version. To read from a literal string, wrap it in a 'StringIO' object.\n",
      "  away_players = pd.read_html(str(table2))[0].drop(11)\n"
     ]
    },
    {
     "name": "stdout",
     "output_type": "stream",
     "text": [
      "meio: 1.0054354667663574\n",
      "fim: 1.0426297187805176\n",
      "/en/matches/fd5626e6/Brentford-Arsenal-September-18-2022-Premier-League\n"
     ]
    },
    {
     "name": "stderr",
     "output_type": "stream",
     "text": [
      "C:\\Users\\user\\AppData\\Local\\Temp\\ipykernel_24300\\2944083324.py:31: FutureWarning: Passing literal html to 'read_html' is deprecated and will be removed in a future version. To read from a literal string, wrap it in a 'StringIO' object.\n",
      "  home_players = pd.read_html(str(table))[0].drop(11)\n",
      "C:\\Users\\user\\AppData\\Local\\Temp\\ipykernel_24300\\2944083324.py:32: FutureWarning: Passing literal html to 'read_html' is deprecated and will be removed in a future version. To read from a literal string, wrap it in a 'StringIO' object.\n",
      "  away_players = pd.read_html(str(table2))[0].drop(11)\n"
     ]
    },
    {
     "name": "stdout",
     "output_type": "stream",
     "text": [
      "meio: 0.9891741275787354\n",
      "fim: 1.0310194492340088\n",
      "/en/matches/96e9dc0f/Everton-West-Ham-United-September-18-2022-Premier-League\n"
     ]
    },
    {
     "name": "stderr",
     "output_type": "stream",
     "text": [
      "C:\\Users\\user\\AppData\\Local\\Temp\\ipykernel_24300\\2944083324.py:31: FutureWarning: Passing literal html to 'read_html' is deprecated and will be removed in a future version. To read from a literal string, wrap it in a 'StringIO' object.\n",
      "  home_players = pd.read_html(str(table))[0].drop(11)\n",
      "C:\\Users\\user\\AppData\\Local\\Temp\\ipykernel_24300\\2944083324.py:32: FutureWarning: Passing literal html to 'read_html' is deprecated and will be removed in a future version. To read from a literal string, wrap it in a 'StringIO' object.\n",
      "  away_players = pd.read_html(str(table2))[0].drop(11)\n"
     ]
    },
    {
     "name": "stdout",
     "output_type": "stream",
     "text": [
      "meio: 1.0309572219848633\n",
      "fim: 1.0731227397918701\n",
      "/en/matches/aefe3b90/North-London-Derby-Arsenal-Tottenham-Hotspur-October-1-2022-Premier-League\n"
     ]
    },
    {
     "name": "stderr",
     "output_type": "stream",
     "text": [
      "C:\\Users\\user\\AppData\\Local\\Temp\\ipykernel_24300\\2944083324.py:31: FutureWarning: Passing literal html to 'read_html' is deprecated and will be removed in a future version. To read from a literal string, wrap it in a 'StringIO' object.\n",
      "  home_players = pd.read_html(str(table))[0].drop(11)\n",
      "C:\\Users\\user\\AppData\\Local\\Temp\\ipykernel_24300\\2944083324.py:32: FutureWarning: Passing literal html to 'read_html' is deprecated and will be removed in a future version. To read from a literal string, wrap it in a 'StringIO' object.\n",
      "  away_players = pd.read_html(str(table2))[0].drop(11)\n"
     ]
    },
    {
     "name": "stdout",
     "output_type": "stream",
     "text": [
      "meio: 1.051530361175537\n",
      "fim: 1.109412670135498\n",
      "/en/matches/06d00bcb/Southampton-Everton-October-1-2022-Premier-League\n"
     ]
    },
    {
     "name": "stderr",
     "output_type": "stream",
     "text": [
      "C:\\Users\\user\\AppData\\Local\\Temp\\ipykernel_24300\\2944083324.py:31: FutureWarning: Passing literal html to 'read_html' is deprecated and will be removed in a future version. To read from a literal string, wrap it in a 'StringIO' object.\n",
      "  home_players = pd.read_html(str(table))[0].drop(11)\n",
      "C:\\Users\\user\\AppData\\Local\\Temp\\ipykernel_24300\\2944083324.py:32: FutureWarning: Passing literal html to 'read_html' is deprecated and will be removed in a future version. To read from a literal string, wrap it in a 'StringIO' object.\n",
      "  away_players = pd.read_html(str(table2))[0].drop(11)\n"
     ]
    },
    {
     "name": "stdout",
     "output_type": "stream",
     "text": [
      "meio: 1.0572657585144043\n",
      "fim: 1.0997998714447021\n",
      "/en/matches/372249f3/Crystal-Palace-Chelsea-October-1-2022-Premier-League\n"
     ]
    },
    {
     "name": "stderr",
     "output_type": "stream",
     "text": [
      "C:\\Users\\user\\AppData\\Local\\Temp\\ipykernel_24300\\2944083324.py:31: FutureWarning: Passing literal html to 'read_html' is deprecated and will be removed in a future version. To read from a literal string, wrap it in a 'StringIO' object.\n",
      "  home_players = pd.read_html(str(table))[0].drop(11)\n",
      "C:\\Users\\user\\AppData\\Local\\Temp\\ipykernel_24300\\2944083324.py:32: FutureWarning: Passing literal html to 'read_html' is deprecated and will be removed in a future version. To read from a literal string, wrap it in a 'StringIO' object.\n",
      "  away_players = pd.read_html(str(table2))[0].drop(11)\n"
     ]
    },
    {
     "name": "stdout",
     "output_type": "stream",
     "text": [
      "meio: 1.0695502758026123\n",
      "fim: 1.105651617050171\n",
      "/en/matches/aadd2e80/Liverpool-Brighton-and-Hove-Albion-October-1-2022-Premier-League\n"
     ]
    },
    {
     "name": "stderr",
     "output_type": "stream",
     "text": [
      "C:\\Users\\user\\AppData\\Local\\Temp\\ipykernel_24300\\2944083324.py:31: FutureWarning: Passing literal html to 'read_html' is deprecated and will be removed in a future version. To read from a literal string, wrap it in a 'StringIO' object.\n",
      "  home_players = pd.read_html(str(table))[0].drop(11)\n",
      "C:\\Users\\user\\AppData\\Local\\Temp\\ipykernel_24300\\2944083324.py:32: FutureWarning: Passing literal html to 'read_html' is deprecated and will be removed in a future version. To read from a literal string, wrap it in a 'StringIO' object.\n",
      "  away_players = pd.read_html(str(table2))[0].drop(11)\n"
     ]
    },
    {
     "name": "stdout",
     "output_type": "stream",
     "text": [
      "meio: 0.8780536651611328\n",
      "fim: 0.9188129901885986\n",
      "/en/matches/dcde1172/Fulham-Newcastle-United-October-1-2022-Premier-League\n"
     ]
    },
    {
     "name": "stderr",
     "output_type": "stream",
     "text": [
      "C:\\Users\\user\\AppData\\Local\\Temp\\ipykernel_24300\\2944083324.py:31: FutureWarning: Passing literal html to 'read_html' is deprecated and will be removed in a future version. To read from a literal string, wrap it in a 'StringIO' object.\n",
      "  home_players = pd.read_html(str(table))[0].drop(11)\n",
      "C:\\Users\\user\\AppData\\Local\\Temp\\ipykernel_24300\\2944083324.py:32: FutureWarning: Passing literal html to 'read_html' is deprecated and will be removed in a future version. To read from a literal string, wrap it in a 'StringIO' object.\n",
      "  away_players = pd.read_html(str(table2))[0].drop(11)\n"
     ]
    },
    {
     "name": "stdout",
     "output_type": "stream",
     "text": [
      "meio: 1.0275747776031494\n",
      "fim: 1.0667400360107422\n",
      "/en/matches/f2e86b27/Bournemouth-Brentford-October-1-2022-Premier-League\n"
     ]
    },
    {
     "name": "stderr",
     "output_type": "stream",
     "text": [
      "C:\\Users\\user\\AppData\\Local\\Temp\\ipykernel_24300\\2944083324.py:31: FutureWarning: Passing literal html to 'read_html' is deprecated and will be removed in a future version. To read from a literal string, wrap it in a 'StringIO' object.\n",
      "  home_players = pd.read_html(str(table))[0].drop(11)\n",
      "C:\\Users\\user\\AppData\\Local\\Temp\\ipykernel_24300\\2944083324.py:32: FutureWarning: Passing literal html to 'read_html' is deprecated and will be removed in a future version. To read from a literal string, wrap it in a 'StringIO' object.\n",
      "  away_players = pd.read_html(str(table2))[0].drop(11)\n"
     ]
    },
    {
     "name": "stdout",
     "output_type": "stream",
     "text": [
      "meio: 0.9463765621185303\n",
      "fim: 0.9788591861724854\n",
      "/en/matches/89ff6cd8/West-Ham-United-Wolverhampton-Wanderers-October-1-2022-Premier-League\n"
     ]
    },
    {
     "name": "stderr",
     "output_type": "stream",
     "text": [
      "C:\\Users\\user\\AppData\\Local\\Temp\\ipykernel_24300\\2944083324.py:31: FutureWarning: Passing literal html to 'read_html' is deprecated and will be removed in a future version. To read from a literal string, wrap it in a 'StringIO' object.\n",
      "  home_players = pd.read_html(str(table))[0].drop(11)\n",
      "C:\\Users\\user\\AppData\\Local\\Temp\\ipykernel_24300\\2944083324.py:32: FutureWarning: Passing literal html to 'read_html' is deprecated and will be removed in a future version. To read from a literal string, wrap it in a 'StringIO' object.\n",
      "  away_players = pd.read_html(str(table2))[0].drop(11)\n"
     ]
    },
    {
     "name": "stdout",
     "output_type": "stream",
     "text": [
      "meio: 0.9089202880859375\n",
      "fim: 0.947624683380127\n",
      "/en/matches/886e6108/Manchester-Derby-Manchester-City-Manchester-United-October-2-2022-Premier-League\n"
     ]
    },
    {
     "name": "stderr",
     "output_type": "stream",
     "text": [
      "C:\\Users\\user\\AppData\\Local\\Temp\\ipykernel_24300\\2944083324.py:31: FutureWarning: Passing literal html to 'read_html' is deprecated and will be removed in a future version. To read from a literal string, wrap it in a 'StringIO' object.\n",
      "  home_players = pd.read_html(str(table))[0].drop(11)\n",
      "C:\\Users\\user\\AppData\\Local\\Temp\\ipykernel_24300\\2944083324.py:32: FutureWarning: Passing literal html to 'read_html' is deprecated and will be removed in a future version. To read from a literal string, wrap it in a 'StringIO' object.\n",
      "  away_players = pd.read_html(str(table2))[0].drop(11)\n"
     ]
    },
    {
     "name": "stdout",
     "output_type": "stream",
     "text": [
      "meio: 1.0517370700836182\n",
      "fim: 1.0945208072662354\n",
      "/en/matches/627d2279/Leeds-United-Aston-Villa-October-2-2022-Premier-League\n"
     ]
    },
    {
     "name": "stderr",
     "output_type": "stream",
     "text": [
      "C:\\Users\\user\\AppData\\Local\\Temp\\ipykernel_24300\\2944083324.py:31: FutureWarning: Passing literal html to 'read_html' is deprecated and will be removed in a future version. To read from a literal string, wrap it in a 'StringIO' object.\n",
      "  home_players = pd.read_html(str(table))[0].drop(11)\n",
      "C:\\Users\\user\\AppData\\Local\\Temp\\ipykernel_24300\\2944083324.py:32: FutureWarning: Passing literal html to 'read_html' is deprecated and will be removed in a future version. To read from a literal string, wrap it in a 'StringIO' object.\n",
      "  away_players = pd.read_html(str(table2))[0].drop(11)\n"
     ]
    },
    {
     "name": "stdout",
     "output_type": "stream",
     "text": [
      "meio: 0.9286754131317139\n",
      "fim: 0.9667665958404541\n",
      "/en/matches/a7976021/Leicester-City-Nottingham-Forest-October-3-2022-Premier-League\n"
     ]
    },
    {
     "name": "stderr",
     "output_type": "stream",
     "text": [
      "C:\\Users\\user\\AppData\\Local\\Temp\\ipykernel_24300\\2944083324.py:31: FutureWarning: Passing literal html to 'read_html' is deprecated and will be removed in a future version. To read from a literal string, wrap it in a 'StringIO' object.\n",
      "  home_players = pd.read_html(str(table))[0].drop(11)\n",
      "C:\\Users\\user\\AppData\\Local\\Temp\\ipykernel_24300\\2944083324.py:32: FutureWarning: Passing literal html to 'read_html' is deprecated and will be removed in a future version. To read from a literal string, wrap it in a 'StringIO' object.\n",
      "  away_players = pd.read_html(str(table2))[0].drop(11)\n"
     ]
    },
    {
     "name": "stdout",
     "output_type": "stream",
     "text": [
      "meio: 0.9670584201812744\n",
      "fim: 1.0043363571166992\n",
      "/en/matches/7db2a40a/Bournemouth-Leicester-City-October-8-2022-Premier-League\n"
     ]
    },
    {
     "name": "stderr",
     "output_type": "stream",
     "text": [
      "C:\\Users\\user\\AppData\\Local\\Temp\\ipykernel_24300\\2944083324.py:31: FutureWarning: Passing literal html to 'read_html' is deprecated and will be removed in a future version. To read from a literal string, wrap it in a 'StringIO' object.\n",
      "  home_players = pd.read_html(str(table))[0].drop(11)\n",
      "C:\\Users\\user\\AppData\\Local\\Temp\\ipykernel_24300\\2944083324.py:32: FutureWarning: Passing literal html to 'read_html' is deprecated and will be removed in a future version. To read from a literal string, wrap it in a 'StringIO' object.\n",
      "  away_players = pd.read_html(str(table2))[0].drop(11)\n"
     ]
    },
    {
     "name": "stdout",
     "output_type": "stream",
     "text": [
      "meio: 1.0284249782562256\n",
      "fim: 1.0699236392974854\n",
      "/en/matches/7dd42d3f/Newcastle-United-Brentford-October-8-2022-Premier-League\n"
     ]
    },
    {
     "name": "stderr",
     "output_type": "stream",
     "text": [
      "C:\\Users\\user\\AppData\\Local\\Temp\\ipykernel_24300\\2944083324.py:31: FutureWarning: Passing literal html to 'read_html' is deprecated and will be removed in a future version. To read from a literal string, wrap it in a 'StringIO' object.\n",
      "  home_players = pd.read_html(str(table))[0].drop(11)\n",
      "C:\\Users\\user\\AppData\\Local\\Temp\\ipykernel_24300\\2944083324.py:32: FutureWarning: Passing literal html to 'read_html' is deprecated and will be removed in a future version. To read from a literal string, wrap it in a 'StringIO' object.\n",
      "  away_players = pd.read_html(str(table2))[0].drop(11)\n"
     ]
    },
    {
     "name": "stdout",
     "output_type": "stream",
     "text": [
      "meio: 2.1924898624420166\n",
      "fim: 2.2412519454956055\n",
      "/en/matches/864294c0/Manchester-City-Southampton-October-8-2022-Premier-League\n"
     ]
    },
    {
     "name": "stderr",
     "output_type": "stream",
     "text": [
      "C:\\Users\\user\\AppData\\Local\\Temp\\ipykernel_24300\\2944083324.py:31: FutureWarning: Passing literal html to 'read_html' is deprecated and will be removed in a future version. To read from a literal string, wrap it in a 'StringIO' object.\n",
      "  home_players = pd.read_html(str(table))[0].drop(11)\n",
      "C:\\Users\\user\\AppData\\Local\\Temp\\ipykernel_24300\\2944083324.py:32: FutureWarning: Passing literal html to 'read_html' is deprecated and will be removed in a future version. To read from a literal string, wrap it in a 'StringIO' object.\n",
      "  away_players = pd.read_html(str(table2))[0].drop(11)\n"
     ]
    },
    {
     "name": "stdout",
     "output_type": "stream",
     "text": [
      "meio: 2.466507911682129\n",
      "fim: 2.5036895275115967\n",
      "/en/matches/c83cb314/Chelsea-Wolverhampton-Wanderers-October-8-2022-Premier-League\n"
     ]
    },
    {
     "name": "stderr",
     "output_type": "stream",
     "text": [
      "C:\\Users\\user\\AppData\\Local\\Temp\\ipykernel_24300\\2944083324.py:31: FutureWarning: Passing literal html to 'read_html' is deprecated and will be removed in a future version. To read from a literal string, wrap it in a 'StringIO' object.\n",
      "  home_players = pd.read_html(str(table))[0].drop(11)\n",
      "C:\\Users\\user\\AppData\\Local\\Temp\\ipykernel_24300\\2944083324.py:32: FutureWarning: Passing literal html to 'read_html' is deprecated and will be removed in a future version. To read from a literal string, wrap it in a 'StringIO' object.\n",
      "  away_players = pd.read_html(str(table2))[0].drop(11)\n"
     ]
    },
    {
     "name": "stdout",
     "output_type": "stream",
     "text": [
      "meio: 3.1118311882019043\n",
      "fim: 3.151987075805664\n",
      "/en/matches/3eeefbc5/Brighton-and-Hove-Albion-Tottenham-Hotspur-October-8-2022-Premier-League\n"
     ]
    },
    {
     "name": "stderr",
     "output_type": "stream",
     "text": [
      "C:\\Users\\user\\AppData\\Local\\Temp\\ipykernel_24300\\2944083324.py:31: FutureWarning: Passing literal html to 'read_html' is deprecated and will be removed in a future version. To read from a literal string, wrap it in a 'StringIO' object.\n",
      "  home_players = pd.read_html(str(table))[0].drop(11)\n",
      "C:\\Users\\user\\AppData\\Local\\Temp\\ipykernel_24300\\2944083324.py:32: FutureWarning: Passing literal html to 'read_html' is deprecated and will be removed in a future version. To read from a literal string, wrap it in a 'StringIO' object.\n",
      "  away_players = pd.read_html(str(table2))[0].drop(11)\n"
     ]
    },
    {
     "name": "stdout",
     "output_type": "stream",
     "text": [
      "meio: 2.656083583831787\n",
      "fim: 2.7049217224121094\n",
      "/en/matches/42e38f9d/West-Ham-United-Fulham-October-9-2022-Premier-League\n"
     ]
    },
    {
     "name": "stderr",
     "output_type": "stream",
     "text": [
      "C:\\Users\\user\\AppData\\Local\\Temp\\ipykernel_24300\\2944083324.py:31: FutureWarning: Passing literal html to 'read_html' is deprecated and will be removed in a future version. To read from a literal string, wrap it in a 'StringIO' object.\n",
      "  home_players = pd.read_html(str(table))[0].drop(11)\n",
      "C:\\Users\\user\\AppData\\Local\\Temp\\ipykernel_24300\\2944083324.py:32: FutureWarning: Passing literal html to 'read_html' is deprecated and will be removed in a future version. To read from a literal string, wrap it in a 'StringIO' object.\n",
      "  away_players = pd.read_html(str(table2))[0].drop(11)\n"
     ]
    },
    {
     "name": "stdout",
     "output_type": "stream",
     "text": [
      "meio: 2.5740628242492676\n",
      "fim: 2.6088411808013916\n",
      "/en/matches/f9563020/Crystal-Palace-Leeds-United-October-9-2022-Premier-League\n"
     ]
    },
    {
     "name": "stderr",
     "output_type": "stream",
     "text": [
      "C:\\Users\\user\\AppData\\Local\\Temp\\ipykernel_24300\\2944083324.py:31: FutureWarning: Passing literal html to 'read_html' is deprecated and will be removed in a future version. To read from a literal string, wrap it in a 'StringIO' object.\n",
      "  home_players = pd.read_html(str(table))[0].drop(11)\n",
      "C:\\Users\\user\\AppData\\Local\\Temp\\ipykernel_24300\\2944083324.py:32: FutureWarning: Passing literal html to 'read_html' is deprecated and will be removed in a future version. To read from a literal string, wrap it in a 'StringIO' object.\n",
      "  away_players = pd.read_html(str(table2))[0].drop(11)\n"
     ]
    },
    {
     "name": "stdout",
     "output_type": "stream",
     "text": [
      "meio: 2.9598708152770996\n",
      "fim: 3.0014257431030273\n",
      "/en/matches/84a48413/Arsenal-Liverpool-October-9-2022-Premier-League\n"
     ]
    },
    {
     "name": "stderr",
     "output_type": "stream",
     "text": [
      "C:\\Users\\user\\AppData\\Local\\Temp\\ipykernel_24300\\2944083324.py:31: FutureWarning: Passing literal html to 'read_html' is deprecated and will be removed in a future version. To read from a literal string, wrap it in a 'StringIO' object.\n",
      "  home_players = pd.read_html(str(table))[0].drop(11)\n",
      "C:\\Users\\user\\AppData\\Local\\Temp\\ipykernel_24300\\2944083324.py:32: FutureWarning: Passing literal html to 'read_html' is deprecated and will be removed in a future version. To read from a literal string, wrap it in a 'StringIO' object.\n",
      "  away_players = pd.read_html(str(table2))[0].drop(11)\n"
     ]
    },
    {
     "name": "stdout",
     "output_type": "stream",
     "text": [
      "meio: 2.7002182006835938\n",
      "fim: 2.7353193759918213\n",
      "/en/matches/5d426690/Everton-Manchester-United-October-9-2022-Premier-League\n"
     ]
    },
    {
     "name": "stderr",
     "output_type": "stream",
     "text": [
      "C:\\Users\\user\\AppData\\Local\\Temp\\ipykernel_24300\\2944083324.py:31: FutureWarning: Passing literal html to 'read_html' is deprecated and will be removed in a future version. To read from a literal string, wrap it in a 'StringIO' object.\n",
      "  home_players = pd.read_html(str(table))[0].drop(11)\n",
      "C:\\Users\\user\\AppData\\Local\\Temp\\ipykernel_24300\\2944083324.py:32: FutureWarning: Passing literal html to 'read_html' is deprecated and will be removed in a future version. To read from a literal string, wrap it in a 'StringIO' object.\n",
      "  away_players = pd.read_html(str(table2))[0].drop(11)\n"
     ]
    },
    {
     "name": "stdout",
     "output_type": "stream",
     "text": [
      "meio: 6.033746004104614\n",
      "fim: 6.08798885345459\n",
      "/en/matches/fb99ddf9/Nottingham-Forest-Aston-Villa-October-10-2022-Premier-League\n"
     ]
    },
    {
     "name": "stderr",
     "output_type": "stream",
     "text": [
      "C:\\Users\\user\\AppData\\Local\\Temp\\ipykernel_24300\\2944083324.py:31: FutureWarning: Passing literal html to 'read_html' is deprecated and will be removed in a future version. To read from a literal string, wrap it in a 'StringIO' object.\n",
      "  home_players = pd.read_html(str(table))[0].drop(11)\n",
      "C:\\Users\\user\\AppData\\Local\\Temp\\ipykernel_24300\\2944083324.py:32: FutureWarning: Passing literal html to 'read_html' is deprecated and will be removed in a future version. To read from a literal string, wrap it in a 'StringIO' object.\n",
      "  away_players = pd.read_html(str(table2))[0].drop(11)\n"
     ]
    },
    {
     "name": "stdout",
     "output_type": "stream",
     "text": [
      "meio: 2.168782949447632\n",
      "fim: 2.2046737670898438\n",
      "/en/matches/69409682/Brentford-Brighton-and-Hove-Albion-October-14-2022-Premier-League\n"
     ]
    },
    {
     "name": "stderr",
     "output_type": "stream",
     "text": [
      "C:\\Users\\user\\AppData\\Local\\Temp\\ipykernel_24300\\2944083324.py:31: FutureWarning: Passing literal html to 'read_html' is deprecated and will be removed in a future version. To read from a literal string, wrap it in a 'StringIO' object.\n",
      "  home_players = pd.read_html(str(table))[0].drop(11)\n",
      "C:\\Users\\user\\AppData\\Local\\Temp\\ipykernel_24300\\2944083324.py:32: FutureWarning: Passing literal html to 'read_html' is deprecated and will be removed in a future version. To read from a literal string, wrap it in a 'StringIO' object.\n",
      "  away_players = pd.read_html(str(table2))[0].drop(11)\n"
     ]
    },
    {
     "name": "stdout",
     "output_type": "stream",
     "text": [
      "meio: 2.3029141426086426\n",
      "fim: 2.3394222259521484\n",
      "/en/matches/37677e58/Leicester-City-Crystal-Palace-October-15-2022-Premier-League\n"
     ]
    },
    {
     "name": "stderr",
     "output_type": "stream",
     "text": [
      "C:\\Users\\user\\AppData\\Local\\Temp\\ipykernel_24300\\2944083324.py:31: FutureWarning: Passing literal html to 'read_html' is deprecated and will be removed in a future version. To read from a literal string, wrap it in a 'StringIO' object.\n",
      "  home_players = pd.read_html(str(table))[0].drop(11)\n",
      "C:\\Users\\user\\AppData\\Local\\Temp\\ipykernel_24300\\2944083324.py:32: FutureWarning: Passing literal html to 'read_html' is deprecated and will be removed in a future version. To read from a literal string, wrap it in a 'StringIO' object.\n",
      "  away_players = pd.read_html(str(table2))[0].drop(11)\n"
     ]
    },
    {
     "name": "stdout",
     "output_type": "stream",
     "text": [
      "meio: 3.5492336750030518\n",
      "fim: 3.5843045711517334\n",
      "/en/matches/ab7f61dd/Fulham-Bournemouth-October-15-2022-Premier-League\n"
     ]
    },
    {
     "name": "stderr",
     "output_type": "stream",
     "text": [
      "C:\\Users\\user\\AppData\\Local\\Temp\\ipykernel_24300\\2944083324.py:31: FutureWarning: Passing literal html to 'read_html' is deprecated and will be removed in a future version. To read from a literal string, wrap it in a 'StringIO' object.\n",
      "  home_players = pd.read_html(str(table))[0].drop(11)\n",
      "C:\\Users\\user\\AppData\\Local\\Temp\\ipykernel_24300\\2944083324.py:32: FutureWarning: Passing literal html to 'read_html' is deprecated and will be removed in a future version. To read from a literal string, wrap it in a 'StringIO' object.\n",
      "  away_players = pd.read_html(str(table2))[0].drop(11)\n"
     ]
    },
    {
     "name": "stdout",
     "output_type": "stream",
     "text": [
      "meio: 2.1182405948638916\n",
      "fim: 2.1541755199432373\n",
      "/en/matches/c9f8e7e9/Wolverhampton-Wanderers-Nottingham-Forest-October-15-2022-Premier-League\n"
     ]
    },
    {
     "name": "stderr",
     "output_type": "stream",
     "text": [
      "C:\\Users\\user\\AppData\\Local\\Temp\\ipykernel_24300\\2944083324.py:31: FutureWarning: Passing literal html to 'read_html' is deprecated and will be removed in a future version. To read from a literal string, wrap it in a 'StringIO' object.\n",
      "  home_players = pd.read_html(str(table))[0].drop(11)\n",
      "C:\\Users\\user\\AppData\\Local\\Temp\\ipykernel_24300\\2944083324.py:32: FutureWarning: Passing literal html to 'read_html' is deprecated and will be removed in a future version. To read from a literal string, wrap it in a 'StringIO' object.\n",
      "  away_players = pd.read_html(str(table2))[0].drop(11)\n"
     ]
    },
    {
     "name": "stdout",
     "output_type": "stream",
     "text": [
      "meio: 2.3302438259124756\n",
      "fim: 2.364025115966797\n",
      "/en/matches/e42493f9/Tottenham-Hotspur-Everton-October-15-2022-Premier-League\n"
     ]
    },
    {
     "name": "stderr",
     "output_type": "stream",
     "text": [
      "C:\\Users\\user\\AppData\\Local\\Temp\\ipykernel_24300\\2944083324.py:31: FutureWarning: Passing literal html to 'read_html' is deprecated and will be removed in a future version. To read from a literal string, wrap it in a 'StringIO' object.\n",
      "  home_players = pd.read_html(str(table))[0].drop(11)\n",
      "C:\\Users\\user\\AppData\\Local\\Temp\\ipykernel_24300\\2944083324.py:32: FutureWarning: Passing literal html to 'read_html' is deprecated and will be removed in a future version. To read from a literal string, wrap it in a 'StringIO' object.\n",
      "  away_players = pd.read_html(str(table2))[0].drop(11)\n"
     ]
    },
    {
     "name": "stdout",
     "output_type": "stream",
     "text": [
      "meio: 2.369267702102661\n",
      "fim: 2.4033267498016357\n",
      "/en/matches/2f5adfad/Southampton-West-Ham-United-October-16-2022-Premier-League\n"
     ]
    },
    {
     "name": "stderr",
     "output_type": "stream",
     "text": [
      "C:\\Users\\user\\AppData\\Local\\Temp\\ipykernel_24300\\2944083324.py:31: FutureWarning: Passing literal html to 'read_html' is deprecated and will be removed in a future version. To read from a literal string, wrap it in a 'StringIO' object.\n",
      "  home_players = pd.read_html(str(table))[0].drop(11)\n",
      "C:\\Users\\user\\AppData\\Local\\Temp\\ipykernel_24300\\2944083324.py:32: FutureWarning: Passing literal html to 'read_html' is deprecated and will be removed in a future version. To read from a literal string, wrap it in a 'StringIO' object.\n",
      "  away_players = pd.read_html(str(table2))[0].drop(11)\n"
     ]
    },
    {
     "name": "stdout",
     "output_type": "stream",
     "text": [
      "meio: 2.216736078262329\n",
      "fim: 2.2579562664031982\n",
      "/en/matches/7113ce7f/Aston-Villa-Chelsea-October-16-2022-Premier-League\n"
     ]
    },
    {
     "name": "stderr",
     "output_type": "stream",
     "text": [
      "C:\\Users\\user\\AppData\\Local\\Temp\\ipykernel_24300\\2944083324.py:31: FutureWarning: Passing literal html to 'read_html' is deprecated and will be removed in a future version. To read from a literal string, wrap it in a 'StringIO' object.\n",
      "  home_players = pd.read_html(str(table))[0].drop(11)\n",
      "C:\\Users\\user\\AppData\\Local\\Temp\\ipykernel_24300\\2944083324.py:32: FutureWarning: Passing literal html to 'read_html' is deprecated and will be removed in a future version. To read from a literal string, wrap it in a 'StringIO' object.\n",
      "  away_players = pd.read_html(str(table2))[0].drop(11)\n"
     ]
    },
    {
     "name": "stdout",
     "output_type": "stream",
     "text": [
      "meio: 2.4990193843841553\n",
      "fim: 2.534975051879883\n",
      "/en/matches/92885cfc/Leeds-United-Arsenal-October-16-2022-Premier-League\n"
     ]
    },
    {
     "name": "stderr",
     "output_type": "stream",
     "text": [
      "C:\\Users\\user\\AppData\\Local\\Temp\\ipykernel_24300\\2944083324.py:31: FutureWarning: Passing literal html to 'read_html' is deprecated and will be removed in a future version. To read from a literal string, wrap it in a 'StringIO' object.\n",
      "  home_players = pd.read_html(str(table))[0].drop(11)\n",
      "C:\\Users\\user\\AppData\\Local\\Temp\\ipykernel_24300\\2944083324.py:32: FutureWarning: Passing literal html to 'read_html' is deprecated and will be removed in a future version. To read from a literal string, wrap it in a 'StringIO' object.\n",
      "  away_players = pd.read_html(str(table2))[0].drop(11)\n"
     ]
    },
    {
     "name": "stdout",
     "output_type": "stream",
     "text": [
      "meio: 3.214381694793701\n",
      "fim: 3.2495689392089844\n",
      "/en/matches/e0b9c72c/Manchester-United-Newcastle-United-October-16-2022-Premier-League\n"
     ]
    },
    {
     "name": "stderr",
     "output_type": "stream",
     "text": [
      "C:\\Users\\user\\AppData\\Local\\Temp\\ipykernel_24300\\2944083324.py:31: FutureWarning: Passing literal html to 'read_html' is deprecated and will be removed in a future version. To read from a literal string, wrap it in a 'StringIO' object.\n",
      "  home_players = pd.read_html(str(table))[0].drop(11)\n",
      "C:\\Users\\user\\AppData\\Local\\Temp\\ipykernel_24300\\2944083324.py:32: FutureWarning: Passing literal html to 'read_html' is deprecated and will be removed in a future version. To read from a literal string, wrap it in a 'StringIO' object.\n",
      "  away_players = pd.read_html(str(table2))[0].drop(11)\n"
     ]
    },
    {
     "name": "stdout",
     "output_type": "stream",
     "text": [
      "meio: 2.5558760166168213\n",
      "fim: 2.590658664703369\n",
      "/en/matches/2ed4b79f/Liverpool-Manchester-City-October-16-2022-Premier-League\n"
     ]
    },
    {
     "name": "stderr",
     "output_type": "stream",
     "text": [
      "C:\\Users\\user\\AppData\\Local\\Temp\\ipykernel_24300\\2944083324.py:31: FutureWarning: Passing literal html to 'read_html' is deprecated and will be removed in a future version. To read from a literal string, wrap it in a 'StringIO' object.\n",
      "  home_players = pd.read_html(str(table))[0].drop(11)\n",
      "C:\\Users\\user\\AppData\\Local\\Temp\\ipykernel_24300\\2944083324.py:32: FutureWarning: Passing literal html to 'read_html' is deprecated and will be removed in a future version. To read from a literal string, wrap it in a 'StringIO' object.\n",
      "  away_players = pd.read_html(str(table2))[0].drop(11)\n"
     ]
    },
    {
     "name": "stdout",
     "output_type": "stream",
     "text": [
      "meio: 2.3548779487609863\n",
      "fim: 2.3956377506256104\n",
      "/en/matches/4f876daa/Brighton-and-Hove-Albion-Nottingham-Forest-October-18-2022-Premier-League\n"
     ]
    },
    {
     "name": "stderr",
     "output_type": "stream",
     "text": [
      "C:\\Users\\user\\AppData\\Local\\Temp\\ipykernel_24300\\2944083324.py:31: FutureWarning: Passing literal html to 'read_html' is deprecated and will be removed in a future version. To read from a literal string, wrap it in a 'StringIO' object.\n",
      "  home_players = pd.read_html(str(table))[0].drop(11)\n",
      "C:\\Users\\user\\AppData\\Local\\Temp\\ipykernel_24300\\2944083324.py:32: FutureWarning: Passing literal html to 'read_html' is deprecated and will be removed in a future version. To read from a literal string, wrap it in a 'StringIO' object.\n",
      "  away_players = pd.read_html(str(table2))[0].drop(11)\n"
     ]
    },
    {
     "name": "stdout",
     "output_type": "stream",
     "text": [
      "meio: 2.463942050933838\n",
      "fim: 2.497185707092285\n",
      "/en/matches/60705c6d/Crystal-Palace-Wolverhampton-Wanderers-October-18-2022-Premier-League\n"
     ]
    },
    {
     "name": "stderr",
     "output_type": "stream",
     "text": [
      "C:\\Users\\user\\AppData\\Local\\Temp\\ipykernel_24300\\2944083324.py:31: FutureWarning: Passing literal html to 'read_html' is deprecated and will be removed in a future version. To read from a literal string, wrap it in a 'StringIO' object.\n",
      "  home_players = pd.read_html(str(table))[0].drop(11)\n",
      "C:\\Users\\user\\AppData\\Local\\Temp\\ipykernel_24300\\2944083324.py:32: FutureWarning: Passing literal html to 'read_html' is deprecated and will be removed in a future version. To read from a literal string, wrap it in a 'StringIO' object.\n",
      "  away_players = pd.read_html(str(table2))[0].drop(11)\n"
     ]
    },
    {
     "name": "stdout",
     "output_type": "stream",
     "text": [
      "meio: 2.5957343578338623\n",
      "fim: 2.629596710205078\n",
      "/en/matches/8a2bb3b6/Bournemouth-Southampton-October-19-2022-Premier-League\n"
     ]
    },
    {
     "name": "stderr",
     "output_type": "stream",
     "text": [
      "C:\\Users\\user\\AppData\\Local\\Temp\\ipykernel_24300\\2944083324.py:31: FutureWarning: Passing literal html to 'read_html' is deprecated and will be removed in a future version. To read from a literal string, wrap it in a 'StringIO' object.\n",
      "  home_players = pd.read_html(str(table))[0].drop(11)\n",
      "C:\\Users\\user\\AppData\\Local\\Temp\\ipykernel_24300\\2944083324.py:32: FutureWarning: Passing literal html to 'read_html' is deprecated and will be removed in a future version. To read from a literal string, wrap it in a 'StringIO' object.\n",
      "  away_players = pd.read_html(str(table2))[0].drop(11)\n"
     ]
    },
    {
     "name": "stdout",
     "output_type": "stream",
     "text": [
      "meio: 1.988351821899414\n",
      "fim: 2.024944543838501\n",
      "/en/matches/b7a32aeb/Brentford-Chelsea-October-19-2022-Premier-League\n"
     ]
    },
    {
     "name": "stderr",
     "output_type": "stream",
     "text": [
      "C:\\Users\\user\\AppData\\Local\\Temp\\ipykernel_24300\\2944083324.py:31: FutureWarning: Passing literal html to 'read_html' is deprecated and will be removed in a future version. To read from a literal string, wrap it in a 'StringIO' object.\n",
      "  home_players = pd.read_html(str(table))[0].drop(11)\n",
      "C:\\Users\\user\\AppData\\Local\\Temp\\ipykernel_24300\\2944083324.py:32: FutureWarning: Passing literal html to 'read_html' is deprecated and will be removed in a future version. To read from a literal string, wrap it in a 'StringIO' object.\n",
      "  away_players = pd.read_html(str(table2))[0].drop(11)\n"
     ]
    },
    {
     "name": "stdout",
     "output_type": "stream",
     "text": [
      "meio: 2.064038038253784\n",
      "fim: 2.0985543727874756\n",
      "/en/matches/dba5c5ec/Liverpool-West-Ham-United-October-19-2022-Premier-League\n"
     ]
    },
    {
     "name": "stderr",
     "output_type": "stream",
     "text": [
      "C:\\Users\\user\\AppData\\Local\\Temp\\ipykernel_24300\\2944083324.py:31: FutureWarning: Passing literal html to 'read_html' is deprecated and will be removed in a future version. To read from a literal string, wrap it in a 'StringIO' object.\n",
      "  home_players = pd.read_html(str(table))[0].drop(11)\n",
      "C:\\Users\\user\\AppData\\Local\\Temp\\ipykernel_24300\\2944083324.py:32: FutureWarning: Passing literal html to 'read_html' is deprecated and will be removed in a future version. To read from a literal string, wrap it in a 'StringIO' object.\n",
      "  away_players = pd.read_html(str(table2))[0].drop(11)\n"
     ]
    },
    {
     "name": "stdout",
     "output_type": "stream",
     "text": [
      "meio: 2.341161012649536\n",
      "fim: 2.3800103664398193\n",
      "/en/matches/e6674f8d/Newcastle-United-Everton-October-19-2022-Premier-League\n"
     ]
    },
    {
     "name": "stderr",
     "output_type": "stream",
     "text": [
      "C:\\Users\\user\\AppData\\Local\\Temp\\ipykernel_24300\\2944083324.py:31: FutureWarning: Passing literal html to 'read_html' is deprecated and will be removed in a future version. To read from a literal string, wrap it in a 'StringIO' object.\n",
      "  home_players = pd.read_html(str(table))[0].drop(11)\n",
      "C:\\Users\\user\\AppData\\Local\\Temp\\ipykernel_24300\\2944083324.py:32: FutureWarning: Passing literal html to 'read_html' is deprecated and will be removed in a future version. To read from a literal string, wrap it in a 'StringIO' object.\n",
      "  away_players = pd.read_html(str(table2))[0].drop(11)\n"
     ]
    },
    {
     "name": "stdout",
     "output_type": "stream",
     "text": [
      "meio: 2.7266628742218018\n",
      "fim: 2.7684860229492188\n",
      "/en/matches/eebe78c1/Manchester-United-Tottenham-Hotspur-October-19-2022-Premier-League\n"
     ]
    },
    {
     "name": "stderr",
     "output_type": "stream",
     "text": [
      "C:\\Users\\user\\AppData\\Local\\Temp\\ipykernel_24300\\2944083324.py:31: FutureWarning: Passing literal html to 'read_html' is deprecated and will be removed in a future version. To read from a literal string, wrap it in a 'StringIO' object.\n",
      "  home_players = pd.read_html(str(table))[0].drop(11)\n",
      "C:\\Users\\user\\AppData\\Local\\Temp\\ipykernel_24300\\2944083324.py:32: FutureWarning: Passing literal html to 'read_html' is deprecated and will be removed in a future version. To read from a literal string, wrap it in a 'StringIO' object.\n",
      "  away_players = pd.read_html(str(table2))[0].drop(11)\n"
     ]
    },
    {
     "name": "stdout",
     "output_type": "stream",
     "text": [
      "meio: 2.4752588272094727\n",
      "fim: 2.5141944885253906\n",
      "/en/matches/e6102606/Fulham-Aston-Villa-October-20-2022-Premier-League\n"
     ]
    },
    {
     "name": "stderr",
     "output_type": "stream",
     "text": [
      "C:\\Users\\user\\AppData\\Local\\Temp\\ipykernel_24300\\2944083324.py:31: FutureWarning: Passing literal html to 'read_html' is deprecated and will be removed in a future version. To read from a literal string, wrap it in a 'StringIO' object.\n",
      "  home_players = pd.read_html(str(table))[0].drop(11)\n",
      "C:\\Users\\user\\AppData\\Local\\Temp\\ipykernel_24300\\2944083324.py:32: FutureWarning: Passing literal html to 'read_html' is deprecated and will be removed in a future version. To read from a literal string, wrap it in a 'StringIO' object.\n",
      "  away_players = pd.read_html(str(table2))[0].drop(11)\n"
     ]
    },
    {
     "name": "stdout",
     "output_type": "stream",
     "text": [
      "meio: 1.9732115268707275\n",
      "fim: 2.010603904724121\n",
      "/en/matches/6356af5a/Leicester-City-Leeds-United-October-20-2022-Premier-League\n"
     ]
    },
    {
     "name": "stderr",
     "output_type": "stream",
     "text": [
      "C:\\Users\\user\\AppData\\Local\\Temp\\ipykernel_24300\\2944083324.py:31: FutureWarning: Passing literal html to 'read_html' is deprecated and will be removed in a future version. To read from a literal string, wrap it in a 'StringIO' object.\n",
      "  home_players = pd.read_html(str(table))[0].drop(11)\n",
      "C:\\Users\\user\\AppData\\Local\\Temp\\ipykernel_24300\\2944083324.py:32: FutureWarning: Passing literal html to 'read_html' is deprecated and will be removed in a future version. To read from a literal string, wrap it in a 'StringIO' object.\n",
      "  away_players = pd.read_html(str(table2))[0].drop(11)\n"
     ]
    },
    {
     "name": "stdout",
     "output_type": "stream",
     "text": [
      "meio: 2.9035489559173584\n",
      "fim: 2.959810733795166\n",
      "/en/matches/f92b67c2/Nottingham-Forest-Liverpool-October-22-2022-Premier-League\n"
     ]
    },
    {
     "name": "stderr",
     "output_type": "stream",
     "text": [
      "C:\\Users\\user\\AppData\\Local\\Temp\\ipykernel_24300\\2944083324.py:31: FutureWarning: Passing literal html to 'read_html' is deprecated and will be removed in a future version. To read from a literal string, wrap it in a 'StringIO' object.\n",
      "  home_players = pd.read_html(str(table))[0].drop(11)\n",
      "C:\\Users\\user\\AppData\\Local\\Temp\\ipykernel_24300\\2944083324.py:32: FutureWarning: Passing literal html to 'read_html' is deprecated and will be removed in a future version. To read from a literal string, wrap it in a 'StringIO' object.\n",
      "  away_players = pd.read_html(str(table2))[0].drop(11)\n"
     ]
    },
    {
     "name": "stdout",
     "output_type": "stream",
     "text": [
      "meio: 3.1910898685455322\n",
      "fim: 3.227294921875\n",
      "/en/matches/24d23a55/Everton-Crystal-Palace-October-22-2022-Premier-League\n"
     ]
    },
    {
     "name": "stderr",
     "output_type": "stream",
     "text": [
      "C:\\Users\\user\\AppData\\Local\\Temp\\ipykernel_24300\\2944083324.py:31: FutureWarning: Passing literal html to 'read_html' is deprecated and will be removed in a future version. To read from a literal string, wrap it in a 'StringIO' object.\n",
      "  home_players = pd.read_html(str(table))[0].drop(11)\n",
      "C:\\Users\\user\\AppData\\Local\\Temp\\ipykernel_24300\\2944083324.py:32: FutureWarning: Passing literal html to 'read_html' is deprecated and will be removed in a future version. To read from a literal string, wrap it in a 'StringIO' object.\n",
      "  away_players = pd.read_html(str(table2))[0].drop(11)\n"
     ]
    },
    {
     "name": "stdout",
     "output_type": "stream",
     "text": [
      "meio: 2.5630462169647217\n",
      "fim: 2.6097488403320312\n",
      "/en/matches/cd5cd3f0/Manchester-City-Brighton-and-Hove-Albion-October-22-2022-Premier-League\n"
     ]
    },
    {
     "name": "stderr",
     "output_type": "stream",
     "text": [
      "C:\\Users\\user\\AppData\\Local\\Temp\\ipykernel_24300\\2944083324.py:31: FutureWarning: Passing literal html to 'read_html' is deprecated and will be removed in a future version. To read from a literal string, wrap it in a 'StringIO' object.\n",
      "  home_players = pd.read_html(str(table))[0].drop(11)\n",
      "C:\\Users\\user\\AppData\\Local\\Temp\\ipykernel_24300\\2944083324.py:32: FutureWarning: Passing literal html to 'read_html' is deprecated and will be removed in a future version. To read from a literal string, wrap it in a 'StringIO' object.\n",
      "  away_players = pd.read_html(str(table2))[0].drop(11)\n"
     ]
    },
    {
     "name": "stdout",
     "output_type": "stream",
     "text": [
      "meio: 2.212714672088623\n",
      "fim: 2.272911548614502\n",
      "/en/matches/7ad85c8a/Chelsea-Manchester-United-October-22-2022-Premier-League\n"
     ]
    },
    {
     "name": "stderr",
     "output_type": "stream",
     "text": [
      "C:\\Users\\user\\AppData\\Local\\Temp\\ipykernel_24300\\2944083324.py:31: FutureWarning: Passing literal html to 'read_html' is deprecated and will be removed in a future version. To read from a literal string, wrap it in a 'StringIO' object.\n",
      "  home_players = pd.read_html(str(table))[0].drop(11)\n",
      "C:\\Users\\user\\AppData\\Local\\Temp\\ipykernel_24300\\2944083324.py:32: FutureWarning: Passing literal html to 'read_html' is deprecated and will be removed in a future version. To read from a literal string, wrap it in a 'StringIO' object.\n",
      "  away_players = pd.read_html(str(table2))[0].drop(11)\n"
     ]
    },
    {
     "name": "stdout",
     "output_type": "stream",
     "text": [
      "meio: 2.287259817123413\n",
      "fim: 2.3310554027557373\n",
      "/en/matches/7764ca02/Aston-Villa-Brentford-October-23-2022-Premier-League\n"
     ]
    },
    {
     "name": "stderr",
     "output_type": "stream",
     "text": [
      "C:\\Users\\user\\AppData\\Local\\Temp\\ipykernel_24300\\2944083324.py:31: FutureWarning: Passing literal html to 'read_html' is deprecated and will be removed in a future version. To read from a literal string, wrap it in a 'StringIO' object.\n",
      "  home_players = pd.read_html(str(table))[0].drop(11)\n",
      "C:\\Users\\user\\AppData\\Local\\Temp\\ipykernel_24300\\2944083324.py:32: FutureWarning: Passing literal html to 'read_html' is deprecated and will be removed in a future version. To read from a literal string, wrap it in a 'StringIO' object.\n",
      "  away_players = pd.read_html(str(table2))[0].drop(11)\n"
     ]
    },
    {
     "name": "stdout",
     "output_type": "stream",
     "text": [
      "meio: 3.006532907485962\n",
      "fim: 3.0560665130615234\n",
      "/en/matches/8774e664/Wolverhampton-Wanderers-Leicester-City-October-23-2022-Premier-League\n"
     ]
    },
    {
     "name": "stderr",
     "output_type": "stream",
     "text": [
      "C:\\Users\\user\\AppData\\Local\\Temp\\ipykernel_24300\\2944083324.py:31: FutureWarning: Passing literal html to 'read_html' is deprecated and will be removed in a future version. To read from a literal string, wrap it in a 'StringIO' object.\n",
      "  home_players = pd.read_html(str(table))[0].drop(11)\n",
      "C:\\Users\\user\\AppData\\Local\\Temp\\ipykernel_24300\\2944083324.py:32: FutureWarning: Passing literal html to 'read_html' is deprecated and will be removed in a future version. To read from a literal string, wrap it in a 'StringIO' object.\n",
      "  away_players = pd.read_html(str(table2))[0].drop(11)\n"
     ]
    },
    {
     "name": "stdout",
     "output_type": "stream",
     "text": [
      "meio: 3.0071396827697754\n",
      "fim: 3.0636913776397705\n",
      "/en/matches/d7b30e2b/Leeds-United-Fulham-October-23-2022-Premier-League\n"
     ]
    },
    {
     "name": "stderr",
     "output_type": "stream",
     "text": [
      "C:\\Users\\user\\AppData\\Local\\Temp\\ipykernel_24300\\2944083324.py:31: FutureWarning: Passing literal html to 'read_html' is deprecated and will be removed in a future version. To read from a literal string, wrap it in a 'StringIO' object.\n",
      "  home_players = pd.read_html(str(table))[0].drop(11)\n",
      "C:\\Users\\user\\AppData\\Local\\Temp\\ipykernel_24300\\2944083324.py:32: FutureWarning: Passing literal html to 'read_html' is deprecated and will be removed in a future version. To read from a literal string, wrap it in a 'StringIO' object.\n",
      "  away_players = pd.read_html(str(table2))[0].drop(11)\n"
     ]
    },
    {
     "name": "stdout",
     "output_type": "stream",
     "text": [
      "meio: 2.238182306289673\n",
      "fim: 2.294552803039551\n",
      "/en/matches/d8138438/Southampton-Arsenal-October-23-2022-Premier-League\n"
     ]
    },
    {
     "name": "stderr",
     "output_type": "stream",
     "text": [
      "C:\\Users\\user\\AppData\\Local\\Temp\\ipykernel_24300\\2944083324.py:31: FutureWarning: Passing literal html to 'read_html' is deprecated and will be removed in a future version. To read from a literal string, wrap it in a 'StringIO' object.\n",
      "  home_players = pd.read_html(str(table))[0].drop(11)\n",
      "C:\\Users\\user\\AppData\\Local\\Temp\\ipykernel_24300\\2944083324.py:32: FutureWarning: Passing literal html to 'read_html' is deprecated and will be removed in a future version. To read from a literal string, wrap it in a 'StringIO' object.\n",
      "  away_players = pd.read_html(str(table2))[0].drop(11)\n"
     ]
    },
    {
     "name": "stdout",
     "output_type": "stream",
     "text": [
      "meio: 2.1258139610290527\n",
      "fim: 2.295844554901123\n",
      "/en/matches/ae21490f/Tottenham-Hotspur-Newcastle-United-October-23-2022-Premier-League\n"
     ]
    },
    {
     "name": "stderr",
     "output_type": "stream",
     "text": [
      "C:\\Users\\user\\AppData\\Local\\Temp\\ipykernel_24300\\2944083324.py:31: FutureWarning: Passing literal html to 'read_html' is deprecated and will be removed in a future version. To read from a literal string, wrap it in a 'StringIO' object.\n",
      "  home_players = pd.read_html(str(table))[0].drop(11)\n",
      "C:\\Users\\user\\AppData\\Local\\Temp\\ipykernel_24300\\2944083324.py:32: FutureWarning: Passing literal html to 'read_html' is deprecated and will be removed in a future version. To read from a literal string, wrap it in a 'StringIO' object.\n",
      "  away_players = pd.read_html(str(table2))[0].drop(11)\n"
     ]
    },
    {
     "name": "stdout",
     "output_type": "stream",
     "text": [
      "meio: 2.435462713241577\n",
      "fim: 2.477644443511963\n",
      "/en/matches/e9d1a18b/West-Ham-United-Bournemouth-October-24-2022-Premier-League\n"
     ]
    },
    {
     "name": "stderr",
     "output_type": "stream",
     "text": [
      "C:\\Users\\user\\AppData\\Local\\Temp\\ipykernel_24300\\2944083324.py:31: FutureWarning: Passing literal html to 'read_html' is deprecated and will be removed in a future version. To read from a literal string, wrap it in a 'StringIO' object.\n",
      "  home_players = pd.read_html(str(table))[0].drop(11)\n",
      "C:\\Users\\user\\AppData\\Local\\Temp\\ipykernel_24300\\2944083324.py:32: FutureWarning: Passing literal html to 'read_html' is deprecated and will be removed in a future version. To read from a literal string, wrap it in a 'StringIO' object.\n",
      "  away_players = pd.read_html(str(table2))[0].drop(11)\n"
     ]
    },
    {
     "name": "stdout",
     "output_type": "stream",
     "text": [
      "meio: 2.088402271270752\n",
      "fim: 2.134946823120117\n",
      "/en/matches/96b9ae4e/Leicester-City-Manchester-City-October-29-2022-Premier-League\n"
     ]
    },
    {
     "name": "stderr",
     "output_type": "stream",
     "text": [
      "C:\\Users\\user\\AppData\\Local\\Temp\\ipykernel_24300\\2944083324.py:31: FutureWarning: Passing literal html to 'read_html' is deprecated and will be removed in a future version. To read from a literal string, wrap it in a 'StringIO' object.\n",
      "  home_players = pd.read_html(str(table))[0].drop(11)\n",
      "C:\\Users\\user\\AppData\\Local\\Temp\\ipykernel_24300\\2944083324.py:32: FutureWarning: Passing literal html to 'read_html' is deprecated and will be removed in a future version. To read from a literal string, wrap it in a 'StringIO' object.\n",
      "  away_players = pd.read_html(str(table2))[0].drop(11)\n"
     ]
    },
    {
     "name": "stdout",
     "output_type": "stream",
     "text": [
      "meio: 2.1404685974121094\n",
      "fim: 2.1765713691711426\n",
      "/en/matches/41e403d3/Brentford-Wolverhampton-Wanderers-October-29-2022-Premier-League\n"
     ]
    },
    {
     "name": "stderr",
     "output_type": "stream",
     "text": [
      "C:\\Users\\user\\AppData\\Local\\Temp\\ipykernel_24300\\2944083324.py:31: FutureWarning: Passing literal html to 'read_html' is deprecated and will be removed in a future version. To read from a literal string, wrap it in a 'StringIO' object.\n",
      "  home_players = pd.read_html(str(table))[0].drop(11)\n",
      "C:\\Users\\user\\AppData\\Local\\Temp\\ipykernel_24300\\2944083324.py:32: FutureWarning: Passing literal html to 'read_html' is deprecated and will be removed in a future version. To read from a literal string, wrap it in a 'StringIO' object.\n",
      "  away_players = pd.read_html(str(table2))[0].drop(11)\n"
     ]
    },
    {
     "name": "stdout",
     "output_type": "stream",
     "text": [
      "meio: 2.090060234069824\n",
      "fim: 2.1281042098999023\n",
      "/en/matches/4be07239/Crystal-Palace-Southampton-October-29-2022-Premier-League\n"
     ]
    },
    {
     "name": "stderr",
     "output_type": "stream",
     "text": [
      "C:\\Users\\user\\AppData\\Local\\Temp\\ipykernel_24300\\2944083324.py:31: FutureWarning: Passing literal html to 'read_html' is deprecated and will be removed in a future version. To read from a literal string, wrap it in a 'StringIO' object.\n",
      "  home_players = pd.read_html(str(table))[0].drop(11)\n",
      "C:\\Users\\user\\AppData\\Local\\Temp\\ipykernel_24300\\2944083324.py:32: FutureWarning: Passing literal html to 'read_html' is deprecated and will be removed in a future version. To read from a literal string, wrap it in a 'StringIO' object.\n",
      "  away_players = pd.read_html(str(table2))[0].drop(11)\n"
     ]
    },
    {
     "name": "stdout",
     "output_type": "stream",
     "text": [
      "meio: 1.994701862335205\n",
      "fim: 2.0319790840148926\n",
      "/en/matches/96f5ee84/Newcastle-United-Aston-Villa-October-29-2022-Premier-League\n"
     ]
    },
    {
     "name": "stderr",
     "output_type": "stream",
     "text": [
      "C:\\Users\\user\\AppData\\Local\\Temp\\ipykernel_24300\\2944083324.py:31: FutureWarning: Passing literal html to 'read_html' is deprecated and will be removed in a future version. To read from a literal string, wrap it in a 'StringIO' object.\n",
      "  home_players = pd.read_html(str(table))[0].drop(11)\n",
      "C:\\Users\\user\\AppData\\Local\\Temp\\ipykernel_24300\\2944083324.py:32: FutureWarning: Passing literal html to 'read_html' is deprecated and will be removed in a future version. To read from a literal string, wrap it in a 'StringIO' object.\n",
      "  away_players = pd.read_html(str(table2))[0].drop(11)\n"
     ]
    },
    {
     "name": "stdout",
     "output_type": "stream",
     "text": [
      "meio: 3.13411808013916\n",
      "fim: 3.172062873840332\n",
      "/en/matches/ac6abad1/Brighton-and-Hove-Albion-Chelsea-October-29-2022-Premier-League\n"
     ]
    },
    {
     "name": "stderr",
     "output_type": "stream",
     "text": [
      "C:\\Users\\user\\AppData\\Local\\Temp\\ipykernel_24300\\2944083324.py:31: FutureWarning: Passing literal html to 'read_html' is deprecated and will be removed in a future version. To read from a literal string, wrap it in a 'StringIO' object.\n",
      "  home_players = pd.read_html(str(table))[0].drop(11)\n",
      "C:\\Users\\user\\AppData\\Local\\Temp\\ipykernel_24300\\2944083324.py:32: FutureWarning: Passing literal html to 'read_html' is deprecated and will be removed in a future version. To read from a literal string, wrap it in a 'StringIO' object.\n",
      "  away_players = pd.read_html(str(table2))[0].drop(11)\n"
     ]
    },
    {
     "name": "stdout",
     "output_type": "stream",
     "text": [
      "meio: 2.7659785747528076\n",
      "fim: 2.80367374420166\n",
      "/en/matches/dcb3b971/Bournemouth-Tottenham-Hotspur-October-29-2022-Premier-League\n"
     ]
    },
    {
     "name": "stderr",
     "output_type": "stream",
     "text": [
      "C:\\Users\\user\\AppData\\Local\\Temp\\ipykernel_24300\\2944083324.py:31: FutureWarning: Passing literal html to 'read_html' is deprecated and will be removed in a future version. To read from a literal string, wrap it in a 'StringIO' object.\n",
      "  home_players = pd.read_html(str(table))[0].drop(11)\n",
      "C:\\Users\\user\\AppData\\Local\\Temp\\ipykernel_24300\\2944083324.py:32: FutureWarning: Passing literal html to 'read_html' is deprecated and will be removed in a future version. To read from a literal string, wrap it in a 'StringIO' object.\n",
      "  away_players = pd.read_html(str(table2))[0].drop(11)\n"
     ]
    },
    {
     "name": "stdout",
     "output_type": "stream",
     "text": [
      "meio: 2.593649387359619\n",
      "fim: 2.6293373107910156\n",
      "/en/matches/9c4402e1/Fulham-Everton-October-29-2022-Premier-League\n"
     ]
    },
    {
     "name": "stderr",
     "output_type": "stream",
     "text": [
      "C:\\Users\\user\\AppData\\Local\\Temp\\ipykernel_24300\\2944083324.py:31: FutureWarning: Passing literal html to 'read_html' is deprecated and will be removed in a future version. To read from a literal string, wrap it in a 'StringIO' object.\n",
      "  home_players = pd.read_html(str(table))[0].drop(11)\n",
      "C:\\Users\\user\\AppData\\Local\\Temp\\ipykernel_24300\\2944083324.py:32: FutureWarning: Passing literal html to 'read_html' is deprecated and will be removed in a future version. To read from a literal string, wrap it in a 'StringIO' object.\n",
      "  away_players = pd.read_html(str(table2))[0].drop(11)\n"
     ]
    },
    {
     "name": "stdout",
     "output_type": "stream",
     "text": [
      "meio: 2.384850263595581\n",
      "fim: 2.4195716381073\n",
      "/en/matches/b5b1e744/Liverpool-Leeds-United-October-29-2022-Premier-League\n"
     ]
    },
    {
     "name": "stderr",
     "output_type": "stream",
     "text": [
      "C:\\Users\\user\\AppData\\Local\\Temp\\ipykernel_24300\\2944083324.py:31: FutureWarning: Passing literal html to 'read_html' is deprecated and will be removed in a future version. To read from a literal string, wrap it in a 'StringIO' object.\n",
      "  home_players = pd.read_html(str(table))[0].drop(11)\n",
      "C:\\Users\\user\\AppData\\Local\\Temp\\ipykernel_24300\\2944083324.py:32: FutureWarning: Passing literal html to 'read_html' is deprecated and will be removed in a future version. To read from a literal string, wrap it in a 'StringIO' object.\n",
      "  away_players = pd.read_html(str(table2))[0].drop(11)\n"
     ]
    },
    {
     "name": "stdout",
     "output_type": "stream",
     "text": [
      "meio: 1.9694795608520508\n",
      "fim: 2.004166841506958\n",
      "/en/matches/1b496cc1/Arsenal-Nottingham-Forest-October-30-2022-Premier-League\n"
     ]
    },
    {
     "name": "stderr",
     "output_type": "stream",
     "text": [
      "C:\\Users\\user\\AppData\\Local\\Temp\\ipykernel_24300\\2944083324.py:31: FutureWarning: Passing literal html to 'read_html' is deprecated and will be removed in a future version. To read from a literal string, wrap it in a 'StringIO' object.\n",
      "  home_players = pd.read_html(str(table))[0].drop(11)\n",
      "C:\\Users\\user\\AppData\\Local\\Temp\\ipykernel_24300\\2944083324.py:32: FutureWarning: Passing literal html to 'read_html' is deprecated and will be removed in a future version. To read from a literal string, wrap it in a 'StringIO' object.\n",
      "  away_players = pd.read_html(str(table2))[0].drop(11)\n"
     ]
    },
    {
     "name": "stdout",
     "output_type": "stream",
     "text": [
      "meio: 2.256930112838745\n",
      "fim: 2.2931995391845703\n",
      "/en/matches/cd0f59f6/Manchester-United-West-Ham-United-October-30-2022-Premier-League\n"
     ]
    },
    {
     "name": "stderr",
     "output_type": "stream",
     "text": [
      "C:\\Users\\user\\AppData\\Local\\Temp\\ipykernel_24300\\2944083324.py:31: FutureWarning: Passing literal html to 'read_html' is deprecated and will be removed in a future version. To read from a literal string, wrap it in a 'StringIO' object.\n",
      "  home_players = pd.read_html(str(table))[0].drop(11)\n",
      "C:\\Users\\user\\AppData\\Local\\Temp\\ipykernel_24300\\2944083324.py:32: FutureWarning: Passing literal html to 'read_html' is deprecated and will be removed in a future version. To read from a literal string, wrap it in a 'StringIO' object.\n",
      "  away_players = pd.read_html(str(table2))[0].drop(11)\n"
     ]
    },
    {
     "name": "stdout",
     "output_type": "stream",
     "text": [
      "meio: 2.1228742599487305\n",
      "fim: 2.1607301235198975\n",
      "/en/matches/12251835/Nottingham-Forest-Brentford-November-5-2022-Premier-League\n"
     ]
    },
    {
     "name": "stderr",
     "output_type": "stream",
     "text": [
      "C:\\Users\\user\\AppData\\Local\\Temp\\ipykernel_24300\\2944083324.py:31: FutureWarning: Passing literal html to 'read_html' is deprecated and will be removed in a future version. To read from a literal string, wrap it in a 'StringIO' object.\n",
      "  home_players = pd.read_html(str(table))[0].drop(11)\n",
      "C:\\Users\\user\\AppData\\Local\\Temp\\ipykernel_24300\\2944083324.py:32: FutureWarning: Passing literal html to 'read_html' is deprecated and will be removed in a future version. To read from a literal string, wrap it in a 'StringIO' object.\n",
      "  away_players = pd.read_html(str(table2))[0].drop(11)\n"
     ]
    },
    {
     "name": "stdout",
     "output_type": "stream",
     "text": [
      "meio: 1.1394615173339844\n",
      "fim: 1.1831669807434082\n",
      "/en/matches/63975c3e/Leeds-United-Bournemouth-November-5-2022-Premier-League\n"
     ]
    },
    {
     "name": "stderr",
     "output_type": "stream",
     "text": [
      "C:\\Users\\user\\AppData\\Local\\Temp\\ipykernel_24300\\2944083324.py:31: FutureWarning: Passing literal html to 'read_html' is deprecated and will be removed in a future version. To read from a literal string, wrap it in a 'StringIO' object.\n",
      "  home_players = pd.read_html(str(table))[0].drop(11)\n",
      "C:\\Users\\user\\AppData\\Local\\Temp\\ipykernel_24300\\2944083324.py:32: FutureWarning: Passing literal html to 'read_html' is deprecated and will be removed in a future version. To read from a literal string, wrap it in a 'StringIO' object.\n",
      "  away_players = pd.read_html(str(table2))[0].drop(11)\n"
     ]
    },
    {
     "name": "stdout",
     "output_type": "stream",
     "text": [
      "meio: 2.220571517944336\n",
      "fim: 2.256833791732788\n",
      "/en/matches/6ef27b3c/Manchester-City-Fulham-November-5-2022-Premier-League\n"
     ]
    },
    {
     "name": "stderr",
     "output_type": "stream",
     "text": [
      "C:\\Users\\user\\AppData\\Local\\Temp\\ipykernel_24300\\2944083324.py:31: FutureWarning: Passing literal html to 'read_html' is deprecated and will be removed in a future version. To read from a literal string, wrap it in a 'StringIO' object.\n",
      "  home_players = pd.read_html(str(table))[0].drop(11)\n",
      "C:\\Users\\user\\AppData\\Local\\Temp\\ipykernel_24300\\2944083324.py:32: FutureWarning: Passing literal html to 'read_html' is deprecated and will be removed in a future version. To read from a literal string, wrap it in a 'StringIO' object.\n",
      "  away_players = pd.read_html(str(table2))[0].drop(11)\n"
     ]
    },
    {
     "name": "stdout",
     "output_type": "stream",
     "text": [
      "meio: 2.014798402786255\n",
      "fim: 2.050875663757324\n",
      "/en/matches/982d16a2/Wolverhampton-Wanderers-Brighton-and-Hove-Albion-November-5-2022-Premier-League\n"
     ]
    },
    {
     "name": "stderr",
     "output_type": "stream",
     "text": [
      "C:\\Users\\user\\AppData\\Local\\Temp\\ipykernel_24300\\2944083324.py:31: FutureWarning: Passing literal html to 'read_html' is deprecated and will be removed in a future version. To read from a literal string, wrap it in a 'StringIO' object.\n",
      "  home_players = pd.read_html(str(table))[0].drop(11)\n",
      "C:\\Users\\user\\AppData\\Local\\Temp\\ipykernel_24300\\2944083324.py:32: FutureWarning: Passing literal html to 'read_html' is deprecated and will be removed in a future version. To read from a literal string, wrap it in a 'StringIO' object.\n",
      "  away_players = pd.read_html(str(table2))[0].drop(11)\n"
     ]
    },
    {
     "name": "stdout",
     "output_type": "stream",
     "text": [
      "meio: 2.0607657432556152\n",
      "fim: 2.09637713432312\n",
      "/en/matches/831c73fc/Everton-Leicester-City-November-5-2022-Premier-League\n"
     ]
    },
    {
     "name": "stderr",
     "output_type": "stream",
     "text": [
      "C:\\Users\\user\\AppData\\Local\\Temp\\ipykernel_24300\\2944083324.py:31: FutureWarning: Passing literal html to 'read_html' is deprecated and will be removed in a future version. To read from a literal string, wrap it in a 'StringIO' object.\n",
      "  home_players = pd.read_html(str(table))[0].drop(11)\n",
      "C:\\Users\\user\\AppData\\Local\\Temp\\ipykernel_24300\\2944083324.py:32: FutureWarning: Passing literal html to 'read_html' is deprecated and will be removed in a future version. To read from a literal string, wrap it in a 'StringIO' object.\n",
      "  away_players = pd.read_html(str(table2))[0].drop(11)\n"
     ]
    },
    {
     "name": "stdout",
     "output_type": "stream",
     "text": [
      "meio: 2.1003689765930176\n",
      "fim: 2.138437509536743\n",
      "/en/matches/af9dc838/North-West-London-Derby-Chelsea-Arsenal-November-6-2022-Premier-League\n"
     ]
    },
    {
     "name": "stderr",
     "output_type": "stream",
     "text": [
      "C:\\Users\\user\\AppData\\Local\\Temp\\ipykernel_24300\\2944083324.py:31: FutureWarning: Passing literal html to 'read_html' is deprecated and will be removed in a future version. To read from a literal string, wrap it in a 'StringIO' object.\n",
      "  home_players = pd.read_html(str(table))[0].drop(11)\n",
      "C:\\Users\\user\\AppData\\Local\\Temp\\ipykernel_24300\\2944083324.py:32: FutureWarning: Passing literal html to 'read_html' is deprecated and will be removed in a future version. To read from a literal string, wrap it in a 'StringIO' object.\n",
      "  away_players = pd.read_html(str(table2))[0].drop(11)\n"
     ]
    },
    {
     "name": "stdout",
     "output_type": "stream",
     "text": [
      "meio: 2.3675997257232666\n",
      "fim: 2.4084129333496094\n",
      "/en/matches/2586fb04/West-Ham-United-Crystal-Palace-November-6-2022-Premier-League\n"
     ]
    },
    {
     "name": "stderr",
     "output_type": "stream",
     "text": [
      "C:\\Users\\user\\AppData\\Local\\Temp\\ipykernel_24300\\2944083324.py:31: FutureWarning: Passing literal html to 'read_html' is deprecated and will be removed in a future version. To read from a literal string, wrap it in a 'StringIO' object.\n",
      "  home_players = pd.read_html(str(table))[0].drop(11)\n",
      "C:\\Users\\user\\AppData\\Local\\Temp\\ipykernel_24300\\2944083324.py:32: FutureWarning: Passing literal html to 'read_html' is deprecated and will be removed in a future version. To read from a literal string, wrap it in a 'StringIO' object.\n",
      "  away_players = pd.read_html(str(table2))[0].drop(11)\n"
     ]
    },
    {
     "name": "stdout",
     "output_type": "stream",
     "text": [
      "meio: 2.1004104614257812\n",
      "fim: 2.1324353218078613\n",
      "/en/matches/57f9bcc9/Southampton-Newcastle-United-November-6-2022-Premier-League\n"
     ]
    },
    {
     "name": "stderr",
     "output_type": "stream",
     "text": [
      "C:\\Users\\user\\AppData\\Local\\Temp\\ipykernel_24300\\2944083324.py:31: FutureWarning: Passing literal html to 'read_html' is deprecated and will be removed in a future version. To read from a literal string, wrap it in a 'StringIO' object.\n",
      "  home_players = pd.read_html(str(table))[0].drop(11)\n",
      "C:\\Users\\user\\AppData\\Local\\Temp\\ipykernel_24300\\2944083324.py:32: FutureWarning: Passing literal html to 'read_html' is deprecated and will be removed in a future version. To read from a literal string, wrap it in a 'StringIO' object.\n",
      "  away_players = pd.read_html(str(table2))[0].drop(11)\n"
     ]
    },
    {
     "name": "stdout",
     "output_type": "stream",
     "text": [
      "meio: 2.711534023284912\n",
      "fim: 2.7493278980255127\n",
      "/en/matches/6638574f/Aston-Villa-Manchester-United-November-6-2022-Premier-League\n"
     ]
    },
    {
     "name": "stderr",
     "output_type": "stream",
     "text": [
      "C:\\Users\\user\\AppData\\Local\\Temp\\ipykernel_24300\\2944083324.py:31: FutureWarning: Passing literal html to 'read_html' is deprecated and will be removed in a future version. To read from a literal string, wrap it in a 'StringIO' object.\n",
      "  home_players = pd.read_html(str(table))[0].drop(11)\n",
      "C:\\Users\\user\\AppData\\Local\\Temp\\ipykernel_24300\\2944083324.py:32: FutureWarning: Passing literal html to 'read_html' is deprecated and will be removed in a future version. To read from a literal string, wrap it in a 'StringIO' object.\n",
      "  away_players = pd.read_html(str(table2))[0].drop(11)\n"
     ]
    },
    {
     "name": "stdout",
     "output_type": "stream",
     "text": [
      "meio: 2.7218191623687744\n",
      "fim: 2.7564570903778076\n",
      "/en/matches/2954504d/Tottenham-Hotspur-Liverpool-November-6-2022-Premier-League\n"
     ]
    },
    {
     "name": "stderr",
     "output_type": "stream",
     "text": [
      "C:\\Users\\user\\AppData\\Local\\Temp\\ipykernel_24300\\2944083324.py:31: FutureWarning: Passing literal html to 'read_html' is deprecated and will be removed in a future version. To read from a literal string, wrap it in a 'StringIO' object.\n",
      "  home_players = pd.read_html(str(table))[0].drop(11)\n",
      "C:\\Users\\user\\AppData\\Local\\Temp\\ipykernel_24300\\2944083324.py:32: FutureWarning: Passing literal html to 'read_html' is deprecated and will be removed in a future version. To read from a literal string, wrap it in a 'StringIO' object.\n",
      "  away_players = pd.read_html(str(table2))[0].drop(11)\n"
     ]
    },
    {
     "name": "stdout",
     "output_type": "stream",
     "text": [
      "meio: 2.2880396842956543\n",
      "fim: 2.3218636512756348\n",
      "/en/matches/28b60c1b/Manchester-City-Brentford-November-12-2022-Premier-League\n"
     ]
    },
    {
     "name": "stderr",
     "output_type": "stream",
     "text": [
      "C:\\Users\\user\\AppData\\Local\\Temp\\ipykernel_24300\\2944083324.py:31: FutureWarning: Passing literal html to 'read_html' is deprecated and will be removed in a future version. To read from a literal string, wrap it in a 'StringIO' object.\n",
      "  home_players = pd.read_html(str(table))[0].drop(11)\n",
      "C:\\Users\\user\\AppData\\Local\\Temp\\ipykernel_24300\\2944083324.py:32: FutureWarning: Passing literal html to 'read_html' is deprecated and will be removed in a future version. To read from a literal string, wrap it in a 'StringIO' object.\n",
      "  away_players = pd.read_html(str(table2))[0].drop(11)\n"
     ]
    },
    {
     "name": "stdout",
     "output_type": "stream",
     "text": [
      "meio: 1.362222671508789\n",
      "fim: 1.4118139743804932\n",
      "/en/matches/0030e686/Tottenham-Hotspur-Leeds-United-November-12-2022-Premier-League\n"
     ]
    },
    {
     "name": "stderr",
     "output_type": "stream",
     "text": [
      "C:\\Users\\user\\AppData\\Local\\Temp\\ipykernel_24300\\2944083324.py:31: FutureWarning: Passing literal html to 'read_html' is deprecated and will be removed in a future version. To read from a literal string, wrap it in a 'StringIO' object.\n",
      "  home_players = pd.read_html(str(table))[0].drop(11)\n",
      "C:\\Users\\user\\AppData\\Local\\Temp\\ipykernel_24300\\2944083324.py:32: FutureWarning: Passing literal html to 'read_html' is deprecated and will be removed in a future version. To read from a literal string, wrap it in a 'StringIO' object.\n",
      "  away_players = pd.read_html(str(table2))[0].drop(11)\n"
     ]
    },
    {
     "name": "stdout",
     "output_type": "stream",
     "text": [
      "meio: 3.152480125427246\n",
      "fim: 3.1894140243530273\n",
      "/en/matches/1579d34b/Liverpool-Southampton-November-12-2022-Premier-League\n"
     ]
    },
    {
     "name": "stderr",
     "output_type": "stream",
     "text": [
      "C:\\Users\\user\\AppData\\Local\\Temp\\ipykernel_24300\\2944083324.py:31: FutureWarning: Passing literal html to 'read_html' is deprecated and will be removed in a future version. To read from a literal string, wrap it in a 'StringIO' object.\n",
      "  home_players = pd.read_html(str(table))[0].drop(11)\n",
      "C:\\Users\\user\\AppData\\Local\\Temp\\ipykernel_24300\\2944083324.py:32: FutureWarning: Passing literal html to 'read_html' is deprecated and will be removed in a future version. To read from a literal string, wrap it in a 'StringIO' object.\n",
      "  away_players = pd.read_html(str(table2))[0].drop(11)\n"
     ]
    },
    {
     "name": "stdout",
     "output_type": "stream",
     "text": [
      "meio: 2.805504560470581\n",
      "fim: 2.843151330947876\n",
      "/en/matches/54f23f03/Bournemouth-Everton-November-12-2022-Premier-League\n"
     ]
    },
    {
     "name": "stderr",
     "output_type": "stream",
     "text": [
      "C:\\Users\\user\\AppData\\Local\\Temp\\ipykernel_24300\\2944083324.py:31: FutureWarning: Passing literal html to 'read_html' is deprecated and will be removed in a future version. To read from a literal string, wrap it in a 'StringIO' object.\n",
      "  home_players = pd.read_html(str(table))[0].drop(11)\n",
      "C:\\Users\\user\\AppData\\Local\\Temp\\ipykernel_24300\\2944083324.py:32: FutureWarning: Passing literal html to 'read_html' is deprecated and will be removed in a future version. To read from a literal string, wrap it in a 'StringIO' object.\n",
      "  away_players = pd.read_html(str(table2))[0].drop(11)\n"
     ]
    },
    {
     "name": "stdout",
     "output_type": "stream",
     "text": [
      "meio: 2.0098507404327393\n",
      "fim: 2.04695463180542\n",
      "/en/matches/6e89557a/West-Ham-United-Leicester-City-November-12-2022-Premier-League\n"
     ]
    },
    {
     "name": "stderr",
     "output_type": "stream",
     "text": [
      "C:\\Users\\user\\AppData\\Local\\Temp\\ipykernel_24300\\2944083324.py:31: FutureWarning: Passing literal html to 'read_html' is deprecated and will be removed in a future version. To read from a literal string, wrap it in a 'StringIO' object.\n",
      "  home_players = pd.read_html(str(table))[0].drop(11)\n",
      "C:\\Users\\user\\AppData\\Local\\Temp\\ipykernel_24300\\2944083324.py:32: FutureWarning: Passing literal html to 'read_html' is deprecated and will be removed in a future version. To read from a literal string, wrap it in a 'StringIO' object.\n",
      "  away_players = pd.read_html(str(table2))[0].drop(11)\n"
     ]
    },
    {
     "name": "stdout",
     "output_type": "stream",
     "text": [
      "meio: 2.388765573501587\n",
      "fim: 2.427593231201172\n",
      "/en/matches/ee827a60/Nottingham-Forest-Crystal-Palace-November-12-2022-Premier-League\n"
     ]
    },
    {
     "name": "stderr",
     "output_type": "stream",
     "text": [
      "C:\\Users\\user\\AppData\\Local\\Temp\\ipykernel_24300\\2944083324.py:31: FutureWarning: Passing literal html to 'read_html' is deprecated and will be removed in a future version. To read from a literal string, wrap it in a 'StringIO' object.\n",
      "  home_players = pd.read_html(str(table))[0].drop(11)\n",
      "C:\\Users\\user\\AppData\\Local\\Temp\\ipykernel_24300\\2944083324.py:32: FutureWarning: Passing literal html to 'read_html' is deprecated and will be removed in a future version. To read from a literal string, wrap it in a 'StringIO' object.\n",
      "  away_players = pd.read_html(str(table2))[0].drop(11)\n"
     ]
    },
    {
     "name": "stdout",
     "output_type": "stream",
     "text": [
      "meio: 2.30806040763855\n",
      "fim: 2.3427734375\n",
      "/en/matches/e1b3eb1b/Newcastle-United-Chelsea-November-12-2022-Premier-League\n"
     ]
    },
    {
     "name": "stderr",
     "output_type": "stream",
     "text": [
      "C:\\Users\\user\\AppData\\Local\\Temp\\ipykernel_24300\\2944083324.py:31: FutureWarning: Passing literal html to 'read_html' is deprecated and will be removed in a future version. To read from a literal string, wrap it in a 'StringIO' object.\n",
      "  home_players = pd.read_html(str(table))[0].drop(11)\n",
      "C:\\Users\\user\\AppData\\Local\\Temp\\ipykernel_24300\\2944083324.py:32: FutureWarning: Passing literal html to 'read_html' is deprecated and will be removed in a future version. To read from a literal string, wrap it in a 'StringIO' object.\n",
      "  away_players = pd.read_html(str(table2))[0].drop(11)\n"
     ]
    },
    {
     "name": "stdout",
     "output_type": "stream",
     "text": [
      "meio: 2.0955066680908203\n",
      "fim: 2.1307902336120605\n",
      "/en/matches/863d7a8f/Wolverhampton-Wanderers-Arsenal-November-12-2022-Premier-League\n"
     ]
    },
    {
     "name": "stderr",
     "output_type": "stream",
     "text": [
      "C:\\Users\\user\\AppData\\Local\\Temp\\ipykernel_24300\\2944083324.py:31: FutureWarning: Passing literal html to 'read_html' is deprecated and will be removed in a future version. To read from a literal string, wrap it in a 'StringIO' object.\n",
      "  home_players = pd.read_html(str(table))[0].drop(11)\n",
      "C:\\Users\\user\\AppData\\Local\\Temp\\ipykernel_24300\\2944083324.py:32: FutureWarning: Passing literal html to 'read_html' is deprecated and will be removed in a future version. To read from a literal string, wrap it in a 'StringIO' object.\n",
      "  away_players = pd.read_html(str(table2))[0].drop(11)\n"
     ]
    },
    {
     "name": "stdout",
     "output_type": "stream",
     "text": [
      "meio: 2.4947903156280518\n",
      "fim: 2.53383207321167\n",
      "/en/matches/a7031cbd/Brighton-and-Hove-Albion-Aston-Villa-November-13-2022-Premier-League\n"
     ]
    },
    {
     "name": "stderr",
     "output_type": "stream",
     "text": [
      "C:\\Users\\user\\AppData\\Local\\Temp\\ipykernel_24300\\2944083324.py:31: FutureWarning: Passing literal html to 'read_html' is deprecated and will be removed in a future version. To read from a literal string, wrap it in a 'StringIO' object.\n",
      "  home_players = pd.read_html(str(table))[0].drop(11)\n",
      "C:\\Users\\user\\AppData\\Local\\Temp\\ipykernel_24300\\2944083324.py:32: FutureWarning: Passing literal html to 'read_html' is deprecated and will be removed in a future version. To read from a literal string, wrap it in a 'StringIO' object.\n",
      "  away_players = pd.read_html(str(table2))[0].drop(11)\n"
     ]
    },
    {
     "name": "stdout",
     "output_type": "stream",
     "text": [
      "meio: 2.4526844024658203\n",
      "fim: 2.492957830429077\n",
      "/en/matches/af75b6b0/Fulham-Manchester-United-November-13-2022-Premier-League\n"
     ]
    },
    {
     "name": "stderr",
     "output_type": "stream",
     "text": [
      "C:\\Users\\user\\AppData\\Local\\Temp\\ipykernel_24300\\2944083324.py:31: FutureWarning: Passing literal html to 'read_html' is deprecated and will be removed in a future version. To read from a literal string, wrap it in a 'StringIO' object.\n",
      "  home_players = pd.read_html(str(table))[0].drop(11)\n",
      "C:\\Users\\user\\AppData\\Local\\Temp\\ipykernel_24300\\2944083324.py:32: FutureWarning: Passing literal html to 'read_html' is deprecated and will be removed in a future version. To read from a literal string, wrap it in a 'StringIO' object.\n",
      "  away_players = pd.read_html(str(table2))[0].drop(11)\n"
     ]
    },
    {
     "name": "stdout",
     "output_type": "stream",
     "text": [
      "meio: 1.9928922653198242\n",
      "fim: 2.029038190841675\n",
      "/en/matches/14e4f648/Brentford-Tottenham-Hotspur-December-26-2022-Premier-League\n"
     ]
    },
    {
     "name": "stderr",
     "output_type": "stream",
     "text": [
      "C:\\Users\\user\\AppData\\Local\\Temp\\ipykernel_24300\\2944083324.py:31: FutureWarning: Passing literal html to 'read_html' is deprecated and will be removed in a future version. To read from a literal string, wrap it in a 'StringIO' object.\n",
      "  home_players = pd.read_html(str(table))[0].drop(11)\n",
      "C:\\Users\\user\\AppData\\Local\\Temp\\ipykernel_24300\\2944083324.py:32: FutureWarning: Passing literal html to 'read_html' is deprecated and will be removed in a future version. To read from a literal string, wrap it in a 'StringIO' object.\n",
      "  away_players = pd.read_html(str(table2))[0].drop(11)\n"
     ]
    },
    {
     "name": "stdout",
     "output_type": "stream",
     "text": [
      "meio: 1.3166942596435547\n",
      "fim: 1.3515963554382324\n",
      "/en/matches/3527c390/Southampton-Brighton-and-Hove-Albion-December-26-2022-Premier-League\n"
     ]
    },
    {
     "name": "stderr",
     "output_type": "stream",
     "text": [
      "C:\\Users\\user\\AppData\\Local\\Temp\\ipykernel_24300\\2944083324.py:31: FutureWarning: Passing literal html to 'read_html' is deprecated and will be removed in a future version. To read from a literal string, wrap it in a 'StringIO' object.\n",
      "  home_players = pd.read_html(str(table))[0].drop(11)\n",
      "C:\\Users\\user\\AppData\\Local\\Temp\\ipykernel_24300\\2944083324.py:32: FutureWarning: Passing literal html to 'read_html' is deprecated and will be removed in a future version. To read from a literal string, wrap it in a 'StringIO' object.\n",
      "  away_players = pd.read_html(str(table2))[0].drop(11)\n"
     ]
    },
    {
     "name": "stdout",
     "output_type": "stream",
     "text": [
      "meio: 2.216456651687622\n",
      "fim: 2.4048659801483154\n",
      "/en/matches/8e186153/Leicester-City-Newcastle-United-December-26-2022-Premier-League\n"
     ]
    },
    {
     "name": "stderr",
     "output_type": "stream",
     "text": [
      "C:\\Users\\user\\AppData\\Local\\Temp\\ipykernel_24300\\2944083324.py:31: FutureWarning: Passing literal html to 'read_html' is deprecated and will be removed in a future version. To read from a literal string, wrap it in a 'StringIO' object.\n",
      "  home_players = pd.read_html(str(table))[0].drop(11)\n",
      "C:\\Users\\user\\AppData\\Local\\Temp\\ipykernel_24300\\2944083324.py:32: FutureWarning: Passing literal html to 'read_html' is deprecated and will be removed in a future version. To read from a literal string, wrap it in a 'StringIO' object.\n",
      "  away_players = pd.read_html(str(table2))[0].drop(11)\n"
     ]
    },
    {
     "name": "stdout",
     "output_type": "stream",
     "text": [
      "meio: 1.9049084186553955\n",
      "fim: 1.9452502727508545\n",
      "/en/matches/bbb301a6/Crystal-Palace-Fulham-December-26-2022-Premier-League\n"
     ]
    },
    {
     "name": "stderr",
     "output_type": "stream",
     "text": [
      "C:\\Users\\user\\AppData\\Local\\Temp\\ipykernel_24300\\2944083324.py:31: FutureWarning: Passing literal html to 'read_html' is deprecated and will be removed in a future version. To read from a literal string, wrap it in a 'StringIO' object.\n",
      "  home_players = pd.read_html(str(table))[0].drop(11)\n",
      "C:\\Users\\user\\AppData\\Local\\Temp\\ipykernel_24300\\2944083324.py:32: FutureWarning: Passing literal html to 'read_html' is deprecated and will be removed in a future version. To read from a literal string, wrap it in a 'StringIO' object.\n",
      "  away_players = pd.read_html(str(table2))[0].drop(11)\n"
     ]
    },
    {
     "name": "stdout",
     "output_type": "stream",
     "text": [
      "meio: 2.5855209827423096\n",
      "fim: 2.6530494689941406\n",
      "/en/matches/ef424180/Everton-Wolverhampton-Wanderers-December-26-2022-Premier-League\n"
     ]
    },
    {
     "name": "stderr",
     "output_type": "stream",
     "text": [
      "C:\\Users\\user\\AppData\\Local\\Temp\\ipykernel_24300\\2944083324.py:31: FutureWarning: Passing literal html to 'read_html' is deprecated and will be removed in a future version. To read from a literal string, wrap it in a 'StringIO' object.\n",
      "  home_players = pd.read_html(str(table))[0].drop(11)\n",
      "C:\\Users\\user\\AppData\\Local\\Temp\\ipykernel_24300\\2944083324.py:32: FutureWarning: Passing literal html to 'read_html' is deprecated and will be removed in a future version. To read from a literal string, wrap it in a 'StringIO' object.\n",
      "  away_players = pd.read_html(str(table2))[0].drop(11)\n"
     ]
    },
    {
     "name": "stdout",
     "output_type": "stream",
     "text": [
      "meio: 2.1284563541412354\n",
      "fim: 2.163707733154297\n",
      "/en/matches/ab7d4465/Aston-Villa-Liverpool-December-26-2022-Premier-League\n"
     ]
    },
    {
     "name": "stderr",
     "output_type": "stream",
     "text": [
      "C:\\Users\\user\\AppData\\Local\\Temp\\ipykernel_24300\\2944083324.py:31: FutureWarning: Passing literal html to 'read_html' is deprecated and will be removed in a future version. To read from a literal string, wrap it in a 'StringIO' object.\n",
      "  home_players = pd.read_html(str(table))[0].drop(11)\n",
      "C:\\Users\\user\\AppData\\Local\\Temp\\ipykernel_24300\\2944083324.py:32: FutureWarning: Passing literal html to 'read_html' is deprecated and will be removed in a future version. To read from a literal string, wrap it in a 'StringIO' object.\n",
      "  away_players = pd.read_html(str(table2))[0].drop(11)\n"
     ]
    },
    {
     "name": "stdout",
     "output_type": "stream",
     "text": [
      "meio: 1.948169231414795\n",
      "fim: 1.9833476543426514\n",
      "/en/matches/3be32b8b/Arsenal-West-Ham-United-December-26-2022-Premier-League\n"
     ]
    },
    {
     "name": "stderr",
     "output_type": "stream",
     "text": [
      "C:\\Users\\user\\AppData\\Local\\Temp\\ipykernel_24300\\2944083324.py:31: FutureWarning: Passing literal html to 'read_html' is deprecated and will be removed in a future version. To read from a literal string, wrap it in a 'StringIO' object.\n",
      "  home_players = pd.read_html(str(table))[0].drop(11)\n",
      "C:\\Users\\user\\AppData\\Local\\Temp\\ipykernel_24300\\2944083324.py:32: FutureWarning: Passing literal html to 'read_html' is deprecated and will be removed in a future version. To read from a literal string, wrap it in a 'StringIO' object.\n",
      "  away_players = pd.read_html(str(table2))[0].drop(11)\n"
     ]
    },
    {
     "name": "stdout",
     "output_type": "stream",
     "text": [
      "meio: 2.13840913772583\n",
      "fim: 2.172731876373291\n",
      "/en/matches/d55b9033/Chelsea-Bournemouth-December-27-2022-Premier-League\n"
     ]
    },
    {
     "name": "stderr",
     "output_type": "stream",
     "text": [
      "C:\\Users\\user\\AppData\\Local\\Temp\\ipykernel_24300\\2944083324.py:31: FutureWarning: Passing literal html to 'read_html' is deprecated and will be removed in a future version. To read from a literal string, wrap it in a 'StringIO' object.\n",
      "  home_players = pd.read_html(str(table))[0].drop(11)\n",
      "C:\\Users\\user\\AppData\\Local\\Temp\\ipykernel_24300\\2944083324.py:32: FutureWarning: Passing literal html to 'read_html' is deprecated and will be removed in a future version. To read from a literal string, wrap it in a 'StringIO' object.\n",
      "  away_players = pd.read_html(str(table2))[0].drop(11)\n"
     ]
    },
    {
     "name": "stdout",
     "output_type": "stream",
     "text": [
      "meio: 2.598651170730591\n",
      "fim: 2.6322107315063477\n",
      "/en/matches/b860f634/Manchester-United-Nottingham-Forest-December-27-2022-Premier-League\n"
     ]
    },
    {
     "name": "stderr",
     "output_type": "stream",
     "text": [
      "C:\\Users\\user\\AppData\\Local\\Temp\\ipykernel_24300\\2944083324.py:31: FutureWarning: Passing literal html to 'read_html' is deprecated and will be removed in a future version. To read from a literal string, wrap it in a 'StringIO' object.\n",
      "  home_players = pd.read_html(str(table))[0].drop(11)\n",
      "C:\\Users\\user\\AppData\\Local\\Temp\\ipykernel_24300\\2944083324.py:32: FutureWarning: Passing literal html to 'read_html' is deprecated and will be removed in a future version. To read from a literal string, wrap it in a 'StringIO' object.\n",
      "  away_players = pd.read_html(str(table2))[0].drop(11)\n"
     ]
    },
    {
     "name": "stdout",
     "output_type": "stream",
     "text": [
      "meio: 2.334603786468506\n",
      "fim: 2.372649669647217\n",
      "/en/matches/a85ef749/Leeds-United-Manchester-City-December-28-2022-Premier-League\n"
     ]
    },
    {
     "name": "stderr",
     "output_type": "stream",
     "text": [
      "C:\\Users\\user\\AppData\\Local\\Temp\\ipykernel_24300\\2944083324.py:31: FutureWarning: Passing literal html to 'read_html' is deprecated and will be removed in a future version. To read from a literal string, wrap it in a 'StringIO' object.\n",
      "  home_players = pd.read_html(str(table))[0].drop(11)\n",
      "C:\\Users\\user\\AppData\\Local\\Temp\\ipykernel_24300\\2944083324.py:32: FutureWarning: Passing literal html to 'read_html' is deprecated and will be removed in a future version. To read from a literal string, wrap it in a 'StringIO' object.\n",
      "  away_players = pd.read_html(str(table2))[0].drop(11)\n"
     ]
    },
    {
     "name": "stdout",
     "output_type": "stream",
     "text": [
      "meio: 2.698310136795044\n",
      "fim: 2.739959239959717\n",
      "/en/matches/56acbbbe/West-Ham-United-Brentford-December-30-2022-Premier-League\n"
     ]
    },
    {
     "name": "stderr",
     "output_type": "stream",
     "text": [
      "C:\\Users\\user\\AppData\\Local\\Temp\\ipykernel_24300\\2944083324.py:31: FutureWarning: Passing literal html to 'read_html' is deprecated and will be removed in a future version. To read from a literal string, wrap it in a 'StringIO' object.\n",
      "  home_players = pd.read_html(str(table))[0].drop(11)\n",
      "C:\\Users\\user\\AppData\\Local\\Temp\\ipykernel_24300\\2944083324.py:32: FutureWarning: Passing literal html to 'read_html' is deprecated and will be removed in a future version. To read from a literal string, wrap it in a 'StringIO' object.\n",
      "  away_players = pd.read_html(str(table2))[0].drop(11)\n"
     ]
    },
    {
     "name": "stdout",
     "output_type": "stream",
     "text": [
      "meio: 1.3635342121124268\n",
      "fim: 1.3972625732421875\n",
      "/en/matches/c5e4ccf5/Liverpool-Leicester-City-December-30-2022-Premier-League\n"
     ]
    },
    {
     "name": "stderr",
     "output_type": "stream",
     "text": [
      "C:\\Users\\user\\AppData\\Local\\Temp\\ipykernel_24300\\2944083324.py:31: FutureWarning: Passing literal html to 'read_html' is deprecated and will be removed in a future version. To read from a literal string, wrap it in a 'StringIO' object.\n",
      "  home_players = pd.read_html(str(table))[0].drop(11)\n",
      "C:\\Users\\user\\AppData\\Local\\Temp\\ipykernel_24300\\2944083324.py:32: FutureWarning: Passing literal html to 'read_html' is deprecated and will be removed in a future version. To read from a literal string, wrap it in a 'StringIO' object.\n",
      "  away_players = pd.read_html(str(table2))[0].drop(11)\n"
     ]
    },
    {
     "name": "stdout",
     "output_type": "stream",
     "text": [
      "meio: 2.3514277935028076\n",
      "fim: 2.3906993865966797\n",
      "/en/matches/8ef80305/Wolverhampton-Wanderers-Manchester-United-December-31-2022-Premier-League\n"
     ]
    },
    {
     "name": "stderr",
     "output_type": "stream",
     "text": [
      "C:\\Users\\user\\AppData\\Local\\Temp\\ipykernel_24300\\2944083324.py:31: FutureWarning: Passing literal html to 'read_html' is deprecated and will be removed in a future version. To read from a literal string, wrap it in a 'StringIO' object.\n",
      "  home_players = pd.read_html(str(table))[0].drop(11)\n",
      "C:\\Users\\user\\AppData\\Local\\Temp\\ipykernel_24300\\2944083324.py:32: FutureWarning: Passing literal html to 'read_html' is deprecated and will be removed in a future version. To read from a literal string, wrap it in a 'StringIO' object.\n",
      "  away_players = pd.read_html(str(table2))[0].drop(11)\n"
     ]
    },
    {
     "name": "stdout",
     "output_type": "stream",
     "text": [
      "meio: 2.141603469848633\n",
      "fim: 2.1786937713623047\n",
      "/en/matches/0facecde/Newcastle-United-Leeds-United-December-31-2022-Premier-League\n"
     ]
    },
    {
     "name": "stderr",
     "output_type": "stream",
     "text": [
      "C:\\Users\\user\\AppData\\Local\\Temp\\ipykernel_24300\\2944083324.py:31: FutureWarning: Passing literal html to 'read_html' is deprecated and will be removed in a future version. To read from a literal string, wrap it in a 'StringIO' object.\n",
      "  home_players = pd.read_html(str(table))[0].drop(11)\n",
      "C:\\Users\\user\\AppData\\Local\\Temp\\ipykernel_24300\\2944083324.py:32: FutureWarning: Passing literal html to 'read_html' is deprecated and will be removed in a future version. To read from a literal string, wrap it in a 'StringIO' object.\n",
      "  away_players = pd.read_html(str(table2))[0].drop(11)\n"
     ]
    },
    {
     "name": "stdout",
     "output_type": "stream",
     "text": [
      "meio: 2.5431954860687256\n",
      "fim: 2.5788402557373047\n",
      "/en/matches/a15bf99e/Fulham-Southampton-December-31-2022-Premier-League\n"
     ]
    },
    {
     "name": "stderr",
     "output_type": "stream",
     "text": [
      "C:\\Users\\user\\AppData\\Local\\Temp\\ipykernel_24300\\2944083324.py:31: FutureWarning: Passing literal html to 'read_html' is deprecated and will be removed in a future version. To read from a literal string, wrap it in a 'StringIO' object.\n",
      "  home_players = pd.read_html(str(table))[0].drop(11)\n",
      "C:\\Users\\user\\AppData\\Local\\Temp\\ipykernel_24300\\2944083324.py:32: FutureWarning: Passing literal html to 'read_html' is deprecated and will be removed in a future version. To read from a literal string, wrap it in a 'StringIO' object.\n",
      "  away_players = pd.read_html(str(table2))[0].drop(11)\n"
     ]
    },
    {
     "name": "stdout",
     "output_type": "stream",
     "text": [
      "meio: 1.9330334663391113\n",
      "fim: 1.9672670364379883\n",
      "/en/matches/bcfb66ff/Manchester-City-Everton-December-31-2022-Premier-League\n"
     ]
    },
    {
     "name": "stderr",
     "output_type": "stream",
     "text": [
      "C:\\Users\\user\\AppData\\Local\\Temp\\ipykernel_24300\\2944083324.py:31: FutureWarning: Passing literal html to 'read_html' is deprecated and will be removed in a future version. To read from a literal string, wrap it in a 'StringIO' object.\n",
      "  home_players = pd.read_html(str(table))[0].drop(11)\n",
      "C:\\Users\\user\\AppData\\Local\\Temp\\ipykernel_24300\\2944083324.py:32: FutureWarning: Passing literal html to 'read_html' is deprecated and will be removed in a future version. To read from a literal string, wrap it in a 'StringIO' object.\n",
      "  away_players = pd.read_html(str(table2))[0].drop(11)\n"
     ]
    },
    {
     "name": "stdout",
     "output_type": "stream",
     "text": [
      "meio: 1.962028980255127\n",
      "fim: 1.9971890449523926\n",
      "/en/matches/dab2ed3a/Bournemouth-Crystal-Palace-December-31-2022-Premier-League\n"
     ]
    },
    {
     "name": "stderr",
     "output_type": "stream",
     "text": [
      "C:\\Users\\user\\AppData\\Local\\Temp\\ipykernel_24300\\2944083324.py:31: FutureWarning: Passing literal html to 'read_html' is deprecated and will be removed in a future version. To read from a literal string, wrap it in a 'StringIO' object.\n",
      "  home_players = pd.read_html(str(table))[0].drop(11)\n",
      "C:\\Users\\user\\AppData\\Local\\Temp\\ipykernel_24300\\2944083324.py:32: FutureWarning: Passing literal html to 'read_html' is deprecated and will be removed in a future version. To read from a literal string, wrap it in a 'StringIO' object.\n",
      "  away_players = pd.read_html(str(table2))[0].drop(11)\n"
     ]
    },
    {
     "name": "stdout",
     "output_type": "stream",
     "text": [
      "meio: 2.139268398284912\n",
      "fim: 2.175633430480957\n",
      "/en/matches/dd50a429/Brighton-and-Hove-Albion-Arsenal-December-31-2022-Premier-League\n"
     ]
    },
    {
     "name": "stderr",
     "output_type": "stream",
     "text": [
      "C:\\Users\\user\\AppData\\Local\\Temp\\ipykernel_24300\\2944083324.py:31: FutureWarning: Passing literal html to 'read_html' is deprecated and will be removed in a future version. To read from a literal string, wrap it in a 'StringIO' object.\n",
      "  home_players = pd.read_html(str(table))[0].drop(11)\n",
      "C:\\Users\\user\\AppData\\Local\\Temp\\ipykernel_24300\\2944083324.py:32: FutureWarning: Passing literal html to 'read_html' is deprecated and will be removed in a future version. To read from a literal string, wrap it in a 'StringIO' object.\n",
      "  away_players = pd.read_html(str(table2))[0].drop(11)\n"
     ]
    },
    {
     "name": "stdout",
     "output_type": "stream",
     "text": [
      "meio: 1.9209370613098145\n",
      "fim: 1.9571337699890137\n",
      "/en/matches/63e8eaf8/Tottenham-Hotspur-Aston-Villa-January-1-2023-Premier-League\n"
     ]
    },
    {
     "name": "stderr",
     "output_type": "stream",
     "text": [
      "C:\\Users\\user\\AppData\\Local\\Temp\\ipykernel_24300\\2944083324.py:31: FutureWarning: Passing literal html to 'read_html' is deprecated and will be removed in a future version. To read from a literal string, wrap it in a 'StringIO' object.\n",
      "  home_players = pd.read_html(str(table))[0].drop(11)\n",
      "C:\\Users\\user\\AppData\\Local\\Temp\\ipykernel_24300\\2944083324.py:32: FutureWarning: Passing literal html to 'read_html' is deprecated and will be removed in a future version. To read from a literal string, wrap it in a 'StringIO' object.\n",
      "  away_players = pd.read_html(str(table2))[0].drop(11)\n"
     ]
    },
    {
     "name": "stdout",
     "output_type": "stream",
     "text": [
      "meio: 2.2449707984924316\n",
      "fim: 2.282158374786377\n",
      "/en/matches/c31cf944/Nottingham-Forest-Chelsea-January-1-2023-Premier-League\n"
     ]
    },
    {
     "name": "stderr",
     "output_type": "stream",
     "text": [
      "C:\\Users\\user\\AppData\\Local\\Temp\\ipykernel_24300\\2944083324.py:31: FutureWarning: Passing literal html to 'read_html' is deprecated and will be removed in a future version. To read from a literal string, wrap it in a 'StringIO' object.\n",
      "  home_players = pd.read_html(str(table))[0].drop(11)\n",
      "C:\\Users\\user\\AppData\\Local\\Temp\\ipykernel_24300\\2944083324.py:32: FutureWarning: Passing literal html to 'read_html' is deprecated and will be removed in a future version. To read from a literal string, wrap it in a 'StringIO' object.\n",
      "  away_players = pd.read_html(str(table2))[0].drop(11)\n"
     ]
    },
    {
     "name": "stdout",
     "output_type": "stream",
     "text": [
      "meio: 2.107450246810913\n",
      "fim: 2.141676902770996\n",
      "/en/matches/af6aa183/Brentford-Liverpool-January-2-2023-Premier-League\n"
     ]
    },
    {
     "name": "stderr",
     "output_type": "stream",
     "text": [
      "C:\\Users\\user\\AppData\\Local\\Temp\\ipykernel_24300\\2944083324.py:31: FutureWarning: Passing literal html to 'read_html' is deprecated and will be removed in a future version. To read from a literal string, wrap it in a 'StringIO' object.\n",
      "  home_players = pd.read_html(str(table))[0].drop(11)\n",
      "C:\\Users\\user\\AppData\\Local\\Temp\\ipykernel_24300\\2944083324.py:32: FutureWarning: Passing literal html to 'read_html' is deprecated and will be removed in a future version. To read from a literal string, wrap it in a 'StringIO' object.\n",
      "  away_players = pd.read_html(str(table2))[0].drop(11)\n"
     ]
    },
    {
     "name": "stdout",
     "output_type": "stream",
     "text": [
      "meio: 1.1170463562011719\n",
      "fim: 1.1520123481750488\n",
      "/en/matches/12e0894b/Leicester-City-Fulham-January-3-2023-Premier-League\n"
     ]
    },
    {
     "name": "stderr",
     "output_type": "stream",
     "text": [
      "C:\\Users\\user\\AppData\\Local\\Temp\\ipykernel_24300\\2944083324.py:31: FutureWarning: Passing literal html to 'read_html' is deprecated and will be removed in a future version. To read from a literal string, wrap it in a 'StringIO' object.\n",
      "  home_players = pd.read_html(str(table))[0].drop(11)\n",
      "C:\\Users\\user\\AppData\\Local\\Temp\\ipykernel_24300\\2944083324.py:32: FutureWarning: Passing literal html to 'read_html' is deprecated and will be removed in a future version. To read from a literal string, wrap it in a 'StringIO' object.\n",
      "  away_players = pd.read_html(str(table2))[0].drop(11)\n"
     ]
    },
    {
     "name": "stdout",
     "output_type": "stream",
     "text": [
      "meio: 2.1934120655059814\n",
      "fim: 2.227996349334717\n",
      "/en/matches/c62d7632/Everton-Brighton-and-Hove-Albion-January-3-2023-Premier-League\n"
     ]
    },
    {
     "name": "stderr",
     "output_type": "stream",
     "text": [
      "C:\\Users\\user\\AppData\\Local\\Temp\\ipykernel_24300\\2944083324.py:31: FutureWarning: Passing literal html to 'read_html' is deprecated and will be removed in a future version. To read from a literal string, wrap it in a 'StringIO' object.\n",
      "  home_players = pd.read_html(str(table))[0].drop(11)\n",
      "C:\\Users\\user\\AppData\\Local\\Temp\\ipykernel_24300\\2944083324.py:32: FutureWarning: Passing literal html to 'read_html' is deprecated and will be removed in a future version. To read from a literal string, wrap it in a 'StringIO' object.\n",
      "  away_players = pd.read_html(str(table2))[0].drop(11)\n"
     ]
    },
    {
     "name": "stdout",
     "output_type": "stream",
     "text": [
      "meio: 2.203317403793335\n",
      "fim: 2.2402658462524414\n",
      "/en/matches/ceebd643/Arsenal-Newcastle-United-January-3-2023-Premier-League\n"
     ]
    },
    {
     "name": "stderr",
     "output_type": "stream",
     "text": [
      "C:\\Users\\user\\AppData\\Local\\Temp\\ipykernel_24300\\2944083324.py:31: FutureWarning: Passing literal html to 'read_html' is deprecated and will be removed in a future version. To read from a literal string, wrap it in a 'StringIO' object.\n",
      "  home_players = pd.read_html(str(table))[0].drop(11)\n",
      "C:\\Users\\user\\AppData\\Local\\Temp\\ipykernel_24300\\2944083324.py:32: FutureWarning: Passing literal html to 'read_html' is deprecated and will be removed in a future version. To read from a literal string, wrap it in a 'StringIO' object.\n",
      "  away_players = pd.read_html(str(table2))[0].drop(11)\n"
     ]
    },
    {
     "name": "stdout",
     "output_type": "stream",
     "text": [
      "meio: 2.171673536300659\n",
      "fim: 2.2041175365448\n",
      "/en/matches/63fc7f12/Manchester-United-Bournemouth-January-3-2023-Premier-League\n"
     ]
    },
    {
     "name": "stderr",
     "output_type": "stream",
     "text": [
      "C:\\Users\\user\\AppData\\Local\\Temp\\ipykernel_24300\\2944083324.py:31: FutureWarning: Passing literal html to 'read_html' is deprecated and will be removed in a future version. To read from a literal string, wrap it in a 'StringIO' object.\n",
      "  home_players = pd.read_html(str(table))[0].drop(11)\n",
      "C:\\Users\\user\\AppData\\Local\\Temp\\ipykernel_24300\\2944083324.py:32: FutureWarning: Passing literal html to 'read_html' is deprecated and will be removed in a future version. To read from a literal string, wrap it in a 'StringIO' object.\n",
      "  away_players = pd.read_html(str(table2))[0].drop(11)\n"
     ]
    },
    {
     "name": "stdout",
     "output_type": "stream",
     "text": [
      "meio: 1.9497718811035156\n",
      "fim: 1.9859459400177002\n",
      "/en/matches/cc17c735/Southampton-Nottingham-Forest-January-4-2023-Premier-League\n"
     ]
    },
    {
     "name": "stderr",
     "output_type": "stream",
     "text": [
      "C:\\Users\\user\\AppData\\Local\\Temp\\ipykernel_24300\\2944083324.py:31: FutureWarning: Passing literal html to 'read_html' is deprecated and will be removed in a future version. To read from a literal string, wrap it in a 'StringIO' object.\n",
      "  home_players = pd.read_html(str(table))[0].drop(11)\n",
      "C:\\Users\\user\\AppData\\Local\\Temp\\ipykernel_24300\\2944083324.py:32: FutureWarning: Passing literal html to 'read_html' is deprecated and will be removed in a future version. To read from a literal string, wrap it in a 'StringIO' object.\n",
      "  away_players = pd.read_html(str(table2))[0].drop(11)\n"
     ]
    },
    {
     "name": "stdout",
     "output_type": "stream",
     "text": [
      "meio: 2.9063076972961426\n",
      "fim: 2.9418551921844482\n",
      "/en/matches/068406dc/Leeds-United-West-Ham-United-January-4-2023-Premier-League\n"
     ]
    },
    {
     "name": "stderr",
     "output_type": "stream",
     "text": [
      "C:\\Users\\user\\AppData\\Local\\Temp\\ipykernel_24300\\2944083324.py:31: FutureWarning: Passing literal html to 'read_html' is deprecated and will be removed in a future version. To read from a literal string, wrap it in a 'StringIO' object.\n",
      "  home_players = pd.read_html(str(table))[0].drop(11)\n",
      "C:\\Users\\user\\AppData\\Local\\Temp\\ipykernel_24300\\2944083324.py:32: FutureWarning: Passing literal html to 'read_html' is deprecated and will be removed in a future version. To read from a literal string, wrap it in a 'StringIO' object.\n",
      "  away_players = pd.read_html(str(table2))[0].drop(11)\n"
     ]
    },
    {
     "name": "stdout",
     "output_type": "stream",
     "text": [
      "meio: 2.022045850753784\n",
      "fim: 2.0591249465942383\n",
      "/en/matches/895a1c1f/Aston-Villa-Wolverhampton-Wanderers-January-4-2023-Premier-League\n"
     ]
    },
    {
     "name": "stderr",
     "output_type": "stream",
     "text": [
      "C:\\Users\\user\\AppData\\Local\\Temp\\ipykernel_24300\\2944083324.py:31: FutureWarning: Passing literal html to 'read_html' is deprecated and will be removed in a future version. To read from a literal string, wrap it in a 'StringIO' object.\n",
      "  home_players = pd.read_html(str(table))[0].drop(11)\n",
      "C:\\Users\\user\\AppData\\Local\\Temp\\ipykernel_24300\\2944083324.py:32: FutureWarning: Passing literal html to 'read_html' is deprecated and will be removed in a future version. To read from a literal string, wrap it in a 'StringIO' object.\n",
      "  away_players = pd.read_html(str(table2))[0].drop(11)\n"
     ]
    },
    {
     "name": "stdout",
     "output_type": "stream",
     "text": [
      "meio: 2.066195487976074\n",
      "fim: 2.1029207706451416\n",
      "/en/matches/d8118454/Crystal-Palace-Tottenham-Hotspur-January-4-2023-Premier-League\n"
     ]
    },
    {
     "name": "stderr",
     "output_type": "stream",
     "text": [
      "C:\\Users\\user\\AppData\\Local\\Temp\\ipykernel_24300\\2944083324.py:31: FutureWarning: Passing literal html to 'read_html' is deprecated and will be removed in a future version. To read from a literal string, wrap it in a 'StringIO' object.\n",
      "  home_players = pd.read_html(str(table))[0].drop(11)\n",
      "C:\\Users\\user\\AppData\\Local\\Temp\\ipykernel_24300\\2944083324.py:32: FutureWarning: Passing literal html to 'read_html' is deprecated and will be removed in a future version. To read from a literal string, wrap it in a 'StringIO' object.\n",
      "  away_players = pd.read_html(str(table2))[0].drop(11)\n"
     ]
    },
    {
     "name": "stdout",
     "output_type": "stream",
     "text": [
      "meio: 2.6844611167907715\n",
      "fim: 2.723634958267212\n",
      "/en/matches/eacda90c/Chelsea-Manchester-City-January-5-2023-Premier-League\n"
     ]
    },
    {
     "name": "stderr",
     "output_type": "stream",
     "text": [
      "C:\\Users\\user\\AppData\\Local\\Temp\\ipykernel_24300\\2944083324.py:31: FutureWarning: Passing literal html to 'read_html' is deprecated and will be removed in a future version. To read from a literal string, wrap it in a 'StringIO' object.\n",
      "  home_players = pd.read_html(str(table))[0].drop(11)\n",
      "C:\\Users\\user\\AppData\\Local\\Temp\\ipykernel_24300\\2944083324.py:32: FutureWarning: Passing literal html to 'read_html' is deprecated and will be removed in a future version. To read from a literal string, wrap it in a 'StringIO' object.\n",
      "  away_players = pd.read_html(str(table2))[0].drop(11)\n"
     ]
    },
    {
     "name": "stdout",
     "output_type": "stream",
     "text": [
      "meio: 2.430144786834717\n",
      "fim: 2.4674320220947266\n",
      "/en/matches/2902a42d/Fulham-Chelsea-January-12-2023-Premier-League\n"
     ]
    },
    {
     "name": "stderr",
     "output_type": "stream",
     "text": [
      "C:\\Users\\user\\AppData\\Local\\Temp\\ipykernel_24300\\2944083324.py:31: FutureWarning: Passing literal html to 'read_html' is deprecated and will be removed in a future version. To read from a literal string, wrap it in a 'StringIO' object.\n",
      "  home_players = pd.read_html(str(table))[0].drop(11)\n",
      "C:\\Users\\user\\AppData\\Local\\Temp\\ipykernel_24300\\2944083324.py:32: FutureWarning: Passing literal html to 'read_html' is deprecated and will be removed in a future version. To read from a literal string, wrap it in a 'StringIO' object.\n",
      "  away_players = pd.read_html(str(table2))[0].drop(11)\n"
     ]
    },
    {
     "name": "stdout",
     "output_type": "stream",
     "text": [
      "meio: 2.2644784450531006\n",
      "fim: 2.300926446914673\n",
      "/en/matches/ea58bf24/Aston-Villa-Leeds-United-January-13-2023-Premier-League\n"
     ]
    },
    {
     "name": "stderr",
     "output_type": "stream",
     "text": [
      "C:\\Users\\user\\AppData\\Local\\Temp\\ipykernel_24300\\2944083324.py:31: FutureWarning: Passing literal html to 'read_html' is deprecated and will be removed in a future version. To read from a literal string, wrap it in a 'StringIO' object.\n",
      "  home_players = pd.read_html(str(table))[0].drop(11)\n",
      "C:\\Users\\user\\AppData\\Local\\Temp\\ipykernel_24300\\2944083324.py:32: FutureWarning: Passing literal html to 'read_html' is deprecated and will be removed in a future version. To read from a literal string, wrap it in a 'StringIO' object.\n",
      "  away_players = pd.read_html(str(table2))[0].drop(11)\n"
     ]
    },
    {
     "name": "stdout",
     "output_type": "stream",
     "text": [
      "meio: 2.5302481651306152\n",
      "fim: 2.566795825958252\n",
      "/en/matches/f0fd7541/Manchester-Derby-Manchester-United-Manchester-City-January-14-2023-Premier-League\n"
     ]
    },
    {
     "name": "stderr",
     "output_type": "stream",
     "text": [
      "C:\\Users\\user\\AppData\\Local\\Temp\\ipykernel_24300\\2944083324.py:31: FutureWarning: Passing literal html to 'read_html' is deprecated and will be removed in a future version. To read from a literal string, wrap it in a 'StringIO' object.\n",
      "  home_players = pd.read_html(str(table))[0].drop(11)\n",
      "C:\\Users\\user\\AppData\\Local\\Temp\\ipykernel_24300\\2944083324.py:32: FutureWarning: Passing literal html to 'read_html' is deprecated and will be removed in a future version. To read from a literal string, wrap it in a 'StringIO' object.\n",
      "  away_players = pd.read_html(str(table2))[0].drop(11)\n"
     ]
    },
    {
     "name": "stdout",
     "output_type": "stream",
     "text": [
      "meio: 2.1578359603881836\n",
      "fim: 2.189969301223755\n",
      "/en/matches/11603f7f/Everton-Southampton-January-14-2023-Premier-League\n"
     ]
    },
    {
     "name": "stderr",
     "output_type": "stream",
     "text": [
      "C:\\Users\\user\\AppData\\Local\\Temp\\ipykernel_24300\\2944083324.py:31: FutureWarning: Passing literal html to 'read_html' is deprecated and will be removed in a future version. To read from a literal string, wrap it in a 'StringIO' object.\n",
      "  home_players = pd.read_html(str(table))[0].drop(11)\n",
      "C:\\Users\\user\\AppData\\Local\\Temp\\ipykernel_24300\\2944083324.py:32: FutureWarning: Passing literal html to 'read_html' is deprecated and will be removed in a future version. To read from a literal string, wrap it in a 'StringIO' object.\n",
      "  away_players = pd.read_html(str(table2))[0].drop(11)\n"
     ]
    },
    {
     "name": "stdout",
     "output_type": "stream",
     "text": [
      "meio: 2.577993631362915\n",
      "fim: 2.6144251823425293\n",
      "/en/matches/20fbd1a1/Wolverhampton-Wanderers-West-Ham-United-January-14-2023-Premier-League\n"
     ]
    },
    {
     "name": "stderr",
     "output_type": "stream",
     "text": [
      "C:\\Users\\user\\AppData\\Local\\Temp\\ipykernel_24300\\2944083324.py:31: FutureWarning: Passing literal html to 'read_html' is deprecated and will be removed in a future version. To read from a literal string, wrap it in a 'StringIO' object.\n",
      "  home_players = pd.read_html(str(table))[0].drop(11)\n",
      "C:\\Users\\user\\AppData\\Local\\Temp\\ipykernel_24300\\2944083324.py:32: FutureWarning: Passing literal html to 'read_html' is deprecated and will be removed in a future version. To read from a literal string, wrap it in a 'StringIO' object.\n",
      "  away_players = pd.read_html(str(table2))[0].drop(11)\n"
     ]
    },
    {
     "name": "stdout",
     "output_type": "stream",
     "text": [
      "meio: 2.5138485431671143\n",
      "fim: 2.5487990379333496\n",
      "/en/matches/95d3b457/Nottingham-Forest-Leicester-City-January-14-2023-Premier-League\n"
     ]
    },
    {
     "name": "stderr",
     "output_type": "stream",
     "text": [
      "C:\\Users\\user\\AppData\\Local\\Temp\\ipykernel_24300\\2944083324.py:31: FutureWarning: Passing literal html to 'read_html' is deprecated and will be removed in a future version. To read from a literal string, wrap it in a 'StringIO' object.\n",
      "  home_players = pd.read_html(str(table))[0].drop(11)\n",
      "C:\\Users\\user\\AppData\\Local\\Temp\\ipykernel_24300\\2944083324.py:32: FutureWarning: Passing literal html to 'read_html' is deprecated and will be removed in a future version. To read from a literal string, wrap it in a 'StringIO' object.\n",
      "  away_players = pd.read_html(str(table2))[0].drop(11)\n"
     ]
    },
    {
     "name": "stdout",
     "output_type": "stream",
     "text": [
      "meio: 2.5746917724609375\n",
      "fim: 2.608452796936035\n",
      "/en/matches/cfc2a193/Brighton-and-Hove-Albion-Liverpool-January-14-2023-Premier-League\n"
     ]
    },
    {
     "name": "stderr",
     "output_type": "stream",
     "text": [
      "C:\\Users\\user\\AppData\\Local\\Temp\\ipykernel_24300\\2944083324.py:31: FutureWarning: Passing literal html to 'read_html' is deprecated and will be removed in a future version. To read from a literal string, wrap it in a 'StringIO' object.\n",
      "  home_players = pd.read_html(str(table))[0].drop(11)\n",
      "C:\\Users\\user\\AppData\\Local\\Temp\\ipykernel_24300\\2944083324.py:32: FutureWarning: Passing literal html to 'read_html' is deprecated and will be removed in a future version. To read from a literal string, wrap it in a 'StringIO' object.\n",
      "  away_players = pd.read_html(str(table2))[0].drop(11)\n"
     ]
    },
    {
     "name": "stdout",
     "output_type": "stream",
     "text": [
      "meio: 1.1468656063079834\n",
      "fim: 1.1817479133605957\n",
      "/en/matches/3f992264/Brentford-Bournemouth-January-14-2023-Premier-League\n"
     ]
    },
    {
     "name": "stderr",
     "output_type": "stream",
     "text": [
      "C:\\Users\\user\\AppData\\Local\\Temp\\ipykernel_24300\\2944083324.py:31: FutureWarning: Passing literal html to 'read_html' is deprecated and will be removed in a future version. To read from a literal string, wrap it in a 'StringIO' object.\n",
      "  home_players = pd.read_html(str(table))[0].drop(11)\n",
      "C:\\Users\\user\\AppData\\Local\\Temp\\ipykernel_24300\\2944083324.py:32: FutureWarning: Passing literal html to 'read_html' is deprecated and will be removed in a future version. To read from a literal string, wrap it in a 'StringIO' object.\n",
      "  away_players = pd.read_html(str(table2))[0].drop(11)\n"
     ]
    },
    {
     "name": "stdout",
     "output_type": "stream",
     "text": [
      "meio: 1.168269395828247\n",
      "fim: 1.203800916671753\n",
      "/en/matches/564d2893/Chelsea-Crystal-Palace-January-15-2023-Premier-League\n"
     ]
    },
    {
     "name": "stderr",
     "output_type": "stream",
     "text": [
      "C:\\Users\\user\\AppData\\Local\\Temp\\ipykernel_24300\\2944083324.py:31: FutureWarning: Passing literal html to 'read_html' is deprecated and will be removed in a future version. To read from a literal string, wrap it in a 'StringIO' object.\n",
      "  home_players = pd.read_html(str(table))[0].drop(11)\n",
      "C:\\Users\\user\\AppData\\Local\\Temp\\ipykernel_24300\\2944083324.py:32: FutureWarning: Passing literal html to 'read_html' is deprecated and will be removed in a future version. To read from a literal string, wrap it in a 'StringIO' object.\n",
      "  away_players = pd.read_html(str(table2))[0].drop(11)\n"
     ]
    },
    {
     "name": "stdout",
     "output_type": "stream",
     "text": [
      "meio: 2.468308210372925\n",
      "fim: 2.503020763397217\n",
      "/en/matches/f93d11e7/Newcastle-United-Fulham-January-15-2023-Premier-League\n"
     ]
    },
    {
     "name": "stderr",
     "output_type": "stream",
     "text": [
      "C:\\Users\\user\\AppData\\Local\\Temp\\ipykernel_24300\\2944083324.py:31: FutureWarning: Passing literal html to 'read_html' is deprecated and will be removed in a future version. To read from a literal string, wrap it in a 'StringIO' object.\n",
      "  home_players = pd.read_html(str(table))[0].drop(11)\n",
      "C:\\Users\\user\\AppData\\Local\\Temp\\ipykernel_24300\\2944083324.py:32: FutureWarning: Passing literal html to 'read_html' is deprecated and will be removed in a future version. To read from a literal string, wrap it in a 'StringIO' object.\n",
      "  away_players = pd.read_html(str(table2))[0].drop(11)\n"
     ]
    },
    {
     "name": "stdout",
     "output_type": "stream",
     "text": [
      "meio: 2.6556036472320557\n",
      "fim: 2.690920114517212\n",
      "/en/matches/4fc8b7b2/North-London-Derby-Tottenham-Hotspur-Arsenal-January-15-2023-Premier-League\n"
     ]
    },
    {
     "name": "stderr",
     "output_type": "stream",
     "text": [
      "C:\\Users\\user\\AppData\\Local\\Temp\\ipykernel_24300\\2944083324.py:31: FutureWarning: Passing literal html to 'read_html' is deprecated and will be removed in a future version. To read from a literal string, wrap it in a 'StringIO' object.\n",
      "  home_players = pd.read_html(str(table))[0].drop(11)\n",
      "C:\\Users\\user\\AppData\\Local\\Temp\\ipykernel_24300\\2944083324.py:32: FutureWarning: Passing literal html to 'read_html' is deprecated and will be removed in a future version. To read from a literal string, wrap it in a 'StringIO' object.\n",
      "  away_players = pd.read_html(str(table2))[0].drop(11)\n"
     ]
    },
    {
     "name": "stdout",
     "output_type": "stream",
     "text": [
      "meio: 3.0537524223327637\n",
      "fim: 3.088433027267456\n",
      "/en/matches/adf46096/Crystal-Palace-Manchester-United-January-18-2023-Premier-League\n"
     ]
    },
    {
     "name": "stderr",
     "output_type": "stream",
     "text": [
      "C:\\Users\\user\\AppData\\Local\\Temp\\ipykernel_24300\\2944083324.py:31: FutureWarning: Passing literal html to 'read_html' is deprecated and will be removed in a future version. To read from a literal string, wrap it in a 'StringIO' object.\n",
      "  home_players = pd.read_html(str(table))[0].drop(11)\n",
      "C:\\Users\\user\\AppData\\Local\\Temp\\ipykernel_24300\\2944083324.py:32: FutureWarning: Passing literal html to 'read_html' is deprecated and will be removed in a future version. To read from a literal string, wrap it in a 'StringIO' object.\n",
      "  away_players = pd.read_html(str(table2))[0].drop(11)\n"
     ]
    },
    {
     "name": "stdout",
     "output_type": "stream",
     "text": [
      "meio: 2.0977373123168945\n",
      "fim: 2.131901502609253\n",
      "/en/matches/847f0a9c/Manchester-City-Tottenham-Hotspur-January-19-2023-Premier-League\n"
     ]
    },
    {
     "name": "stderr",
     "output_type": "stream",
     "text": [
      "C:\\Users\\user\\AppData\\Local\\Temp\\ipykernel_24300\\2944083324.py:31: FutureWarning: Passing literal html to 'read_html' is deprecated and will be removed in a future version. To read from a literal string, wrap it in a 'StringIO' object.\n",
      "  home_players = pd.read_html(str(table))[0].drop(11)\n",
      "C:\\Users\\user\\AppData\\Local\\Temp\\ipykernel_24300\\2944083324.py:32: FutureWarning: Passing literal html to 'read_html' is deprecated and will be removed in a future version. To read from a literal string, wrap it in a 'StringIO' object.\n",
      "  away_players = pd.read_html(str(table2))[0].drop(11)\n"
     ]
    },
    {
     "name": "stdout",
     "output_type": "stream",
     "text": [
      "meio: 2.853538751602173\n",
      "fim: 2.887465715408325\n",
      "/en/matches/7febc290/Liverpool-Chelsea-January-21-2023-Premier-League\n"
     ]
    },
    {
     "name": "stderr",
     "output_type": "stream",
     "text": [
      "C:\\Users\\user\\AppData\\Local\\Temp\\ipykernel_24300\\2944083324.py:31: FutureWarning: Passing literal html to 'read_html' is deprecated and will be removed in a future version. To read from a literal string, wrap it in a 'StringIO' object.\n",
      "  home_players = pd.read_html(str(table))[0].drop(11)\n",
      "C:\\Users\\user\\AppData\\Local\\Temp\\ipykernel_24300\\2944083324.py:32: FutureWarning: Passing literal html to 'read_html' is deprecated and will be removed in a future version. To read from a literal string, wrap it in a 'StringIO' object.\n",
      "  away_players = pd.read_html(str(table2))[0].drop(11)\n"
     ]
    },
    {
     "name": "stdout",
     "output_type": "stream",
     "text": [
      "meio: 2.036367416381836\n",
      "fim: 2.0722434520721436\n",
      "/en/matches/38c715b4/Bournemouth-Nottingham-Forest-January-21-2023-Premier-League\n"
     ]
    },
    {
     "name": "stderr",
     "output_type": "stream",
     "text": [
      "C:\\Users\\user\\AppData\\Local\\Temp\\ipykernel_24300\\2944083324.py:31: FutureWarning: Passing literal html to 'read_html' is deprecated and will be removed in a future version. To read from a literal string, wrap it in a 'StringIO' object.\n",
      "  home_players = pd.read_html(str(table))[0].drop(11)\n",
      "C:\\Users\\user\\AppData\\Local\\Temp\\ipykernel_24300\\2944083324.py:32: FutureWarning: Passing literal html to 'read_html' is deprecated and will be removed in a future version. To read from a literal string, wrap it in a 'StringIO' object.\n",
      "  away_players = pd.read_html(str(table2))[0].drop(11)\n"
     ]
    },
    {
     "name": "stdout",
     "output_type": "stream",
     "text": [
      "meio: 2.116731643676758\n",
      "fim: 2.15250301361084\n",
      "/en/matches/91d49468/Southampton-Aston-Villa-January-21-2023-Premier-League\n"
     ]
    },
    {
     "name": "stderr",
     "output_type": "stream",
     "text": [
      "C:\\Users\\user\\AppData\\Local\\Temp\\ipykernel_24300\\2944083324.py:31: FutureWarning: Passing literal html to 'read_html' is deprecated and will be removed in a future version. To read from a literal string, wrap it in a 'StringIO' object.\n",
      "  home_players = pd.read_html(str(table))[0].drop(11)\n",
      "C:\\Users\\user\\AppData\\Local\\Temp\\ipykernel_24300\\2944083324.py:32: FutureWarning: Passing literal html to 'read_html' is deprecated and will be removed in a future version. To read from a literal string, wrap it in a 'StringIO' object.\n",
      "  away_players = pd.read_html(str(table2))[0].drop(11)\n"
     ]
    },
    {
     "name": "stdout",
     "output_type": "stream",
     "text": [
      "meio: 2.0724380016326904\n",
      "fim: 2.1067464351654053\n",
      "/en/matches/bcbbc55f/Leicester-City-Brighton-and-Hove-Albion-January-21-2023-Premier-League\n"
     ]
    },
    {
     "name": "stderr",
     "output_type": "stream",
     "text": [
      "C:\\Users\\user\\AppData\\Local\\Temp\\ipykernel_24300\\2944083324.py:31: FutureWarning: Passing literal html to 'read_html' is deprecated and will be removed in a future version. To read from a literal string, wrap it in a 'StringIO' object.\n",
      "  home_players = pd.read_html(str(table))[0].drop(11)\n",
      "C:\\Users\\user\\AppData\\Local\\Temp\\ipykernel_24300\\2944083324.py:32: FutureWarning: Passing literal html to 'read_html' is deprecated and will be removed in a future version. To read from a literal string, wrap it in a 'StringIO' object.\n",
      "  away_players = pd.read_html(str(table2))[0].drop(11)\n"
     ]
    },
    {
     "name": "stdout",
     "output_type": "stream",
     "text": [
      "meio: 1.0808355808258057\n",
      "fim: 1.114159345626831\n",
      "/en/matches/db9cdba8/West-Ham-United-Everton-January-21-2023-Premier-League\n"
     ]
    },
    {
     "name": "stderr",
     "output_type": "stream",
     "text": [
      "C:\\Users\\user\\AppData\\Local\\Temp\\ipykernel_24300\\2944083324.py:31: FutureWarning: Passing literal html to 'read_html' is deprecated and will be removed in a future version. To read from a literal string, wrap it in a 'StringIO' object.\n",
      "  home_players = pd.read_html(str(table))[0].drop(11)\n",
      "C:\\Users\\user\\AppData\\Local\\Temp\\ipykernel_24300\\2944083324.py:32: FutureWarning: Passing literal html to 'read_html' is deprecated and will be removed in a future version. To read from a literal string, wrap it in a 'StringIO' object.\n",
      "  away_players = pd.read_html(str(table2))[0].drop(11)\n"
     ]
    },
    {
     "name": "stdout",
     "output_type": "stream",
     "text": [
      "meio: 2.9842376708984375\n",
      "fim: 3.0164458751678467\n",
      "/en/matches/8468f673/Crystal-Palace-Newcastle-United-January-21-2023-Premier-League\n"
     ]
    },
    {
     "name": "stderr",
     "output_type": "stream",
     "text": [
      "C:\\Users\\user\\AppData\\Local\\Temp\\ipykernel_24300\\2944083324.py:31: FutureWarning: Passing literal html to 'read_html' is deprecated and will be removed in a future version. To read from a literal string, wrap it in a 'StringIO' object.\n",
      "  home_players = pd.read_html(str(table))[0].drop(11)\n",
      "C:\\Users\\user\\AppData\\Local\\Temp\\ipykernel_24300\\2944083324.py:32: FutureWarning: Passing literal html to 'read_html' is deprecated and will be removed in a future version. To read from a literal string, wrap it in a 'StringIO' object.\n",
      "  away_players = pd.read_html(str(table2))[0].drop(11)\n"
     ]
    },
    {
     "name": "stdout",
     "output_type": "stream",
     "text": [
      "meio: 2.91896390914917\n",
      "fim: 2.9548161029815674\n",
      "/en/matches/7337f90a/Manchester-City-Wolverhampton-Wanderers-January-22-2023-Premier-League\n"
     ]
    },
    {
     "name": "stderr",
     "output_type": "stream",
     "text": [
      "C:\\Users\\user\\AppData\\Local\\Temp\\ipykernel_24300\\2944083324.py:31: FutureWarning: Passing literal html to 'read_html' is deprecated and will be removed in a future version. To read from a literal string, wrap it in a 'StringIO' object.\n",
      "  home_players = pd.read_html(str(table))[0].drop(11)\n",
      "C:\\Users\\user\\AppData\\Local\\Temp\\ipykernel_24300\\2944083324.py:32: FutureWarning: Passing literal html to 'read_html' is deprecated and will be removed in a future version. To read from a literal string, wrap it in a 'StringIO' object.\n",
      "  away_players = pd.read_html(str(table2))[0].drop(11)\n"
     ]
    },
    {
     "name": "stdout",
     "output_type": "stream",
     "text": [
      "meio: 2.0331852436065674\n",
      "fim: 2.0706887245178223\n",
      "/en/matches/f0e7d8a8/Leeds-United-Brentford-January-22-2023-Premier-League\n"
     ]
    },
    {
     "name": "stderr",
     "output_type": "stream",
     "text": [
      "C:\\Users\\user\\AppData\\Local\\Temp\\ipykernel_24300\\2944083324.py:31: FutureWarning: Passing literal html to 'read_html' is deprecated and will be removed in a future version. To read from a literal string, wrap it in a 'StringIO' object.\n",
      "  home_players = pd.read_html(str(table))[0].drop(11)\n",
      "C:\\Users\\user\\AppData\\Local\\Temp\\ipykernel_24300\\2944083324.py:32: FutureWarning: Passing literal html to 'read_html' is deprecated and will be removed in a future version. To read from a literal string, wrap it in a 'StringIO' object.\n",
      "  away_players = pd.read_html(str(table2))[0].drop(11)\n"
     ]
    },
    {
     "name": "stdout",
     "output_type": "stream",
     "text": [
      "meio: 1.1196708679199219\n",
      "fim: 1.1518034934997559\n",
      "/en/matches/1b35bc71/Arsenal-Manchester-United-January-22-2023-Premier-League\n"
     ]
    },
    {
     "name": "stderr",
     "output_type": "stream",
     "text": [
      "C:\\Users\\user\\AppData\\Local\\Temp\\ipykernel_24300\\2944083324.py:31: FutureWarning: Passing literal html to 'read_html' is deprecated and will be removed in a future version. To read from a literal string, wrap it in a 'StringIO' object.\n",
      "  home_players = pd.read_html(str(table))[0].drop(11)\n",
      "C:\\Users\\user\\AppData\\Local\\Temp\\ipykernel_24300\\2944083324.py:32: FutureWarning: Passing literal html to 'read_html' is deprecated and will be removed in a future version. To read from a literal string, wrap it in a 'StringIO' object.\n",
      "  away_players = pd.read_html(str(table2))[0].drop(11)\n"
     ]
    },
    {
     "name": "stdout",
     "output_type": "stream",
     "text": [
      "meio: 2.6675782203674316\n",
      "fim: 2.706822156906128\n",
      "/en/matches/098cd338/Fulham-Tottenham-Hotspur-January-23-2023-Premier-League\n"
     ]
    },
    {
     "name": "stderr",
     "output_type": "stream",
     "text": [
      "C:\\Users\\user\\AppData\\Local\\Temp\\ipykernel_24300\\2944083324.py:31: FutureWarning: Passing literal html to 'read_html' is deprecated and will be removed in a future version. To read from a literal string, wrap it in a 'StringIO' object.\n",
      "  home_players = pd.read_html(str(table))[0].drop(11)\n",
      "C:\\Users\\user\\AppData\\Local\\Temp\\ipykernel_24300\\2944083324.py:32: FutureWarning: Passing literal html to 'read_html' is deprecated and will be removed in a future version. To read from a literal string, wrap it in a 'StringIO' object.\n",
      "  away_players = pd.read_html(str(table2))[0].drop(11)\n"
     ]
    },
    {
     "name": "stdout",
     "output_type": "stream",
     "text": [
      "meio: 1.8840277194976807\n",
      "fim: 1.916747808456421\n",
      "/en/matches/c3cf244b/Chelsea-Fulham-February-3-2023-Premier-League\n"
     ]
    },
    {
     "name": "stderr",
     "output_type": "stream",
     "text": [
      "C:\\Users\\user\\AppData\\Local\\Temp\\ipykernel_24300\\2944083324.py:31: FutureWarning: Passing literal html to 'read_html' is deprecated and will be removed in a future version. To read from a literal string, wrap it in a 'StringIO' object.\n",
      "  home_players = pd.read_html(str(table))[0].drop(11)\n",
      "C:\\Users\\user\\AppData\\Local\\Temp\\ipykernel_24300\\2944083324.py:32: FutureWarning: Passing literal html to 'read_html' is deprecated and will be removed in a future version. To read from a literal string, wrap it in a 'StringIO' object.\n",
      "  away_players = pd.read_html(str(table2))[0].drop(11)\n"
     ]
    },
    {
     "name": "stdout",
     "output_type": "stream",
     "text": [
      "meio: 2.5075552463531494\n",
      "fim: 2.5464797019958496\n",
      "/en/matches/07fc721a/Everton-Arsenal-February-4-2023-Premier-League\n"
     ]
    },
    {
     "name": "stderr",
     "output_type": "stream",
     "text": [
      "C:\\Users\\user\\AppData\\Local\\Temp\\ipykernel_24300\\2944083324.py:31: FutureWarning: Passing literal html to 'read_html' is deprecated and will be removed in a future version. To read from a literal string, wrap it in a 'StringIO' object.\n",
      "  home_players = pd.read_html(str(table))[0].drop(11)\n",
      "C:\\Users\\user\\AppData\\Local\\Temp\\ipykernel_24300\\2944083324.py:32: FutureWarning: Passing literal html to 'read_html' is deprecated and will be removed in a future version. To read from a literal string, wrap it in a 'StringIO' object.\n",
      "  away_players = pd.read_html(str(table2))[0].drop(11)\n"
     ]
    },
    {
     "name": "stdout",
     "output_type": "stream",
     "text": [
      "meio: 1.2371017932891846\n",
      "fim: 1.2697112560272217\n",
      "/en/matches/76a2a22c/Aston-Villa-Leicester-City-February-4-2023-Premier-League\n"
     ]
    },
    {
     "name": "stderr",
     "output_type": "stream",
     "text": [
      "C:\\Users\\user\\AppData\\Local\\Temp\\ipykernel_24300\\2944083324.py:31: FutureWarning: Passing literal html to 'read_html' is deprecated and will be removed in a future version. To read from a literal string, wrap it in a 'StringIO' object.\n",
      "  home_players = pd.read_html(str(table))[0].drop(11)\n",
      "C:\\Users\\user\\AppData\\Local\\Temp\\ipykernel_24300\\2944083324.py:32: FutureWarning: Passing literal html to 'read_html' is deprecated and will be removed in a future version. To read from a literal string, wrap it in a 'StringIO' object.\n",
      "  away_players = pd.read_html(str(table2))[0].drop(11)\n"
     ]
    },
    {
     "name": "stdout",
     "output_type": "stream",
     "text": [
      "meio: 2.4309401512145996\n",
      "fim: 2.468522310256958\n",
      "/en/matches/d67a16c8/Wolverhampton-Wanderers-Liverpool-February-4-2023-Premier-League\n"
     ]
    },
    {
     "name": "stderr",
     "output_type": "stream",
     "text": [
      "C:\\Users\\user\\AppData\\Local\\Temp\\ipykernel_24300\\2944083324.py:31: FutureWarning: Passing literal html to 'read_html' is deprecated and will be removed in a future version. To read from a literal string, wrap it in a 'StringIO' object.\n",
      "  home_players = pd.read_html(str(table))[0].drop(11)\n",
      "C:\\Users\\user\\AppData\\Local\\Temp\\ipykernel_24300\\2944083324.py:32: FutureWarning: Passing literal html to 'read_html' is deprecated and will be removed in a future version. To read from a literal string, wrap it in a 'StringIO' object.\n",
      "  away_players = pd.read_html(str(table2))[0].drop(11)\n"
     ]
    },
    {
     "name": "stdout",
     "output_type": "stream",
     "text": [
      "meio: 2.0783536434173584\n",
      "fim: 2.12448787689209\n",
      "/en/matches/dca5ea6c/Manchester-United-Crystal-Palace-February-4-2023-Premier-League\n"
     ]
    },
    {
     "name": "stderr",
     "output_type": "stream",
     "text": [
      "C:\\Users\\user\\AppData\\Local\\Temp\\ipykernel_24300\\2944083324.py:31: FutureWarning: Passing literal html to 'read_html' is deprecated and will be removed in a future version. To read from a literal string, wrap it in a 'StringIO' object.\n",
      "  home_players = pd.read_html(str(table))[0].drop(11)\n",
      "C:\\Users\\user\\AppData\\Local\\Temp\\ipykernel_24300\\2944083324.py:32: FutureWarning: Passing literal html to 'read_html' is deprecated and will be removed in a future version. To read from a literal string, wrap it in a 'StringIO' object.\n",
      "  away_players = pd.read_html(str(table2))[0].drop(11)\n"
     ]
    },
    {
     "name": "stdout",
     "output_type": "stream",
     "text": [
      "meio: 1.918910264968872\n",
      "fim: 1.9528038501739502\n",
      "/en/matches/dccc53ae/Brighton-and-Hove-Albion-Bournemouth-February-4-2023-Premier-League\n"
     ]
    },
    {
     "name": "stderr",
     "output_type": "stream",
     "text": [
      "C:\\Users\\user\\AppData\\Local\\Temp\\ipykernel_24300\\2944083324.py:31: FutureWarning: Passing literal html to 'read_html' is deprecated and will be removed in a future version. To read from a literal string, wrap it in a 'StringIO' object.\n",
      "  home_players = pd.read_html(str(table))[0].drop(11)\n",
      "C:\\Users\\user\\AppData\\Local\\Temp\\ipykernel_24300\\2944083324.py:32: FutureWarning: Passing literal html to 'read_html' is deprecated and will be removed in a future version. To read from a literal string, wrap it in a 'StringIO' object.\n",
      "  away_players = pd.read_html(str(table2))[0].drop(11)\n"
     ]
    },
    {
     "name": "stdout",
     "output_type": "stream",
     "text": [
      "meio: 1.0848300457000732\n",
      "fim: 1.120945930480957\n",
      "/en/matches/ef31dad5/Brentford-Southampton-February-4-2023-Premier-League\n"
     ]
    },
    {
     "name": "stderr",
     "output_type": "stream",
     "text": [
      "C:\\Users\\user\\AppData\\Local\\Temp\\ipykernel_24300\\2944083324.py:31: FutureWarning: Passing literal html to 'read_html' is deprecated and will be removed in a future version. To read from a literal string, wrap it in a 'StringIO' object.\n",
      "  home_players = pd.read_html(str(table))[0].drop(11)\n",
      "C:\\Users\\user\\AppData\\Local\\Temp\\ipykernel_24300\\2944083324.py:32: FutureWarning: Passing literal html to 'read_html' is deprecated and will be removed in a future version. To read from a literal string, wrap it in a 'StringIO' object.\n",
      "  away_players = pd.read_html(str(table2))[0].drop(11)\n"
     ]
    },
    {
     "name": "stdout",
     "output_type": "stream",
     "text": [
      "meio: 1.2367010116577148\n",
      "fim: 1.2778968811035156\n",
      "/en/matches/34e9160c/Newcastle-United-West-Ham-United-February-4-2023-Premier-League\n"
     ]
    },
    {
     "name": "stderr",
     "output_type": "stream",
     "text": [
      "C:\\Users\\user\\AppData\\Local\\Temp\\ipykernel_24300\\2944083324.py:31: FutureWarning: Passing literal html to 'read_html' is deprecated and will be removed in a future version. To read from a literal string, wrap it in a 'StringIO' object.\n",
      "  home_players = pd.read_html(str(table))[0].drop(11)\n",
      "C:\\Users\\user\\AppData\\Local\\Temp\\ipykernel_24300\\2944083324.py:32: FutureWarning: Passing literal html to 'read_html' is deprecated and will be removed in a future version. To read from a literal string, wrap it in a 'StringIO' object.\n",
      "  away_players = pd.read_html(str(table2))[0].drop(11)\n"
     ]
    },
    {
     "name": "stdout",
     "output_type": "stream",
     "text": [
      "meio: 2.400740385055542\n",
      "fim: 2.4465267658233643\n",
      "/en/matches/7c47cb5e/Nottingham-Forest-Leeds-United-February-5-2023-Premier-League\n"
     ]
    },
    {
     "name": "stderr",
     "output_type": "stream",
     "text": [
      "C:\\Users\\user\\AppData\\Local\\Temp\\ipykernel_24300\\2944083324.py:31: FutureWarning: Passing literal html to 'read_html' is deprecated and will be removed in a future version. To read from a literal string, wrap it in a 'StringIO' object.\n",
      "  home_players = pd.read_html(str(table))[0].drop(11)\n",
      "C:\\Users\\user\\AppData\\Local\\Temp\\ipykernel_24300\\2944083324.py:32: FutureWarning: Passing literal html to 'read_html' is deprecated and will be removed in a future version. To read from a literal string, wrap it in a 'StringIO' object.\n",
      "  away_players = pd.read_html(str(table2))[0].drop(11)\n"
     ]
    },
    {
     "name": "stdout",
     "output_type": "stream",
     "text": [
      "meio: 1.8197991847991943\n",
      "fim: 1.8541641235351562\n",
      "/en/matches/8a923619/Tottenham-Hotspur-Manchester-City-February-5-2023-Premier-League\n"
     ]
    },
    {
     "name": "stderr",
     "output_type": "stream",
     "text": [
      "C:\\Users\\user\\AppData\\Local\\Temp\\ipykernel_24300\\2944083324.py:31: FutureWarning: Passing literal html to 'read_html' is deprecated and will be removed in a future version. To read from a literal string, wrap it in a 'StringIO' object.\n",
      "  home_players = pd.read_html(str(table))[0].drop(11)\n",
      "C:\\Users\\user\\AppData\\Local\\Temp\\ipykernel_24300\\2944083324.py:32: FutureWarning: Passing literal html to 'read_html' is deprecated and will be removed in a future version. To read from a literal string, wrap it in a 'StringIO' object.\n",
      "  away_players = pd.read_html(str(table2))[0].drop(11)\n"
     ]
    },
    {
     "name": "stdout",
     "output_type": "stream",
     "text": [
      "meio: 2.1936542987823486\n",
      "fim: 2.2274105548858643\n",
      "/en/matches/80532a54/Manchester-United-Leeds-United-February-8-2023-Premier-League\n"
     ]
    },
    {
     "name": "stderr",
     "output_type": "stream",
     "text": [
      "C:\\Users\\user\\AppData\\Local\\Temp\\ipykernel_24300\\2944083324.py:31: FutureWarning: Passing literal html to 'read_html' is deprecated and will be removed in a future version. To read from a literal string, wrap it in a 'StringIO' object.\n",
      "  home_players = pd.read_html(str(table))[0].drop(11)\n",
      "C:\\Users\\user\\AppData\\Local\\Temp\\ipykernel_24300\\2944083324.py:32: FutureWarning: Passing literal html to 'read_html' is deprecated and will be removed in a future version. To read from a literal string, wrap it in a 'StringIO' object.\n",
      "  away_players = pd.read_html(str(table2))[0].drop(11)\n"
     ]
    },
    {
     "name": "stdout",
     "output_type": "stream",
     "text": [
      "meio: 2.3057503700256348\n",
      "fim: 2.344132423400879\n",
      "/en/matches/18dea268/West-Ham-United-Chelsea-February-11-2023-Premier-League\n"
     ]
    },
    {
     "name": "stderr",
     "output_type": "stream",
     "text": [
      "C:\\Users\\user\\AppData\\Local\\Temp\\ipykernel_24300\\2944083324.py:31: FutureWarning: Passing literal html to 'read_html' is deprecated and will be removed in a future version. To read from a literal string, wrap it in a 'StringIO' object.\n",
      "  home_players = pd.read_html(str(table))[0].drop(11)\n",
      "C:\\Users\\user\\AppData\\Local\\Temp\\ipykernel_24300\\2944083324.py:32: FutureWarning: Passing literal html to 'read_html' is deprecated and will be removed in a future version. To read from a literal string, wrap it in a 'StringIO' object.\n",
      "  away_players = pd.read_html(str(table2))[0].drop(11)\n"
     ]
    },
    {
     "name": "stdout",
     "output_type": "stream",
     "text": [
      "meio: 1.8766591548919678\n",
      "fim: 1.9144814014434814\n",
      "/en/matches/390c7b85/Leicester-City-Tottenham-Hotspur-February-11-2023-Premier-League\n"
     ]
    },
    {
     "name": "stderr",
     "output_type": "stream",
     "text": [
      "C:\\Users\\user\\AppData\\Local\\Temp\\ipykernel_24300\\2944083324.py:31: FutureWarning: Passing literal html to 'read_html' is deprecated and will be removed in a future version. To read from a literal string, wrap it in a 'StringIO' object.\n",
      "  home_players = pd.read_html(str(table))[0].drop(11)\n",
      "C:\\Users\\user\\AppData\\Local\\Temp\\ipykernel_24300\\2944083324.py:32: FutureWarning: Passing literal html to 'read_html' is deprecated and will be removed in a future version. To read from a literal string, wrap it in a 'StringIO' object.\n",
      "  away_players = pd.read_html(str(table2))[0].drop(11)\n"
     ]
    },
    {
     "name": "stdout",
     "output_type": "stream",
     "text": [
      "meio: 2.381420135498047\n",
      "fim: 2.4459524154663086\n",
      "/en/matches/5d5deba7/Crystal-Palace-Brighton-and-Hove-Albion-February-11-2023-Premier-League\n"
     ]
    },
    {
     "name": "stderr",
     "output_type": "stream",
     "text": [
      "C:\\Users\\user\\AppData\\Local\\Temp\\ipykernel_24300\\2944083324.py:31: FutureWarning: Passing literal html to 'read_html' is deprecated and will be removed in a future version. To read from a literal string, wrap it in a 'StringIO' object.\n",
      "  home_players = pd.read_html(str(table))[0].drop(11)\n",
      "C:\\Users\\user\\AppData\\Local\\Temp\\ipykernel_24300\\2944083324.py:32: FutureWarning: Passing literal html to 'read_html' is deprecated and will be removed in a future version. To read from a literal string, wrap it in a 'StringIO' object.\n",
      "  away_players = pd.read_html(str(table2))[0].drop(11)\n"
     ]
    },
    {
     "name": "stdout",
     "output_type": "stream",
     "text": [
      "meio: 1.1535229682922363\n",
      "fim: 1.187323808670044\n",
      "/en/matches/7caa56bc/Arsenal-Brentford-February-11-2023-Premier-League\n"
     ]
    },
    {
     "name": "stderr",
     "output_type": "stream",
     "text": [
      "C:\\Users\\user\\AppData\\Local\\Temp\\ipykernel_24300\\2944083324.py:31: FutureWarning: Passing literal html to 'read_html' is deprecated and will be removed in a future version. To read from a literal string, wrap it in a 'StringIO' object.\n",
      "  home_players = pd.read_html(str(table))[0].drop(11)\n",
      "C:\\Users\\user\\AppData\\Local\\Temp\\ipykernel_24300\\2944083324.py:32: FutureWarning: Passing literal html to 'read_html' is deprecated and will be removed in a future version. To read from a literal string, wrap it in a 'StringIO' object.\n",
      "  away_players = pd.read_html(str(table2))[0].drop(11)\n"
     ]
    },
    {
     "name": "stdout",
     "output_type": "stream",
     "text": [
      "meio: 1.1381208896636963\n",
      "fim: 1.17149019241333\n",
      "/en/matches/8c7913ed/Southampton-Wolverhampton-Wanderers-February-11-2023-Premier-League\n"
     ]
    },
    {
     "name": "stderr",
     "output_type": "stream",
     "text": [
      "C:\\Users\\user\\AppData\\Local\\Temp\\ipykernel_24300\\2944083324.py:31: FutureWarning: Passing literal html to 'read_html' is deprecated and will be removed in a future version. To read from a literal string, wrap it in a 'StringIO' object.\n",
      "  home_players = pd.read_html(str(table))[0].drop(11)\n",
      "C:\\Users\\user\\AppData\\Local\\Temp\\ipykernel_24300\\2944083324.py:32: FutureWarning: Passing literal html to 'read_html' is deprecated and will be removed in a future version. To read from a literal string, wrap it in a 'StringIO' object.\n",
      "  away_players = pd.read_html(str(table2))[0].drop(11)\n"
     ]
    },
    {
     "name": "stdout",
     "output_type": "stream",
     "text": [
      "meio: 2.17492938041687\n",
      "fim: 2.2131428718566895\n",
      "/en/matches/ee86dc99/Fulham-Nottingham-Forest-February-11-2023-Premier-League\n"
     ]
    },
    {
     "name": "stderr",
     "output_type": "stream",
     "text": [
      "C:\\Users\\user\\AppData\\Local\\Temp\\ipykernel_24300\\2944083324.py:31: FutureWarning: Passing literal html to 'read_html' is deprecated and will be removed in a future version. To read from a literal string, wrap it in a 'StringIO' object.\n",
      "  home_players = pd.read_html(str(table))[0].drop(11)\n",
      "C:\\Users\\user\\AppData\\Local\\Temp\\ipykernel_24300\\2944083324.py:32: FutureWarning: Passing literal html to 'read_html' is deprecated and will be removed in a future version. To read from a literal string, wrap it in a 'StringIO' object.\n",
      "  away_players = pd.read_html(str(table2))[0].drop(11)\n"
     ]
    },
    {
     "name": "stdout",
     "output_type": "stream",
     "text": [
      "meio: 2.4222412109375\n",
      "fim: 2.4585535526275635\n",
      "/en/matches/d9339e30/Bournemouth-Newcastle-United-February-11-2023-Premier-League\n"
     ]
    },
    {
     "name": "stderr",
     "output_type": "stream",
     "text": [
      "C:\\Users\\user\\AppData\\Local\\Temp\\ipykernel_24300\\2944083324.py:31: FutureWarning: Passing literal html to 'read_html' is deprecated and will be removed in a future version. To read from a literal string, wrap it in a 'StringIO' object.\n",
      "  home_players = pd.read_html(str(table))[0].drop(11)\n",
      "C:\\Users\\user\\AppData\\Local\\Temp\\ipykernel_24300\\2944083324.py:32: FutureWarning: Passing literal html to 'read_html' is deprecated and will be removed in a future version. To read from a literal string, wrap it in a 'StringIO' object.\n",
      "  away_players = pd.read_html(str(table2))[0].drop(11)\n"
     ]
    },
    {
     "name": "stdout",
     "output_type": "stream",
     "text": [
      "meio: 2.1575639247894287\n",
      "fim: 2.1933906078338623\n",
      "/en/matches/3386146f/Leeds-United-Manchester-United-February-12-2023-Premier-League\n"
     ]
    },
    {
     "name": "stderr",
     "output_type": "stream",
     "text": [
      "C:\\Users\\user\\AppData\\Local\\Temp\\ipykernel_24300\\2944083324.py:31: FutureWarning: Passing literal html to 'read_html' is deprecated and will be removed in a future version. To read from a literal string, wrap it in a 'StringIO' object.\n",
      "  home_players = pd.read_html(str(table))[0].drop(11)\n",
      "C:\\Users\\user\\AppData\\Local\\Temp\\ipykernel_24300\\2944083324.py:32: FutureWarning: Passing literal html to 'read_html' is deprecated and will be removed in a future version. To read from a literal string, wrap it in a 'StringIO' object.\n",
      "  away_players = pd.read_html(str(table2))[0].drop(11)\n"
     ]
    },
    {
     "name": "stdout",
     "output_type": "stream",
     "text": [
      "meio: 2.2408154010772705\n",
      "fim: 2.276416301727295\n",
      "/en/matches/18fcd595/Manchester-City-Aston-Villa-February-12-2023-Premier-League\n"
     ]
    },
    {
     "name": "stderr",
     "output_type": "stream",
     "text": [
      "C:\\Users\\user\\AppData\\Local\\Temp\\ipykernel_24300\\2944083324.py:31: FutureWarning: Passing literal html to 'read_html' is deprecated and will be removed in a future version. To read from a literal string, wrap it in a 'StringIO' object.\n",
      "  home_players = pd.read_html(str(table))[0].drop(11)\n",
      "C:\\Users\\user\\AppData\\Local\\Temp\\ipykernel_24300\\2944083324.py:32: FutureWarning: Passing literal html to 'read_html' is deprecated and will be removed in a future version. To read from a literal string, wrap it in a 'StringIO' object.\n",
      "  away_players = pd.read_html(str(table2))[0].drop(11)\n"
     ]
    },
    {
     "name": "stdout",
     "output_type": "stream",
     "text": [
      "meio: 2.6248257160186768\n",
      "fim: 2.6613996028900146\n",
      "/en/matches/a895ec23/Merseyside-Derby-Liverpool-Everton-February-13-2023-Premier-League\n"
     ]
    },
    {
     "name": "stderr",
     "output_type": "stream",
     "text": [
      "C:\\Users\\user\\AppData\\Local\\Temp\\ipykernel_24300\\2944083324.py:31: FutureWarning: Passing literal html to 'read_html' is deprecated and will be removed in a future version. To read from a literal string, wrap it in a 'StringIO' object.\n",
      "  home_players = pd.read_html(str(table))[0].drop(11)\n",
      "C:\\Users\\user\\AppData\\Local\\Temp\\ipykernel_24300\\2944083324.py:32: FutureWarning: Passing literal html to 'read_html' is deprecated and will be removed in a future version. To read from a literal string, wrap it in a 'StringIO' object.\n",
      "  away_players = pd.read_html(str(table2))[0].drop(11)\n"
     ]
    },
    {
     "name": "stdout",
     "output_type": "stream",
     "text": [
      "meio: 1.8678638935089111\n",
      "fim: 2.0106899738311768\n",
      "/en/matches/b9da01e6/Arsenal-Manchester-City-February-15-2023-Premier-League\n"
     ]
    },
    {
     "name": "stderr",
     "output_type": "stream",
     "text": [
      "C:\\Users\\user\\AppData\\Local\\Temp\\ipykernel_24300\\2944083324.py:31: FutureWarning: Passing literal html to 'read_html' is deprecated and will be removed in a future version. To read from a literal string, wrap it in a 'StringIO' object.\n",
      "  home_players = pd.read_html(str(table))[0].drop(11)\n",
      "C:\\Users\\user\\AppData\\Local\\Temp\\ipykernel_24300\\2944083324.py:32: FutureWarning: Passing literal html to 'read_html' is deprecated and will be removed in a future version. To read from a literal string, wrap it in a 'StringIO' object.\n",
      "  away_players = pd.read_html(str(table2))[0].drop(11)\n"
     ]
    },
    {
     "name": "stdout",
     "output_type": "stream",
     "text": [
      "meio: 2.056682586669922\n",
      "fim: 2.0909647941589355\n",
      "/en/matches/e50bfcf8/Aston-Villa-Arsenal-February-18-2023-Premier-League\n"
     ]
    },
    {
     "name": "stderr",
     "output_type": "stream",
     "text": [
      "C:\\Users\\user\\AppData\\Local\\Temp\\ipykernel_24300\\2944083324.py:31: FutureWarning: Passing literal html to 'read_html' is deprecated and will be removed in a future version. To read from a literal string, wrap it in a 'StringIO' object.\n",
      "  home_players = pd.read_html(str(table))[0].drop(11)\n",
      "C:\\Users\\user\\AppData\\Local\\Temp\\ipykernel_24300\\2944083324.py:32: FutureWarning: Passing literal html to 'read_html' is deprecated and will be removed in a future version. To read from a literal string, wrap it in a 'StringIO' object.\n",
      "  away_players = pd.read_html(str(table2))[0].drop(11)\n"
     ]
    },
    {
     "name": "stdout",
     "output_type": "stream",
     "text": [
      "meio: 2.192166566848755\n",
      "fim: 2.2362215518951416\n",
      "/en/matches/67a7aee6/Brighton-and-Hove-Albion-Fulham-February-18-2023-Premier-League\n"
     ]
    },
    {
     "name": "stderr",
     "output_type": "stream",
     "text": [
      "C:\\Users\\user\\AppData\\Local\\Temp\\ipykernel_24300\\2944083324.py:31: FutureWarning: Passing literal html to 'read_html' is deprecated and will be removed in a future version. To read from a literal string, wrap it in a 'StringIO' object.\n",
      "  home_players = pd.read_html(str(table))[0].drop(11)\n",
      "C:\\Users\\user\\AppData\\Local\\Temp\\ipykernel_24300\\2944083324.py:32: FutureWarning: Passing literal html to 'read_html' is deprecated and will be removed in a future version. To read from a literal string, wrap it in a 'StringIO' object.\n",
      "  away_players = pd.read_html(str(table2))[0].drop(11)\n"
     ]
    },
    {
     "name": "stdout",
     "output_type": "stream",
     "text": [
      "meio: 1.23040771484375\n",
      "fim: 1.273259162902832\n",
      "/en/matches/7f12d9aa/Nottingham-Forest-Manchester-City-February-18-2023-Premier-League\n"
     ]
    },
    {
     "name": "stderr",
     "output_type": "stream",
     "text": [
      "C:\\Users\\user\\AppData\\Local\\Temp\\ipykernel_24300\\2944083324.py:31: FutureWarning: Passing literal html to 'read_html' is deprecated and will be removed in a future version. To read from a literal string, wrap it in a 'StringIO' object.\n",
      "  home_players = pd.read_html(str(table))[0].drop(11)\n",
      "C:\\Users\\user\\AppData\\Local\\Temp\\ipykernel_24300\\2944083324.py:32: FutureWarning: Passing literal html to 'read_html' is deprecated and will be removed in a future version. To read from a literal string, wrap it in a 'StringIO' object.\n",
      "  away_players = pd.read_html(str(table2))[0].drop(11)\n"
     ]
    },
    {
     "name": "stdout",
     "output_type": "stream",
     "text": [
      "meio: 2.1714742183685303\n",
      "fim: 2.209747552871704\n",
      "/en/matches/8d750d5d/Chelsea-Southampton-February-18-2023-Premier-League\n"
     ]
    },
    {
     "name": "stderr",
     "output_type": "stream",
     "text": [
      "C:\\Users\\user\\AppData\\Local\\Temp\\ipykernel_24300\\2944083324.py:31: FutureWarning: Passing literal html to 'read_html' is deprecated and will be removed in a future version. To read from a literal string, wrap it in a 'StringIO' object.\n",
      "  home_players = pd.read_html(str(table))[0].drop(11)\n",
      "C:\\Users\\user\\AppData\\Local\\Temp\\ipykernel_24300\\2944083324.py:32: FutureWarning: Passing literal html to 'read_html' is deprecated and will be removed in a future version. To read from a literal string, wrap it in a 'StringIO' object.\n",
      "  away_players = pd.read_html(str(table2))[0].drop(11)\n"
     ]
    },
    {
     "name": "stdout",
     "output_type": "stream",
     "text": [
      "meio: 2.3356270790100098\n",
      "fim: 2.373901128768921\n",
      "/en/matches/d5f67d2e/Everton-Leeds-United-February-18-2023-Premier-League\n"
     ]
    },
    {
     "name": "stderr",
     "output_type": "stream",
     "text": [
      "C:\\Users\\user\\AppData\\Local\\Temp\\ipykernel_24300\\2944083324.py:31: FutureWarning: Passing literal html to 'read_html' is deprecated and will be removed in a future version. To read from a literal string, wrap it in a 'StringIO' object.\n",
      "  home_players = pd.read_html(str(table))[0].drop(11)\n",
      "C:\\Users\\user\\AppData\\Local\\Temp\\ipykernel_24300\\2944083324.py:32: FutureWarning: Passing literal html to 'read_html' is deprecated and will be removed in a future version. To read from a literal string, wrap it in a 'StringIO' object.\n",
      "  away_players = pd.read_html(str(table2))[0].drop(11)\n"
     ]
    },
    {
     "name": "stdout",
     "output_type": "stream",
     "text": [
      "meio: 3.539445161819458\n",
      "fim: 3.581224203109741\n",
      "/en/matches/eaf37ab4/Wolverhampton-Wanderers-Bournemouth-February-18-2023-Premier-League\n"
     ]
    },
    {
     "name": "stderr",
     "output_type": "stream",
     "text": [
      "C:\\Users\\user\\AppData\\Local\\Temp\\ipykernel_24300\\2944083324.py:31: FutureWarning: Passing literal html to 'read_html' is deprecated and will be removed in a future version. To read from a literal string, wrap it in a 'StringIO' object.\n",
      "  home_players = pd.read_html(str(table))[0].drop(11)\n",
      "C:\\Users\\user\\AppData\\Local\\Temp\\ipykernel_24300\\2944083324.py:32: FutureWarning: Passing literal html to 'read_html' is deprecated and will be removed in a future version. To read from a literal string, wrap it in a 'StringIO' object.\n",
      "  away_players = pd.read_html(str(table2))[0].drop(11)\n"
     ]
    },
    {
     "name": "stdout",
     "output_type": "stream",
     "text": [
      "meio: 2.147566318511963\n",
      "fim: 2.1912052631378174\n",
      "/en/matches/f6370484/Brentford-Crystal-Palace-February-18-2023-Premier-League\n"
     ]
    },
    {
     "name": "stderr",
     "output_type": "stream",
     "text": [
      "C:\\Users\\user\\AppData\\Local\\Temp\\ipykernel_24300\\2944083324.py:31: FutureWarning: Passing literal html to 'read_html' is deprecated and will be removed in a future version. To read from a literal string, wrap it in a 'StringIO' object.\n",
      "  home_players = pd.read_html(str(table))[0].drop(11)\n",
      "C:\\Users\\user\\AppData\\Local\\Temp\\ipykernel_24300\\2944083324.py:32: FutureWarning: Passing literal html to 'read_html' is deprecated and will be removed in a future version. To read from a literal string, wrap it in a 'StringIO' object.\n",
      "  away_players = pd.read_html(str(table2))[0].drop(11)\n"
     ]
    },
    {
     "name": "stdout",
     "output_type": "stream",
     "text": [
      "meio: 1.2329976558685303\n",
      "fim: 1.2716505527496338\n",
      "/en/matches/2f909763/Newcastle-United-Liverpool-February-18-2023-Premier-League\n"
     ]
    },
    {
     "name": "stderr",
     "output_type": "stream",
     "text": [
      "C:\\Users\\user\\AppData\\Local\\Temp\\ipykernel_24300\\2944083324.py:31: FutureWarning: Passing literal html to 'read_html' is deprecated and will be removed in a future version. To read from a literal string, wrap it in a 'StringIO' object.\n",
      "  home_players = pd.read_html(str(table))[0].drop(11)\n",
      "C:\\Users\\user\\AppData\\Local\\Temp\\ipykernel_24300\\2944083324.py:32: FutureWarning: Passing literal html to 'read_html' is deprecated and will be removed in a future version. To read from a literal string, wrap it in a 'StringIO' object.\n",
      "  away_players = pd.read_html(str(table2))[0].drop(11)\n"
     ]
    },
    {
     "name": "stdout",
     "output_type": "stream",
     "text": [
      "meio: 2.114630699157715\n",
      "fim: 2.1563501358032227\n",
      "/en/matches/d6e88163/Manchester-United-Leicester-City-February-19-2023-Premier-League\n"
     ]
    },
    {
     "name": "stderr",
     "output_type": "stream",
     "text": [
      "C:\\Users\\user\\AppData\\Local\\Temp\\ipykernel_24300\\2944083324.py:31: FutureWarning: Passing literal html to 'read_html' is deprecated and will be removed in a future version. To read from a literal string, wrap it in a 'StringIO' object.\n",
      "  home_players = pd.read_html(str(table))[0].drop(11)\n",
      "C:\\Users\\user\\AppData\\Local\\Temp\\ipykernel_24300\\2944083324.py:32: FutureWarning: Passing literal html to 'read_html' is deprecated and will be removed in a future version. To read from a literal string, wrap it in a 'StringIO' object.\n",
      "  away_players = pd.read_html(str(table2))[0].drop(11)\n"
     ]
    },
    {
     "name": "stdout",
     "output_type": "stream",
     "text": [
      "meio: 2.088181495666504\n",
      "fim: 2.1274197101593018\n",
      "/en/matches/aae66d3d/Tottenham-Hotspur-West-Ham-United-February-19-2023-Premier-League\n"
     ]
    },
    {
     "name": "stderr",
     "output_type": "stream",
     "text": [
      "C:\\Users\\user\\AppData\\Local\\Temp\\ipykernel_24300\\2944083324.py:31: FutureWarning: Passing literal html to 'read_html' is deprecated and will be removed in a future version. To read from a literal string, wrap it in a 'StringIO' object.\n",
      "  home_players = pd.read_html(str(table))[0].drop(11)\n",
      "C:\\Users\\user\\AppData\\Local\\Temp\\ipykernel_24300\\2944083324.py:32: FutureWarning: Passing literal html to 'read_html' is deprecated and will be removed in a future version. To read from a literal string, wrap it in a 'StringIO' object.\n",
      "  away_players = pd.read_html(str(table2))[0].drop(11)\n"
     ]
    },
    {
     "name": "stdout",
     "output_type": "stream",
     "text": [
      "meio: 2.4790549278259277\n",
      "fim: 2.5189054012298584\n",
      "/en/matches/b452508e/Fulham-Wolverhampton-Wanderers-February-24-2023-Premier-League\n"
     ]
    },
    {
     "name": "stderr",
     "output_type": "stream",
     "text": [
      "C:\\Users\\user\\AppData\\Local\\Temp\\ipykernel_24300\\2944083324.py:31: FutureWarning: Passing literal html to 'read_html' is deprecated and will be removed in a future version. To read from a literal string, wrap it in a 'StringIO' object.\n",
      "  home_players = pd.read_html(str(table))[0].drop(11)\n",
      "C:\\Users\\user\\AppData\\Local\\Temp\\ipykernel_24300\\2944083324.py:32: FutureWarning: Passing literal html to 'read_html' is deprecated and will be removed in a future version. To read from a literal string, wrap it in a 'StringIO' object.\n",
      "  away_players = pd.read_html(str(table2))[0].drop(11)\n"
     ]
    },
    {
     "name": "stdout",
     "output_type": "stream",
     "text": [
      "meio: 2.1643874645233154\n",
      "fim: 2.200212001800537\n",
      "/en/matches/145cc0a5/Leicester-City-Arsenal-February-25-2023-Premier-League\n"
     ]
    },
    {
     "name": "stderr",
     "output_type": "stream",
     "text": [
      "C:\\Users\\user\\AppData\\Local\\Temp\\ipykernel_24300\\2944083324.py:31: FutureWarning: Passing literal html to 'read_html' is deprecated and will be removed in a future version. To read from a literal string, wrap it in a 'StringIO' object.\n",
      "  home_players = pd.read_html(str(table))[0].drop(11)\n",
      "C:\\Users\\user\\AppData\\Local\\Temp\\ipykernel_24300\\2944083324.py:32: FutureWarning: Passing literal html to 'read_html' is deprecated and will be removed in a future version. To read from a literal string, wrap it in a 'StringIO' object.\n",
      "  away_players = pd.read_html(str(table2))[0].drop(11)\n"
     ]
    },
    {
     "name": "stdout",
     "output_type": "stream",
     "text": [
      "meio: 2.721435308456421\n",
      "fim: 2.7606945037841797\n",
      "/en/matches/25436a3b/Everton-Aston-Villa-February-25-2023-Premier-League\n"
     ]
    },
    {
     "name": "stderr",
     "output_type": "stream",
     "text": [
      "C:\\Users\\user\\AppData\\Local\\Temp\\ipykernel_24300\\2944083324.py:31: FutureWarning: Passing literal html to 'read_html' is deprecated and will be removed in a future version. To read from a literal string, wrap it in a 'StringIO' object.\n",
      "  home_players = pd.read_html(str(table))[0].drop(11)\n",
      "C:\\Users\\user\\AppData\\Local\\Temp\\ipykernel_24300\\2944083324.py:32: FutureWarning: Passing literal html to 'read_html' is deprecated and will be removed in a future version. To read from a literal string, wrap it in a 'StringIO' object.\n",
      "  away_players = pd.read_html(str(table2))[0].drop(11)\n"
     ]
    },
    {
     "name": "stdout",
     "output_type": "stream",
     "text": [
      "meio: 3.037569284439087\n",
      "fim: 3.074615478515625\n",
      "/en/matches/767981c6/West-Ham-United-Nottingham-Forest-February-25-2023-Premier-League\n"
     ]
    },
    {
     "name": "stderr",
     "output_type": "stream",
     "text": [
      "C:\\Users\\user\\AppData\\Local\\Temp\\ipykernel_24300\\2944083324.py:31: FutureWarning: Passing literal html to 'read_html' is deprecated and will be removed in a future version. To read from a literal string, wrap it in a 'StringIO' object.\n",
      "  home_players = pd.read_html(str(table))[0].drop(11)\n",
      "C:\\Users\\user\\AppData\\Local\\Temp\\ipykernel_24300\\2944083324.py:32: FutureWarning: Passing literal html to 'read_html' is deprecated and will be removed in a future version. To read from a literal string, wrap it in a 'StringIO' object.\n",
      "  away_players = pd.read_html(str(table2))[0].drop(11)\n"
     ]
    },
    {
     "name": "stdout",
     "output_type": "stream",
     "text": [
      "meio: 2.2918121814727783\n",
      "fim: 2.3305423259735107\n",
      "/en/matches/9edb32a3/Leeds-United-Southampton-February-25-2023-Premier-League\n"
     ]
    },
    {
     "name": "stderr",
     "output_type": "stream",
     "text": [
      "C:\\Users\\user\\AppData\\Local\\Temp\\ipykernel_24300\\2944083324.py:31: FutureWarning: Passing literal html to 'read_html' is deprecated and will be removed in a future version. To read from a literal string, wrap it in a 'StringIO' object.\n",
      "  home_players = pd.read_html(str(table))[0].drop(11)\n",
      "C:\\Users\\user\\AppData\\Local\\Temp\\ipykernel_24300\\2944083324.py:32: FutureWarning: Passing literal html to 'read_html' is deprecated and will be removed in a future version. To read from a literal string, wrap it in a 'StringIO' object.\n",
      "  away_players = pd.read_html(str(table2))[0].drop(11)\n"
     ]
    },
    {
     "name": "stdout",
     "output_type": "stream",
     "text": [
      "meio: 2.2279226779937744\n",
      "fim: 2.268205165863037\n",
      "/en/matches/e731c1dd/Bournemouth-Manchester-City-February-25-2023-Premier-League\n"
     ]
    },
    {
     "name": "stderr",
     "output_type": "stream",
     "text": [
      "C:\\Users\\user\\AppData\\Local\\Temp\\ipykernel_24300\\2944083324.py:31: FutureWarning: Passing literal html to 'read_html' is deprecated and will be removed in a future version. To read from a literal string, wrap it in a 'StringIO' object.\n",
      "  home_players = pd.read_html(str(table))[0].drop(11)\n",
      "C:\\Users\\user\\AppData\\Local\\Temp\\ipykernel_24300\\2944083324.py:32: FutureWarning: Passing literal html to 'read_html' is deprecated and will be removed in a future version. To read from a literal string, wrap it in a 'StringIO' object.\n",
      "  away_players = pd.read_html(str(table2))[0].drop(11)\n"
     ]
    },
    {
     "name": "stdout",
     "output_type": "stream",
     "text": [
      "meio: 1.2262704372406006\n",
      "fim: 1.2774124145507812\n",
      "/en/matches/8a59c49c/Crystal-Palace-Liverpool-February-25-2023-Premier-League\n"
     ]
    },
    {
     "name": "stderr",
     "output_type": "stream",
     "text": [
      "C:\\Users\\user\\AppData\\Local\\Temp\\ipykernel_24300\\2944083324.py:31: FutureWarning: Passing literal html to 'read_html' is deprecated and will be removed in a future version. To read from a literal string, wrap it in a 'StringIO' object.\n",
      "  home_players = pd.read_html(str(table))[0].drop(11)\n",
      "C:\\Users\\user\\AppData\\Local\\Temp\\ipykernel_24300\\2944083324.py:32: FutureWarning: Passing literal html to 'read_html' is deprecated and will be removed in a future version. To read from a literal string, wrap it in a 'StringIO' object.\n",
      "  away_players = pd.read_html(str(table2))[0].drop(11)\n"
     ]
    },
    {
     "name": "stdout",
     "output_type": "stream",
     "text": [
      "meio: 2.6143240928649902\n",
      "fim: 2.6515564918518066\n",
      "/en/matches/8eff71b5/Tottenham-Hotspur-Chelsea-February-26-2023-Premier-League\n"
     ]
    },
    {
     "name": "stderr",
     "output_type": "stream",
     "text": [
      "C:\\Users\\user\\AppData\\Local\\Temp\\ipykernel_24300\\2944083324.py:31: FutureWarning: Passing literal html to 'read_html' is deprecated and will be removed in a future version. To read from a literal string, wrap it in a 'StringIO' object.\n",
      "  home_players = pd.read_html(str(table))[0].drop(11)\n",
      "C:\\Users\\user\\AppData\\Local\\Temp\\ipykernel_24300\\2944083324.py:32: FutureWarning: Passing literal html to 'read_html' is deprecated and will be removed in a future version. To read from a literal string, wrap it in a 'StringIO' object.\n",
      "  away_players = pd.read_html(str(table2))[0].drop(11)\n"
     ]
    },
    {
     "name": "stdout",
     "output_type": "stream",
     "text": [
      "meio: 1.1471583843231201\n",
      "fim: 1.184577465057373\n",
      "/en/matches/705a2f3c/Arsenal-Everton-March-1-2023-Premier-League\n"
     ]
    },
    {
     "name": "stderr",
     "output_type": "stream",
     "text": [
      "C:\\Users\\user\\AppData\\Local\\Temp\\ipykernel_24300\\2944083324.py:31: FutureWarning: Passing literal html to 'read_html' is deprecated and will be removed in a future version. To read from a literal string, wrap it in a 'StringIO' object.\n",
      "  home_players = pd.read_html(str(table))[0].drop(11)\n",
      "C:\\Users\\user\\AppData\\Local\\Temp\\ipykernel_24300\\2944083324.py:32: FutureWarning: Passing literal html to 'read_html' is deprecated and will be removed in a future version. To read from a literal string, wrap it in a 'StringIO' object.\n",
      "  away_players = pd.read_html(str(table2))[0].drop(11)\n"
     ]
    },
    {
     "name": "stdout",
     "output_type": "stream",
     "text": [
      "meio: 2.578547239303589\n",
      "fim: 2.635735273361206\n",
      "/en/matches/5e05f5f4/Liverpool-Wolverhampton-Wanderers-March-1-2023-Premier-League\n"
     ]
    },
    {
     "name": "stderr",
     "output_type": "stream",
     "text": [
      "C:\\Users\\user\\AppData\\Local\\Temp\\ipykernel_24300\\2944083324.py:31: FutureWarning: Passing literal html to 'read_html' is deprecated and will be removed in a future version. To read from a literal string, wrap it in a 'StringIO' object.\n",
      "  home_players = pd.read_html(str(table))[0].drop(11)\n",
      "C:\\Users\\user\\AppData\\Local\\Temp\\ipykernel_24300\\2944083324.py:32: FutureWarning: Passing literal html to 'read_html' is deprecated and will be removed in a future version. To read from a literal string, wrap it in a 'StringIO' object.\n",
      "  away_players = pd.read_html(str(table2))[0].drop(11)\n"
     ]
    },
    {
     "name": "stdout",
     "output_type": "stream",
     "text": [
      "meio: 4.135487079620361\n",
      "fim: 4.183751106262207\n",
      "/en/matches/b33bcb97/Manchester-City-Newcastle-United-March-4-2023-Premier-League\n"
     ]
    },
    {
     "name": "stderr",
     "output_type": "stream",
     "text": [
      "C:\\Users\\user\\AppData\\Local\\Temp\\ipykernel_24300\\2944083324.py:31: FutureWarning: Passing literal html to 'read_html' is deprecated and will be removed in a future version. To read from a literal string, wrap it in a 'StringIO' object.\n",
      "  home_players = pd.read_html(str(table))[0].drop(11)\n",
      "C:\\Users\\user\\AppData\\Local\\Temp\\ipykernel_24300\\2944083324.py:32: FutureWarning: Passing literal html to 'read_html' is deprecated and will be removed in a future version. To read from a literal string, wrap it in a 'StringIO' object.\n",
      "  away_players = pd.read_html(str(table2))[0].drop(11)\n"
     ]
    },
    {
     "name": "stdout",
     "output_type": "stream",
     "text": [
      "meio: 1.8945960998535156\n",
      "fim: 1.930943250656128\n",
      "/en/matches/3e9a33fc/Arsenal-Bournemouth-March-4-2023-Premier-League\n"
     ]
    },
    {
     "name": "stderr",
     "output_type": "stream",
     "text": [
      "C:\\Users\\user\\AppData\\Local\\Temp\\ipykernel_24300\\2944083324.py:31: FutureWarning: Passing literal html to 'read_html' is deprecated and will be removed in a future version. To read from a literal string, wrap it in a 'StringIO' object.\n",
      "  home_players = pd.read_html(str(table))[0].drop(11)\n",
      "C:\\Users\\user\\AppData\\Local\\Temp\\ipykernel_24300\\2944083324.py:32: FutureWarning: Passing literal html to 'read_html' is deprecated and will be removed in a future version. To read from a literal string, wrap it in a 'StringIO' object.\n",
      "  away_players = pd.read_html(str(table2))[0].drop(11)\n"
     ]
    },
    {
     "name": "stdout",
     "output_type": "stream",
     "text": [
      "meio: 1.255368709564209\n",
      "fim: 1.3012466430664062\n",
      "/en/matches/433a4487/Aston-Villa-Crystal-Palace-March-4-2023-Premier-League\n"
     ]
    },
    {
     "name": "stderr",
     "output_type": "stream",
     "text": [
      "C:\\Users\\user\\AppData\\Local\\Temp\\ipykernel_24300\\2944083324.py:31: FutureWarning: Passing literal html to 'read_html' is deprecated and will be removed in a future version. To read from a literal string, wrap it in a 'StringIO' object.\n",
      "  home_players = pd.read_html(str(table))[0].drop(11)\n",
      "C:\\Users\\user\\AppData\\Local\\Temp\\ipykernel_24300\\2944083324.py:32: FutureWarning: Passing literal html to 'read_html' is deprecated and will be removed in a future version. To read from a literal string, wrap it in a 'StringIO' object.\n",
      "  away_players = pd.read_html(str(table2))[0].drop(11)\n"
     ]
    },
    {
     "name": "stdout",
     "output_type": "stream",
     "text": [
      "meio: 2.0078208446502686\n",
      "fim: 2.0504746437072754\n",
      "/en/matches/59f9a78f/Chelsea-Leeds-United-March-4-2023-Premier-League\n"
     ]
    },
    {
     "name": "stderr",
     "output_type": "stream",
     "text": [
      "C:\\Users\\user\\AppData\\Local\\Temp\\ipykernel_24300\\2944083324.py:31: FutureWarning: Passing literal html to 'read_html' is deprecated and will be removed in a future version. To read from a literal string, wrap it in a 'StringIO' object.\n",
      "  home_players = pd.read_html(str(table))[0].drop(11)\n",
      "C:\\Users\\user\\AppData\\Local\\Temp\\ipykernel_24300\\2944083324.py:32: FutureWarning: Passing literal html to 'read_html' is deprecated and will be removed in a future version. To read from a literal string, wrap it in a 'StringIO' object.\n",
      "  away_players = pd.read_html(str(table2))[0].drop(11)\n"
     ]
    },
    {
     "name": "stdout",
     "output_type": "stream",
     "text": [
      "meio: 1.230222463607788\n",
      "fim: 1.2745440006256104\n",
      "/en/matches/bee059c4/Brighton-and-Hove-Albion-West-Ham-United-March-4-2023-Premier-League\n"
     ]
    },
    {
     "name": "stderr",
     "output_type": "stream",
     "text": [
      "C:\\Users\\user\\AppData\\Local\\Temp\\ipykernel_24300\\2944083324.py:31: FutureWarning: Passing literal html to 'read_html' is deprecated and will be removed in a future version. To read from a literal string, wrap it in a 'StringIO' object.\n",
      "  home_players = pd.read_html(str(table))[0].drop(11)\n",
      "C:\\Users\\user\\AppData\\Local\\Temp\\ipykernel_24300\\2944083324.py:32: FutureWarning: Passing literal html to 'read_html' is deprecated and will be removed in a future version. To read from a literal string, wrap it in a 'StringIO' object.\n",
      "  away_players = pd.read_html(str(table2))[0].drop(11)\n"
     ]
    },
    {
     "name": "stdout",
     "output_type": "stream",
     "text": [
      "meio: 1.329385757446289\n",
      "fim: 1.3663549423217773\n",
      "/en/matches/bf4ac62d/Wolverhampton-Wanderers-Tottenham-Hotspur-March-4-2023-Premier-League\n"
     ]
    },
    {
     "name": "stderr",
     "output_type": "stream",
     "text": [
      "C:\\Users\\user\\AppData\\Local\\Temp\\ipykernel_24300\\2944083324.py:31: FutureWarning: Passing literal html to 'read_html' is deprecated and will be removed in a future version. To read from a literal string, wrap it in a 'StringIO' object.\n",
      "  home_players = pd.read_html(str(table))[0].drop(11)\n",
      "C:\\Users\\user\\AppData\\Local\\Temp\\ipykernel_24300\\2944083324.py:32: FutureWarning: Passing literal html to 'read_html' is deprecated and will be removed in a future version. To read from a literal string, wrap it in a 'StringIO' object.\n",
      "  away_players = pd.read_html(str(table2))[0].drop(11)\n"
     ]
    },
    {
     "name": "stdout",
     "output_type": "stream",
     "text": [
      "meio: 2.6653366088867188\n",
      "fim: 2.704313039779663\n",
      "/en/matches/4d14422c/Southampton-Leicester-City-March-4-2023-Premier-League\n"
     ]
    },
    {
     "name": "stderr",
     "output_type": "stream",
     "text": [
      "C:\\Users\\user\\AppData\\Local\\Temp\\ipykernel_24300\\2944083324.py:31: FutureWarning: Passing literal html to 'read_html' is deprecated and will be removed in a future version. To read from a literal string, wrap it in a 'StringIO' object.\n",
      "  home_players = pd.read_html(str(table))[0].drop(11)\n",
      "C:\\Users\\user\\AppData\\Local\\Temp\\ipykernel_24300\\2944083324.py:32: FutureWarning: Passing literal html to 'read_html' is deprecated and will be removed in a future version. To read from a literal string, wrap it in a 'StringIO' object.\n",
      "  away_players = pd.read_html(str(table2))[0].drop(11)\n"
     ]
    },
    {
     "name": "stdout",
     "output_type": "stream",
     "text": [
      "meio: 2.7150633335113525\n",
      "fim: 2.7614409923553467\n",
      "/en/matches/ec770341/Nottingham-Forest-Everton-March-5-2023-Premier-League\n"
     ]
    },
    {
     "name": "stderr",
     "output_type": "stream",
     "text": [
      "C:\\Users\\user\\AppData\\Local\\Temp\\ipykernel_24300\\2944083324.py:31: FutureWarning: Passing literal html to 'read_html' is deprecated and will be removed in a future version. To read from a literal string, wrap it in a 'StringIO' object.\n",
      "  home_players = pd.read_html(str(table))[0].drop(11)\n",
      "C:\\Users\\user\\AppData\\Local\\Temp\\ipykernel_24300\\2944083324.py:32: FutureWarning: Passing literal html to 'read_html' is deprecated and will be removed in a future version. To read from a literal string, wrap it in a 'StringIO' object.\n",
      "  away_players = pd.read_html(str(table2))[0].drop(11)\n"
     ]
    },
    {
     "name": "stdout",
     "output_type": "stream",
     "text": [
      "meio: 2.324256181716919\n",
      "fim: 2.365365505218506\n",
      "/en/matches/756e8036/North-West-Derby-Liverpool-Manchester-United-March-5-2023-Premier-League\n"
     ]
    },
    {
     "name": "stderr",
     "output_type": "stream",
     "text": [
      "C:\\Users\\user\\AppData\\Local\\Temp\\ipykernel_24300\\2944083324.py:31: FutureWarning: Passing literal html to 'read_html' is deprecated and will be removed in a future version. To read from a literal string, wrap it in a 'StringIO' object.\n",
      "  home_players = pd.read_html(str(table))[0].drop(11)\n",
      "C:\\Users\\user\\AppData\\Local\\Temp\\ipykernel_24300\\2944083324.py:32: FutureWarning: Passing literal html to 'read_html' is deprecated and will be removed in a future version. To read from a literal string, wrap it in a 'StringIO' object.\n",
      "  away_players = pd.read_html(str(table2))[0].drop(11)\n"
     ]
    },
    {
     "name": "stdout",
     "output_type": "stream",
     "text": [
      "meio: 2.243584394454956\n",
      "fim: 2.290883779525757\n",
      "/en/matches/3dce3a24/Brentford-Fulham-March-6-2023-Premier-League\n"
     ]
    },
    {
     "name": "stderr",
     "output_type": "stream",
     "text": [
      "C:\\Users\\user\\AppData\\Local\\Temp\\ipykernel_24300\\2944083324.py:31: FutureWarning: Passing literal html to 'read_html' is deprecated and will be removed in a future version. To read from a literal string, wrap it in a 'StringIO' object.\n",
      "  home_players = pd.read_html(str(table))[0].drop(11)\n",
      "C:\\Users\\user\\AppData\\Local\\Temp\\ipykernel_24300\\2944083324.py:32: FutureWarning: Passing literal html to 'read_html' is deprecated and will be removed in a future version. To read from a literal string, wrap it in a 'StringIO' object.\n",
      "  away_players = pd.read_html(str(table2))[0].drop(11)\n"
     ]
    },
    {
     "name": "stdout",
     "output_type": "stream",
     "text": [
      "meio: 1.2056381702423096\n",
      "fim: 1.2564327716827393\n",
      "/en/matches/d376dff8/Bournemouth-Liverpool-March-11-2023-Premier-League\n"
     ]
    },
    {
     "name": "stderr",
     "output_type": "stream",
     "text": [
      "C:\\Users\\user\\AppData\\Local\\Temp\\ipykernel_24300\\2944083324.py:31: FutureWarning: Passing literal html to 'read_html' is deprecated and will be removed in a future version. To read from a literal string, wrap it in a 'StringIO' object.\n",
      "  home_players = pd.read_html(str(table))[0].drop(11)\n",
      "C:\\Users\\user\\AppData\\Local\\Temp\\ipykernel_24300\\2944083324.py:32: FutureWarning: Passing literal html to 'read_html' is deprecated and will be removed in a future version. To read from a literal string, wrap it in a 'StringIO' object.\n",
      "  away_players = pd.read_html(str(table2))[0].drop(11)\n"
     ]
    },
    {
     "name": "stdout",
     "output_type": "stream",
     "text": [
      "meio: 1.5167524814605713\n",
      "fim: 1.5913114547729492\n",
      "/en/matches/3f653d6f/Leeds-United-Brighton-and-Hove-Albion-March-11-2023-Premier-League\n"
     ]
    },
    {
     "name": "stderr",
     "output_type": "stream",
     "text": [
      "C:\\Users\\user\\AppData\\Local\\Temp\\ipykernel_24300\\2944083324.py:31: FutureWarning: Passing literal html to 'read_html' is deprecated and will be removed in a future version. To read from a literal string, wrap it in a 'StringIO' object.\n",
      "  home_players = pd.read_html(str(table))[0].drop(11)\n",
      "C:\\Users\\user\\AppData\\Local\\Temp\\ipykernel_24300\\2944083324.py:32: FutureWarning: Passing literal html to 'read_html' is deprecated and will be removed in a future version. To read from a literal string, wrap it in a 'StringIO' object.\n",
      "  away_players = pd.read_html(str(table2))[0].drop(11)\n"
     ]
    },
    {
     "name": "stdout",
     "output_type": "stream",
     "text": [
      "meio: 1.4700276851654053\n",
      "fim: 1.5271143913269043\n",
      "/en/matches/980f57d4/Everton-Brentford-March-11-2023-Premier-League\n"
     ]
    },
    {
     "name": "stderr",
     "output_type": "stream",
     "text": [
      "C:\\Users\\user\\AppData\\Local\\Temp\\ipykernel_24300\\2944083324.py:31: FutureWarning: Passing literal html to 'read_html' is deprecated and will be removed in a future version. To read from a literal string, wrap it in a 'StringIO' object.\n",
      "  home_players = pd.read_html(str(table))[0].drop(11)\n",
      "C:\\Users\\user\\AppData\\Local\\Temp\\ipykernel_24300\\2944083324.py:32: FutureWarning: Passing literal html to 'read_html' is deprecated and will be removed in a future version. To read from a literal string, wrap it in a 'StringIO' object.\n",
      "  away_players = pd.read_html(str(table2))[0].drop(11)\n"
     ]
    },
    {
     "name": "stdout",
     "output_type": "stream",
     "text": [
      "meio: 1.4714415073394775\n",
      "fim: 1.522538661956787\n",
      "/en/matches/bd5571a1/Leicester-City-Chelsea-March-11-2023-Premier-League\n"
     ]
    },
    {
     "name": "stderr",
     "output_type": "stream",
     "text": [
      "C:\\Users\\user\\AppData\\Local\\Temp\\ipykernel_24300\\2944083324.py:31: FutureWarning: Passing literal html to 'read_html' is deprecated and will be removed in a future version. To read from a literal string, wrap it in a 'StringIO' object.\n",
      "  home_players = pd.read_html(str(table))[0].drop(11)\n",
      "C:\\Users\\user\\AppData\\Local\\Temp\\ipykernel_24300\\2944083324.py:32: FutureWarning: Passing literal html to 'read_html' is deprecated and will be removed in a future version. To read from a literal string, wrap it in a 'StringIO' object.\n",
      "  away_players = pd.read_html(str(table2))[0].drop(11)\n"
     ]
    },
    {
     "name": "stdout",
     "output_type": "stream",
     "text": [
      "meio: 1.477435827255249\n",
      "fim: 1.5645606517791748\n",
      "/en/matches/d065f9cd/Tottenham-Hotspur-Nottingham-Forest-March-11-2023-Premier-League\n"
     ]
    },
    {
     "name": "stderr",
     "output_type": "stream",
     "text": [
      "C:\\Users\\user\\AppData\\Local\\Temp\\ipykernel_24300\\2944083324.py:31: FutureWarning: Passing literal html to 'read_html' is deprecated and will be removed in a future version. To read from a literal string, wrap it in a 'StringIO' object.\n",
      "  home_players = pd.read_html(str(table))[0].drop(11)\n",
      "C:\\Users\\user\\AppData\\Local\\Temp\\ipykernel_24300\\2944083324.py:32: FutureWarning: Passing literal html to 'read_html' is deprecated and will be removed in a future version. To read from a literal string, wrap it in a 'StringIO' object.\n",
      "  away_players = pd.read_html(str(table2))[0].drop(11)\n"
     ]
    },
    {
     "name": "stdout",
     "output_type": "stream",
     "text": [
      "meio: 3.0510241985321045\n",
      "fim: 3.0913147926330566\n",
      "/en/matches/d29fe1d9/Crystal-Palace-Manchester-City-March-11-2023-Premier-League\n"
     ]
    },
    {
     "name": "stderr",
     "output_type": "stream",
     "text": [
      "C:\\Users\\user\\AppData\\Local\\Temp\\ipykernel_24300\\2944083324.py:31: FutureWarning: Passing literal html to 'read_html' is deprecated and will be removed in a future version. To read from a literal string, wrap it in a 'StringIO' object.\n",
      "  home_players = pd.read_html(str(table))[0].drop(11)\n",
      "C:\\Users\\user\\AppData\\Local\\Temp\\ipykernel_24300\\2944083324.py:32: FutureWarning: Passing literal html to 'read_html' is deprecated and will be removed in a future version. To read from a literal string, wrap it in a 'StringIO' object.\n",
      "  away_players = pd.read_html(str(table2))[0].drop(11)\n"
     ]
    },
    {
     "name": "stdout",
     "output_type": "stream",
     "text": [
      "meio: 1.9408998489379883\n",
      "fim: 1.987149715423584\n",
      "/en/matches/9cd3ca2c/Manchester-United-Southampton-March-12-2023-Premier-League\n"
     ]
    },
    {
     "name": "stderr",
     "output_type": "stream",
     "text": [
      "C:\\Users\\user\\AppData\\Local\\Temp\\ipykernel_24300\\2944083324.py:31: FutureWarning: Passing literal html to 'read_html' is deprecated and will be removed in a future version. To read from a literal string, wrap it in a 'StringIO' object.\n",
      "  home_players = pd.read_html(str(table))[0].drop(11)\n",
      "C:\\Users\\user\\AppData\\Local\\Temp\\ipykernel_24300\\2944083324.py:32: FutureWarning: Passing literal html to 'read_html' is deprecated and will be removed in a future version. To read from a literal string, wrap it in a 'StringIO' object.\n",
      "  away_players = pd.read_html(str(table2))[0].drop(11)\n"
     ]
    },
    {
     "name": "stdout",
     "output_type": "stream",
     "text": [
      "meio: 2.6772570610046387\n",
      "fim: 2.7164881229400635\n",
      "/en/matches/d238973c/Fulham-Arsenal-March-12-2023-Premier-League\n"
     ]
    },
    {
     "name": "stderr",
     "output_type": "stream",
     "text": [
      "C:\\Users\\user\\AppData\\Local\\Temp\\ipykernel_24300\\2944083324.py:31: FutureWarning: Passing literal html to 'read_html' is deprecated and will be removed in a future version. To read from a literal string, wrap it in a 'StringIO' object.\n",
      "  home_players = pd.read_html(str(table))[0].drop(11)\n",
      "C:\\Users\\user\\AppData\\Local\\Temp\\ipykernel_24300\\2944083324.py:32: FutureWarning: Passing literal html to 'read_html' is deprecated and will be removed in a future version. To read from a literal string, wrap it in a 'StringIO' object.\n",
      "  away_players = pd.read_html(str(table2))[0].drop(11)\n"
     ]
    },
    {
     "name": "stdout",
     "output_type": "stream",
     "text": [
      "meio: 2.5316452980041504\n",
      "fim: 2.5707037448883057\n",
      "/en/matches/df6f054e/West-Ham-United-Aston-Villa-March-12-2023-Premier-League\n"
     ]
    },
    {
     "name": "stderr",
     "output_type": "stream",
     "text": [
      "C:\\Users\\user\\AppData\\Local\\Temp\\ipykernel_24300\\2944083324.py:31: FutureWarning: Passing literal html to 'read_html' is deprecated and will be removed in a future version. To read from a literal string, wrap it in a 'StringIO' object.\n",
      "  home_players = pd.read_html(str(table))[0].drop(11)\n",
      "C:\\Users\\user\\AppData\\Local\\Temp\\ipykernel_24300\\2944083324.py:32: FutureWarning: Passing literal html to 'read_html' is deprecated and will be removed in a future version. To read from a literal string, wrap it in a 'StringIO' object.\n",
      "  away_players = pd.read_html(str(table2))[0].drop(11)\n"
     ]
    },
    {
     "name": "stdout",
     "output_type": "stream",
     "text": [
      "meio: 2.065026044845581\n",
      "fim: 2.1037237644195557\n",
      "/en/matches/c416a3de/Newcastle-United-Wolverhampton-Wanderers-March-12-2023-Premier-League\n"
     ]
    },
    {
     "name": "stderr",
     "output_type": "stream",
     "text": [
      "C:\\Users\\user\\AppData\\Local\\Temp\\ipykernel_24300\\2944083324.py:31: FutureWarning: Passing literal html to 'read_html' is deprecated and will be removed in a future version. To read from a literal string, wrap it in a 'StringIO' object.\n",
      "  home_players = pd.read_html(str(table))[0].drop(11)\n",
      "C:\\Users\\user\\AppData\\Local\\Temp\\ipykernel_24300\\2944083324.py:32: FutureWarning: Passing literal html to 'read_html' is deprecated and will be removed in a future version. To read from a literal string, wrap it in a 'StringIO' object.\n",
      "  away_players = pd.read_html(str(table2))[0].drop(11)\n"
     ]
    },
    {
     "name": "stdout",
     "output_type": "stream",
     "text": [
      "meio: 2.6883459091186523\n",
      "fim: 2.7347142696380615\n",
      "/en/matches/a4202b5b/Southampton-Brentford-March-15-2023-Premier-League\n"
     ]
    },
    {
     "name": "stderr",
     "output_type": "stream",
     "text": [
      "C:\\Users\\user\\AppData\\Local\\Temp\\ipykernel_24300\\2944083324.py:31: FutureWarning: Passing literal html to 'read_html' is deprecated and will be removed in a future version. To read from a literal string, wrap it in a 'StringIO' object.\n",
      "  home_players = pd.read_html(str(table))[0].drop(11)\n",
      "C:\\Users\\user\\AppData\\Local\\Temp\\ipykernel_24300\\2944083324.py:32: FutureWarning: Passing literal html to 'read_html' is deprecated and will be removed in a future version. To read from a literal string, wrap it in a 'StringIO' object.\n",
      "  away_players = pd.read_html(str(table2))[0].drop(11)\n"
     ]
    },
    {
     "name": "stdout",
     "output_type": "stream",
     "text": [
      "meio: 1.4953081607818604\n",
      "fim: 1.541886568069458\n",
      "/en/matches/d23a30cc/Brighton-and-Hove-Albion-Crystal-Palace-March-15-2023-Premier-League\n"
     ]
    },
    {
     "name": "stderr",
     "output_type": "stream",
     "text": [
      "C:\\Users\\user\\AppData\\Local\\Temp\\ipykernel_24300\\2944083324.py:31: FutureWarning: Passing literal html to 'read_html' is deprecated and will be removed in a future version. To read from a literal string, wrap it in a 'StringIO' object.\n",
      "  home_players = pd.read_html(str(table))[0].drop(11)\n",
      "C:\\Users\\user\\AppData\\Local\\Temp\\ipykernel_24300\\2944083324.py:32: FutureWarning: Passing literal html to 'read_html' is deprecated and will be removed in a future version. To read from a literal string, wrap it in a 'StringIO' object.\n",
      "  away_players = pd.read_html(str(table2))[0].drop(11)\n"
     ]
    },
    {
     "name": "stdout",
     "output_type": "stream",
     "text": [
      "meio: 1.6098060607910156\n",
      "fim: 1.6905443668365479\n",
      "/en/matches/5345049a/Nottingham-Forest-Newcastle-United-March-17-2023-Premier-League\n"
     ]
    },
    {
     "name": "stderr",
     "output_type": "stream",
     "text": [
      "C:\\Users\\user\\AppData\\Local\\Temp\\ipykernel_24300\\2944083324.py:31: FutureWarning: Passing literal html to 'read_html' is deprecated and will be removed in a future version. To read from a literal string, wrap it in a 'StringIO' object.\n",
      "  home_players = pd.read_html(str(table))[0].drop(11)\n",
      "C:\\Users\\user\\AppData\\Local\\Temp\\ipykernel_24300\\2944083324.py:32: FutureWarning: Passing literal html to 'read_html' is deprecated and will be removed in a future version. To read from a literal string, wrap it in a 'StringIO' object.\n",
      "  away_players = pd.read_html(str(table2))[0].drop(11)\n"
     ]
    },
    {
     "name": "stdout",
     "output_type": "stream",
     "text": [
      "meio: 2.2418406009674072\n",
      "fim: 2.286339282989502\n",
      "/en/matches/3cb714a4/Wolverhampton-Wanderers-Leeds-United-March-18-2023-Premier-League\n"
     ]
    },
    {
     "name": "stderr",
     "output_type": "stream",
     "text": [
      "C:\\Users\\user\\AppData\\Local\\Temp\\ipykernel_24300\\2944083324.py:31: FutureWarning: Passing literal html to 'read_html' is deprecated and will be removed in a future version. To read from a literal string, wrap it in a 'StringIO' object.\n",
      "  home_players = pd.read_html(str(table))[0].drop(11)\n",
      "C:\\Users\\user\\AppData\\Local\\Temp\\ipykernel_24300\\2944083324.py:32: FutureWarning: Passing literal html to 'read_html' is deprecated and will be removed in a future version. To read from a literal string, wrap it in a 'StringIO' object.\n",
      "  away_players = pd.read_html(str(table2))[0].drop(11)\n"
     ]
    },
    {
     "name": "stdout",
     "output_type": "stream",
     "text": [
      "meio: 3.284327983856201\n",
      "fim: 3.33121919631958\n",
      "/en/matches/7647948e/Brentford-Leicester-City-March-18-2023-Premier-League\n"
     ]
    },
    {
     "name": "stderr",
     "output_type": "stream",
     "text": [
      "C:\\Users\\user\\AppData\\Local\\Temp\\ipykernel_24300\\2944083324.py:31: FutureWarning: Passing literal html to 'read_html' is deprecated and will be removed in a future version. To read from a literal string, wrap it in a 'StringIO' object.\n",
      "  home_players = pd.read_html(str(table))[0].drop(11)\n",
      "C:\\Users\\user\\AppData\\Local\\Temp\\ipykernel_24300\\2944083324.py:32: FutureWarning: Passing literal html to 'read_html' is deprecated and will be removed in a future version. To read from a literal string, wrap it in a 'StringIO' object.\n",
      "  away_players = pd.read_html(str(table2))[0].drop(11)\n"
     ]
    },
    {
     "name": "stdout",
     "output_type": "stream",
     "text": [
      "meio: 1.2052972316741943\n",
      "fim: 1.2505156993865967\n",
      "/en/matches/88981274/Aston-Villa-Bournemouth-March-18-2023-Premier-League\n"
     ]
    },
    {
     "name": "stderr",
     "output_type": "stream",
     "text": [
      "C:\\Users\\user\\AppData\\Local\\Temp\\ipykernel_24300\\2944083324.py:31: FutureWarning: Passing literal html to 'read_html' is deprecated and will be removed in a future version. To read from a literal string, wrap it in a 'StringIO' object.\n",
      "  home_players = pd.read_html(str(table))[0].drop(11)\n",
      "C:\\Users\\user\\AppData\\Local\\Temp\\ipykernel_24300\\2944083324.py:32: FutureWarning: Passing literal html to 'read_html' is deprecated and will be removed in a future version. To read from a literal string, wrap it in a 'StringIO' object.\n",
      "  away_players = pd.read_html(str(table2))[0].drop(11)\n"
     ]
    },
    {
     "name": "stdout",
     "output_type": "stream",
     "text": [
      "meio: 1.211083173751831\n",
      "fim: 1.2504448890686035\n",
      "/en/matches/bd9ec55d/Southampton-Tottenham-Hotspur-March-18-2023-Premier-League\n"
     ]
    },
    {
     "name": "stderr",
     "output_type": "stream",
     "text": [
      "C:\\Users\\user\\AppData\\Local\\Temp\\ipykernel_24300\\2944083324.py:31: FutureWarning: Passing literal html to 'read_html' is deprecated and will be removed in a future version. To read from a literal string, wrap it in a 'StringIO' object.\n",
      "  home_players = pd.read_html(str(table))[0].drop(11)\n",
      "C:\\Users\\user\\AppData\\Local\\Temp\\ipykernel_24300\\2944083324.py:32: FutureWarning: Passing literal html to 'read_html' is deprecated and will be removed in a future version. To read from a literal string, wrap it in a 'StringIO' object.\n",
      "  away_players = pd.read_html(str(table2))[0].drop(11)\n"
     ]
    },
    {
     "name": "stdout",
     "output_type": "stream",
     "text": [
      "meio: 3.03324031829834\n",
      "fim: 3.075986623764038\n",
      "/en/matches/9453dba7/Chelsea-Everton-March-18-2023-Premier-League\n"
     ]
    },
    {
     "name": "stderr",
     "output_type": "stream",
     "text": [
      "C:\\Users\\user\\AppData\\Local\\Temp\\ipykernel_24300\\2944083324.py:31: FutureWarning: Passing literal html to 'read_html' is deprecated and will be removed in a future version. To read from a literal string, wrap it in a 'StringIO' object.\n",
      "  home_players = pd.read_html(str(table))[0].drop(11)\n",
      "C:\\Users\\user\\AppData\\Local\\Temp\\ipykernel_24300\\2944083324.py:32: FutureWarning: Passing literal html to 'read_html' is deprecated and will be removed in a future version. To read from a literal string, wrap it in a 'StringIO' object.\n",
      "  away_players = pd.read_html(str(table2))[0].drop(11)\n"
     ]
    },
    {
     "name": "stdout",
     "output_type": "stream",
     "text": [
      "meio: 1.2760155200958252\n",
      "fim: 1.3142950534820557\n",
      "/en/matches/98e0de00/Arsenal-Crystal-Palace-March-19-2023-Premier-League\n"
     ]
    },
    {
     "name": "stderr",
     "output_type": "stream",
     "text": [
      "C:\\Users\\user\\AppData\\Local\\Temp\\ipykernel_24300\\2944083324.py:31: FutureWarning: Passing literal html to 'read_html' is deprecated and will be removed in a future version. To read from a literal string, wrap it in a 'StringIO' object.\n",
      "  home_players = pd.read_html(str(table))[0].drop(11)\n",
      "C:\\Users\\user\\AppData\\Local\\Temp\\ipykernel_24300\\2944083324.py:32: FutureWarning: Passing literal html to 'read_html' is deprecated and will be removed in a future version. To read from a literal string, wrap it in a 'StringIO' object.\n",
      "  away_players = pd.read_html(str(table2))[0].drop(11)\n"
     ]
    },
    {
     "name": "stdout",
     "output_type": "stream",
     "text": [
      "meio: 2.1168954372406006\n",
      "fim: 2.157926559448242\n",
      "/en/matches/40966f45/Manchester-City-Liverpool-April-1-2023-Premier-League\n"
     ]
    },
    {
     "name": "stderr",
     "output_type": "stream",
     "text": [
      "C:\\Users\\user\\AppData\\Local\\Temp\\ipykernel_24300\\2944083324.py:31: FutureWarning: Passing literal html to 'read_html' is deprecated and will be removed in a future version. To read from a literal string, wrap it in a 'StringIO' object.\n",
      "  home_players = pd.read_html(str(table))[0].drop(11)\n",
      "C:\\Users\\user\\AppData\\Local\\Temp\\ipykernel_24300\\2944083324.py:32: FutureWarning: Passing literal html to 'read_html' is deprecated and will be removed in a future version. To read from a literal string, wrap it in a 'StringIO' object.\n",
      "  away_players = pd.read_html(str(table2))[0].drop(11)\n"
     ]
    },
    {
     "name": "stdout",
     "output_type": "stream",
     "text": [
      "meio: 2.150505781173706\n",
      "fim: 2.187241792678833\n",
      "/en/matches/2e4383ca/Arsenal-Leeds-United-April-1-2023-Premier-League\n"
     ]
    },
    {
     "name": "stderr",
     "output_type": "stream",
     "text": [
      "C:\\Users\\user\\AppData\\Local\\Temp\\ipykernel_24300\\2944083324.py:31: FutureWarning: Passing literal html to 'read_html' is deprecated and will be removed in a future version. To read from a literal string, wrap it in a 'StringIO' object.\n",
      "  home_players = pd.read_html(str(table))[0].drop(11)\n",
      "C:\\Users\\user\\AppData\\Local\\Temp\\ipykernel_24300\\2944083324.py:32: FutureWarning: Passing literal html to 'read_html' is deprecated and will be removed in a future version. To read from a literal string, wrap it in a 'StringIO' object.\n",
      "  away_players = pd.read_html(str(table2))[0].drop(11)\n"
     ]
    },
    {
     "name": "stdout",
     "output_type": "stream",
     "text": [
      "meio: 2.5676302909851074\n",
      "fim: 2.8300366401672363\n",
      "/en/matches/c14b278c/Nottingham-Forest-Wolverhampton-Wanderers-April-1-2023-Premier-League\n"
     ]
    },
    {
     "name": "stderr",
     "output_type": "stream",
     "text": [
      "C:\\Users\\user\\AppData\\Local\\Temp\\ipykernel_24300\\2944083324.py:31: FutureWarning: Passing literal html to 'read_html' is deprecated and will be removed in a future version. To read from a literal string, wrap it in a 'StringIO' object.\n",
      "  home_players = pd.read_html(str(table))[0].drop(11)\n",
      "C:\\Users\\user\\AppData\\Local\\Temp\\ipykernel_24300\\2944083324.py:32: FutureWarning: Passing literal html to 'read_html' is deprecated and will be removed in a future version. To read from a literal string, wrap it in a 'StringIO' object.\n",
      "  away_players = pd.read_html(str(table2))[0].drop(11)\n"
     ]
    },
    {
     "name": "stdout",
     "output_type": "stream",
     "text": [
      "meio: 2.5054194927215576\n",
      "fim: 2.5476300716400146\n",
      "/en/matches/ead2251e/Brighton-and-Hove-Albion-Brentford-April-1-2023-Premier-League\n"
     ]
    },
    {
     "name": "stderr",
     "output_type": "stream",
     "text": [
      "C:\\Users\\user\\AppData\\Local\\Temp\\ipykernel_24300\\2944083324.py:31: FutureWarning: Passing literal html to 'read_html' is deprecated and will be removed in a future version. To read from a literal string, wrap it in a 'StringIO' object.\n",
      "  home_players = pd.read_html(str(table))[0].drop(11)\n",
      "C:\\Users\\user\\AppData\\Local\\Temp\\ipykernel_24300\\2944083324.py:32: FutureWarning: Passing literal html to 'read_html' is deprecated and will be removed in a future version. To read from a literal string, wrap it in a 'StringIO' object.\n",
      "  away_players = pd.read_html(str(table2))[0].drop(11)\n"
     ]
    },
    {
     "name": "stdout",
     "output_type": "stream",
     "text": [
      "meio: 1.135462760925293\n",
      "fim: 1.173173427581787\n",
      "/en/matches/ee1878a0/Crystal-Palace-Leicester-City-April-1-2023-Premier-League\n"
     ]
    },
    {
     "name": "stderr",
     "output_type": "stream",
     "text": [
      "C:\\Users\\user\\AppData\\Local\\Temp\\ipykernel_24300\\2944083324.py:31: FutureWarning: Passing literal html to 'read_html' is deprecated and will be removed in a future version. To read from a literal string, wrap it in a 'StringIO' object.\n",
      "  home_players = pd.read_html(str(table))[0].drop(11)\n",
      "C:\\Users\\user\\AppData\\Local\\Temp\\ipykernel_24300\\2944083324.py:32: FutureWarning: Passing literal html to 'read_html' is deprecated and will be removed in a future version. To read from a literal string, wrap it in a 'StringIO' object.\n",
      "  away_players = pd.read_html(str(table2))[0].drop(11)\n"
     ]
    },
    {
     "name": "stdout",
     "output_type": "stream",
     "text": [
      "meio: 2.3778462409973145\n",
      "fim: 2.491952657699585\n",
      "/en/matches/f64320c3/Bournemouth-Fulham-April-1-2023-Premier-League\n"
     ]
    },
    {
     "name": "stderr",
     "output_type": "stream",
     "text": [
      "C:\\Users\\user\\AppData\\Local\\Temp\\ipykernel_24300\\2944083324.py:31: FutureWarning: Passing literal html to 'read_html' is deprecated and will be removed in a future version. To read from a literal string, wrap it in a 'StringIO' object.\n",
      "  home_players = pd.read_html(str(table))[0].drop(11)\n",
      "C:\\Users\\user\\AppData\\Local\\Temp\\ipykernel_24300\\2944083324.py:32: FutureWarning: Passing literal html to 'read_html' is deprecated and will be removed in a future version. To read from a literal string, wrap it in a 'StringIO' object.\n",
      "  away_players = pd.read_html(str(table2))[0].drop(11)\n"
     ]
    },
    {
     "name": "stdout",
     "output_type": "stream",
     "text": [
      "meio: 1.475095272064209\n",
      "fim: 1.5379304885864258\n",
      "/en/matches/870fa8c9/Chelsea-Aston-Villa-April-1-2023-Premier-League\n"
     ]
    },
    {
     "name": "stderr",
     "output_type": "stream",
     "text": [
      "C:\\Users\\user\\AppData\\Local\\Temp\\ipykernel_24300\\2944083324.py:31: FutureWarning: Passing literal html to 'read_html' is deprecated and will be removed in a future version. To read from a literal string, wrap it in a 'StringIO' object.\n",
      "  home_players = pd.read_html(str(table))[0].drop(11)\n",
      "C:\\Users\\user\\AppData\\Local\\Temp\\ipykernel_24300\\2944083324.py:32: FutureWarning: Passing literal html to 'read_html' is deprecated and will be removed in a future version. To read from a literal string, wrap it in a 'StringIO' object.\n",
      "  away_players = pd.read_html(str(table2))[0].drop(11)\n"
     ]
    },
    {
     "name": "stdout",
     "output_type": "stream",
     "text": [
      "meio: 1.5950977802276611\n",
      "fim: 1.6527609825134277\n",
      "/en/matches/42e1f38d/West-Ham-United-Southampton-April-2-2023-Premier-League\n"
     ]
    },
    {
     "name": "stderr",
     "output_type": "stream",
     "text": [
      "C:\\Users\\user\\AppData\\Local\\Temp\\ipykernel_24300\\2944083324.py:31: FutureWarning: Passing literal html to 'read_html' is deprecated and will be removed in a future version. To read from a literal string, wrap it in a 'StringIO' object.\n",
      "  home_players = pd.read_html(str(table))[0].drop(11)\n",
      "C:\\Users\\user\\AppData\\Local\\Temp\\ipykernel_24300\\2944083324.py:32: FutureWarning: Passing literal html to 'read_html' is deprecated and will be removed in a future version. To read from a literal string, wrap it in a 'StringIO' object.\n",
      "  away_players = pd.read_html(str(table2))[0].drop(11)\n"
     ]
    },
    {
     "name": "stdout",
     "output_type": "stream",
     "text": [
      "meio: 2.6089723110198975\n",
      "fim: 2.664625644683838\n",
      "/en/matches/1ed948f6/Newcastle-United-Manchester-United-April-2-2023-Premier-League\n"
     ]
    },
    {
     "name": "stderr",
     "output_type": "stream",
     "text": [
      "C:\\Users\\user\\AppData\\Local\\Temp\\ipykernel_24300\\2944083324.py:31: FutureWarning: Passing literal html to 'read_html' is deprecated and will be removed in a future version. To read from a literal string, wrap it in a 'StringIO' object.\n",
      "  home_players = pd.read_html(str(table))[0].drop(11)\n",
      "C:\\Users\\user\\AppData\\Local\\Temp\\ipykernel_24300\\2944083324.py:32: FutureWarning: Passing literal html to 'read_html' is deprecated and will be removed in a future version. To read from a literal string, wrap it in a 'StringIO' object.\n",
      "  away_players = pd.read_html(str(table2))[0].drop(11)\n"
     ]
    },
    {
     "name": "stdout",
     "output_type": "stream",
     "text": [
      "meio: 1.4232356548309326\n",
      "fim: 1.4638681411743164\n",
      "/en/matches/c00d9a22/Everton-Tottenham-Hotspur-April-3-2023-Premier-League\n"
     ]
    },
    {
     "name": "stderr",
     "output_type": "stream",
     "text": [
      "C:\\Users\\user\\AppData\\Local\\Temp\\ipykernel_24300\\2944083324.py:31: FutureWarning: Passing literal html to 'read_html' is deprecated and will be removed in a future version. To read from a literal string, wrap it in a 'StringIO' object.\n",
      "  home_players = pd.read_html(str(table))[0].drop(11)\n",
      "C:\\Users\\user\\AppData\\Local\\Temp\\ipykernel_24300\\2944083324.py:32: FutureWarning: Passing literal html to 'read_html' is deprecated and will be removed in a future version. To read from a literal string, wrap it in a 'StringIO' object.\n",
      "  away_players = pd.read_html(str(table2))[0].drop(11)\n"
     ]
    },
    {
     "name": "stdout",
     "output_type": "stream",
     "text": [
      "meio: 2.7871391773223877\n",
      "fim: 2.848980188369751\n",
      "/en/matches/1251d1c0/Leeds-United-Nottingham-Forest-April-4-2023-Premier-League\n"
     ]
    },
    {
     "name": "stderr",
     "output_type": "stream",
     "text": [
      "C:\\Users\\user\\AppData\\Local\\Temp\\ipykernel_24300\\2944083324.py:31: FutureWarning: Passing literal html to 'read_html' is deprecated and will be removed in a future version. To read from a literal string, wrap it in a 'StringIO' object.\n",
      "  home_players = pd.read_html(str(table))[0].drop(11)\n",
      "C:\\Users\\user\\AppData\\Local\\Temp\\ipykernel_24300\\2944083324.py:32: FutureWarning: Passing literal html to 'read_html' is deprecated and will be removed in a future version. To read from a literal string, wrap it in a 'StringIO' object.\n",
      "  away_players = pd.read_html(str(table2))[0].drop(11)\n"
     ]
    },
    {
     "name": "stdout",
     "output_type": "stream",
     "text": [
      "meio: 2.5515987873077393\n",
      "fim: 2.6003074645996094\n",
      "/en/matches/95a97dc6/Bournemouth-Brighton-and-Hove-Albion-April-4-2023-Premier-League\n"
     ]
    },
    {
     "name": "stderr",
     "output_type": "stream",
     "text": [
      "C:\\Users\\user\\AppData\\Local\\Temp\\ipykernel_24300\\2944083324.py:31: FutureWarning: Passing literal html to 'read_html' is deprecated and will be removed in a future version. To read from a literal string, wrap it in a 'StringIO' object.\n",
      "  home_players = pd.read_html(str(table))[0].drop(11)\n",
      "C:\\Users\\user\\AppData\\Local\\Temp\\ipykernel_24300\\2944083324.py:32: FutureWarning: Passing literal html to 'read_html' is deprecated and will be removed in a future version. To read from a literal string, wrap it in a 'StringIO' object.\n",
      "  away_players = pd.read_html(str(table2))[0].drop(11)\n"
     ]
    },
    {
     "name": "stdout",
     "output_type": "stream",
     "text": [
      "meio: 1.3489117622375488\n",
      "fim: 1.3983166217803955\n",
      "/en/matches/f213214b/Leicester-City-Aston-Villa-April-4-2023-Premier-League\n"
     ]
    },
    {
     "name": "stderr",
     "output_type": "stream",
     "text": [
      "C:\\Users\\user\\AppData\\Local\\Temp\\ipykernel_24300\\2944083324.py:31: FutureWarning: Passing literal html to 'read_html' is deprecated and will be removed in a future version. To read from a literal string, wrap it in a 'StringIO' object.\n",
      "  home_players = pd.read_html(str(table))[0].drop(11)\n",
      "C:\\Users\\user\\AppData\\Local\\Temp\\ipykernel_24300\\2944083324.py:32: FutureWarning: Passing literal html to 'read_html' is deprecated and will be removed in a future version. To read from a literal string, wrap it in a 'StringIO' object.\n",
      "  away_players = pd.read_html(str(table2))[0].drop(11)\n"
     ]
    },
    {
     "name": "stdout",
     "output_type": "stream",
     "text": [
      "meio: 2.765157699584961\n",
      "fim: 2.80336332321167\n",
      "/en/matches/1028e683/Chelsea-Liverpool-April-4-2023-Premier-League\n"
     ]
    },
    {
     "name": "stderr",
     "output_type": "stream",
     "text": [
      "C:\\Users\\user\\AppData\\Local\\Temp\\ipykernel_24300\\2944083324.py:31: FutureWarning: Passing literal html to 'read_html' is deprecated and will be removed in a future version. To read from a literal string, wrap it in a 'StringIO' object.\n",
      "  home_players = pd.read_html(str(table))[0].drop(11)\n",
      "C:\\Users\\user\\AppData\\Local\\Temp\\ipykernel_24300\\2944083324.py:32: FutureWarning: Passing literal html to 'read_html' is deprecated and will be removed in a future version. To read from a literal string, wrap it in a 'StringIO' object.\n",
      "  away_players = pd.read_html(str(table2))[0].drop(11)\n"
     ]
    },
    {
     "name": "stdout",
     "output_type": "stream",
     "text": [
      "meio: 1.2211313247680664\n",
      "fim: 1.2592456340789795\n",
      "/en/matches/4a87012d/West-Ham-United-Newcastle-United-April-5-2023-Premier-League\n"
     ]
    },
    {
     "name": "stderr",
     "output_type": "stream",
     "text": [
      "C:\\Users\\user\\AppData\\Local\\Temp\\ipykernel_24300\\2944083324.py:31: FutureWarning: Passing literal html to 'read_html' is deprecated and will be removed in a future version. To read from a literal string, wrap it in a 'StringIO' object.\n",
      "  home_players = pd.read_html(str(table))[0].drop(11)\n",
      "C:\\Users\\user\\AppData\\Local\\Temp\\ipykernel_24300\\2944083324.py:32: FutureWarning: Passing literal html to 'read_html' is deprecated and will be removed in a future version. To read from a literal string, wrap it in a 'StringIO' object.\n",
      "  away_players = pd.read_html(str(table2))[0].drop(11)\n"
     ]
    },
    {
     "name": "stdout",
     "output_type": "stream",
     "text": [
      "meio: 2.0912859439849854\n",
      "fim: 2.136967420578003\n",
      "/en/matches/f3e6e475/Manchester-United-Brentford-April-5-2023-Premier-League\n"
     ]
    },
    {
     "name": "stderr",
     "output_type": "stream",
     "text": [
      "C:\\Users\\user\\AppData\\Local\\Temp\\ipykernel_24300\\2944083324.py:31: FutureWarning: Passing literal html to 'read_html' is deprecated and will be removed in a future version. To read from a literal string, wrap it in a 'StringIO' object.\n",
      "  home_players = pd.read_html(str(table))[0].drop(11)\n",
      "C:\\Users\\user\\AppData\\Local\\Temp\\ipykernel_24300\\2944083324.py:32: FutureWarning: Passing literal html to 'read_html' is deprecated and will be removed in a future version. To read from a literal string, wrap it in a 'StringIO' object.\n",
      "  away_players = pd.read_html(str(table2))[0].drop(11)\n"
     ]
    },
    {
     "name": "stdout",
     "output_type": "stream",
     "text": [
      "meio: 1.1390941143035889\n",
      "fim: 1.1881732940673828\n",
      "/en/matches/e217ed2c/Manchester-United-Everton-April-8-2023-Premier-League\n"
     ]
    },
    {
     "name": "stderr",
     "output_type": "stream",
     "text": [
      "C:\\Users\\user\\AppData\\Local\\Temp\\ipykernel_24300\\2944083324.py:31: FutureWarning: Passing literal html to 'read_html' is deprecated and will be removed in a future version. To read from a literal string, wrap it in a 'StringIO' object.\n",
      "  home_players = pd.read_html(str(table))[0].drop(11)\n",
      "C:\\Users\\user\\AppData\\Local\\Temp\\ipykernel_24300\\2944083324.py:32: FutureWarning: Passing literal html to 'read_html' is deprecated and will be removed in a future version. To read from a literal string, wrap it in a 'StringIO' object.\n",
      "  away_players = pd.read_html(str(table2))[0].drop(11)\n"
     ]
    },
    {
     "name": "stdout",
     "output_type": "stream",
     "text": [
      "meio: 2.7012195587158203\n",
      "fim: 2.807953357696533\n",
      "/en/matches/0ba42648/Fulham-West-Ham-United-April-8-2023-Premier-League\n"
     ]
    },
    {
     "name": "stderr",
     "output_type": "stream",
     "text": [
      "C:\\Users\\user\\AppData\\Local\\Temp\\ipykernel_24300\\2944083324.py:31: FutureWarning: Passing literal html to 'read_html' is deprecated and will be removed in a future version. To read from a literal string, wrap it in a 'StringIO' object.\n",
      "  home_players = pd.read_html(str(table))[0].drop(11)\n",
      "C:\\Users\\user\\AppData\\Local\\Temp\\ipykernel_24300\\2944083324.py:32: FutureWarning: Passing literal html to 'read_html' is deprecated and will be removed in a future version. To read from a literal string, wrap it in a 'StringIO' object.\n",
      "  away_players = pd.read_html(str(table2))[0].drop(11)\n"
     ]
    },
    {
     "name": "stdout",
     "output_type": "stream",
     "text": [
      "meio: 2.984504222869873\n",
      "fim: 3.045149564743042\n",
      "/en/matches/68cd68fd/Aston-Villa-Nottingham-Forest-April-8-2023-Premier-League\n"
     ]
    },
    {
     "name": "stderr",
     "output_type": "stream",
     "text": [
      "C:\\Users\\user\\AppData\\Local\\Temp\\ipykernel_24300\\2944083324.py:31: FutureWarning: Passing literal html to 'read_html' is deprecated and will be removed in a future version. To read from a literal string, wrap it in a 'StringIO' object.\n",
      "  home_players = pd.read_html(str(table))[0].drop(11)\n",
      "C:\\Users\\user\\AppData\\Local\\Temp\\ipykernel_24300\\2944083324.py:32: FutureWarning: Passing literal html to 'read_html' is deprecated and will be removed in a future version. To read from a literal string, wrap it in a 'StringIO' object.\n",
      "  away_players = pd.read_html(str(table2))[0].drop(11)\n"
     ]
    },
    {
     "name": "stdout",
     "output_type": "stream",
     "text": [
      "meio: 2.4176549911499023\n",
      "fim: 2.4741954803466797\n",
      "/en/matches/72ca7930/Leicester-City-Bournemouth-April-8-2023-Premier-League\n"
     ]
    },
    {
     "name": "stderr",
     "output_type": "stream",
     "text": [
      "C:\\Users\\user\\AppData\\Local\\Temp\\ipykernel_24300\\2944083324.py:31: FutureWarning: Passing literal html to 'read_html' is deprecated and will be removed in a future version. To read from a literal string, wrap it in a 'StringIO' object.\n",
      "  home_players = pd.read_html(str(table))[0].drop(11)\n",
      "C:\\Users\\user\\AppData\\Local\\Temp\\ipykernel_24300\\2944083324.py:32: FutureWarning: Passing literal html to 'read_html' is deprecated and will be removed in a future version. To read from a literal string, wrap it in a 'StringIO' object.\n",
      "  away_players = pd.read_html(str(table2))[0].drop(11)\n"
     ]
    },
    {
     "name": "stdout",
     "output_type": "stream",
     "text": [
      "meio: 1.2052710056304932\n",
      "fim: 1.2460169792175293\n",
      "/en/matches/a5e78e89/Brentford-Newcastle-United-April-8-2023-Premier-League\n"
     ]
    },
    {
     "name": "stderr",
     "output_type": "stream",
     "text": [
      "C:\\Users\\user\\AppData\\Local\\Temp\\ipykernel_24300\\2944083324.py:31: FutureWarning: Passing literal html to 'read_html' is deprecated and will be removed in a future version. To read from a literal string, wrap it in a 'StringIO' object.\n",
      "  home_players = pd.read_html(str(table))[0].drop(11)\n",
      "C:\\Users\\user\\AppData\\Local\\Temp\\ipykernel_24300\\2944083324.py:32: FutureWarning: Passing literal html to 'read_html' is deprecated and will be removed in a future version. To read from a literal string, wrap it in a 'StringIO' object.\n",
      "  away_players = pd.read_html(str(table2))[0].drop(11)\n"
     ]
    },
    {
     "name": "stdout",
     "output_type": "stream",
     "text": [
      "meio: 1.5057590007781982\n",
      "fim: 1.558699607849121\n",
      "/en/matches/aa1fa8dc/Wolverhampton-Wanderers-Chelsea-April-8-2023-Premier-League\n"
     ]
    },
    {
     "name": "stderr",
     "output_type": "stream",
     "text": [
      "C:\\Users\\user\\AppData\\Local\\Temp\\ipykernel_24300\\2944083324.py:31: FutureWarning: Passing literal html to 'read_html' is deprecated and will be removed in a future version. To read from a literal string, wrap it in a 'StringIO' object.\n",
      "  home_players = pd.read_html(str(table))[0].drop(11)\n",
      "C:\\Users\\user\\AppData\\Local\\Temp\\ipykernel_24300\\2944083324.py:32: FutureWarning: Passing literal html to 'read_html' is deprecated and will be removed in a future version. To read from a literal string, wrap it in a 'StringIO' object.\n",
      "  away_players = pd.read_html(str(table2))[0].drop(11)\n"
     ]
    },
    {
     "name": "stdout",
     "output_type": "stream",
     "text": [
      "meio: 1.2614469528198242\n",
      "fim: 1.3126134872436523\n",
      "/en/matches/b3ad7bd4/Tottenham-Hotspur-Brighton-and-Hove-Albion-April-8-2023-Premier-League\n"
     ]
    },
    {
     "name": "stderr",
     "output_type": "stream",
     "text": [
      "C:\\Users\\user\\AppData\\Local\\Temp\\ipykernel_24300\\2944083324.py:31: FutureWarning: Passing literal html to 'read_html' is deprecated and will be removed in a future version. To read from a literal string, wrap it in a 'StringIO' object.\n",
      "  home_players = pd.read_html(str(table))[0].drop(11)\n",
      "C:\\Users\\user\\AppData\\Local\\Temp\\ipykernel_24300\\2944083324.py:32: FutureWarning: Passing literal html to 'read_html' is deprecated and will be removed in a future version. To read from a literal string, wrap it in a 'StringIO' object.\n",
      "  away_players = pd.read_html(str(table2))[0].drop(11)\n"
     ]
    },
    {
     "name": "stdout",
     "output_type": "stream",
     "text": [
      "meio: 1.2420024871826172\n",
      "fim: 1.2910799980163574\n",
      "/en/matches/fb045117/Southampton-Manchester-City-April-8-2023-Premier-League\n"
     ]
    },
    {
     "name": "stderr",
     "output_type": "stream",
     "text": [
      "C:\\Users\\user\\AppData\\Local\\Temp\\ipykernel_24300\\2944083324.py:31: FutureWarning: Passing literal html to 'read_html' is deprecated and will be removed in a future version. To read from a literal string, wrap it in a 'StringIO' object.\n",
      "  home_players = pd.read_html(str(table))[0].drop(11)\n",
      "C:\\Users\\user\\AppData\\Local\\Temp\\ipykernel_24300\\2944083324.py:32: FutureWarning: Passing literal html to 'read_html' is deprecated and will be removed in a future version. To read from a literal string, wrap it in a 'StringIO' object.\n",
      "  away_players = pd.read_html(str(table2))[0].drop(11)\n"
     ]
    },
    {
     "name": "stdout",
     "output_type": "stream",
     "text": [
      "meio: 2.237978458404541\n",
      "fim: 2.2827444076538086\n",
      "/en/matches/a1c39217/Leeds-United-Crystal-Palace-April-9-2023-Premier-League\n"
     ]
    },
    {
     "name": "stderr",
     "output_type": "stream",
     "text": [
      "C:\\Users\\user\\AppData\\Local\\Temp\\ipykernel_24300\\2944083324.py:31: FutureWarning: Passing literal html to 'read_html' is deprecated and will be removed in a future version. To read from a literal string, wrap it in a 'StringIO' object.\n",
      "  home_players = pd.read_html(str(table))[0].drop(11)\n",
      "C:\\Users\\user\\AppData\\Local\\Temp\\ipykernel_24300\\2944083324.py:32: FutureWarning: Passing literal html to 'read_html' is deprecated and will be removed in a future version. To read from a literal string, wrap it in a 'StringIO' object.\n",
      "  away_players = pd.read_html(str(table2))[0].drop(11)\n"
     ]
    },
    {
     "name": "stdout",
     "output_type": "stream",
     "text": [
      "meio: 1.393963098526001\n",
      "fim: 1.4796478748321533\n",
      "/en/matches/f3774baa/Liverpool-Arsenal-April-9-2023-Premier-League\n"
     ]
    },
    {
     "name": "stderr",
     "output_type": "stream",
     "text": [
      "C:\\Users\\user\\AppData\\Local\\Temp\\ipykernel_24300\\2944083324.py:31: FutureWarning: Passing literal html to 'read_html' is deprecated and will be removed in a future version. To read from a literal string, wrap it in a 'StringIO' object.\n",
      "  home_players = pd.read_html(str(table))[0].drop(11)\n",
      "C:\\Users\\user\\AppData\\Local\\Temp\\ipykernel_24300\\2944083324.py:32: FutureWarning: Passing literal html to 'read_html' is deprecated and will be removed in a future version. To read from a literal string, wrap it in a 'StringIO' object.\n",
      "  away_players = pd.read_html(str(table2))[0].drop(11)\n"
     ]
    },
    {
     "name": "stdout",
     "output_type": "stream",
     "text": [
      "meio: 1.5001428127288818\n",
      "fim: 1.547684907913208\n",
      "/en/matches/7bbac622/Aston-Villa-Newcastle-United-April-15-2023-Premier-League\n"
     ]
    },
    {
     "name": "stderr",
     "output_type": "stream",
     "text": [
      "C:\\Users\\user\\AppData\\Local\\Temp\\ipykernel_24300\\2944083324.py:31: FutureWarning: Passing literal html to 'read_html' is deprecated and will be removed in a future version. To read from a literal string, wrap it in a 'StringIO' object.\n",
      "  home_players = pd.read_html(str(table))[0].drop(11)\n",
      "C:\\Users\\user\\AppData\\Local\\Temp\\ipykernel_24300\\2944083324.py:32: FutureWarning: Passing literal html to 'read_html' is deprecated and will be removed in a future version. To read from a literal string, wrap it in a 'StringIO' object.\n",
      "  away_players = pd.read_html(str(table2))[0].drop(11)\n"
     ]
    },
    {
     "name": "stdout",
     "output_type": "stream",
     "text": [
      "meio: 2.097510814666748\n",
      "fim: 2.1580700874328613\n",
      "/en/matches/18e7d354/Chelsea-Brighton-and-Hove-Albion-April-15-2023-Premier-League\n"
     ]
    },
    {
     "name": "stderr",
     "output_type": "stream",
     "text": [
      "C:\\Users\\user\\AppData\\Local\\Temp\\ipykernel_24300\\2944083324.py:31: FutureWarning: Passing literal html to 'read_html' is deprecated and will be removed in a future version. To read from a literal string, wrap it in a 'StringIO' object.\n",
      "  home_players = pd.read_html(str(table))[0].drop(11)\n",
      "C:\\Users\\user\\AppData\\Local\\Temp\\ipykernel_24300\\2944083324.py:32: FutureWarning: Passing literal html to 'read_html' is deprecated and will be removed in a future version. To read from a literal string, wrap it in a 'StringIO' object.\n",
      "  away_players = pd.read_html(str(table2))[0].drop(11)\n"
     ]
    },
    {
     "name": "stdout",
     "output_type": "stream",
     "text": [
      "meio: 1.8590648174285889\n",
      "fim: 1.9190058708190918\n",
      "/en/matches/67f47a1b/Southampton-Crystal-Palace-April-15-2023-Premier-League\n"
     ]
    },
    {
     "name": "stderr",
     "output_type": "stream",
     "text": [
      "C:\\Users\\user\\AppData\\Local\\Temp\\ipykernel_24300\\2944083324.py:31: FutureWarning: Passing literal html to 'read_html' is deprecated and will be removed in a future version. To read from a literal string, wrap it in a 'StringIO' object.\n",
      "  home_players = pd.read_html(str(table))[0].drop(11)\n",
      "C:\\Users\\user\\AppData\\Local\\Temp\\ipykernel_24300\\2944083324.py:32: FutureWarning: Passing literal html to 'read_html' is deprecated and will be removed in a future version. To read from a literal string, wrap it in a 'StringIO' object.\n",
      "  away_players = pd.read_html(str(table2))[0].drop(11)\n"
     ]
    },
    {
     "name": "stdout",
     "output_type": "stream",
     "text": [
      "meio: 1.2583191394805908\n",
      "fim: 1.3051559925079346\n",
      "/en/matches/b2402736/Wolverhampton-Wanderers-Brentford-April-15-2023-Premier-League\n"
     ]
    },
    {
     "name": "stderr",
     "output_type": "stream",
     "text": [
      "C:\\Users\\user\\AppData\\Local\\Temp\\ipykernel_24300\\2944083324.py:31: FutureWarning: Passing literal html to 'read_html' is deprecated and will be removed in a future version. To read from a literal string, wrap it in a 'StringIO' object.\n",
      "  home_players = pd.read_html(str(table))[0].drop(11)\n",
      "C:\\Users\\user\\AppData\\Local\\Temp\\ipykernel_24300\\2944083324.py:32: FutureWarning: Passing literal html to 'read_html' is deprecated and will be removed in a future version. To read from a literal string, wrap it in a 'StringIO' object.\n",
      "  away_players = pd.read_html(str(table2))[0].drop(11)\n"
     ]
    },
    {
     "name": "stdout",
     "output_type": "stream",
     "text": [
      "meio: 1.3049147129058838\n",
      "fim: 1.3464198112487793\n",
      "/en/matches/bfc49d95/Tottenham-Hotspur-Bournemouth-April-15-2023-Premier-League\n"
     ]
    },
    {
     "name": "stderr",
     "output_type": "stream",
     "text": [
      "C:\\Users\\user\\AppData\\Local\\Temp\\ipykernel_24300\\2944083324.py:31: FutureWarning: Passing literal html to 'read_html' is deprecated and will be removed in a future version. To read from a literal string, wrap it in a 'StringIO' object.\n",
      "  home_players = pd.read_html(str(table))[0].drop(11)\n",
      "C:\\Users\\user\\AppData\\Local\\Temp\\ipykernel_24300\\2944083324.py:32: FutureWarning: Passing literal html to 'read_html' is deprecated and will be removed in a future version. To read from a literal string, wrap it in a 'StringIO' object.\n",
      "  away_players = pd.read_html(str(table2))[0].drop(11)\n"
     ]
    },
    {
     "name": "stdout",
     "output_type": "stream",
     "text": [
      "meio: 1.3758187294006348\n",
      "fim: 1.4144818782806396\n",
      "/en/matches/ecae749b/Everton-Fulham-April-15-2023-Premier-League\n"
     ]
    },
    {
     "name": "stderr",
     "output_type": "stream",
     "text": [
      "C:\\Users\\user\\AppData\\Local\\Temp\\ipykernel_24300\\2944083324.py:31: FutureWarning: Passing literal html to 'read_html' is deprecated and will be removed in a future version. To read from a literal string, wrap it in a 'StringIO' object.\n",
      "  home_players = pd.read_html(str(table))[0].drop(11)\n",
      "C:\\Users\\user\\AppData\\Local\\Temp\\ipykernel_24300\\2944083324.py:32: FutureWarning: Passing literal html to 'read_html' is deprecated and will be removed in a future version. To read from a literal string, wrap it in a 'StringIO' object.\n",
      "  away_players = pd.read_html(str(table2))[0].drop(11)\n"
     ]
    },
    {
     "name": "stdout",
     "output_type": "stream",
     "text": [
      "meio: 1.3502583503723145\n",
      "fim: 1.39328932762146\n",
      "/en/matches/ce8df388/Manchester-City-Leicester-City-April-15-2023-Premier-League\n"
     ]
    },
    {
     "name": "stderr",
     "output_type": "stream",
     "text": [
      "C:\\Users\\user\\AppData\\Local\\Temp\\ipykernel_24300\\2944083324.py:31: FutureWarning: Passing literal html to 'read_html' is deprecated and will be removed in a future version. To read from a literal string, wrap it in a 'StringIO' object.\n",
      "  home_players = pd.read_html(str(table))[0].drop(11)\n",
      "C:\\Users\\user\\AppData\\Local\\Temp\\ipykernel_24300\\2944083324.py:32: FutureWarning: Passing literal html to 'read_html' is deprecated and will be removed in a future version. To read from a literal string, wrap it in a 'StringIO' object.\n",
      "  away_players = pd.read_html(str(table2))[0].drop(11)\n"
     ]
    },
    {
     "name": "stdout",
     "output_type": "stream",
     "text": [
      "meio: 1.432558536529541\n",
      "fim: 1.4758288860321045\n",
      "/en/matches/3120ba0d/West-Ham-United-Arsenal-April-16-2023-Premier-League\n"
     ]
    },
    {
     "name": "stderr",
     "output_type": "stream",
     "text": [
      "C:\\Users\\user\\AppData\\Local\\Temp\\ipykernel_24300\\2944083324.py:31: FutureWarning: Passing literal html to 'read_html' is deprecated and will be removed in a future version. To read from a literal string, wrap it in a 'StringIO' object.\n",
      "  home_players = pd.read_html(str(table))[0].drop(11)\n",
      "C:\\Users\\user\\AppData\\Local\\Temp\\ipykernel_24300\\2944083324.py:32: FutureWarning: Passing literal html to 'read_html' is deprecated and will be removed in a future version. To read from a literal string, wrap it in a 'StringIO' object.\n",
      "  away_players = pd.read_html(str(table2))[0].drop(11)\n"
     ]
    },
    {
     "name": "stdout",
     "output_type": "stream",
     "text": [
      "meio: 1.3528130054473877\n",
      "fim: 1.39453125\n",
      "/en/matches/4ca8f9f6/Nottingham-Forest-Manchester-United-April-16-2023-Premier-League\n"
     ]
    },
    {
     "name": "stderr",
     "output_type": "stream",
     "text": [
      "C:\\Users\\user\\AppData\\Local\\Temp\\ipykernel_24300\\2944083324.py:31: FutureWarning: Passing literal html to 'read_html' is deprecated and will be removed in a future version. To read from a literal string, wrap it in a 'StringIO' object.\n",
      "  home_players = pd.read_html(str(table))[0].drop(11)\n",
      "C:\\Users\\user\\AppData\\Local\\Temp\\ipykernel_24300\\2944083324.py:32: FutureWarning: Passing literal html to 'read_html' is deprecated and will be removed in a future version. To read from a literal string, wrap it in a 'StringIO' object.\n",
      "  away_players = pd.read_html(str(table2))[0].drop(11)\n"
     ]
    },
    {
     "name": "stdout",
     "output_type": "stream",
     "text": [
      "meio: 1.7762939929962158\n",
      "fim: 1.8334026336669922\n",
      "/en/matches/fd3d05f5/Leeds-United-Liverpool-April-17-2023-Premier-League\n"
     ]
    },
    {
     "name": "stderr",
     "output_type": "stream",
     "text": [
      "C:\\Users\\user\\AppData\\Local\\Temp\\ipykernel_24300\\2944083324.py:31: FutureWarning: Passing literal html to 'read_html' is deprecated and will be removed in a future version. To read from a literal string, wrap it in a 'StringIO' object.\n",
      "  home_players = pd.read_html(str(table))[0].drop(11)\n",
      "C:\\Users\\user\\AppData\\Local\\Temp\\ipykernel_24300\\2944083324.py:32: FutureWarning: Passing literal html to 'read_html' is deprecated and will be removed in a future version. To read from a literal string, wrap it in a 'StringIO' object.\n",
      "  away_players = pd.read_html(str(table2))[0].drop(11)\n"
     ]
    },
    {
     "name": "stdout",
     "output_type": "stream",
     "text": [
      "meio: 1.3772006034851074\n",
      "fim: 1.4240338802337646\n",
      "/en/matches/12efc7dd/Arsenal-Southampton-April-21-2023-Premier-League\n"
     ]
    },
    {
     "name": "stderr",
     "output_type": "stream",
     "text": [
      "C:\\Users\\user\\AppData\\Local\\Temp\\ipykernel_24300\\2944083324.py:31: FutureWarning: Passing literal html to 'read_html' is deprecated and will be removed in a future version. To read from a literal string, wrap it in a 'StringIO' object.\n",
      "  home_players = pd.read_html(str(table))[0].drop(11)\n",
      "C:\\Users\\user\\AppData\\Local\\Temp\\ipykernel_24300\\2944083324.py:32: FutureWarning: Passing literal html to 'read_html' is deprecated and will be removed in a future version. To read from a literal string, wrap it in a 'StringIO' object.\n",
      "  away_players = pd.read_html(str(table2))[0].drop(11)\n"
     ]
    },
    {
     "name": "stdout",
     "output_type": "stream",
     "text": [
      "meio: 1.356220006942749\n",
      "fim: 1.4107799530029297\n",
      "/en/matches/f2d8700d/Fulham-Leeds-United-April-22-2023-Premier-League\n"
     ]
    },
    {
     "name": "stderr",
     "output_type": "stream",
     "text": [
      "C:\\Users\\user\\AppData\\Local\\Temp\\ipykernel_24300\\2944083324.py:31: FutureWarning: Passing literal html to 'read_html' is deprecated and will be removed in a future version. To read from a literal string, wrap it in a 'StringIO' object.\n",
      "  home_players = pd.read_html(str(table))[0].drop(11)\n",
      "C:\\Users\\user\\AppData\\Local\\Temp\\ipykernel_24300\\2944083324.py:32: FutureWarning: Passing literal html to 'read_html' is deprecated and will be removed in a future version. To read from a literal string, wrap it in a 'StringIO' object.\n",
      "  away_players = pd.read_html(str(table2))[0].drop(11)\n"
     ]
    },
    {
     "name": "stdout",
     "output_type": "stream",
     "text": [
      "meio: 1.3915464878082275\n",
      "fim: 1.4325735569000244\n",
      "/en/matches/25f6dcd1/Crystal-Palace-Everton-April-22-2023-Premier-League\n"
     ]
    },
    {
     "name": "stderr",
     "output_type": "stream",
     "text": [
      "C:\\Users\\user\\AppData\\Local\\Temp\\ipykernel_24300\\2944083324.py:31: FutureWarning: Passing literal html to 'read_html' is deprecated and will be removed in a future version. To read from a literal string, wrap it in a 'StringIO' object.\n",
      "  home_players = pd.read_html(str(table))[0].drop(11)\n",
      "C:\\Users\\user\\AppData\\Local\\Temp\\ipykernel_24300\\2944083324.py:32: FutureWarning: Passing literal html to 'read_html' is deprecated and will be removed in a future version. To read from a literal string, wrap it in a 'StringIO' object.\n",
      "  away_players = pd.read_html(str(table2))[0].drop(11)\n"
     ]
    },
    {
     "name": "stdout",
     "output_type": "stream",
     "text": [
      "meio: 1.2506911754608154\n",
      "fim: 1.3053529262542725\n",
      "/en/matches/2b51686a/Brentford-Aston-Villa-April-22-2023-Premier-League\n"
     ]
    },
    {
     "name": "stderr",
     "output_type": "stream",
     "text": [
      "C:\\Users\\user\\AppData\\Local\\Temp\\ipykernel_24300\\2944083324.py:31: FutureWarning: Passing literal html to 'read_html' is deprecated and will be removed in a future version. To read from a literal string, wrap it in a 'StringIO' object.\n",
      "  home_players = pd.read_html(str(table))[0].drop(11)\n",
      "C:\\Users\\user\\AppData\\Local\\Temp\\ipykernel_24300\\2944083324.py:32: FutureWarning: Passing literal html to 'read_html' is deprecated and will be removed in a future version. To read from a literal string, wrap it in a 'StringIO' object.\n",
      "  away_players = pd.read_html(str(table2))[0].drop(11)\n"
     ]
    },
    {
     "name": "stdout",
     "output_type": "stream",
     "text": [
      "meio: 1.38374662399292\n",
      "fim: 1.424433708190918\n",
      "/en/matches/99bfc321/Liverpool-Nottingham-Forest-April-22-2023-Premier-League\n"
     ]
    },
    {
     "name": "stderr",
     "output_type": "stream",
     "text": [
      "C:\\Users\\user\\AppData\\Local\\Temp\\ipykernel_24300\\2944083324.py:31: FutureWarning: Passing literal html to 'read_html' is deprecated and will be removed in a future version. To read from a literal string, wrap it in a 'StringIO' object.\n",
      "  home_players = pd.read_html(str(table))[0].drop(11)\n",
      "C:\\Users\\user\\AppData\\Local\\Temp\\ipykernel_24300\\2944083324.py:32: FutureWarning: Passing literal html to 'read_html' is deprecated and will be removed in a future version. To read from a literal string, wrap it in a 'StringIO' object.\n",
      "  away_players = pd.read_html(str(table2))[0].drop(11)\n"
     ]
    },
    {
     "name": "stdout",
     "output_type": "stream",
     "text": [
      "meio: 1.2753100395202637\n",
      "fim: 1.3297595977783203\n",
      "/en/matches/b87e66b4/Leicester-City-Wolverhampton-Wanderers-April-22-2023-Premier-League\n"
     ]
    },
    {
     "name": "stderr",
     "output_type": "stream",
     "text": [
      "C:\\Users\\user\\AppData\\Local\\Temp\\ipykernel_24300\\2944083324.py:31: FutureWarning: Passing literal html to 'read_html' is deprecated and will be removed in a future version. To read from a literal string, wrap it in a 'StringIO' object.\n",
      "  home_players = pd.read_html(str(table))[0].drop(11)\n",
      "C:\\Users\\user\\AppData\\Local\\Temp\\ipykernel_24300\\2944083324.py:32: FutureWarning: Passing literal html to 'read_html' is deprecated and will be removed in a future version. To read from a literal string, wrap it in a 'StringIO' object.\n",
      "  away_players = pd.read_html(str(table2))[0].drop(11)\n"
     ]
    },
    {
     "name": "stdout",
     "output_type": "stream",
     "text": [
      "meio: 1.1525993347167969\n",
      "fim: 1.198418378829956\n",
      "/en/matches/3306d30f/Bournemouth-West-Ham-United-April-23-2023-Premier-League\n"
     ]
    },
    {
     "name": "stderr",
     "output_type": "stream",
     "text": [
      "C:\\Users\\user\\AppData\\Local\\Temp\\ipykernel_24300\\2944083324.py:31: FutureWarning: Passing literal html to 'read_html' is deprecated and will be removed in a future version. To read from a literal string, wrap it in a 'StringIO' object.\n",
      "  home_players = pd.read_html(str(table))[0].drop(11)\n",
      "C:\\Users\\user\\AppData\\Local\\Temp\\ipykernel_24300\\2944083324.py:32: FutureWarning: Passing literal html to 'read_html' is deprecated and will be removed in a future version. To read from a literal string, wrap it in a 'StringIO' object.\n",
      "  away_players = pd.read_html(str(table2))[0].drop(11)\n"
     ]
    },
    {
     "name": "stdout",
     "output_type": "stream",
     "text": [
      "meio: 1.7604963779449463\n",
      "fim: 1.827880859375\n",
      "/en/matches/dff22d13/Newcastle-United-Tottenham-Hotspur-April-23-2023-Premier-League\n"
     ]
    },
    {
     "name": "stderr",
     "output_type": "stream",
     "text": [
      "C:\\Users\\user\\AppData\\Local\\Temp\\ipykernel_24300\\2944083324.py:31: FutureWarning: Passing literal html to 'read_html' is deprecated and will be removed in a future version. To read from a literal string, wrap it in a 'StringIO' object.\n",
      "  home_players = pd.read_html(str(table))[0].drop(11)\n",
      "C:\\Users\\user\\AppData\\Local\\Temp\\ipykernel_24300\\2944083324.py:32: FutureWarning: Passing literal html to 'read_html' is deprecated and will be removed in a future version. To read from a literal string, wrap it in a 'StringIO' object.\n",
      "  away_players = pd.read_html(str(table2))[0].drop(11)\n"
     ]
    },
    {
     "name": "stdout",
     "output_type": "stream",
     "text": [
      "meio: 1.395118236541748\n",
      "fim: 1.4472482204437256\n",
      "/en/matches/825c78f1/Wolverhampton-Wanderers-Crystal-Palace-April-25-2023-Premier-League\n"
     ]
    },
    {
     "name": "stderr",
     "output_type": "stream",
     "text": [
      "C:\\Users\\user\\AppData\\Local\\Temp\\ipykernel_24300\\2944083324.py:31: FutureWarning: Passing literal html to 'read_html' is deprecated and will be removed in a future version. To read from a literal string, wrap it in a 'StringIO' object.\n",
      "  home_players = pd.read_html(str(table))[0].drop(11)\n",
      "C:\\Users\\user\\AppData\\Local\\Temp\\ipykernel_24300\\2944083324.py:32: FutureWarning: Passing literal html to 'read_html' is deprecated and will be removed in a future version. To read from a literal string, wrap it in a 'StringIO' object.\n",
      "  away_players = pd.read_html(str(table2))[0].drop(11)\n"
     ]
    },
    {
     "name": "stdout",
     "output_type": "stream",
     "text": [
      "meio: 1.3353257179260254\n",
      "fim: 1.3751068115234375\n",
      "/en/matches/8b295a84/Aston-Villa-Fulham-April-25-2023-Premier-League\n"
     ]
    },
    {
     "name": "stderr",
     "output_type": "stream",
     "text": [
      "C:\\Users\\user\\AppData\\Local\\Temp\\ipykernel_24300\\2944083324.py:31: FutureWarning: Passing literal html to 'read_html' is deprecated and will be removed in a future version. To read from a literal string, wrap it in a 'StringIO' object.\n",
      "  home_players = pd.read_html(str(table))[0].drop(11)\n",
      "C:\\Users\\user\\AppData\\Local\\Temp\\ipykernel_24300\\2944083324.py:32: FutureWarning: Passing literal html to 'read_html' is deprecated and will be removed in a future version. To read from a literal string, wrap it in a 'StringIO' object.\n",
      "  away_players = pd.read_html(str(table2))[0].drop(11)\n"
     ]
    },
    {
     "name": "stdout",
     "output_type": "stream",
     "text": [
      "meio: 1.0962867736816406\n",
      "fim: 1.1373727321624756\n",
      "/en/matches/56c70cf7/Leeds-United-Leicester-City-April-25-2023-Premier-League\n"
     ]
    },
    {
     "name": "stderr",
     "output_type": "stream",
     "text": [
      "C:\\Users\\user\\AppData\\Local\\Temp\\ipykernel_24300\\2944083324.py:31: FutureWarning: Passing literal html to 'read_html' is deprecated and will be removed in a future version. To read from a literal string, wrap it in a 'StringIO' object.\n",
      "  home_players = pd.read_html(str(table))[0].drop(11)\n",
      "C:\\Users\\user\\AppData\\Local\\Temp\\ipykernel_24300\\2944083324.py:32: FutureWarning: Passing literal html to 'read_html' is deprecated and will be removed in a future version. To read from a literal string, wrap it in a 'StringIO' object.\n",
      "  away_players = pd.read_html(str(table2))[0].drop(11)\n"
     ]
    },
    {
     "name": "stdout",
     "output_type": "stream",
     "text": [
      "meio: 1.220282793045044\n",
      "fim: 1.2608788013458252\n",
      "/en/matches/76db2de1/Nottingham-Forest-Brighton-and-Hove-Albion-April-26-2023-Premier-League\n"
     ]
    },
    {
     "name": "stderr",
     "output_type": "stream",
     "text": [
      "C:\\Users\\user\\AppData\\Local\\Temp\\ipykernel_24300\\2944083324.py:31: FutureWarning: Passing literal html to 'read_html' is deprecated and will be removed in a future version. To read from a literal string, wrap it in a 'StringIO' object.\n",
      "  home_players = pd.read_html(str(table))[0].drop(11)\n",
      "C:\\Users\\user\\AppData\\Local\\Temp\\ipykernel_24300\\2944083324.py:32: FutureWarning: Passing literal html to 'read_html' is deprecated and will be removed in a future version. To read from a literal string, wrap it in a 'StringIO' object.\n",
      "  away_players = pd.read_html(str(table2))[0].drop(11)\n"
     ]
    },
    {
     "name": "stdout",
     "output_type": "stream",
     "text": [
      "meio: 1.2012765407562256\n",
      "fim: 1.2422692775726318\n",
      "/en/matches/071b5820/Chelsea-Brentford-April-26-2023-Premier-League\n"
     ]
    },
    {
     "name": "stderr",
     "output_type": "stream",
     "text": [
      "C:\\Users\\user\\AppData\\Local\\Temp\\ipykernel_24300\\2944083324.py:31: FutureWarning: Passing literal html to 'read_html' is deprecated and will be removed in a future version. To read from a literal string, wrap it in a 'StringIO' object.\n",
      "  home_players = pd.read_html(str(table))[0].drop(11)\n",
      "C:\\Users\\user\\AppData\\Local\\Temp\\ipykernel_24300\\2944083324.py:32: FutureWarning: Passing literal html to 'read_html' is deprecated and will be removed in a future version. To read from a literal string, wrap it in a 'StringIO' object.\n",
      "  away_players = pd.read_html(str(table2))[0].drop(11)\n"
     ]
    },
    {
     "name": "stdout",
     "output_type": "stream",
     "text": [
      "meio: 1.3015353679656982\n",
      "fim: 1.3461360931396484\n",
      "/en/matches/f2f795ae/West-Ham-United-Liverpool-April-26-2023-Premier-League\n"
     ]
    },
    {
     "name": "stderr",
     "output_type": "stream",
     "text": [
      "C:\\Users\\user\\AppData\\Local\\Temp\\ipykernel_24300\\2944083324.py:31: FutureWarning: Passing literal html to 'read_html' is deprecated and will be removed in a future version. To read from a literal string, wrap it in a 'StringIO' object.\n",
      "  home_players = pd.read_html(str(table))[0].drop(11)\n",
      "C:\\Users\\user\\AppData\\Local\\Temp\\ipykernel_24300\\2944083324.py:32: FutureWarning: Passing literal html to 'read_html' is deprecated and will be removed in a future version. To read from a literal string, wrap it in a 'StringIO' object.\n",
      "  away_players = pd.read_html(str(table2))[0].drop(11)\n"
     ]
    },
    {
     "name": "stdout",
     "output_type": "stream",
     "text": [
      "meio: 1.3121862411499023\n",
      "fim: 1.3479790687561035\n",
      "/en/matches/00a73645/Manchester-City-Arsenal-April-26-2023-Premier-League\n"
     ]
    },
    {
     "name": "stderr",
     "output_type": "stream",
     "text": [
      "C:\\Users\\user\\AppData\\Local\\Temp\\ipykernel_24300\\2944083324.py:31: FutureWarning: Passing literal html to 'read_html' is deprecated and will be removed in a future version. To read from a literal string, wrap it in a 'StringIO' object.\n",
      "  home_players = pd.read_html(str(table))[0].drop(11)\n",
      "C:\\Users\\user\\AppData\\Local\\Temp\\ipykernel_24300\\2944083324.py:32: FutureWarning: Passing literal html to 'read_html' is deprecated and will be removed in a future version. To read from a literal string, wrap it in a 'StringIO' object.\n",
      "  away_players = pd.read_html(str(table2))[0].drop(11)\n"
     ]
    },
    {
     "name": "stdout",
     "output_type": "stream",
     "text": [
      "meio: 1.20933198928833\n",
      "fim: 1.2560694217681885\n",
      "/en/matches/37a741a7/Everton-Newcastle-United-April-27-2023-Premier-League\n"
     ]
    },
    {
     "name": "stderr",
     "output_type": "stream",
     "text": [
      "C:\\Users\\user\\AppData\\Local\\Temp\\ipykernel_24300\\2944083324.py:31: FutureWarning: Passing literal html to 'read_html' is deprecated and will be removed in a future version. To read from a literal string, wrap it in a 'StringIO' object.\n",
      "  home_players = pd.read_html(str(table))[0].drop(11)\n",
      "C:\\Users\\user\\AppData\\Local\\Temp\\ipykernel_24300\\2944083324.py:32: FutureWarning: Passing literal html to 'read_html' is deprecated and will be removed in a future version. To read from a literal string, wrap it in a 'StringIO' object.\n",
      "  away_players = pd.read_html(str(table2))[0].drop(11)\n"
     ]
    },
    {
     "name": "stdout",
     "output_type": "stream",
     "text": [
      "meio: 1.1483919620513916\n",
      "fim: 1.1876709461212158\n",
      "/en/matches/ccabe10f/Southampton-Bournemouth-April-27-2023-Premier-League\n"
     ]
    },
    {
     "name": "stderr",
     "output_type": "stream",
     "text": [
      "C:\\Users\\user\\AppData\\Local\\Temp\\ipykernel_24300\\2944083324.py:31: FutureWarning: Passing literal html to 'read_html' is deprecated and will be removed in a future version. To read from a literal string, wrap it in a 'StringIO' object.\n",
      "  home_players = pd.read_html(str(table))[0].drop(11)\n",
      "C:\\Users\\user\\AppData\\Local\\Temp\\ipykernel_24300\\2944083324.py:32: FutureWarning: Passing literal html to 'read_html' is deprecated and will be removed in a future version. To read from a literal string, wrap it in a 'StringIO' object.\n",
      "  away_players = pd.read_html(str(table2))[0].drop(11)\n"
     ]
    },
    {
     "name": "stdout",
     "output_type": "stream",
     "text": [
      "meio: 1.4226438999176025\n",
      "fim: 1.4616990089416504\n",
      "/en/matches/8c9a5c5c/Tottenham-Hotspur-Manchester-United-April-27-2023-Premier-League\n"
     ]
    },
    {
     "name": "stderr",
     "output_type": "stream",
     "text": [
      "C:\\Users\\user\\AppData\\Local\\Temp\\ipykernel_24300\\2944083324.py:31: FutureWarning: Passing literal html to 'read_html' is deprecated and will be removed in a future version. To read from a literal string, wrap it in a 'StringIO' object.\n",
      "  home_players = pd.read_html(str(table))[0].drop(11)\n",
      "C:\\Users\\user\\AppData\\Local\\Temp\\ipykernel_24300\\2944083324.py:32: FutureWarning: Passing literal html to 'read_html' is deprecated and will be removed in a future version. To read from a literal string, wrap it in a 'StringIO' object.\n",
      "  away_players = pd.read_html(str(table2))[0].drop(11)\n"
     ]
    },
    {
     "name": "stdout",
     "output_type": "stream",
     "text": [
      "meio: 1.2971694469451904\n",
      "fim: 1.3366434574127197\n",
      "/en/matches/4ec72d3b/Crystal-Palace-West-Ham-United-April-29-2023-Premier-League\n"
     ]
    },
    {
     "name": "stderr",
     "output_type": "stream",
     "text": [
      "C:\\Users\\user\\AppData\\Local\\Temp\\ipykernel_24300\\2944083324.py:31: FutureWarning: Passing literal html to 'read_html' is deprecated and will be removed in a future version. To read from a literal string, wrap it in a 'StringIO' object.\n",
      "  home_players = pd.read_html(str(table))[0].drop(11)\n",
      "C:\\Users\\user\\AppData\\Local\\Temp\\ipykernel_24300\\2944083324.py:32: FutureWarning: Passing literal html to 'read_html' is deprecated and will be removed in a future version. To read from a literal string, wrap it in a 'StringIO' object.\n",
      "  away_players = pd.read_html(str(table2))[0].drop(11)\n"
     ]
    },
    {
     "name": "stdout",
     "output_type": "stream",
     "text": [
      "meio: 1.1821024417877197\n",
      "fim: 1.2240099906921387\n",
      "/en/matches/21f920e0/Brighton-and-Hove-Albion-Wolverhampton-Wanderers-April-29-2023-Premier-League\n"
     ]
    },
    {
     "name": "stderr",
     "output_type": "stream",
     "text": [
      "C:\\Users\\user\\AppData\\Local\\Temp\\ipykernel_24300\\2944083324.py:31: FutureWarning: Passing literal html to 'read_html' is deprecated and will be removed in a future version. To read from a literal string, wrap it in a 'StringIO' object.\n",
      "  home_players = pd.read_html(str(table))[0].drop(11)\n",
      "C:\\Users\\user\\AppData\\Local\\Temp\\ipykernel_24300\\2944083324.py:32: FutureWarning: Passing literal html to 'read_html' is deprecated and will be removed in a future version. To read from a literal string, wrap it in a 'StringIO' object.\n",
      "  away_players = pd.read_html(str(table2))[0].drop(11)\n"
     ]
    },
    {
     "name": "stdout",
     "output_type": "stream",
     "text": [
      "meio: 1.325390338897705\n",
      "fim: 1.3676750659942627\n",
      "/en/matches/3aeacbaa/Brentford-Nottingham-Forest-April-29-2023-Premier-League\n"
     ]
    },
    {
     "name": "stderr",
     "output_type": "stream",
     "text": [
      "C:\\Users\\user\\AppData\\Local\\Temp\\ipykernel_24300\\2944083324.py:31: FutureWarning: Passing literal html to 'read_html' is deprecated and will be removed in a future version. To read from a literal string, wrap it in a 'StringIO' object.\n",
      "  home_players = pd.read_html(str(table))[0].drop(11)\n",
      "C:\\Users\\user\\AppData\\Local\\Temp\\ipykernel_24300\\2944083324.py:32: FutureWarning: Passing literal html to 'read_html' is deprecated and will be removed in a future version. To read from a literal string, wrap it in a 'StringIO' object.\n",
      "  away_players = pd.read_html(str(table2))[0].drop(11)\n"
     ]
    },
    {
     "name": "stdout",
     "output_type": "stream",
     "text": [
      "meio: 1.2492668628692627\n",
      "fim: 1.2875957489013672\n",
      "/en/matches/08607696/Manchester-United-Aston-Villa-April-30-2023-Premier-League\n"
     ]
    },
    {
     "name": "stderr",
     "output_type": "stream",
     "text": [
      "C:\\Users\\user\\AppData\\Local\\Temp\\ipykernel_24300\\2944083324.py:31: FutureWarning: Passing literal html to 'read_html' is deprecated and will be removed in a future version. To read from a literal string, wrap it in a 'StringIO' object.\n",
      "  home_players = pd.read_html(str(table))[0].drop(11)\n",
      "C:\\Users\\user\\AppData\\Local\\Temp\\ipykernel_24300\\2944083324.py:32: FutureWarning: Passing literal html to 'read_html' is deprecated and will be removed in a future version. To read from a literal string, wrap it in a 'StringIO' object.\n",
      "  away_players = pd.read_html(str(table2))[0].drop(11)\n"
     ]
    },
    {
     "name": "stdout",
     "output_type": "stream",
     "text": [
      "meio: 1.3552443981170654\n",
      "fim: 1.4038431644439697\n",
      "/en/matches/0b0733ce/Bournemouth-Leeds-United-April-30-2023-Premier-League\n"
     ]
    },
    {
     "name": "stderr",
     "output_type": "stream",
     "text": [
      "C:\\Users\\user\\AppData\\Local\\Temp\\ipykernel_24300\\2944083324.py:31: FutureWarning: Passing literal html to 'read_html' is deprecated and will be removed in a future version. To read from a literal string, wrap it in a 'StringIO' object.\n",
      "  home_players = pd.read_html(str(table))[0].drop(11)\n",
      "C:\\Users\\user\\AppData\\Local\\Temp\\ipykernel_24300\\2944083324.py:32: FutureWarning: Passing literal html to 'read_html' is deprecated and will be removed in a future version. To read from a literal string, wrap it in a 'StringIO' object.\n",
      "  away_players = pd.read_html(str(table2))[0].drop(11)\n"
     ]
    },
    {
     "name": "stdout",
     "output_type": "stream",
     "text": [
      "meio: 1.4301109313964844\n",
      "fim: 1.469970941543579\n",
      "/en/matches/b16063b6/Newcastle-United-Southampton-April-30-2023-Premier-League\n"
     ]
    },
    {
     "name": "stderr",
     "output_type": "stream",
     "text": [
      "C:\\Users\\user\\AppData\\Local\\Temp\\ipykernel_24300\\2944083324.py:31: FutureWarning: Passing literal html to 'read_html' is deprecated and will be removed in a future version. To read from a literal string, wrap it in a 'StringIO' object.\n",
      "  home_players = pd.read_html(str(table))[0].drop(11)\n",
      "C:\\Users\\user\\AppData\\Local\\Temp\\ipykernel_24300\\2944083324.py:32: FutureWarning: Passing literal html to 'read_html' is deprecated and will be removed in a future version. To read from a literal string, wrap it in a 'StringIO' object.\n",
      "  away_players = pd.read_html(str(table2))[0].drop(11)\n"
     ]
    },
    {
     "name": "stdout",
     "output_type": "stream",
     "text": [
      "meio: 1.2410211563110352\n",
      "fim: 1.2863647937774658\n",
      "/en/matches/d4d0cb2a/Fulham-Manchester-City-April-30-2023-Premier-League\n"
     ]
    },
    {
     "name": "stderr",
     "output_type": "stream",
     "text": [
      "C:\\Users\\user\\AppData\\Local\\Temp\\ipykernel_24300\\2944083324.py:31: FutureWarning: Passing literal html to 'read_html' is deprecated and will be removed in a future version. To read from a literal string, wrap it in a 'StringIO' object.\n",
      "  home_players = pd.read_html(str(table))[0].drop(11)\n",
      "C:\\Users\\user\\AppData\\Local\\Temp\\ipykernel_24300\\2944083324.py:32: FutureWarning: Passing literal html to 'read_html' is deprecated and will be removed in a future version. To read from a literal string, wrap it in a 'StringIO' object.\n",
      "  away_players = pd.read_html(str(table2))[0].drop(11)\n"
     ]
    },
    {
     "name": "stdout",
     "output_type": "stream",
     "text": [
      "meio: 1.136305332183838\n",
      "fim: 1.180504322052002\n",
      "/en/matches/e07267b3/Liverpool-Tottenham-Hotspur-April-30-2023-Premier-League\n"
     ]
    },
    {
     "name": "stderr",
     "output_type": "stream",
     "text": [
      "C:\\Users\\user\\AppData\\Local\\Temp\\ipykernel_24300\\2944083324.py:31: FutureWarning: Passing literal html to 'read_html' is deprecated and will be removed in a future version. To read from a literal string, wrap it in a 'StringIO' object.\n",
      "  home_players = pd.read_html(str(table))[0].drop(11)\n",
      "C:\\Users\\user\\AppData\\Local\\Temp\\ipykernel_24300\\2944083324.py:32: FutureWarning: Passing literal html to 'read_html' is deprecated and will be removed in a future version. To read from a literal string, wrap it in a 'StringIO' object.\n",
      "  away_players = pd.read_html(str(table2))[0].drop(11)\n"
     ]
    },
    {
     "name": "stdout",
     "output_type": "stream",
     "text": [
      "meio: 1.3457412719726562\n",
      "fim: 1.384261131286621\n",
      "/en/matches/95d2cc61/Leicester-City-Everton-May-1-2023-Premier-League\n"
     ]
    },
    {
     "name": "stderr",
     "output_type": "stream",
     "text": [
      "C:\\Users\\user\\AppData\\Local\\Temp\\ipykernel_24300\\2944083324.py:31: FutureWarning: Passing literal html to 'read_html' is deprecated and will be removed in a future version. To read from a literal string, wrap it in a 'StringIO' object.\n",
      "  home_players = pd.read_html(str(table))[0].drop(11)\n",
      "C:\\Users\\user\\AppData\\Local\\Temp\\ipykernel_24300\\2944083324.py:32: FutureWarning: Passing literal html to 'read_html' is deprecated and will be removed in a future version. To read from a literal string, wrap it in a 'StringIO' object.\n",
      "  away_players = pd.read_html(str(table2))[0].drop(11)\n"
     ]
    },
    {
     "name": "stdout",
     "output_type": "stream",
     "text": [
      "meio: 1.2292311191558838\n",
      "fim: 1.2694263458251953\n",
      "/en/matches/2d551ff5/North-West-London-Derby-Arsenal-Chelsea-May-2-2023-Premier-League\n"
     ]
    },
    {
     "name": "stderr",
     "output_type": "stream",
     "text": [
      "C:\\Users\\user\\AppData\\Local\\Temp\\ipykernel_24300\\2944083324.py:31: FutureWarning: Passing literal html to 'read_html' is deprecated and will be removed in a future version. To read from a literal string, wrap it in a 'StringIO' object.\n",
      "  home_players = pd.read_html(str(table))[0].drop(11)\n",
      "C:\\Users\\user\\AppData\\Local\\Temp\\ipykernel_24300\\2944083324.py:32: FutureWarning: Passing literal html to 'read_html' is deprecated and will be removed in a future version. To read from a literal string, wrap it in a 'StringIO' object.\n",
      "  away_players = pd.read_html(str(table2))[0].drop(11)\n"
     ]
    },
    {
     "name": "stdout",
     "output_type": "stream",
     "text": [
      "meio: 1.150738000869751\n",
      "fim: 1.188539743423462\n",
      "/en/matches/24fb8eca/Liverpool-Fulham-May-3-2023-Premier-League\n"
     ]
    },
    {
     "name": "stderr",
     "output_type": "stream",
     "text": [
      "C:\\Users\\user\\AppData\\Local\\Temp\\ipykernel_24300\\2944083324.py:31: FutureWarning: Passing literal html to 'read_html' is deprecated and will be removed in a future version. To read from a literal string, wrap it in a 'StringIO' object.\n",
      "  home_players = pd.read_html(str(table))[0].drop(11)\n",
      "C:\\Users\\user\\AppData\\Local\\Temp\\ipykernel_24300\\2944083324.py:32: FutureWarning: Passing literal html to 'read_html' is deprecated and will be removed in a future version. To read from a literal string, wrap it in a 'StringIO' object.\n",
      "  away_players = pd.read_html(str(table2))[0].drop(11)\n"
     ]
    },
    {
     "name": "stdout",
     "output_type": "stream",
     "text": [
      "meio: 1.224269151687622\n",
      "fim: 1.2627029418945312\n",
      "/en/matches/fccab6ff/Manchester-City-West-Ham-United-May-3-2023-Premier-League\n"
     ]
    },
    {
     "name": "stderr",
     "output_type": "stream",
     "text": [
      "C:\\Users\\user\\AppData\\Local\\Temp\\ipykernel_24300\\2944083324.py:31: FutureWarning: Passing literal html to 'read_html' is deprecated and will be removed in a future version. To read from a literal string, wrap it in a 'StringIO' object.\n",
      "  home_players = pd.read_html(str(table))[0].drop(11)\n",
      "C:\\Users\\user\\AppData\\Local\\Temp\\ipykernel_24300\\2944083324.py:32: FutureWarning: Passing literal html to 'read_html' is deprecated and will be removed in a future version. To read from a literal string, wrap it in a 'StringIO' object.\n",
      "  away_players = pd.read_html(str(table2))[0].drop(11)\n"
     ]
    },
    {
     "name": "stdout",
     "output_type": "stream",
     "text": [
      "meio: 1.180957317352295\n",
      "fim: 1.2240896224975586\n",
      "/en/matches/16209587/Brighton-and-Hove-Albion-Manchester-United-May-4-2023-Premier-League\n"
     ]
    },
    {
     "name": "stderr",
     "output_type": "stream",
     "text": [
      "C:\\Users\\user\\AppData\\Local\\Temp\\ipykernel_24300\\2944083324.py:31: FutureWarning: Passing literal html to 'read_html' is deprecated and will be removed in a future version. To read from a literal string, wrap it in a 'StringIO' object.\n",
      "  home_players = pd.read_html(str(table))[0].drop(11)\n",
      "C:\\Users\\user\\AppData\\Local\\Temp\\ipykernel_24300\\2944083324.py:32: FutureWarning: Passing literal html to 'read_html' is deprecated and will be removed in a future version. To read from a literal string, wrap it in a 'StringIO' object.\n",
      "  away_players = pd.read_html(str(table2))[0].drop(11)\n"
     ]
    },
    {
     "name": "stdout",
     "output_type": "stream",
     "text": [
      "meio: 1.3169300556182861\n",
      "fim: 1.3561069965362549\n",
      "/en/matches/0f1e1478/Tottenham-Hotspur-Crystal-Palace-May-6-2023-Premier-League\n"
     ]
    },
    {
     "name": "stderr",
     "output_type": "stream",
     "text": [
      "C:\\Users\\user\\AppData\\Local\\Temp\\ipykernel_24300\\2944083324.py:31: FutureWarning: Passing literal html to 'read_html' is deprecated and will be removed in a future version. To read from a literal string, wrap it in a 'StringIO' object.\n",
      "  home_players = pd.read_html(str(table))[0].drop(11)\n",
      "C:\\Users\\user\\AppData\\Local\\Temp\\ipykernel_24300\\2944083324.py:32: FutureWarning: Passing literal html to 'read_html' is deprecated and will be removed in a future version. To read from a literal string, wrap it in a 'StringIO' object.\n",
      "  away_players = pd.read_html(str(table2))[0].drop(11)\n"
     ]
    },
    {
     "name": "stdout",
     "output_type": "stream",
     "text": [
      "meio: 1.172811508178711\n",
      "fim: 1.2076339721679688\n",
      "/en/matches/217a7faf/Wolverhampton-Wanderers-Aston-Villa-May-6-2023-Premier-League\n"
     ]
    },
    {
     "name": "stderr",
     "output_type": "stream",
     "text": [
      "C:\\Users\\user\\AppData\\Local\\Temp\\ipykernel_24300\\2944083324.py:31: FutureWarning: Passing literal html to 'read_html' is deprecated and will be removed in a future version. To read from a literal string, wrap it in a 'StringIO' object.\n",
      "  home_players = pd.read_html(str(table))[0].drop(11)\n",
      "C:\\Users\\user\\AppData\\Local\\Temp\\ipykernel_24300\\2944083324.py:32: FutureWarning: Passing literal html to 'read_html' is deprecated and will be removed in a future version. To read from a literal string, wrap it in a 'StringIO' object.\n",
      "  away_players = pd.read_html(str(table2))[0].drop(11)\n"
     ]
    },
    {
     "name": "stdout",
     "output_type": "stream",
     "text": [
      "meio: 2.5087077617645264\n",
      "fim: 2.5581130981445312\n",
      "/en/matches/6116824f/Bournemouth-Chelsea-May-6-2023-Premier-League\n"
     ]
    },
    {
     "name": "stderr",
     "output_type": "stream",
     "text": [
      "C:\\Users\\user\\AppData\\Local\\Temp\\ipykernel_24300\\2944083324.py:31: FutureWarning: Passing literal html to 'read_html' is deprecated and will be removed in a future version. To read from a literal string, wrap it in a 'StringIO' object.\n",
      "  home_players = pd.read_html(str(table))[0].drop(11)\n",
      "C:\\Users\\user\\AppData\\Local\\Temp\\ipykernel_24300\\2944083324.py:32: FutureWarning: Passing literal html to 'read_html' is deprecated and will be removed in a future version. To read from a literal string, wrap it in a 'StringIO' object.\n",
      "  away_players = pd.read_html(str(table2))[0].drop(11)\n"
     ]
    },
    {
     "name": "stdout",
     "output_type": "stream",
     "text": [
      "meio: 1.470491886138916\n",
      "fim: 1.5125648975372314\n",
      "/en/matches/7ee695ea/Manchester-City-Leeds-United-May-6-2023-Premier-League\n"
     ]
    },
    {
     "name": "stderr",
     "output_type": "stream",
     "text": [
      "C:\\Users\\user\\AppData\\Local\\Temp\\ipykernel_24300\\2944083324.py:31: FutureWarning: Passing literal html to 'read_html' is deprecated and will be removed in a future version. To read from a literal string, wrap it in a 'StringIO' object.\n",
      "  home_players = pd.read_html(str(table))[0].drop(11)\n",
      "C:\\Users\\user\\AppData\\Local\\Temp\\ipykernel_24300\\2944083324.py:32: FutureWarning: Passing literal html to 'read_html' is deprecated and will be removed in a future version. To read from a literal string, wrap it in a 'StringIO' object.\n",
      "  away_players = pd.read_html(str(table2))[0].drop(11)\n"
     ]
    },
    {
     "name": "stdout",
     "output_type": "stream",
     "text": [
      "meio: 1.2891008853912354\n",
      "fim: 1.3368358612060547\n",
      "/en/matches/6e2d1c8c/Liverpool-Brentford-May-6-2023-Premier-League\n"
     ]
    },
    {
     "name": "stderr",
     "output_type": "stream",
     "text": [
      "C:\\Users\\user\\AppData\\Local\\Temp\\ipykernel_24300\\2944083324.py:31: FutureWarning: Passing literal html to 'read_html' is deprecated and will be removed in a future version. To read from a literal string, wrap it in a 'StringIO' object.\n",
      "  home_players = pd.read_html(str(table))[0].drop(11)\n",
      "C:\\Users\\user\\AppData\\Local\\Temp\\ipykernel_24300\\2944083324.py:32: FutureWarning: Passing literal html to 'read_html' is deprecated and will be removed in a future version. To read from a literal string, wrap it in a 'StringIO' object.\n",
      "  away_players = pd.read_html(str(table2))[0].drop(11)\n"
     ]
    },
    {
     "name": "stdout",
     "output_type": "stream",
     "text": [
      "meio: 1.3519015312194824\n",
      "fim: 1.3911795616149902\n",
      "/en/matches/9bb3a778/Newcastle-United-Arsenal-May-7-2023-Premier-League\n"
     ]
    },
    {
     "name": "stderr",
     "output_type": "stream",
     "text": [
      "C:\\Users\\user\\AppData\\Local\\Temp\\ipykernel_24300\\2944083324.py:31: FutureWarning: Passing literal html to 'read_html' is deprecated and will be removed in a future version. To read from a literal string, wrap it in a 'StringIO' object.\n",
      "  home_players = pd.read_html(str(table))[0].drop(11)\n",
      "C:\\Users\\user\\AppData\\Local\\Temp\\ipykernel_24300\\2944083324.py:32: FutureWarning: Passing literal html to 'read_html' is deprecated and will be removed in a future version. To read from a literal string, wrap it in a 'StringIO' object.\n",
      "  away_players = pd.read_html(str(table2))[0].drop(11)\n"
     ]
    },
    {
     "name": "stdout",
     "output_type": "stream",
     "text": [
      "meio: 1.2375829219818115\n",
      "fim: 1.2853715419769287\n",
      "/en/matches/98f0c145/West-Ham-United-Manchester-United-May-7-2023-Premier-League\n"
     ]
    },
    {
     "name": "stderr",
     "output_type": "stream",
     "text": [
      "C:\\Users\\user\\AppData\\Local\\Temp\\ipykernel_24300\\2944083324.py:31: FutureWarning: Passing literal html to 'read_html' is deprecated and will be removed in a future version. To read from a literal string, wrap it in a 'StringIO' object.\n",
      "  home_players = pd.read_html(str(table))[0].drop(11)\n",
      "C:\\Users\\user\\AppData\\Local\\Temp\\ipykernel_24300\\2944083324.py:32: FutureWarning: Passing literal html to 'read_html' is deprecated and will be removed in a future version. To read from a literal string, wrap it in a 'StringIO' object.\n",
      "  away_players = pd.read_html(str(table2))[0].drop(11)\n"
     ]
    },
    {
     "name": "stdout",
     "output_type": "stream",
     "text": [
      "meio: 1.1747748851776123\n",
      "fim: 1.2179508209228516\n",
      "/en/matches/9a5efecc/Fulham-Leicester-City-May-8-2023-Premier-League\n"
     ]
    },
    {
     "name": "stderr",
     "output_type": "stream",
     "text": [
      "C:\\Users\\user\\AppData\\Local\\Temp\\ipykernel_24300\\2944083324.py:31: FutureWarning: Passing literal html to 'read_html' is deprecated and will be removed in a future version. To read from a literal string, wrap it in a 'StringIO' object.\n",
      "  home_players = pd.read_html(str(table))[0].drop(11)\n",
      "C:\\Users\\user\\AppData\\Local\\Temp\\ipykernel_24300\\2944083324.py:32: FutureWarning: Passing literal html to 'read_html' is deprecated and will be removed in a future version. To read from a literal string, wrap it in a 'StringIO' object.\n",
      "  away_players = pd.read_html(str(table2))[0].drop(11)\n"
     ]
    },
    {
     "name": "stdout",
     "output_type": "stream",
     "text": [
      "meio: 1.4436917304992676\n",
      "fim: 1.4919142723083496\n",
      "/en/matches/bf8d9047/Brighton-and-Hove-Albion-Everton-May-8-2023-Premier-League\n"
     ]
    },
    {
     "name": "stderr",
     "output_type": "stream",
     "text": [
      "C:\\Users\\user\\AppData\\Local\\Temp\\ipykernel_24300\\2944083324.py:31: FutureWarning: Passing literal html to 'read_html' is deprecated and will be removed in a future version. To read from a literal string, wrap it in a 'StringIO' object.\n",
      "  home_players = pd.read_html(str(table))[0].drop(11)\n",
      "C:\\Users\\user\\AppData\\Local\\Temp\\ipykernel_24300\\2944083324.py:32: FutureWarning: Passing literal html to 'read_html' is deprecated and will be removed in a future version. To read from a literal string, wrap it in a 'StringIO' object.\n",
      "  away_players = pd.read_html(str(table2))[0].drop(11)\n"
     ]
    },
    {
     "name": "stdout",
     "output_type": "stream",
     "text": [
      "meio: 1.3583297729492188\n",
      "fim: 1.4098999500274658\n",
      "/en/matches/23e7953f/Nottingham-Forest-Southampton-May-8-2023-Premier-League\n"
     ]
    },
    {
     "name": "stderr",
     "output_type": "stream",
     "text": [
      "C:\\Users\\user\\AppData\\Local\\Temp\\ipykernel_24300\\2944083324.py:31: FutureWarning: Passing literal html to 'read_html' is deprecated and will be removed in a future version. To read from a literal string, wrap it in a 'StringIO' object.\n",
      "  home_players = pd.read_html(str(table))[0].drop(11)\n",
      "C:\\Users\\user\\AppData\\Local\\Temp\\ipykernel_24300\\2944083324.py:32: FutureWarning: Passing literal html to 'read_html' is deprecated and will be removed in a future version. To read from a literal string, wrap it in a 'StringIO' object.\n",
      "  away_players = pd.read_html(str(table2))[0].drop(11)\n"
     ]
    },
    {
     "name": "stdout",
     "output_type": "stream",
     "text": [
      "meio: 5.849571228027344\n",
      "fim: 5.919256210327148\n",
      "/en/matches/d63581e0/Leeds-United-Newcastle-United-May-13-2023-Premier-League\n"
     ]
    },
    {
     "name": "stderr",
     "output_type": "stream",
     "text": [
      "C:\\Users\\user\\AppData\\Local\\Temp\\ipykernel_24300\\2944083324.py:31: FutureWarning: Passing literal html to 'read_html' is deprecated and will be removed in a future version. To read from a literal string, wrap it in a 'StringIO' object.\n",
      "  home_players = pd.read_html(str(table))[0].drop(11)\n",
      "C:\\Users\\user\\AppData\\Local\\Temp\\ipykernel_24300\\2944083324.py:32: FutureWarning: Passing literal html to 'read_html' is deprecated and will be removed in a future version. To read from a literal string, wrap it in a 'StringIO' object.\n",
      "  away_players = pd.read_html(str(table2))[0].drop(11)\n"
     ]
    },
    {
     "name": "stdout",
     "output_type": "stream",
     "text": [
      "meio: 1.3590309619903564\n",
      "fim: 1.4030511379241943\n",
      "/en/matches/362514ee/Aston-Villa-Tottenham-Hotspur-May-13-2023-Premier-League\n"
     ]
    },
    {
     "name": "stderr",
     "output_type": "stream",
     "text": [
      "C:\\Users\\user\\AppData\\Local\\Temp\\ipykernel_24300\\2944083324.py:31: FutureWarning: Passing literal html to 'read_html' is deprecated and will be removed in a future version. To read from a literal string, wrap it in a 'StringIO' object.\n",
      "  home_players = pd.read_html(str(table))[0].drop(11)\n",
      "C:\\Users\\user\\AppData\\Local\\Temp\\ipykernel_24300\\2944083324.py:32: FutureWarning: Passing literal html to 'read_html' is deprecated and will be removed in a future version. To read from a literal string, wrap it in a 'StringIO' object.\n",
      "  away_players = pd.read_html(str(table2))[0].drop(11)\n"
     ]
    },
    {
     "name": "stdout",
     "output_type": "stream",
     "text": [
      "meio: 2.678194284439087\n",
      "fim: 2.7145848274230957\n",
      "/en/matches/96ab0b45/Chelsea-Nottingham-Forest-May-13-2023-Premier-League\n"
     ]
    },
    {
     "name": "stderr",
     "output_type": "stream",
     "text": [
      "C:\\Users\\user\\AppData\\Local\\Temp\\ipykernel_24300\\2944083324.py:31: FutureWarning: Passing literal html to 'read_html' is deprecated and will be removed in a future version. To read from a literal string, wrap it in a 'StringIO' object.\n",
      "  home_players = pd.read_html(str(table))[0].drop(11)\n",
      "C:\\Users\\user\\AppData\\Local\\Temp\\ipykernel_24300\\2944083324.py:32: FutureWarning: Passing literal html to 'read_html' is deprecated and will be removed in a future version. To read from a literal string, wrap it in a 'StringIO' object.\n",
      "  away_players = pd.read_html(str(table2))[0].drop(11)\n"
     ]
    },
    {
     "name": "stdout",
     "output_type": "stream",
     "text": [
      "meio: 1.1740500926971436\n",
      "fim: 1.2137341499328613\n",
      "/en/matches/a4ffd11f/Crystal-Palace-Bournemouth-May-13-2023-Premier-League\n"
     ]
    },
    {
     "name": "stderr",
     "output_type": "stream",
     "text": [
      "C:\\Users\\user\\AppData\\Local\\Temp\\ipykernel_24300\\2944083324.py:31: FutureWarning: Passing literal html to 'read_html' is deprecated and will be removed in a future version. To read from a literal string, wrap it in a 'StringIO' object.\n",
      "  home_players = pd.read_html(str(table))[0].drop(11)\n",
      "C:\\Users\\user\\AppData\\Local\\Temp\\ipykernel_24300\\2944083324.py:32: FutureWarning: Passing literal html to 'read_html' is deprecated and will be removed in a future version. To read from a literal string, wrap it in a 'StringIO' object.\n",
      "  away_players = pd.read_html(str(table2))[0].drop(11)\n"
     ]
    },
    {
     "name": "stdout",
     "output_type": "stream",
     "text": [
      "meio: 1.2561469078063965\n",
      "fim: 1.294759750366211\n",
      "/en/matches/e05f67be/Southampton-Fulham-May-13-2023-Premier-League\n"
     ]
    },
    {
     "name": "stderr",
     "output_type": "stream",
     "text": [
      "C:\\Users\\user\\AppData\\Local\\Temp\\ipykernel_24300\\2944083324.py:31: FutureWarning: Passing literal html to 'read_html' is deprecated and will be removed in a future version. To read from a literal string, wrap it in a 'StringIO' object.\n",
      "  home_players = pd.read_html(str(table))[0].drop(11)\n",
      "C:\\Users\\user\\AppData\\Local\\Temp\\ipykernel_24300\\2944083324.py:32: FutureWarning: Passing literal html to 'read_html' is deprecated and will be removed in a future version. To read from a literal string, wrap it in a 'StringIO' object.\n",
      "  away_players = pd.read_html(str(table2))[0].drop(11)\n"
     ]
    },
    {
     "name": "stdout",
     "output_type": "stream",
     "text": [
      "meio: 1.2529332637786865\n",
      "fim: 1.2986974716186523\n",
      "/en/matches/f5d61382/Manchester-United-Wolverhampton-Wanderers-May-13-2023-Premier-League\n"
     ]
    },
    {
     "name": "stderr",
     "output_type": "stream",
     "text": [
      "C:\\Users\\user\\AppData\\Local\\Temp\\ipykernel_24300\\2944083324.py:31: FutureWarning: Passing literal html to 'read_html' is deprecated and will be removed in a future version. To read from a literal string, wrap it in a 'StringIO' object.\n",
      "  home_players = pd.read_html(str(table))[0].drop(11)\n",
      "C:\\Users\\user\\AppData\\Local\\Temp\\ipykernel_24300\\2944083324.py:32: FutureWarning: Passing literal html to 'read_html' is deprecated and will be removed in a future version. To read from a literal string, wrap it in a 'StringIO' object.\n",
      "  away_players = pd.read_html(str(table2))[0].drop(11)\n"
     ]
    },
    {
     "name": "stdout",
     "output_type": "stream",
     "text": [
      "meio: 1.1413929462432861\n",
      "fim: 1.1821980476379395\n",
      "/en/matches/704aa0f3/Everton-Manchester-City-May-14-2023-Premier-League\n"
     ]
    },
    {
     "name": "stderr",
     "output_type": "stream",
     "text": [
      "C:\\Users\\user\\AppData\\Local\\Temp\\ipykernel_24300\\2944083324.py:31: FutureWarning: Passing literal html to 'read_html' is deprecated and will be removed in a future version. To read from a literal string, wrap it in a 'StringIO' object.\n",
      "  home_players = pd.read_html(str(table))[0].drop(11)\n",
      "C:\\Users\\user\\AppData\\Local\\Temp\\ipykernel_24300\\2944083324.py:32: FutureWarning: Passing literal html to 'read_html' is deprecated and will be removed in a future version. To read from a literal string, wrap it in a 'StringIO' object.\n",
      "  away_players = pd.read_html(str(table2))[0].drop(11)\n"
     ]
    },
    {
     "name": "stdout",
     "output_type": "stream",
     "text": [
      "meio: 1.224576711654663\n",
      "fim: 1.262711524963379\n",
      "/en/matches/9a41c925/Brentford-West-Ham-United-May-14-2023-Premier-League\n"
     ]
    },
    {
     "name": "stderr",
     "output_type": "stream",
     "text": [
      "C:\\Users\\user\\AppData\\Local\\Temp\\ipykernel_24300\\2944083324.py:31: FutureWarning: Passing literal html to 'read_html' is deprecated and will be removed in a future version. To read from a literal string, wrap it in a 'StringIO' object.\n",
      "  home_players = pd.read_html(str(table))[0].drop(11)\n",
      "C:\\Users\\user\\AppData\\Local\\Temp\\ipykernel_24300\\2944083324.py:32: FutureWarning: Passing literal html to 'read_html' is deprecated and will be removed in a future version. To read from a literal string, wrap it in a 'StringIO' object.\n",
      "  away_players = pd.read_html(str(table2))[0].drop(11)\n"
     ]
    },
    {
     "name": "stdout",
     "output_type": "stream",
     "text": [
      "meio: 1.214331865310669\n",
      "fim: 1.2585248947143555\n",
      "/en/matches/dc6fb985/Arsenal-Brighton-and-Hove-Albion-May-14-2023-Premier-League\n"
     ]
    },
    {
     "name": "stderr",
     "output_type": "stream",
     "text": [
      "C:\\Users\\user\\AppData\\Local\\Temp\\ipykernel_24300\\2944083324.py:31: FutureWarning: Passing literal html to 'read_html' is deprecated and will be removed in a future version. To read from a literal string, wrap it in a 'StringIO' object.\n",
      "  home_players = pd.read_html(str(table))[0].drop(11)\n",
      "C:\\Users\\user\\AppData\\Local\\Temp\\ipykernel_24300\\2944083324.py:32: FutureWarning: Passing literal html to 'read_html' is deprecated and will be removed in a future version. To read from a literal string, wrap it in a 'StringIO' object.\n",
      "  away_players = pd.read_html(str(table2))[0].drop(11)\n"
     ]
    },
    {
     "name": "stdout",
     "output_type": "stream",
     "text": [
      "meio: 1.2355225086212158\n",
      "fim: 1.307060956954956\n",
      "/en/matches/7dd0fbd7/Leicester-City-Liverpool-May-15-2023-Premier-League\n"
     ]
    },
    {
     "name": "stderr",
     "output_type": "stream",
     "text": [
      "C:\\Users\\user\\AppData\\Local\\Temp\\ipykernel_24300\\2944083324.py:31: FutureWarning: Passing literal html to 'read_html' is deprecated and will be removed in a future version. To read from a literal string, wrap it in a 'StringIO' object.\n",
      "  home_players = pd.read_html(str(table))[0].drop(11)\n",
      "C:\\Users\\user\\AppData\\Local\\Temp\\ipykernel_24300\\2944083324.py:32: FutureWarning: Passing literal html to 'read_html' is deprecated and will be removed in a future version. To read from a literal string, wrap it in a 'StringIO' object.\n",
      "  away_players = pd.read_html(str(table2))[0].drop(11)\n"
     ]
    },
    {
     "name": "stdout",
     "output_type": "stream",
     "text": [
      "meio: 1.0801806449890137\n",
      "fim: 1.1200454235076904\n",
      "/en/matches/e265430e/Newcastle-United-Brighton-and-Hove-Albion-May-18-2023-Premier-League\n"
     ]
    },
    {
     "name": "stderr",
     "output_type": "stream",
     "text": [
      "C:\\Users\\user\\AppData\\Local\\Temp\\ipykernel_24300\\2944083324.py:31: FutureWarning: Passing literal html to 'read_html' is deprecated and will be removed in a future version. To read from a literal string, wrap it in a 'StringIO' object.\n",
      "  home_players = pd.read_html(str(table))[0].drop(11)\n",
      "C:\\Users\\user\\AppData\\Local\\Temp\\ipykernel_24300\\2944083324.py:32: FutureWarning: Passing literal html to 'read_html' is deprecated and will be removed in a future version. To read from a literal string, wrap it in a 'StringIO' object.\n",
      "  away_players = pd.read_html(str(table2))[0].drop(11)\n"
     ]
    },
    {
     "name": "stdout",
     "output_type": "stream",
     "text": [
      "meio: 1.5592041015625\n",
      "fim: 1.6015293598175049\n",
      "/en/matches/28ebbaf2/Tottenham-Hotspur-Brentford-May-20-2023-Premier-League\n"
     ]
    },
    {
     "name": "stderr",
     "output_type": "stream",
     "text": [
      "C:\\Users\\user\\AppData\\Local\\Temp\\ipykernel_24300\\2944083324.py:31: FutureWarning: Passing literal html to 'read_html' is deprecated and will be removed in a future version. To read from a literal string, wrap it in a 'StringIO' object.\n",
      "  home_players = pd.read_html(str(table))[0].drop(11)\n",
      "C:\\Users\\user\\AppData\\Local\\Temp\\ipykernel_24300\\2944083324.py:32: FutureWarning: Passing literal html to 'read_html' is deprecated and will be removed in a future version. To read from a literal string, wrap it in a 'StringIO' object.\n",
      "  away_players = pd.read_html(str(table2))[0].drop(11)\n"
     ]
    },
    {
     "name": "stdout",
     "output_type": "stream",
     "text": [
      "meio: 1.5959217548370361\n",
      "fim: 1.6383907794952393\n",
      "/en/matches/72646bde/Liverpool-Aston-Villa-May-20-2023-Premier-League\n"
     ]
    },
    {
     "name": "stderr",
     "output_type": "stream",
     "text": [
      "C:\\Users\\user\\AppData\\Local\\Temp\\ipykernel_24300\\2944083324.py:31: FutureWarning: Passing literal html to 'read_html' is deprecated and will be removed in a future version. To read from a literal string, wrap it in a 'StringIO' object.\n",
      "  home_players = pd.read_html(str(table))[0].drop(11)\n",
      "C:\\Users\\user\\AppData\\Local\\Temp\\ipykernel_24300\\2944083324.py:32: FutureWarning: Passing literal html to 'read_html' is deprecated and will be removed in a future version. To read from a literal string, wrap it in a 'StringIO' object.\n",
      "  away_players = pd.read_html(str(table2))[0].drop(11)\n"
     ]
    },
    {
     "name": "stdout",
     "output_type": "stream",
     "text": [
      "meio: 1.3167967796325684\n",
      "fim: 1.3559367656707764\n",
      "/en/matches/844f2c37/Fulham-Crystal-Palace-May-20-2023-Premier-League\n"
     ]
    },
    {
     "name": "stderr",
     "output_type": "stream",
     "text": [
      "C:\\Users\\user\\AppData\\Local\\Temp\\ipykernel_24300\\2944083324.py:31: FutureWarning: Passing literal html to 'read_html' is deprecated and will be removed in a future version. To read from a literal string, wrap it in a 'StringIO' object.\n",
      "  home_players = pd.read_html(str(table))[0].drop(11)\n",
      "C:\\Users\\user\\AppData\\Local\\Temp\\ipykernel_24300\\2944083324.py:32: FutureWarning: Passing literal html to 'read_html' is deprecated and will be removed in a future version. To read from a literal string, wrap it in a 'StringIO' object.\n",
      "  away_players = pd.read_html(str(table2))[0].drop(11)\n"
     ]
    },
    {
     "name": "stdout",
     "output_type": "stream",
     "text": [
      "meio: 1.442600965499878\n",
      "fim: 1.4822499752044678\n",
      "/en/matches/ec496eca/Bournemouth-Manchester-United-May-20-2023-Premier-League\n"
     ]
    },
    {
     "name": "stderr",
     "output_type": "stream",
     "text": [
      "C:\\Users\\user\\AppData\\Local\\Temp\\ipykernel_24300\\2944083324.py:31: FutureWarning: Passing literal html to 'read_html' is deprecated and will be removed in a future version. To read from a literal string, wrap it in a 'StringIO' object.\n",
      "  home_players = pd.read_html(str(table))[0].drop(11)\n",
      "C:\\Users\\user\\AppData\\Local\\Temp\\ipykernel_24300\\2944083324.py:32: FutureWarning: Passing literal html to 'read_html' is deprecated and will be removed in a future version. To read from a literal string, wrap it in a 'StringIO' object.\n",
      "  away_players = pd.read_html(str(table2))[0].drop(11)\n"
     ]
    },
    {
     "name": "stdout",
     "output_type": "stream",
     "text": [
      "meio: 1.1747887134552002\n",
      "fim: 1.2105827331542969\n",
      "/en/matches/ff2b58c3/Wolverhampton-Wanderers-Everton-May-20-2023-Premier-League\n"
     ]
    },
    {
     "name": "stderr",
     "output_type": "stream",
     "text": [
      "C:\\Users\\user\\AppData\\Local\\Temp\\ipykernel_24300\\2944083324.py:31: FutureWarning: Passing literal html to 'read_html' is deprecated and will be removed in a future version. To read from a literal string, wrap it in a 'StringIO' object.\n",
      "  home_players = pd.read_html(str(table))[0].drop(11)\n",
      "C:\\Users\\user\\AppData\\Local\\Temp\\ipykernel_24300\\2944083324.py:32: FutureWarning: Passing literal html to 'read_html' is deprecated and will be removed in a future version. To read from a literal string, wrap it in a 'StringIO' object.\n",
      "  away_players = pd.read_html(str(table2))[0].drop(11)\n"
     ]
    },
    {
     "name": "stdout",
     "output_type": "stream",
     "text": [
      "meio: 1.1383247375488281\n",
      "fim: 1.1780195236206055\n",
      "/en/matches/9a2ea2b3/Nottingham-Forest-Arsenal-May-20-2023-Premier-League\n"
     ]
    },
    {
     "name": "stderr",
     "output_type": "stream",
     "text": [
      "C:\\Users\\user\\AppData\\Local\\Temp\\ipykernel_24300\\2944083324.py:31: FutureWarning: Passing literal html to 'read_html' is deprecated and will be removed in a future version. To read from a literal string, wrap it in a 'StringIO' object.\n",
      "  home_players = pd.read_html(str(table))[0].drop(11)\n",
      "C:\\Users\\user\\AppData\\Local\\Temp\\ipykernel_24300\\2944083324.py:32: FutureWarning: Passing literal html to 'read_html' is deprecated and will be removed in a future version. To read from a literal string, wrap it in a 'StringIO' object.\n",
      "  away_players = pd.read_html(str(table2))[0].drop(11)\n"
     ]
    },
    {
     "name": "stdout",
     "output_type": "stream",
     "text": [
      "meio: 1.2086076736450195\n",
      "fim: 1.2448434829711914\n",
      "/en/matches/0359c7d5/West-Ham-United-Leeds-United-May-21-2023-Premier-League\n"
     ]
    },
    {
     "name": "stderr",
     "output_type": "stream",
     "text": [
      "C:\\Users\\user\\AppData\\Local\\Temp\\ipykernel_24300\\2944083324.py:31: FutureWarning: Passing literal html to 'read_html' is deprecated and will be removed in a future version. To read from a literal string, wrap it in a 'StringIO' object.\n",
      "  home_players = pd.read_html(str(table))[0].drop(11)\n",
      "C:\\Users\\user\\AppData\\Local\\Temp\\ipykernel_24300\\2944083324.py:32: FutureWarning: Passing literal html to 'read_html' is deprecated and will be removed in a future version. To read from a literal string, wrap it in a 'StringIO' object.\n",
      "  away_players = pd.read_html(str(table2))[0].drop(11)\n"
     ]
    },
    {
     "name": "stdout",
     "output_type": "stream",
     "text": [
      "meio: 1.2189817428588867\n",
      "fim: 1.2612717151641846\n",
      "/en/matches/017addef/Brighton-and-Hove-Albion-Southampton-May-21-2023-Premier-League\n"
     ]
    },
    {
     "name": "stderr",
     "output_type": "stream",
     "text": [
      "C:\\Users\\user\\AppData\\Local\\Temp\\ipykernel_24300\\2944083324.py:31: FutureWarning: Passing literal html to 'read_html' is deprecated and will be removed in a future version. To read from a literal string, wrap it in a 'StringIO' object.\n",
      "  home_players = pd.read_html(str(table))[0].drop(11)\n",
      "C:\\Users\\user\\AppData\\Local\\Temp\\ipykernel_24300\\2944083324.py:32: FutureWarning: Passing literal html to 'read_html' is deprecated and will be removed in a future version. To read from a literal string, wrap it in a 'StringIO' object.\n",
      "  away_players = pd.read_html(str(table2))[0].drop(11)\n"
     ]
    },
    {
     "name": "stdout",
     "output_type": "stream",
     "text": [
      "meio: 1.2103214263916016\n",
      "fim: 1.25400972366333\n",
      "/en/matches/589e447b/Manchester-City-Chelsea-May-21-2023-Premier-League\n"
     ]
    },
    {
     "name": "stderr",
     "output_type": "stream",
     "text": [
      "C:\\Users\\user\\AppData\\Local\\Temp\\ipykernel_24300\\2944083324.py:31: FutureWarning: Passing literal html to 'read_html' is deprecated and will be removed in a future version. To read from a literal string, wrap it in a 'StringIO' object.\n",
      "  home_players = pd.read_html(str(table))[0].drop(11)\n",
      "C:\\Users\\user\\AppData\\Local\\Temp\\ipykernel_24300\\2944083324.py:32: FutureWarning: Passing literal html to 'read_html' is deprecated and will be removed in a future version. To read from a literal string, wrap it in a 'StringIO' object.\n",
      "  away_players = pd.read_html(str(table2))[0].drop(11)\n"
     ]
    },
    {
     "name": "stdout",
     "output_type": "stream",
     "text": [
      "meio: 1.24100923538208\n",
      "fim: 1.2815051078796387\n",
      "/en/matches/807863d8/Newcastle-United-Leicester-City-May-22-2023-Premier-League\n"
     ]
    },
    {
     "name": "stderr",
     "output_type": "stream",
     "text": [
      "C:\\Users\\user\\AppData\\Local\\Temp\\ipykernel_24300\\2944083324.py:31: FutureWarning: Passing literal html to 'read_html' is deprecated and will be removed in a future version. To read from a literal string, wrap it in a 'StringIO' object.\n",
      "  home_players = pd.read_html(str(table))[0].drop(11)\n",
      "C:\\Users\\user\\AppData\\Local\\Temp\\ipykernel_24300\\2944083324.py:32: FutureWarning: Passing literal html to 'read_html' is deprecated and will be removed in a future version. To read from a literal string, wrap it in a 'StringIO' object.\n",
      "  away_players = pd.read_html(str(table2))[0].drop(11)\n"
     ]
    },
    {
     "name": "stdout",
     "output_type": "stream",
     "text": [
      "meio: 1.1659719944000244\n",
      "fim: 1.2011313438415527\n",
      "/en/matches/d4bee10d/Brighton-and-Hove-Albion-Manchester-City-May-24-2023-Premier-League\n"
     ]
    },
    {
     "name": "stderr",
     "output_type": "stream",
     "text": [
      "C:\\Users\\user\\AppData\\Local\\Temp\\ipykernel_24300\\2944083324.py:31: FutureWarning: Passing literal html to 'read_html' is deprecated and will be removed in a future version. To read from a literal string, wrap it in a 'StringIO' object.\n",
      "  home_players = pd.read_html(str(table))[0].drop(11)\n",
      "C:\\Users\\user\\AppData\\Local\\Temp\\ipykernel_24300\\2944083324.py:32: FutureWarning: Passing literal html to 'read_html' is deprecated and will be removed in a future version. To read from a literal string, wrap it in a 'StringIO' object.\n",
      "  away_players = pd.read_html(str(table2))[0].drop(11)\n"
     ]
    },
    {
     "name": "stdout",
     "output_type": "stream",
     "text": [
      "meio: 1.1273794174194336\n",
      "fim: 1.165745496749878\n",
      "/en/matches/d2f2263d/Manchester-United-Chelsea-May-25-2023-Premier-League\n"
     ]
    },
    {
     "name": "stderr",
     "output_type": "stream",
     "text": [
      "C:\\Users\\user\\AppData\\Local\\Temp\\ipykernel_24300\\2944083324.py:31: FutureWarning: Passing literal html to 'read_html' is deprecated and will be removed in a future version. To read from a literal string, wrap it in a 'StringIO' object.\n",
      "  home_players = pd.read_html(str(table))[0].drop(11)\n",
      "C:\\Users\\user\\AppData\\Local\\Temp\\ipykernel_24300\\2944083324.py:32: FutureWarning: Passing literal html to 'read_html' is deprecated and will be removed in a future version. To read from a literal string, wrap it in a 'StringIO' object.\n",
      "  away_players = pd.read_html(str(table2))[0].drop(11)\n"
     ]
    },
    {
     "name": "stdout",
     "output_type": "stream",
     "text": [
      "meio: 1.241063117980957\n",
      "fim: 1.2860336303710938\n",
      "/en/matches/181fd119/Crystal-Palace-Nottingham-Forest-May-28-2023-Premier-League\n"
     ]
    },
    {
     "name": "stderr",
     "output_type": "stream",
     "text": [
      "C:\\Users\\user\\AppData\\Local\\Temp\\ipykernel_24300\\2944083324.py:31: FutureWarning: Passing literal html to 'read_html' is deprecated and will be removed in a future version. To read from a literal string, wrap it in a 'StringIO' object.\n",
      "  home_players = pd.read_html(str(table))[0].drop(11)\n",
      "C:\\Users\\user\\AppData\\Local\\Temp\\ipykernel_24300\\2944083324.py:32: FutureWarning: Passing literal html to 'read_html' is deprecated and will be removed in a future version. To read from a literal string, wrap it in a 'StringIO' object.\n",
      "  away_players = pd.read_html(str(table2))[0].drop(11)\n"
     ]
    },
    {
     "name": "stdout",
     "output_type": "stream",
     "text": [
      "meio: 1.1804494857788086\n",
      "fim: 1.2181873321533203\n",
      "/en/matches/4f7b1a0d/Chelsea-Newcastle-United-May-28-2023-Premier-League\n"
     ]
    },
    {
     "name": "stderr",
     "output_type": "stream",
     "text": [
      "C:\\Users\\user\\AppData\\Local\\Temp\\ipykernel_24300\\2944083324.py:31: FutureWarning: Passing literal html to 'read_html' is deprecated and will be removed in a future version. To read from a literal string, wrap it in a 'StringIO' object.\n",
      "  home_players = pd.read_html(str(table))[0].drop(11)\n",
      "C:\\Users\\user\\AppData\\Local\\Temp\\ipykernel_24300\\2944083324.py:32: FutureWarning: Passing literal html to 'read_html' is deprecated and will be removed in a future version. To read from a literal string, wrap it in a 'StringIO' object.\n",
      "  away_players = pd.read_html(str(table2))[0].drop(11)\n"
     ]
    },
    {
     "name": "stdout",
     "output_type": "stream",
     "text": [
      "meio: 1.2160723209381104\n",
      "fim: 1.258652687072754\n",
      "/en/matches/64823dc9/Manchester-United-Fulham-May-28-2023-Premier-League\n"
     ]
    },
    {
     "name": "stderr",
     "output_type": "stream",
     "text": [
      "C:\\Users\\user\\AppData\\Local\\Temp\\ipykernel_24300\\2944083324.py:31: FutureWarning: Passing literal html to 'read_html' is deprecated and will be removed in a future version. To read from a literal string, wrap it in a 'StringIO' object.\n",
      "  home_players = pd.read_html(str(table))[0].drop(11)\n",
      "C:\\Users\\user\\AppData\\Local\\Temp\\ipykernel_24300\\2944083324.py:32: FutureWarning: Passing literal html to 'read_html' is deprecated and will be removed in a future version. To read from a literal string, wrap it in a 'StringIO' object.\n",
      "  away_players = pd.read_html(str(table2))[0].drop(11)\n"
     ]
    },
    {
     "name": "stdout",
     "output_type": "stream",
     "text": [
      "meio: 1.1048786640167236\n",
      "fim: 1.1456258296966553\n",
      "/en/matches/71d5bd41/Arsenal-Wolverhampton-Wanderers-May-28-2023-Premier-League\n"
     ]
    },
    {
     "name": "stderr",
     "output_type": "stream",
     "text": [
      "C:\\Users\\user\\AppData\\Local\\Temp\\ipykernel_24300\\2944083324.py:31: FutureWarning: Passing literal html to 'read_html' is deprecated and will be removed in a future version. To read from a literal string, wrap it in a 'StringIO' object.\n",
      "  home_players = pd.read_html(str(table))[0].drop(11)\n",
      "C:\\Users\\user\\AppData\\Local\\Temp\\ipykernel_24300\\2944083324.py:32: FutureWarning: Passing literal html to 'read_html' is deprecated and will be removed in a future version. To read from a literal string, wrap it in a 'StringIO' object.\n",
      "  away_players = pd.read_html(str(table2))[0].drop(11)\n"
     ]
    },
    {
     "name": "stdout",
     "output_type": "stream",
     "text": [
      "meio: 1.2376155853271484\n",
      "fim: 1.2767219543457031\n",
      "/en/matches/8e5c6ea7/Southampton-Liverpool-May-28-2023-Premier-League\n"
     ]
    },
    {
     "name": "stderr",
     "output_type": "stream",
     "text": [
      "C:\\Users\\user\\AppData\\Local\\Temp\\ipykernel_24300\\2944083324.py:31: FutureWarning: Passing literal html to 'read_html' is deprecated and will be removed in a future version. To read from a literal string, wrap it in a 'StringIO' object.\n",
      "  home_players = pd.read_html(str(table))[0].drop(11)\n",
      "C:\\Users\\user\\AppData\\Local\\Temp\\ipykernel_24300\\2944083324.py:32: FutureWarning: Passing literal html to 'read_html' is deprecated and will be removed in a future version. To read from a literal string, wrap it in a 'StringIO' object.\n",
      "  away_players = pd.read_html(str(table2))[0].drop(11)\n"
     ]
    },
    {
     "name": "stdout",
     "output_type": "stream",
     "text": [
      "meio: 1.6542768478393555\n",
      "fim: 1.695314884185791\n",
      "/en/matches/94de848f/Everton-Bournemouth-May-28-2023-Premier-League\n"
     ]
    },
    {
     "name": "stderr",
     "output_type": "stream",
     "text": [
      "C:\\Users\\user\\AppData\\Local\\Temp\\ipykernel_24300\\2944083324.py:31: FutureWarning: Passing literal html to 'read_html' is deprecated and will be removed in a future version. To read from a literal string, wrap it in a 'StringIO' object.\n",
      "  home_players = pd.read_html(str(table))[0].drop(11)\n",
      "C:\\Users\\user\\AppData\\Local\\Temp\\ipykernel_24300\\2944083324.py:32: FutureWarning: Passing literal html to 'read_html' is deprecated and will be removed in a future version. To read from a literal string, wrap it in a 'StringIO' object.\n",
      "  away_players = pd.read_html(str(table2))[0].drop(11)\n"
     ]
    },
    {
     "name": "stdout",
     "output_type": "stream",
     "text": [
      "meio: 1.1091656684875488\n",
      "fim: 1.141983985900879\n",
      "/en/matches/a96c9915/Leicester-City-West-Ham-United-May-28-2023-Premier-League\n"
     ]
    },
    {
     "name": "stderr",
     "output_type": "stream",
     "text": [
      "C:\\Users\\user\\AppData\\Local\\Temp\\ipykernel_24300\\2944083324.py:31: FutureWarning: Passing literal html to 'read_html' is deprecated and will be removed in a future version. To read from a literal string, wrap it in a 'StringIO' object.\n",
      "  home_players = pd.read_html(str(table))[0].drop(11)\n",
      "C:\\Users\\user\\AppData\\Local\\Temp\\ipykernel_24300\\2944083324.py:32: FutureWarning: Passing literal html to 'read_html' is deprecated and will be removed in a future version. To read from a literal string, wrap it in a 'StringIO' object.\n",
      "  away_players = pd.read_html(str(table2))[0].drop(11)\n"
     ]
    },
    {
     "name": "stdout",
     "output_type": "stream",
     "text": [
      "meio: 1.6028621196746826\n",
      "fim: 1.6495718955993652\n",
      "/en/matches/ac0e65e2/Aston-Villa-Brighton-and-Hove-Albion-May-28-2023-Premier-League\n"
     ]
    },
    {
     "name": "stderr",
     "output_type": "stream",
     "text": [
      "C:\\Users\\user\\AppData\\Local\\Temp\\ipykernel_24300\\2944083324.py:31: FutureWarning: Passing literal html to 'read_html' is deprecated and will be removed in a future version. To read from a literal string, wrap it in a 'StringIO' object.\n",
      "  home_players = pd.read_html(str(table))[0].drop(11)\n",
      "C:\\Users\\user\\AppData\\Local\\Temp\\ipykernel_24300\\2944083324.py:32: FutureWarning: Passing literal html to 'read_html' is deprecated and will be removed in a future version. To read from a literal string, wrap it in a 'StringIO' object.\n",
      "  away_players = pd.read_html(str(table2))[0].drop(11)\n"
     ]
    },
    {
     "name": "stdout",
     "output_type": "stream",
     "text": [
      "meio: 1.568164587020874\n",
      "fim: 1.6064670085906982\n",
      "/en/matches/c9c73ddd/Leeds-United-Tottenham-Hotspur-May-28-2023-Premier-League\n"
     ]
    },
    {
     "name": "stderr",
     "output_type": "stream",
     "text": [
      "C:\\Users\\user\\AppData\\Local\\Temp\\ipykernel_24300\\2944083324.py:31: FutureWarning: Passing literal html to 'read_html' is deprecated and will be removed in a future version. To read from a literal string, wrap it in a 'StringIO' object.\n",
      "  home_players = pd.read_html(str(table))[0].drop(11)\n",
      "C:\\Users\\user\\AppData\\Local\\Temp\\ipykernel_24300\\2944083324.py:32: FutureWarning: Passing literal html to 'read_html' is deprecated and will be removed in a future version. To read from a literal string, wrap it in a 'StringIO' object.\n",
      "  away_players = pd.read_html(str(table2))[0].drop(11)\n"
     ]
    },
    {
     "name": "stdout",
     "output_type": "stream",
     "text": [
      "meio: 1.9675674438476562\n",
      "fim: 2.0110440254211426\n",
      "/en/matches/e7e969e9/Brentford-Manchester-City-May-28-2023-Premier-League\n"
     ]
    },
    {
     "name": "stderr",
     "output_type": "stream",
     "text": [
      "C:\\Users\\user\\AppData\\Local\\Temp\\ipykernel_24300\\2944083324.py:31: FutureWarning: Passing literal html to 'read_html' is deprecated and will be removed in a future version. To read from a literal string, wrap it in a 'StringIO' object.\n",
      "  home_players = pd.read_html(str(table))[0].drop(11)\n",
      "C:\\Users\\user\\AppData\\Local\\Temp\\ipykernel_24300\\2944083324.py:32: FutureWarning: Passing literal html to 'read_html' is deprecated and will be removed in a future version. To read from a literal string, wrap it in a 'StringIO' object.\n",
      "  away_players = pd.read_html(str(table2))[0].drop(11)\n"
     ]
    },
    {
     "name": "stdout",
     "output_type": "stream",
     "text": [
      "meio: 1.2827653884887695\n",
      "fim: 1.32016921043396\n"
     ]
    },
    {
     "data": {
      "text/html": [
       "<div>\n",
       "<style scoped>\n",
       "    .dataframe tbody tr th:only-of-type {\n",
       "        vertical-align: middle;\n",
       "    }\n",
       "\n",
       "    .dataframe tbody tr th {\n",
       "        vertical-align: top;\n",
       "    }\n",
       "\n",
       "    .dataframe thead th {\n",
       "        text-align: right;\n",
       "    }\n",
       "</style>\n",
       "<table border=\"1\" class=\"dataframe\">\n",
       "  <thead>\n",
       "    <tr style=\"text-align: right;\">\n",
       "      <th></th>\n",
       "      <th>Unnamed: 0</th>\n",
       "      <th>Matchday</th>\n",
       "      <th>Day</th>\n",
       "      <th>Date</th>\n",
       "      <th>Time</th>\n",
       "      <th>home</th>\n",
       "      <th>xG_home</th>\n",
       "      <th>xG_away</th>\n",
       "      <th>away</th>\n",
       "      <th>Assistance</th>\n",
       "      <th>Venue</th>\n",
       "      <th>Referee</th>\n",
       "      <th>Match Report</th>\n",
       "      <th>goals_home</th>\n",
       "      <th>goals_away</th>\n",
       "      <th>formacao_home</th>\n",
       "      <th>formacao_away</th>\n",
       "      <th>Fouls_home</th>\n",
       "      <th>Fouls_away</th>\n",
       "      <th>Corners_home</th>\n",
       "      <th>Corners_away</th>\n",
       "      <th>Crosses_home</th>\n",
       "      <th>Crosses_away</th>\n",
       "      <th>Touches_home</th>\n",
       "      <th>Touches_away</th>\n",
       "      <th>Tackles_home</th>\n",
       "      <th>Tackles_away</th>\n",
       "      <th>Interceptions_home</th>\n",
       "      <th>Interceptions_away</th>\n",
       "      <th>Aerials Won_home</th>\n",
       "      <th>Aerials Won_away</th>\n",
       "      <th>Clearances_home</th>\n",
       "      <th>Clearances_away</th>\n",
       "      <th>Offsides_home</th>\n",
       "      <th>Offsides_away</th>\n",
       "      <th>Goal Kicks_home</th>\n",
       "      <th>Goal Kicks_away</th>\n",
       "      <th>Throw Ins_home</th>\n",
       "      <th>Throw Ins_away</th>\n",
       "      <th>Long Balls_home</th>\n",
       "      <th>Long Balls_away</th>\n",
       "      <th>yellow_card_home</th>\n",
       "      <th>red_card_home</th>\n",
       "      <th>yellow_red_card_home</th>\n",
       "      <th>yellow_card_away</th>\n",
       "      <th>red_card_away</th>\n",
       "      <th>yellow_red_card_away</th>\n",
       "      <th>jogador1_home</th>\n",
       "      <th>jogador2_home</th>\n",
       "      <th>jogador3_home</th>\n",
       "      <th>jogador4_home</th>\n",
       "      <th>jogador5_home</th>\n",
       "      <th>jogador6_home</th>\n",
       "      <th>jogador7_home</th>\n",
       "      <th>jogador8_home</th>\n",
       "      <th>jogador9_home</th>\n",
       "      <th>jogador10_home</th>\n",
       "      <th>jogador11_home</th>\n",
       "      <th>jogador12_home</th>\n",
       "      <th>jogador13_home</th>\n",
       "      <th>jogador14_home</th>\n",
       "      <th>jogador15_home</th>\n",
       "      <th>jogador16_home</th>\n",
       "      <th>jogador17_home</th>\n",
       "      <th>jogador18_home</th>\n",
       "      <th>jogador19_home</th>\n",
       "      <th>jogador1_away</th>\n",
       "      <th>jogador2_away</th>\n",
       "      <th>jogador3_away</th>\n",
       "      <th>jogador4_away</th>\n",
       "      <th>jogador5_away</th>\n",
       "      <th>jogador6_away</th>\n",
       "      <th>jogador7_away</th>\n",
       "      <th>jogador8_away</th>\n",
       "      <th>jogador9_away</th>\n",
       "      <th>jogador10_away</th>\n",
       "      <th>jogador11_away</th>\n",
       "      <th>jogador12_away</th>\n",
       "      <th>jogador13_away</th>\n",
       "      <th>jogador14_away</th>\n",
       "      <th>jogador15_away</th>\n",
       "      <th>jogador16_away</th>\n",
       "      <th>jogador17_away</th>\n",
       "      <th>jogador18_away</th>\n",
       "      <th>jogador19_away</th>\n",
       "    </tr>\n",
       "  </thead>\n",
       "  <tbody>\n",
       "    <tr>\n",
       "      <th>0</th>\n",
       "      <td>0</td>\n",
       "      <td>1</td>\n",
       "      <td>Fri</td>\n",
       "      <td>2022-08-05</td>\n",
       "      <td>20:00</td>\n",
       "      <td>Crystal Palace</td>\n",
       "      <td>1.2</td>\n",
       "      <td>1.0</td>\n",
       "      <td>Arsenal</td>\n",
       "      <td>25,286</td>\n",
       "      <td>Selhurst Park</td>\n",
       "      <td>Anthony Taylor</td>\n",
       "      <td>/en/matches/e62f6e78/Crystal-Palace-Arsenal-Au...</td>\n",
       "      <td>0</td>\n",
       "      <td>2</td>\n",
       "      <td>4-2-3-1</td>\n",
       "      <td>4-3-3</td>\n",
       "      <td>16.0</td>\n",
       "      <td>11.0</td>\n",
       "      <td>3.0</td>\n",
       "      <td>5.0</td>\n",
       "      <td>19.0</td>\n",
       "      <td>11.0</td>\n",
       "      <td>726.0</td>\n",
       "      <td>599.0</td>\n",
       "      <td>18.0</td>\n",
       "      <td>29.0</td>\n",
       "      <td>8.0</td>\n",
       "      <td>9.0</td>\n",
       "      <td>10.0</td>\n",
       "      <td>14.0</td>\n",
       "      <td>18.0</td>\n",
       "      <td>24.0</td>\n",
       "      <td>1.0</td>\n",
       "      <td>2.0</td>\n",
       "      <td>4.0</td>\n",
       "      <td>2.0</td>\n",
       "      <td>25.0</td>\n",
       "      <td>14.0</td>\n",
       "      <td>83.0</td>\n",
       "      <td>59.0</td>\n",
       "      <td>1.0</td>\n",
       "      <td>0.0</td>\n",
       "      <td>0.0</td>\n",
       "      <td>2.0</td>\n",
       "      <td>0.0</td>\n",
       "      <td>0.0</td>\n",
       "      <td>Vicente Guaita</td>\n",
       "      <td>Tyrick Mitchell</td>\n",
       "      <td>Marc Guéhi</td>\n",
       "      <td>Jordan Ayew</td>\n",
       "      <td>Eberechi Eze</td>\n",
       "      <td>Wilfried Zaha</td>\n",
       "      <td>Jeffrey Schlupp</td>\n",
       "      <td>Joachim Andersen</td>\n",
       "      <td>Nathaniel Clyne</td>\n",
       "      <td>Odsonne Édouard</td>\n",
       "      <td>Cheick Doucouré</td>\n",
       "      <td>Sam Johnstone</td>\n",
       "      <td>Joel Ward</td>\n",
       "      <td>Luka Milivojević</td>\n",
       "      <td>Jean-Philippe Mateta</td>\n",
       "      <td>Will Hughes</td>\n",
       "      <td>Malcolm Ebiowei</td>\n",
       "      <td>Chris Richards</td>\n",
       "      <td>Jaïro Riedewald</td>\n",
       "      <td>Aaron Ramsdale</td>\n",
       "      <td>Ben White</td>\n",
       "      <td>Thomas Partey</td>\n",
       "      <td>Gabriel Dos Santos</td>\n",
       "      <td>Bukayo Saka</td>\n",
       "      <td>Martin Ødegaard</td>\n",
       "      <td>Gabriel Jesus</td>\n",
       "      <td>Gabriel Martinelli</td>\n",
       "      <td>William Saliba</td>\n",
       "      <td>Granit Xhaka</td>\n",
       "      <td>Oleksandr Zinchenko</td>\n",
       "      <td>Matt Turner</td>\n",
       "      <td>Kieran Tierney</td>\n",
       "      <td>Eddie Nketiah</td>\n",
       "      <td>Rob Holding</td>\n",
       "      <td>Cédric Soares</td>\n",
       "      <td>Nicolas Pépé</td>\n",
       "      <td>Albert Sambi Lokonga</td>\n",
       "      <td>Reiss Nelson</td>\n",
       "    </tr>\n",
       "    <tr>\n",
       "      <th>1</th>\n",
       "      <td>1</td>\n",
       "      <td>1</td>\n",
       "      <td>Sat</td>\n",
       "      <td>2022-08-06</td>\n",
       "      <td>12:30</td>\n",
       "      <td>Fulham</td>\n",
       "      <td>1.2</td>\n",
       "      <td>1.2</td>\n",
       "      <td>Liverpool</td>\n",
       "      <td>22,207</td>\n",
       "      <td>Craven Cottage</td>\n",
       "      <td>Andy Madley</td>\n",
       "      <td>/en/matches/6713c1dc/Fulham-Liverpool-August-6...</td>\n",
       "      <td>2</td>\n",
       "      <td>2</td>\n",
       "      <td>4-2-3-1</td>\n",
       "      <td>4-3-3</td>\n",
       "      <td>7.0</td>\n",
       "      <td>9.0</td>\n",
       "      <td>4.0</td>\n",
       "      <td>4.0</td>\n",
       "      <td>19.0</td>\n",
       "      <td>18.0</td>\n",
       "      <td>474.0</td>\n",
       "      <td>784.0</td>\n",
       "      <td>24.0</td>\n",
       "      <td>11.0</td>\n",
       "      <td>10.0</td>\n",
       "      <td>10.0</td>\n",
       "      <td>23.0</td>\n",
       "      <td>13.0</td>\n",
       "      <td>31.0</td>\n",
       "      <td>16.0</td>\n",
       "      <td>4.0</td>\n",
       "      <td>4.0</td>\n",
       "      <td>8.0</td>\n",
       "      <td>5.0</td>\n",
       "      <td>22.0</td>\n",
       "      <td>35.0</td>\n",
       "      <td>77.0</td>\n",
       "      <td>94.0</td>\n",
       "      <td>2.0</td>\n",
       "      <td>0.0</td>\n",
       "      <td>0.0</td>\n",
       "      <td>0.0</td>\n",
       "      <td>0.0</td>\n",
       "      <td>0.0</td>\n",
       "      <td>Marek Rodák</td>\n",
       "      <td>Kenny Tete</td>\n",
       "      <td>Tosin Adarabioyo</td>\n",
       "      <td>Harrison Reed</td>\n",
       "      <td>Neeskens Kebano</td>\n",
       "      <td>Aleksandar Mitrović</td>\n",
       "      <td>Tim Ream</td>\n",
       "      <td>Bobby Reid</td>\n",
       "      <td>Andreas Pereira</td>\n",
       "      <td>João Palhinha</td>\n",
       "      <td>Antonee Robinson</td>\n",
       "      <td>Bernd Leno</td>\n",
       "      <td>Shane Duffy</td>\n",
       "      <td>Tom Cairney</td>\n",
       "      <td>Manor Solomon</td>\n",
       "      <td>Rodrigo Muniz</td>\n",
       "      <td>Kevin Mbabu</td>\n",
       "      <td>Tyrese Francois</td>\n",
       "      <td>Luke Harris</td>\n",
       "      <td>Alisson</td>\n",
       "      <td>Fabinho</td>\n",
       "      <td>Virgil van Dijk</td>\n",
       "      <td>Thiago Alcántara</td>\n",
       "      <td>Roberto Firmino</td>\n",
       "      <td>Mohamed Salah</td>\n",
       "      <td>Jordan Henderson</td>\n",
       "      <td>Luis Díaz</td>\n",
       "      <td>Andrew Robertson</td>\n",
       "      <td>Joël Matip</td>\n",
       "      <td>Trent Alexander-Arnold</td>\n",
       "      <td>Adrián</td>\n",
       "      <td>Joe Gomez</td>\n",
       "      <td>James Milner</td>\n",
       "      <td>Harvey Elliott</td>\n",
       "      <td>Darwin Núñez</td>\n",
       "      <td>Fabio Carvalho</td>\n",
       "      <td>Stefan Bajcetic</td>\n",
       "      <td>Sepp van den Berg</td>\n",
       "    </tr>\n",
       "    <tr>\n",
       "      <th>2</th>\n",
       "      <td>2</td>\n",
       "      <td>1</td>\n",
       "      <td>Sat</td>\n",
       "      <td>2022-08-06</td>\n",
       "      <td>15:00</td>\n",
       "      <td>Tottenham</td>\n",
       "      <td>1.5</td>\n",
       "      <td>0.5</td>\n",
       "      <td>Southampton</td>\n",
       "      <td>61,732</td>\n",
       "      <td>Tottenham Hotspur Stadium</td>\n",
       "      <td>Andre Marriner</td>\n",
       "      <td>/en/matches/09d8a999/Tottenham-Hotspur-Southam...</td>\n",
       "      <td>4</td>\n",
       "      <td>1</td>\n",
       "      <td>3-4-3</td>\n",
       "      <td>5-3-2</td>\n",
       "      <td>11.0</td>\n",
       "      <td>6.0</td>\n",
       "      <td>10.0</td>\n",
       "      <td>2.0</td>\n",
       "      <td>24.0</td>\n",
       "      <td>18.0</td>\n",
       "      <td>709.0</td>\n",
       "      <td>554.0</td>\n",
       "      <td>24.0</td>\n",
       "      <td>14.0</td>\n",
       "      <td>3.0</td>\n",
       "      <td>13.0</td>\n",
       "      <td>13.0</td>\n",
       "      <td>11.0</td>\n",
       "      <td>20.0</td>\n",
       "      <td>21.0</td>\n",
       "      <td>2.0</td>\n",
       "      <td>0.0</td>\n",
       "      <td>6.0</td>\n",
       "      <td>4.0</td>\n",
       "      <td>20.0</td>\n",
       "      <td>14.0</td>\n",
       "      <td>85.0</td>\n",
       "      <td>61.0</td>\n",
       "      <td>3.0</td>\n",
       "      <td>0.0</td>\n",
       "      <td>0.0</td>\n",
       "      <td>0.0</td>\n",
       "      <td>0.0</td>\n",
       "      <td>0.0</td>\n",
       "      <td>Hugo Lloris</td>\n",
       "      <td>Pierre Højbjerg</td>\n",
       "      <td>Son Heung-min</td>\n",
       "      <td>Harry Kane</td>\n",
       "      <td>Emerson</td>\n",
       "      <td>Eric Dier</td>\n",
       "      <td>Cristian Romero</td>\n",
       "      <td>Ryan Sessegnon</td>\n",
       "      <td>Dejan Kulusevski</td>\n",
       "      <td>Rodrigo Bentancur</td>\n",
       "      <td>Ben Davies</td>\n",
       "      <td>Fraser Forster</td>\n",
       "      <td>Matt Doherty</td>\n",
       "      <td>Davinson Sánchez</td>\n",
       "      <td>Bryan Gil</td>\n",
       "      <td>Ivan Perišić</td>\n",
       "      <td>Djed Spence</td>\n",
       "      <td>Lucas Moura</td>\n",
       "      <td>Clément Lenglet</td>\n",
       "      <td>Gavin Bazunu</td>\n",
       "      <td>Kyle Walker-Peters</td>\n",
       "      <td>Oriol Romeu</td>\n",
       "      <td>Joe Aribo</td>\n",
       "      <td>James Ward-Prowse</td>\n",
       "      <td>Adam Armstrong</td>\n",
       "      <td>Moussa Djenepo</td>\n",
       "      <td>Mohammed Salisu</td>\n",
       "      <td>Jan Bednarek</td>\n",
       "      <td>Yan Valery</td>\n",
       "      <td>Roméo Lavia</td>\n",
       "      <td>Alex McCarthy</td>\n",
       "      <td>Jack Stephens</td>\n",
       "      <td>Che Adams</td>\n",
       "      <td>Nathan Redmond</td>\n",
       "      <td>Romain Perraud</td>\n",
       "      <td>Stuart Armstrong</td>\n",
       "      <td>Mohamed Elyounoussi</td>\n",
       "      <td>Ibrahima Diallo</td>\n",
       "    </tr>\n",
       "    <tr>\n",
       "      <th>3</th>\n",
       "      <td>3</td>\n",
       "      <td>1</td>\n",
       "      <td>Sat</td>\n",
       "      <td>2022-08-06</td>\n",
       "      <td>15:00</td>\n",
       "      <td>Newcastle Utd</td>\n",
       "      <td>1.7</td>\n",
       "      <td>0.3</td>\n",
       "      <td>Nott'ham Forest</td>\n",
       "      <td>52,245</td>\n",
       "      <td>St James' Park</td>\n",
       "      <td>Simon Hooper</td>\n",
       "      <td>/en/matches/1ac96eb4/Newcastle-United-Nottingh...</td>\n",
       "      <td>2</td>\n",
       "      <td>0</td>\n",
       "      <td>4-3-3</td>\n",
       "      <td>3-4-1-2</td>\n",
       "      <td>9.0</td>\n",
       "      <td>14.0</td>\n",
       "      <td>11.0</td>\n",
       "      <td>1.0</td>\n",
       "      <td>25.0</td>\n",
       "      <td>9.0</td>\n",
       "      <td>634.0</td>\n",
       "      <td>475.0</td>\n",
       "      <td>19.0</td>\n",
       "      <td>15.0</td>\n",
       "      <td>11.0</td>\n",
       "      <td>10.0</td>\n",
       "      <td>12.0</td>\n",
       "      <td>16.0</td>\n",
       "      <td>14.0</td>\n",
       "      <td>37.0</td>\n",
       "      <td>2.0</td>\n",
       "      <td>0.0</td>\n",
       "      <td>2.0</td>\n",
       "      <td>12.0</td>\n",
       "      <td>21.0</td>\n",
       "      <td>26.0</td>\n",
       "      <td>64.0</td>\n",
       "      <td>70.0</td>\n",
       "      <td>0.0</td>\n",
       "      <td>0.0</td>\n",
       "      <td>0.0</td>\n",
       "      <td>3.0</td>\n",
       "      <td>0.0</td>\n",
       "      <td>0.0</td>\n",
       "      <td>Nick Pope</td>\n",
       "      <td>Kieran Trippier</td>\n",
       "      <td>Fabian Schär</td>\n",
       "      <td>Joelinton</td>\n",
       "      <td>Callum Wilson</td>\n",
       "      <td>Allan Saint-Maximin</td>\n",
       "      <td>Matt Targett</td>\n",
       "      <td>Miguel Almirón</td>\n",
       "      <td>Joe Willock</td>\n",
       "      <td>Dan Burn</td>\n",
       "      <td>Bruno Guimarães</td>\n",
       "      <td>Martin Dúbravka</td>\n",
       "      <td>Paul Dummett</td>\n",
       "      <td>Sven Botman</td>\n",
       "      <td>Matt Ritchie</td>\n",
       "      <td>Chris Wood</td>\n",
       "      <td>Ryan Fraser</td>\n",
       "      <td>Jacob Murphy</td>\n",
       "      <td>Elliot Anderson</td>\n",
       "      <td>Dean Henderson</td>\n",
       "      <td>Joe Worrall</td>\n",
       "      <td>Neco Williams</td>\n",
       "      <td>Jack Colback</td>\n",
       "      <td>Jesse Lingard</td>\n",
       "      <td>Lewis O'Brien</td>\n",
       "      <td>Harry Toffolo</td>\n",
       "      <td>Sam Surridge</td>\n",
       "      <td>Moussa Niakhate</td>\n",
       "      <td>Brennan Johnson</td>\n",
       "      <td>Scott McKenna</td>\n",
       "      <td>Wayne Hennessey</td>\n",
       "      <td>Giulian Biancone</td>\n",
       "      <td>Orel Mangala</td>\n",
       "      <td>Loïc Mbe Soh</td>\n",
       "      <td>Taiwo Awoniyi</td>\n",
       "      <td>Alex Mighten</td>\n",
       "      <td>Cafú</td>\n",
       "      <td>Lyle Taylor</td>\n",
       "    </tr>\n",
       "    <tr>\n",
       "      <th>4</th>\n",
       "      <td>4</td>\n",
       "      <td>1</td>\n",
       "      <td>Sat</td>\n",
       "      <td>2022-08-06</td>\n",
       "      <td>15:00</td>\n",
       "      <td>Leeds United</td>\n",
       "      <td>0.8</td>\n",
       "      <td>1.3</td>\n",
       "      <td>Wolves</td>\n",
       "      <td>36,347</td>\n",
       "      <td>Elland Road</td>\n",
       "      <td>Robert Jones</td>\n",
       "      <td>/en/matches/82702941/Leeds-United-Wolverhampto...</td>\n",
       "      <td>2</td>\n",
       "      <td>1</td>\n",
       "      <td>4-2-3-1</td>\n",
       "      <td>4-2-3-1</td>\n",
       "      <td>13.0</td>\n",
       "      <td>9.0</td>\n",
       "      <td>6.0</td>\n",
       "      <td>4.0</td>\n",
       "      <td>20.0</td>\n",
       "      <td>20.0</td>\n",
       "      <td>515.0</td>\n",
       "      <td>720.0</td>\n",
       "      <td>21.0</td>\n",
       "      <td>16.0</td>\n",
       "      <td>14.0</td>\n",
       "      <td>14.0</td>\n",
       "      <td>9.0</td>\n",
       "      <td>7.0</td>\n",
       "      <td>23.0</td>\n",
       "      <td>17.0</td>\n",
       "      <td>0.0</td>\n",
       "      <td>1.0</td>\n",
       "      <td>9.0</td>\n",
       "      <td>9.0</td>\n",
       "      <td>16.0</td>\n",
       "      <td>23.0</td>\n",
       "      <td>60.0</td>\n",
       "      <td>72.0</td>\n",
       "      <td>2.0</td>\n",
       "      <td>0.0</td>\n",
       "      <td>0.0</td>\n",
       "      <td>0.0</td>\n",
       "      <td>0.0</td>\n",
       "      <td>0.0</td>\n",
       "      <td>Illan Meslier</td>\n",
       "      <td>Robin Koch</td>\n",
       "      <td>Brenden Aaronson</td>\n",
       "      <td>Marc Roca</td>\n",
       "      <td>Patrick Bamford</td>\n",
       "      <td>Jack Harrison</td>\n",
       "      <td>Tyler Adams</td>\n",
       "      <td>Diego Llorente</td>\n",
       "      <td>Rodrigo</td>\n",
       "      <td>Pascal Struijk</td>\n",
       "      <td>Rasmus Nissen</td>\n",
       "      <td>Kristoffer Klaesson</td>\n",
       "      <td>Crysencio Summerville</td>\n",
       "      <td>Darko Gyabi</td>\n",
       "      <td>Joe Gelhardt</td>\n",
       "      <td>Leo Fuhr Hjelde</td>\n",
       "      <td>Cody Drameh</td>\n",
       "      <td>Sam Greenwood</td>\n",
       "      <td>Mateusz Klich</td>\n",
       "      <td>José Sá</td>\n",
       "      <td>Rayan Aït Nouri</td>\n",
       "      <td>Nathan Collins</td>\n",
       "      <td>Pedro Neto</td>\n",
       "      <td>Rúben Neves</td>\n",
       "      <td>Daniel Podence</td>\n",
       "      <td>Hwang Hee-chan</td>\n",
       "      <td>Morgan Gibbs-White</td>\n",
       "      <td>Jonny Castro</td>\n",
       "      <td>Max Kilman</td>\n",
       "      <td>Leander Dendoncker</td>\n",
       "      <td>Matija Šarkić</td>\n",
       "      <td>Yerson Mosquera</td>\n",
       "      <td>Willy Boly</td>\n",
       "      <td>Conor Coady</td>\n",
       "      <td>Connor Ronan</td>\n",
       "      <td>Luke Cundle</td>\n",
       "      <td>Joseph Hodge</td>\n",
       "      <td>Hugo Bueno</td>\n",
       "    </tr>\n",
       "  </tbody>\n",
       "</table>\n",
       "</div>"
      ],
      "text/plain": [
       "   Unnamed: 0  Matchday  Day        Date   Time            home  xG_home  \\\n",
       "0           0         1  Fri  2022-08-05  20:00  Crystal Palace      1.2   \n",
       "1           1         1  Sat  2022-08-06  12:30          Fulham      1.2   \n",
       "2           2         1  Sat  2022-08-06  15:00       Tottenham      1.5   \n",
       "3           3         1  Sat  2022-08-06  15:00   Newcastle Utd      1.7   \n",
       "4           4         1  Sat  2022-08-06  15:00    Leeds United      0.8   \n",
       "\n",
       "   xG_away             away Assistance                      Venue  \\\n",
       "0      1.0          Arsenal     25,286              Selhurst Park   \n",
       "1      1.2        Liverpool     22,207             Craven Cottage   \n",
       "2      0.5      Southampton     61,732  Tottenham Hotspur Stadium   \n",
       "3      0.3  Nott'ham Forest     52,245             St James' Park   \n",
       "4      1.3           Wolves     36,347                Elland Road   \n",
       "\n",
       "          Referee                                       Match Report  \\\n",
       "0  Anthony Taylor  /en/matches/e62f6e78/Crystal-Palace-Arsenal-Au...   \n",
       "1     Andy Madley  /en/matches/6713c1dc/Fulham-Liverpool-August-6...   \n",
       "2  Andre Marriner  /en/matches/09d8a999/Tottenham-Hotspur-Southam...   \n",
       "3    Simon Hooper  /en/matches/1ac96eb4/Newcastle-United-Nottingh...   \n",
       "4    Robert Jones  /en/matches/82702941/Leeds-United-Wolverhampto...   \n",
       "\n",
       "   goals_home  goals_away formacao_home formacao_away  Fouls_home  Fouls_away  \\\n",
       "0           0           2       4-2-3-1         4-3-3        16.0        11.0   \n",
       "1           2           2       4-2-3-1         4-3-3         7.0         9.0   \n",
       "2           4           1         3-4-3         5-3-2        11.0         6.0   \n",
       "3           2           0         4-3-3       3-4-1-2         9.0        14.0   \n",
       "4           2           1       4-2-3-1       4-2-3-1        13.0         9.0   \n",
       "\n",
       "   Corners_home  Corners_away  Crosses_home  Crosses_away  Touches_home  \\\n",
       "0           3.0           5.0          19.0          11.0         726.0   \n",
       "1           4.0           4.0          19.0          18.0         474.0   \n",
       "2          10.0           2.0          24.0          18.0         709.0   \n",
       "3          11.0           1.0          25.0           9.0         634.0   \n",
       "4           6.0           4.0          20.0          20.0         515.0   \n",
       "\n",
       "   Touches_away  Tackles_home  Tackles_away  Interceptions_home  \\\n",
       "0         599.0          18.0          29.0                 8.0   \n",
       "1         784.0          24.0          11.0                10.0   \n",
       "2         554.0          24.0          14.0                 3.0   \n",
       "3         475.0          19.0          15.0                11.0   \n",
       "4         720.0          21.0          16.0                14.0   \n",
       "\n",
       "   Interceptions_away  Aerials Won_home  Aerials Won_away  Clearances_home  \\\n",
       "0                 9.0              10.0              14.0             18.0   \n",
       "1                10.0              23.0              13.0             31.0   \n",
       "2                13.0              13.0              11.0             20.0   \n",
       "3                10.0              12.0              16.0             14.0   \n",
       "4                14.0               9.0               7.0             23.0   \n",
       "\n",
       "   Clearances_away  Offsides_home  Offsides_away  Goal Kicks_home  \\\n",
       "0             24.0            1.0            2.0              4.0   \n",
       "1             16.0            4.0            4.0              8.0   \n",
       "2             21.0            2.0            0.0              6.0   \n",
       "3             37.0            2.0            0.0              2.0   \n",
       "4             17.0            0.0            1.0              9.0   \n",
       "\n",
       "   Goal Kicks_away  Throw Ins_home  Throw Ins_away  Long Balls_home  \\\n",
       "0              2.0            25.0            14.0             83.0   \n",
       "1              5.0            22.0            35.0             77.0   \n",
       "2              4.0            20.0            14.0             85.0   \n",
       "3             12.0            21.0            26.0             64.0   \n",
       "4              9.0            16.0            23.0             60.0   \n",
       "\n",
       "   Long Balls_away  yellow_card_home  red_card_home  yellow_red_card_home  \\\n",
       "0             59.0               1.0            0.0                   0.0   \n",
       "1             94.0               2.0            0.0                   0.0   \n",
       "2             61.0               3.0            0.0                   0.0   \n",
       "3             70.0               0.0            0.0                   0.0   \n",
       "4             72.0               2.0            0.0                   0.0   \n",
       "\n",
       "   yellow_card_away  red_card_away  yellow_red_card_away   jogador1_home  \\\n",
       "0               2.0            0.0                   0.0  Vicente Guaita   \n",
       "1               0.0            0.0                   0.0     Marek Rodák   \n",
       "2               0.0            0.0                   0.0     Hugo Lloris   \n",
       "3               3.0            0.0                   0.0       Nick Pope   \n",
       "4               0.0            0.0                   0.0   Illan Meslier   \n",
       "\n",
       "     jogador2_home     jogador3_home  jogador4_home    jogador5_home  \\\n",
       "0  Tyrick Mitchell        Marc Guéhi    Jordan Ayew     Eberechi Eze   \n",
       "1       Kenny Tete  Tosin Adarabioyo  Harrison Reed  Neeskens Kebano   \n",
       "2  Pierre Højbjerg     Son Heung-min     Harry Kane          Emerson   \n",
       "3  Kieran Trippier      Fabian Schär      Joelinton    Callum Wilson   \n",
       "4       Robin Koch  Brenden Aaronson      Marc Roca  Patrick Bamford   \n",
       "\n",
       "         jogador6_home    jogador7_home     jogador8_home     jogador9_home  \\\n",
       "0        Wilfried Zaha  Jeffrey Schlupp  Joachim Andersen   Nathaniel Clyne   \n",
       "1  Aleksandar Mitrović         Tim Ream        Bobby Reid   Andreas Pereira   \n",
       "2            Eric Dier  Cristian Romero    Ryan Sessegnon  Dejan Kulusevski   \n",
       "3  Allan Saint-Maximin     Matt Targett    Miguel Almirón       Joe Willock   \n",
       "4        Jack Harrison      Tyler Adams    Diego Llorente           Rodrigo   \n",
       "\n",
       "      jogador10_home    jogador11_home       jogador12_home  \\\n",
       "0    Odsonne Édouard   Cheick Doucouré        Sam Johnstone   \n",
       "1      João Palhinha  Antonee Robinson           Bernd Leno   \n",
       "2  Rodrigo Bentancur        Ben Davies       Fraser Forster   \n",
       "3           Dan Burn   Bruno Guimarães      Martin Dúbravka   \n",
       "4     Pascal Struijk     Rasmus Nissen  Kristoffer Klaesson   \n",
       "\n",
       "          jogador13_home    jogador14_home        jogador15_home  \\\n",
       "0              Joel Ward  Luka Milivojević  Jean-Philippe Mateta   \n",
       "1            Shane Duffy       Tom Cairney         Manor Solomon   \n",
       "2           Matt Doherty  Davinson Sánchez             Bryan Gil   \n",
       "3           Paul Dummett       Sven Botman          Matt Ritchie   \n",
       "4  Crysencio Summerville       Darko Gyabi          Joe Gelhardt   \n",
       "\n",
       "    jogador16_home   jogador17_home   jogador18_home   jogador19_home  \\\n",
       "0      Will Hughes  Malcolm Ebiowei   Chris Richards  Jaïro Riedewald   \n",
       "1    Rodrigo Muniz      Kevin Mbabu  Tyrese Francois      Luke Harris   \n",
       "2     Ivan Perišić      Djed Spence      Lucas Moura  Clément Lenglet   \n",
       "3       Chris Wood      Ryan Fraser     Jacob Murphy  Elliot Anderson   \n",
       "4  Leo Fuhr Hjelde      Cody Drameh    Sam Greenwood    Mateusz Klich   \n",
       "\n",
       "    jogador1_away       jogador2_away    jogador3_away       jogador4_away  \\\n",
       "0  Aaron Ramsdale           Ben White    Thomas Partey  Gabriel Dos Santos   \n",
       "1         Alisson             Fabinho  Virgil van Dijk    Thiago Alcántara   \n",
       "2    Gavin Bazunu  Kyle Walker-Peters      Oriol Romeu           Joe Aribo   \n",
       "3  Dean Henderson         Joe Worrall    Neco Williams        Jack Colback   \n",
       "4         José Sá     Rayan Aït Nouri   Nathan Collins          Pedro Neto   \n",
       "\n",
       "       jogador5_away    jogador6_away     jogador7_away       jogador8_away  \\\n",
       "0        Bukayo Saka  Martin Ødegaard     Gabriel Jesus  Gabriel Martinelli   \n",
       "1    Roberto Firmino    Mohamed Salah  Jordan Henderson           Luis Díaz   \n",
       "2  James Ward-Prowse   Adam Armstrong    Moussa Djenepo     Mohammed Salisu   \n",
       "3      Jesse Lingard    Lewis O'Brien     Harry Toffolo        Sam Surridge   \n",
       "4        Rúben Neves   Daniel Podence    Hwang Hee-chan  Morgan Gibbs-White   \n",
       "\n",
       "      jogador9_away   jogador10_away          jogador11_away   jogador12_away  \\\n",
       "0    William Saliba     Granit Xhaka     Oleksandr Zinchenko      Matt Turner   \n",
       "1  Andrew Robertson       Joël Matip  Trent Alexander-Arnold           Adrián   \n",
       "2      Jan Bednarek       Yan Valery             Roméo Lavia    Alex McCarthy   \n",
       "3   Moussa Niakhate  Brennan Johnson           Scott McKenna  Wayne Hennessey   \n",
       "4      Jonny Castro       Max Kilman      Leander Dendoncker    Matija Šarkić   \n",
       "\n",
       "     jogador13_away jogador14_away  jogador15_away  jogador16_away  \\\n",
       "0    Kieran Tierney  Eddie Nketiah     Rob Holding   Cédric Soares   \n",
       "1         Joe Gomez   James Milner  Harvey Elliott    Darwin Núñez   \n",
       "2     Jack Stephens      Che Adams  Nathan Redmond  Romain Perraud   \n",
       "3  Giulian Biancone   Orel Mangala    Loïc Mbe Soh   Taiwo Awoniyi   \n",
       "4   Yerson Mosquera     Willy Boly     Conor Coady    Connor Ronan   \n",
       "\n",
       "     jogador17_away        jogador18_away     jogador19_away  \n",
       "0      Nicolas Pépé  Albert Sambi Lokonga       Reiss Nelson  \n",
       "1    Fabio Carvalho       Stefan Bajcetic  Sepp van den Berg  \n",
       "2  Stuart Armstrong   Mohamed Elyounoussi    Ibrahima Diallo  \n",
       "3      Alex Mighten                  Cafú        Lyle Taylor  \n",
       "4       Luke Cundle          Joseph Hodge         Hugo Bueno  "
      ]
     },
     "execution_count": 6,
     "metadata": {},
     "output_type": "execute_result"
    }
   ],
   "source": [
    "try:\n",
    "    df = pd.read_csv(f'fbref/dataset_{ano}.csv')\n",
    "    #df.drop('Unnamed: 0',inplace=True)\n",
    "except:\n",
    "    df = df_update.copy()\n",
    "    \n",
    "#df_update['Assistance'] =  df_update['Assistance'].str.replace('.', '').replace('', 0)\n",
    "#df_update['Assistance'] = df_update['Assistance'].astype(int)\n",
    "#df['Assistance'] = df_update['Assistance']\n",
    "\n",
    "for index, row in df[df['Match Report'].str.startswith('/en/stathead/')].iterrows():\n",
    "    df.loc[index] = df_update.loc[index]\n",
    "\n",
    "for index, row in df.iterrows():\n",
    "    \n",
    "    if row['Match Report'].startswith('/en/matches/') and ('player1_home' not in df.columns or pd.isna(df.loc[index,'player1_home'])):\n",
    "    \n",
    "        start = time.time()\n",
    "\n",
    "        url = row['Match Report']\n",
    "        print(url)\n",
    "        r = requests.get('http://fbref.com' + url)\n",
    "        soup = BeautifulSoup(r.content, 'html.parser')\n",
    "        tables = soup.find_all('table')\n",
    "        try:\n",
    "            table = tables[0]\n",
    "            table2 = tables[1] \n",
    "        except Exception:\n",
    "            indice = index\n",
    "        try:\n",
    "            home_players = pd.read_html(str(table))[0].drop(11)\n",
    "            away_players = pd.read_html(str(table2))[0].drop(11)\n",
    "        except:\n",
    "            continue\n",
    "        df.loc[index,'formacao_home'] = home_players.columns[0].split('(')[1][:-1]\n",
    "        df.loc[index,'formacao_away'] = away_players.columns[0].split('(')[1][:-1]\n",
    "        home_players = home_players.transpose().reset_index().drop('index',axis=1)\n",
    "        away_players = away_players.transpose().reset_index().drop('index',axis=1)\n",
    "\n",
    "        print(f'meio: {time.time() - start}')\n",
    "        \n",
    "        stats_div = soup.find('div', {'id': 'team_stats_extra'})\n",
    "\n",
    "        # extrai o conteúdo da div\n",
    "        stats_text = stats_div.text\n",
    "\n",
    "        linhas = stats_text.split('\\n')\n",
    "        palavras_chave = ['Fouls', 'Corners', 'Crosses', 'Touches', 'Interceptions', 'Tackles', 'Aerials Won', 'Clearances', 'Offsides', 'Goal Kicks', 'Throw Ins', 'Long Balls']\n",
    "\n",
    "        lista_strings = [string for string in linhas for palavra in palavras_chave if palavra in string]\n",
    "\n",
    "        nova_lista = []\n",
    "        for string in lista_strings:\n",
    "            match = re.match(r'^(\\d+)([a-zA-Z\\s]+)(\\d+)$', string)\n",
    "            if match:\n",
    "                nova_lista.append([int(match.group(1)), match.group(2).strip(), int(match.group(3))])\n",
    "        \n",
    "        for x in nova_lista:\n",
    "            df.loc[index, f\"{x[1]}_home\"] = x[0]\n",
    "            df.loc[index, f\"{x[1]}_away\"] = x[2]\n",
    "            \n",
    "            \n",
    "        cards = {\n",
    "            'home_team': {\n",
    "                'yellow_card': 0,\n",
    "                'red_card': 0,\n",
    "                'yellow_red_card': 0\n",
    "            },\n",
    "            'away_team': {\n",
    "                'yellow_card': 0,\n",
    "                'red_card': 0,\n",
    "                'yellow_red_card': 0\n",
    "            }\n",
    "        }\n",
    "\n",
    "        home_team_cards_div = soup.find_all('div', class_='cards')[0]\n",
    "        home_team_cards_spans = home_team_cards_div.find_all('span')\n",
    "        for span in home_team_cards_spans:\n",
    "            cards['home_team'][span['class'][0]] += 1\n",
    "\n",
    "        away_team_cards_div = soup.find_all('div', class_='cards')[1]\n",
    "        away_team_cards_spans = away_team_cards_div.find_all('span')\n",
    "        for span in away_team_cards_spans:\n",
    "            cards['away_team'][span['class'][0]] += 1\n",
    "        \n",
    "        df.loc[index, 'yellow_card_home'] = cards['home_team']['yellow_card']\n",
    "        df.loc[index, 'red_card_home'] = cards['home_team']['red_card']\n",
    "        df.loc[index, 'yellow_red_card_home'] = cards['home_team']['yellow_red_card']\n",
    "        df.loc[index, 'yellow_card_away'] = cards['away_team']['yellow_card']\n",
    "        df.loc[index, 'red_card_away'] = cards['away_team']['red_card']\n",
    "        df.loc[index, 'yellow_red_card_away'] = cards['away_team']['yellow_red_card']\n",
    "        \n",
    "        for i in range(len(home_players.columns) - 1):\n",
    "            column_name = f'jogador{i+1}_home'\n",
    "            df.loc[index, column_name] = home_players.iloc[1, i]\n",
    "        for i in range(len(away_players.columns) - 1):\n",
    "            column_name = f'jogador{i+1}_away'\n",
    "            df.loc[index, column_name] = away_players.iloc[1, i]\n",
    "\n",
    "        print(f'fim: {time.time() - start}')\n",
    "        if time.time() - start < 6.0:\n",
    "            time.sleep(6.1 - (time.time() - start))\n",
    "            \n",
    "df.to_csv(f'dataset_{ano}.csv')\n",
    "df.head()"
   ]
  },
  {
   "cell_type": "code",
   "execution_count": null,
   "id": "db3c66b4",
   "metadata": {},
   "outputs": [],
   "source": [
    "df.to_csv(f'dataset_{ano}.csv')\n",
    "df"
   ]
  },
  {
   "cell_type": "code",
   "execution_count": null,
   "id": "8889a3ea",
   "metadata": {},
   "outputs": [],
   "source": [
    "### 538\n",
    "df_538 = pd.read_csv('https://projects.fivethirtyeight.com/soccer-api/club/spi_matches.csv')\n",
    "df_538 = df_538[df_538['league'] == 'Portuguese Liga']\n",
    "df_538 = df_538[df_538['season'] == 2022] \n"
   ]
  },
  {
   "cell_type": "code",
   "execution_count": null,
   "id": "e1b90295",
   "metadata": {},
   "outputs": [],
   "source": []
  },
  {
   "cell_type": "code",
   "execution_count": null,
   "id": "4995f84b",
   "metadata": {},
   "outputs": [],
   "source": [
    "df_538['league'].unique()"
   ]
  },
  {
   "cell_type": "code",
   "execution_count": null,
   "id": "5b1699aa",
   "metadata": {},
   "outputs": [],
   "source": [
    "df_update = pd.read_html('https://fbref.com/pt/comps/32/cronograma/Primeira-Liga-Resultados-e-Calendarios#sched_2022-2023_32_1', extract_links=\"all\")\n",
    "df_update = df_update[0]"
   ]
  },
  {
   "cell_type": "code",
   "execution_count": null,
   "id": "4d5f3d11",
   "metadata": {},
   "outputs": [],
   "source": [
    "import numpy as np\n",
    "df = pd.read_csv('output_dataset_exemplo.csv')\n",
    "df.set_index('Unnamed: 0', inplace=True)\n",
    "df_update['Assistance'] =  df_update['Assistance'].str.replace('.', '').replace('', np.nan)\n",
    "df_update['Assistance'] = df_update['Assistance'].astype(float)\n",
    "df['Assistance'] = df_update['Assistance']"
   ]
  },
  {
   "cell_type": "code",
   "execution_count": null,
   "id": "4435a395",
   "metadata": {},
   "outputs": [],
   "source": [
    "df_update.columns = [col[0] for col in df_update.columns]\n",
    "\n",
    "df_update_getSecondTuple = ['Relatório da Partida']\n",
    "\n",
    "for column in df_update.columns:\n",
    "    if column not in df_update_getSecondTuple:\n",
    "        df_update[column] = df_update[column].apply(lambda x: x[0])\n",
    "    else:\n",
    "        df_update[column] = df_update[column].apply(lambda x: x[1])"
   ]
  },
  {
   "cell_type": "code",
   "execution_count": null,
   "id": "4249899c",
   "metadata": {},
   "outputs": [],
   "source": [
    "df2 = df_update[df_update['Assistance'].isna() == False]#.reset_index() \n",
    "#"
   ]
  },
  {
   "cell_type": "code",
   "execution_count": null,
   "id": "d71053bc",
   "metadata": {},
   "outputs": [],
   "source": [
    "df"
   ]
  },
  {
   "cell_type": "code",
   "execution_count": null,
   "id": "1204a0c4",
   "metadata": {},
   "outputs": [],
   "source": [
    "df_diff = df.compare(df_update)\n",
    "\n",
    "# Seleciona as linhas que são diferentes em df e df_update\n",
    "row_idx = df_diff.index[df_diff.ne(\"\").any(axis=1)]\n",
    "\n",
    "# Substitui as linhas em df pelos valores atualizados em df_update\n",
    "#df.loc[row_idx] = df_update.loc[row_idx]"
   ]
  },
  {
   "cell_type": "code",
   "execution_count": null,
   "id": "9a31ca19",
   "metadata": {},
   "outputs": [],
   "source": [
    "df1 = pd.read_csv(f'fbref/dataset_201819.csv')\n",
    "df2 = pd.read_csv(f'fbref/dataset_201920.csv')\n",
    "df3 = pd.read_csv(f'fbref/dataset_202021.csv')\n",
    "df4 = pd.read_csv(f'fbref/dataset_202122.csv')\n",
    "df5 = pd.read_csv(f'fbref/dataset_202223.csv')\n",
    "df = pd.concat([df1,df2,df3,df4,df5])\n",
    "df['home']"
   ]
  }
 ],
 "metadata": {
  "interpreter": {
   "hash": "916dbcbb3f70747c44a77c7bcd40155683ae19c65e1c03b4aa3499c5328201f1"
  },
  "kernelspec": {
   "display_name": "Python 3 (ipykernel)",
   "language": "python",
   "name": "python3"
  },
  "language_info": {
   "codemirror_mode": {
    "name": "ipython",
    "version": 3
   },
   "file_extension": ".py",
   "mimetype": "text/x-python",
   "name": "python",
   "nbconvert_exporter": "python",
   "pygments_lexer": "ipython3",
   "version": "3.11.7"
  }
 },
 "nbformat": 4,
 "nbformat_minor": 5
}
